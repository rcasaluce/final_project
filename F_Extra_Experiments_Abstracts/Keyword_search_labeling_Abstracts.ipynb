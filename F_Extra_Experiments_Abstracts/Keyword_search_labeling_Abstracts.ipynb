{
 "cells": [
  {
   "cell_type": "code",
   "execution_count": 1,
   "metadata": {},
   "outputs": [],
   "source": [
    "import random\n",
    "from numpy.random import seed\n",
    "seed(3)\n",
    "import numpy as np\n",
    "np.random.default_rng\n",
    "import warnings\n",
    "warnings.filterwarnings(\"ignore\")\n",
    "import pandas as pd\n",
    "from pandas import read_csv\n",
    "%matplotlib inline\n",
    "import matplotlib.pyplot as plt\n",
    "import seaborn as sns\n",
    "import pickle\n",
    "from os.path import expanduser as ospath\n",
    "import time\n",
    "import os\n",
    "os.chdir(\"C:/Users/rober/project/B_Data_pre_processing/My_functions\")\n",
    "from B_pre_processing_data import pre_process_db\n",
    "from A_merge_datasets import merge_select_columns \n",
    "from C_metrics_binary import calc_binary_class_metrics\n",
    "os.chdir(\"C:/Users/rober/project/F_Extra_Experiments_Abstracts/\")\n",
    "\n",
    "\n",
    "import xgboost as xgb\n",
    "from sklearn.pipeline import Pipeline, FeatureUnion, make_pipeline\n",
    "from sklearn.model_selection import KFold,GridSearchCV, cross_val_score, train_test_split, RandomizedSearchCV\n",
    "from sklearn.ensemble import RandomForestClassifier\n",
    "from sklearn.tree import DecisionTreeClassifier\n",
    "from sklearn.linear_model import LogisticRegression\n",
    "from sklearn import metrics\n",
    "from sklearn.multiclass import OneVsRestClassifier\n",
    "from sklearn.feature_extraction.text import TfidfVectorizer\n",
    "from imblearn.over_sampling import SMOTE\n"
   ]
  },
  {
   "cell_type": "markdown",
   "metadata": {},
   "source": [
    "## Load Pickley files\n",
    "I load the **test features and test targets** that I used to learn the Binary classification model saved in **'project\\E_Models\\Abstracts'**. I need the test dataset to evaluate the new learning model which I train with data labelled using keywords search with data manually labelled data. "
   ]
  },
  {
   "cell_type": "code",
   "execution_count": 2,
   "metadata": {},
   "outputs": [],
   "source": [
    "with open(ospath('~/final_project/E_Models/Abstracts/Pickle_Files/X_test_abstracts.pickle'), 'rb') as data:\n",
    "    X_test = pickle.load(data)\n",
    "    \n",
    "with open(ospath('~/final_project/E_Models/Abstracts/Pickle_Files/y_test_abstracts.pickle'), 'rb') as data:\n",
    "    y_test = pickle.load(data)\n",
    "    \n",
    "with open(ospath('~/final_project/B_Data_pre_processing/Pickle_Files/Abstracts_cleaned.pickle'), 'rb') as data:\n",
    "    db = pickle.load(data)\n",
    "    \n",
    "with open(ospath('~/code_final_project/E_Models/Abstracts/Pickle_Files/X_train_abstracts.pickle'), 'rb') as data:\n",
    "    X_train = pickle.load(data)\n",
    "    \n",
    "with open(ospath('~/final_project/E_Models/Abstracts/Pickle_Files/y_train_abstracts.pickle'), 'rb') as data:\n",
    "    y_train = pickle.load(data)"
   ]
  },
  {
   "cell_type": "code",
   "execution_count": 3,
   "metadata": {},
   "outputs": [
    {
     "data": {
      "text/plain": [
       "1019    seal lead-acid battery assembly motive power v...\n",
       "254     positive active material accord one embodiment...\n",
       "884     disclose flywheel system store kinetic energy ...\n",
       "712     hybrid electric motor vehicle drive charge gas...\n",
       "359     network collection charge distribution machine...\n",
       "Name: text_clean, dtype: object"
      ]
     },
     "execution_count": 3,
     "metadata": {},
     "output_type": "execute_result"
    }
   ],
   "source": [
    "X_test.head()"
   ]
  },
  {
   "cell_type": "markdown",
   "metadata": {},
   "source": [
    "### Load all the datasets collected from USPTO and EPO offices, which are unlabelled.\n",
    "Data collected using the scripts in **'project\\A_Data_Collection'** and stored in **'project/Unlabelled_data'**."
   ]
  },
  {
   "cell_type": "markdown",
   "metadata": {},
   "source": [
    "#### USPTO"
   ]
  },
  {
   "cell_type": "code",
   "execution_count": 4,
   "metadata": {},
   "outputs": [],
   "source": [
    "#USPTO datasets unlabelled\n",
    "dt_LIB_us = pd.read_excel(ospath('~/final_project/Unlabelled_data/DB_LIB_USPTO.xlsx'),dtype=str)\n",
    "dt_LC_us = pd.read_excel(ospath('~/final_project/Unlabelled_data/DB_LC_USPTO.xlsx'),dtype=str)\n",
    "dt_SC_us = pd.read_excel(ospath('~/final_project/Unlabelled_data/DB_SC_USPTO.xlsx'),dtype=str)\n",
    "dt_FW_us = pd.read_excel(ospath('~/final_project/Unlabelled_data/DB_FW_USPTO.xlsx'),dtype=str)\n",
    "\n",
    "#drops rows with NAs\n",
    "dt_LIB_us = dt_LIB_us[dt_LIB_us['Publn_Nr'].notna()]\n",
    "dt_LC_us = dt_LC_us[dt_LC_us['Publn_Nr'].notna()]\n",
    "dt_SC_us = dt_SC_us[dt_SC_us['Publn_Nr'].notna()]\n",
    "dt_FW_us = dt_FW_us[dt_FW_us['Publn_Nr'].notna()]\n",
    "\n",
    "\n",
    "#keeps only three columns\n",
    "dt_FW_us = dt_FW_us[['Publn_Nr', 'Type', 'Text']]\n",
    "dt_LIB_us = dt_LIB_us[['Publn_Nr', 'Type', 'Text']]\n",
    "dt_LC_us = dt_LC_us[['Publn_Nr', 'Type', 'Text']]\n",
    "dt_SC_us = dt_SC_us[['Publn_Nr', 'Type', 'Text']]\n",
    "\n",
    "#change the column names to lowercase \n",
    "dt_FW_us.columns = ['publn_nr', 'type', 'text']\n",
    "dt_LIB_us.columns = ['publn_nr', 'type', 'text']\n",
    "dt_LC_us.columns = ['publn_nr', 'type', 'text']\n",
    "dt_SC_us.columns = ['publn_nr', 'type', 'text']\n",
    "\n",
    "#converts the column Publn_Nr in intiger type\n",
    "dt_LIB_us['publn_nr'] = np.int64(dt_LIB_us['publn_nr'])\n",
    "dt_LC_us['publn_nr'] = np.int64(dt_LC_us['publn_nr'])\n",
    "dt_FW_us['publn_nr'] = np.int64(dt_FW_us['publn_nr'])\n",
    "dt_SC_us['publn_nr'] = np.int64(dt_SC_us['publn_nr'])"
   ]
  },
  {
   "cell_type": "markdown",
   "metadata": {},
   "source": [
    "#### EPO"
   ]
  },
  {
   "cell_type": "code",
   "execution_count": 5,
   "metadata": {},
   "outputs": [],
   "source": [
    "#EPO datasets unlabelled\n",
    "dt_LIB_epo = pd.read_excel(ospath('~/final_project/Unlabelled_data/LIB_EPO.xlsx'),dtype=str)\n",
    "dt_LC_epo = pd.read_excel(ospath('~/final_project/Unlabelled_data/LC_EPO.xlsx'),dtype=str)\n",
    "dt_SC_epo = pd.read_excel(ospath('~/final_project/Unlabelled_data/SC_EPO.xlsx'),dtype=str)\n",
    "dt_FW_epo = pd.read_excel(ospath('~/final_project/Unlabelled_data/FW_EPO.xlsx'),dtype=str)\n",
    "\n",
    "#drops rows with NAs\n",
    "dt_LIB_epo = dt_LIB_epo[dt_LIB_epo['Text'].notna()]\n",
    "dt_LC_epo = dt_LC_epo[dt_LC_epo['Text'].notna()]\n",
    "dt_SC_epo = dt_SC_epo[dt_SC_epo['Text'].notna()]\n",
    "dt_FW_epo = dt_FW_epo[dt_FW_epo['Text'].notna()]\n",
    "\n",
    "#converts the column Publn_Nr in intiger type\n",
    "dt_LIB_epo['Publn_Nr'] = np.int64(dt_LIB_epo['Publn_Nr'])\n",
    "dt_LC_epo['Publn_Nr'] = np.int64(dt_LC_epo['Publn_Nr'])\n",
    "dt_FW_epo['Publn_Nr'] = np.int64(dt_FW_epo['Publn_Nr'])\n",
    "dt_SC_epo['Publn_Nr'] = np.int64(dt_SC_epo['Publn_Nr'])\n",
    "\n",
    "#keeps only three columns\n",
    "dt_FW_epo = dt_FW_epo[['Publn_Nr', 'Type', 'Text']]\n",
    "dt_LIB_epo = dt_LIB_epo[['Publn_Nr', 'Type', 'Text']]\n",
    "dt_LC_epo = dt_LC_epo[['Publn_Nr', 'Type', 'Text']]\n",
    "dt_SC_epo = dt_SC_epo[['Publn_Nr', 'Type', 'Text']]\n",
    "\n",
    "#change the column names to lowercase \n",
    "dt_FW_epo.columns = ['publn_nr', 'type', 'text']\n",
    "dt_LIB_epo.columns = ['publn_nr', 'type', 'text']\n",
    "dt_LC_epo.columns = ['publn_nr', 'type', 'text']\n",
    "dt_SC_epo.columns = ['publn_nr', 'type', 'text']"
   ]
  },
  {
   "cell_type": "markdown",
   "metadata": {},
   "source": [
    "### I merge all the dataset together and select the rows with only abstracts. I set in the function the parameter labels as 'No' because there is no column with labels here."
   ]
  },
  {
   "cell_type": "code",
   "execution_count": 6,
   "metadata": {},
   "outputs": [],
   "source": [
    "unlab_data = merge_select_columns(dt_LIB_us, dt_SC_us, dt_FW_us, dt_LC_us, dt_LIB_epo, dt_LC_epo, dt_FW_epo, dt_SC_epo, labels = 'No')"
   ]
  },
  {
   "cell_type": "code",
   "execution_count": 7,
   "metadata": {},
   "outputs": [
    {
     "data": {
      "text/html": [
       "<div>\n",
       "<style scoped>\n",
       "    .dataframe tbody tr th:only-of-type {\n",
       "        vertical-align: middle;\n",
       "    }\n",
       "\n",
       "    .dataframe tbody tr th {\n",
       "        vertical-align: top;\n",
       "    }\n",
       "\n",
       "    .dataframe thead th {\n",
       "        text-align: right;\n",
       "    }\n",
       "</style>\n",
       "<table border=\"1\" class=\"dataframe\">\n",
       "  <thead>\n",
       "    <tr style=\"text-align: right;\">\n",
       "      <th></th>\n",
       "      <th>publn_nr</th>\n",
       "      <th>type</th>\n",
       "      <th>text</th>\n",
       "    </tr>\n",
       "  </thead>\n",
       "  <tbody>\n",
       "    <tr>\n",
       "      <th>0</th>\n",
       "      <td>10354828</td>\n",
       "      <td>Abstract</td>\n",
       "      <td>According to an embodiment of the present disc...</td>\n",
       "    </tr>\n",
       "    <tr>\n",
       "      <th>11</th>\n",
       "      <td>10085792</td>\n",
       "      <td>Abstract</td>\n",
       "      <td>An apparatus includes an instrument body and t...</td>\n",
       "    </tr>\n",
       "    <tr>\n",
       "      <th>31</th>\n",
       "      <td>9782215</td>\n",
       "      <td>Abstract</td>\n",
       "      <td>An ultrasonic surgical device comprises a hand...</td>\n",
       "    </tr>\n",
       "    <tr>\n",
       "      <th>52</th>\n",
       "      <td>10343141</td>\n",
       "      <td>Abstract</td>\n",
       "      <td>MOFs are disclosed that can efficiently adsorb...</td>\n",
       "    </tr>\n",
       "    <tr>\n",
       "      <th>60</th>\n",
       "      <td>10337115</td>\n",
       "      <td>Abstract</td>\n",
       "      <td>Surface treated copper foils for use in high s...</td>\n",
       "    </tr>\n",
       "  </tbody>\n",
       "</table>\n",
       "</div>"
      ],
      "text/plain": [
       "    publn_nr      type                                               text\n",
       "0   10354828  Abstract  According to an embodiment of the present disc...\n",
       "11  10085792  Abstract  An apparatus includes an instrument body and t...\n",
       "31   9782215  Abstract  An ultrasonic surgical device comprises a hand...\n",
       "52  10343141  Abstract  MOFs are disclosed that can efficiently adsorb...\n",
       "60  10337115  Abstract  Surface treated copper foils for use in high s..."
      ]
     },
     "execution_count": 7,
     "metadata": {},
     "output_type": "execute_result"
    }
   ],
   "source": [
    "unlab_data.head()"
   ]
  },
  {
   "cell_type": "markdown",
   "metadata": {},
   "source": [
    "Since the unlabelled datasets have the patents that have been choosen to be manually labelled and soem of them are in test dataset, I am amking sure to delete those patents from the unlabelled datasets. "
   ]
  },
  {
   "cell_type": "markdown",
   "metadata": {},
   "source": [
    "##### *Before* deleting the patents used for the labelling phase."
   ]
  },
  {
   "cell_type": "code",
   "execution_count": 8,
   "metadata": {},
   "outputs": [
    {
     "name": "stdout",
     "output_type": "stream",
     "text": [
      "85908\n"
     ]
    }
   ],
   "source": [
    "w_train_patents = len(unlab_data['publn_nr'].unique())\n",
    "print(w_train_patents)"
   ]
  },
  {
   "cell_type": "code",
   "execution_count": 9,
   "metadata": {},
   "outputs": [
    {
     "name": "stdout",
     "output_type": "stream",
     "text": [
      "194\n"
     ]
    }
   ],
   "source": [
    "#save in list the publication numbers of the patents used for the logistic above\n",
    "list_publ_num_uspto = db['publn_nr'].unique()\n",
    "\n",
    "#keeps only patents that are not used to train and test the best model for the Abstracts saved\n",
    "unlab_data = unlab_data[~unlab_data['publn_nr'].isin(list_publ_num_uspto)]\n",
    "print(len(list_publ_num_uspto))"
   ]
  },
  {
   "cell_type": "markdown",
   "metadata": {},
   "source": [
    "#### *After* deleting the patents used for the labelling phase."
   ]
  },
  {
   "cell_type": "code",
   "execution_count": 10,
   "metadata": {},
   "outputs": [
    {
     "name": "stdout",
     "output_type": "stream",
     "text": [
      "85714\n"
     ]
    }
   ],
   "source": [
    "no_train_patents = len(unlab_data['publn_nr'].unique())\n",
    "print(no_train_patents)"
   ]
  },
  {
   "cell_type": "code",
   "execution_count": 11,
   "metadata": {},
   "outputs": [
    {
     "name": "stdout",
     "output_type": "stream",
     "text": [
      "194\n"
     ]
    }
   ],
   "source": [
    "print(w_train_patents - no_train_patents)"
   ]
  },
  {
   "cell_type": "markdown",
   "metadata": {},
   "source": [
    "I pre-process the text with my pre-process function.  "
   ]
  },
  {
   "cell_type": "code",
   "execution_count": 12,
   "metadata": {},
   "outputs": [],
   "source": [
    "unlab_data = pre_process_db(unlab_data)#pre-process the text"
   ]
  },
  {
   "cell_type": "code",
   "execution_count": 13,
   "metadata": {},
   "outputs": [
    {
     "data": {
      "text/html": [
       "<div>\n",
       "<style scoped>\n",
       "    .dataframe tbody tr th:only-of-type {\n",
       "        vertical-align: middle;\n",
       "    }\n",
       "\n",
       "    .dataframe tbody tr th {\n",
       "        vertical-align: top;\n",
       "    }\n",
       "\n",
       "    .dataframe thead th {\n",
       "        text-align: right;\n",
       "    }\n",
       "</style>\n",
       "<table border=\"1\" class=\"dataframe\">\n",
       "  <thead>\n",
       "    <tr style=\"text-align: right;\">\n",
       "      <th></th>\n",
       "      <th>publn_nr</th>\n",
       "      <th>type</th>\n",
       "      <th>text</th>\n",
       "      <th>text_clean</th>\n",
       "    </tr>\n",
       "  </thead>\n",
       "  <tbody>\n",
       "    <tr>\n",
       "      <th>0</th>\n",
       "      <td>10354828</td>\n",
       "      <td>Abstract</td>\n",
       "      <td>According to an embodiment of the present disc...</td>\n",
       "      <td>accord embodiment present disclosure photocath...</td>\n",
       "    </tr>\n",
       "    <tr>\n",
       "      <th>11</th>\n",
       "      <td>10085792</td>\n",
       "      <td>Abstract</td>\n",
       "      <td>An apparatus includes an instrument body and t...</td>\n",
       "      <td>apparatus include instrument body transmission...</td>\n",
       "    </tr>\n",
       "    <tr>\n",
       "      <th>31</th>\n",
       "      <td>9782215</td>\n",
       "      <td>Abstract</td>\n",
       "      <td>An ultrasonic surgical device comprises a hand...</td>\n",
       "      <td>ultrasonic surgical device comprise handle ass...</td>\n",
       "    </tr>\n",
       "    <tr>\n",
       "      <th>52</th>\n",
       "      <td>10343141</td>\n",
       "      <td>Abstract</td>\n",
       "      <td>MOFs are disclosed that can efficiently adsorb...</td>\n",
       "      <td>mofs disclose efficiently adsorb oxygen gas st...</td>\n",
       "    </tr>\n",
       "    <tr>\n",
       "      <th>60</th>\n",
       "      <td>10337115</td>\n",
       "      <td>Abstract</td>\n",
       "      <td>Surface treated copper foils for use in high s...</td>\n",
       "      <td>surface treat copper foil use high speed circu...</td>\n",
       "    </tr>\n",
       "  </tbody>\n",
       "</table>\n",
       "</div>"
      ],
      "text/plain": [
       "    publn_nr      type                                               text  \\\n",
       "0   10354828  Abstract  According to an embodiment of the present disc...   \n",
       "11  10085792  Abstract  An apparatus includes an instrument body and t...   \n",
       "31   9782215  Abstract  An ultrasonic surgical device comprises a hand...   \n",
       "52  10343141  Abstract  MOFs are disclosed that can efficiently adsorb...   \n",
       "60  10337115  Abstract  Surface treated copper foils for use in high s...   \n",
       "\n",
       "                                           text_clean  \n",
       "0   accord embodiment present disclosure photocath...  \n",
       "11  apparatus include instrument body transmission...  \n",
       "31  ultrasonic surgical device comprise handle ass...  \n",
       "52  mofs disclose efficiently adsorb oxygen gas st...  \n",
       "60  surface treat copper foil use high speed circu...  "
      ]
     },
     "execution_count": 13,
     "metadata": {},
     "output_type": "execute_result"
    }
   ],
   "source": [
    "unlab_data.head()"
   ]
  },
  {
   "cell_type": "markdown",
   "metadata": {},
   "source": [
    "## Keyword search\n",
    "I search for process words used by Nicolas and colleague for their keyword search model (2019). "
   ]
  },
  {
   "cell_type": "markdown",
   "metadata": {},
   "source": [
    "Keyword search of a process word in the first three words of the pre-processed text. When a process word is found in the first three words of the pre-processed text, the abstract is labelled as process and prodcut otherwise. "
   ]
  },
  {
   "cell_type": "code",
   "execution_count": 14,
   "metadata": {},
   "outputs": [],
   "source": [
    "words_process = ['method' ,'process', 'procedure', 'use', 'utilization' , 'utilisation' , 'usage']\n",
    "keywords_labels = []\n",
    "for i in range(unlab_data.shape[0]):\n",
    "    abstract = unlab_data['text_clean'].iloc[i].split(\" \")\n",
    "    abstract = abstract[:3]\n",
    "    \n",
    "    check =  any(word in abstract for word in words_process)\n",
    "    if check == True:\n",
    "        keywords_labels.append(0)\n",
    "    else:\n",
    "        keywords_labels.append(1)\n",
    "unlab_data['kwsearch_1_label'] = keywords_labels"
   ]
  },
  {
   "cell_type": "code",
   "execution_count": 15,
   "metadata": {},
   "outputs": [
    {
     "data": {
      "text/html": [
       "<div>\n",
       "<style scoped>\n",
       "    .dataframe tbody tr th:only-of-type {\n",
       "        vertical-align: middle;\n",
       "    }\n",
       "\n",
       "    .dataframe tbody tr th {\n",
       "        vertical-align: top;\n",
       "    }\n",
       "\n",
       "    .dataframe thead th {\n",
       "        text-align: right;\n",
       "    }\n",
       "</style>\n",
       "<table border=\"1\" class=\"dataframe\">\n",
       "  <thead>\n",
       "    <tr style=\"text-align: right;\">\n",
       "      <th></th>\n",
       "      <th>publn_nr</th>\n",
       "      <th>type</th>\n",
       "      <th>text</th>\n",
       "      <th>text_clean</th>\n",
       "      <th>kwsearch_1_label</th>\n",
       "    </tr>\n",
       "  </thead>\n",
       "  <tbody>\n",
       "    <tr>\n",
       "      <th>0</th>\n",
       "      <td>10354828</td>\n",
       "      <td>Abstract</td>\n",
       "      <td>According to an embodiment of the present disc...</td>\n",
       "      <td>accord embodiment present disclosure photocath...</td>\n",
       "      <td>1</td>\n",
       "    </tr>\n",
       "    <tr>\n",
       "      <th>11</th>\n",
       "      <td>10085792</td>\n",
       "      <td>Abstract</td>\n",
       "      <td>An apparatus includes an instrument body and t...</td>\n",
       "      <td>apparatus include instrument body transmission...</td>\n",
       "      <td>1</td>\n",
       "    </tr>\n",
       "    <tr>\n",
       "      <th>31</th>\n",
       "      <td>9782215</td>\n",
       "      <td>Abstract</td>\n",
       "      <td>An ultrasonic surgical device comprises a hand...</td>\n",
       "      <td>ultrasonic surgical device comprise handle ass...</td>\n",
       "      <td>1</td>\n",
       "    </tr>\n",
       "    <tr>\n",
       "      <th>52</th>\n",
       "      <td>10343141</td>\n",
       "      <td>Abstract</td>\n",
       "      <td>MOFs are disclosed that can efficiently adsorb...</td>\n",
       "      <td>mofs disclose efficiently adsorb oxygen gas st...</td>\n",
       "      <td>1</td>\n",
       "    </tr>\n",
       "    <tr>\n",
       "      <th>60</th>\n",
       "      <td>10337115</td>\n",
       "      <td>Abstract</td>\n",
       "      <td>Surface treated copper foils for use in high s...</td>\n",
       "      <td>surface treat copper foil use high speed circu...</td>\n",
       "      <td>1</td>\n",
       "    </tr>\n",
       "  </tbody>\n",
       "</table>\n",
       "</div>"
      ],
      "text/plain": [
       "    publn_nr      type                                               text  \\\n",
       "0   10354828  Abstract  According to an embodiment of the present disc...   \n",
       "11  10085792  Abstract  An apparatus includes an instrument body and t...   \n",
       "31   9782215  Abstract  An ultrasonic surgical device comprises a hand...   \n",
       "52  10343141  Abstract  MOFs are disclosed that can efficiently adsorb...   \n",
       "60  10337115  Abstract  Surface treated copper foils for use in high s...   \n",
       "\n",
       "                                           text_clean  kwsearch_1_label  \n",
       "0   accord embodiment present disclosure photocath...                 1  \n",
       "11  apparatus include instrument body transmission...                 1  \n",
       "31  ultrasonic surgical device comprise handle ass...                 1  \n",
       "52  mofs disclose efficiently adsorb oxygen gas st...                 1  \n",
       "60  surface treat copper foil use high speed circu...                 1  "
      ]
     },
     "execution_count": 15,
     "metadata": {},
     "output_type": "execute_result"
    }
   ],
   "source": [
    "unlab_data.head()"
   ]
  },
  {
   "cell_type": "markdown",
   "metadata": {},
   "source": [
    "I extract the feature and their target values for the training phase."
   ]
  },
  {
   "cell_type": "code",
   "execution_count": 16,
   "metadata": {},
   "outputs": [],
   "source": [
    "X_train_ks = unlab_data['text_clean']\n",
    "y_train_ks = unlab_data['kwsearch_1_label']"
   ]
  },
  {
   "cell_type": "code",
   "execution_count": 17,
   "metadata": {},
   "outputs": [
    {
     "data": {
      "text/plain": [
       "1    93234\n",
       "0    15257\n",
       "Name: kwsearch_1_label, dtype: int64"
      ]
     },
     "execution_count": 17,
     "metadata": {},
     "output_type": "execute_result"
    }
   ],
   "source": [
    "y_train_ks.value_counts()"
   ]
  },
  {
   "cell_type": "markdown",
   "metadata": {},
   "source": [
    "I **split the unalabelled dataset** with keyword search labels into three datasets, train, validation and test data. \n",
    "*Train 50%, validation 25% and test 25%*."
   ]
  },
  {
   "cell_type": "code",
   "execution_count": 18,
   "metadata": {},
   "outputs": [],
   "source": [
    "X_train_ks, X_val_ks, y_train_ks , y_val_ks = train_test_split(unlab_data['text_clean'], \n",
    "                                                    unlab_data['kwsearch_1_label'], test_size=0.5, random_state=8, stratify = unlab_data['kwsearch_1_label'])\n",
    "\n",
    "X_val_ks, X_test_ks, y_val_ks , y_test_ks = train_test_split(X_val_ks, \n",
    "                                                    y_val_ks, test_size=0.5, random_state=8, stratify = y_val_ks)\n"
   ]
  },
  {
   "cell_type": "markdown",
   "metadata": {},
   "source": [
    "## Spot-check the best models."
   ]
  },
  {
   "cell_type": "markdown",
   "metadata": {},
   "source": [
    "I run the test harness directly here to reduce the number of scripts for this experiment."
   ]
  },
  {
   "cell_type": "code",
   "execution_count": 19,
   "metadata": {},
   "outputs": [],
   "source": [
    "#pipelines of the models with different vectorization methods\n",
    "logi_model_tfidf = Pipeline([(\"tfidf\", TfidfVectorizer(lowercase=False,ngram_range=(1,2), max_features=300,sublinear_tf=True)),  ('LOGI', LogisticRegression(random_state = 0, n_jobs=-1))])\n",
    "\n",
    "xgb_model_tfidf = Pipeline([(\"tfidf\", TfidfVectorizer(lowercase=False,ngram_range=(1,2), max_features=300,sublinear_tf=True)),  ('XGB', xgb.XGBClassifier(objective = 'binary:logistic', n_jobs=-1))])\n",
    "\n",
    "CART_model_tfidf = Pipeline([(\"tfidf\", TfidfVectorizer(lowercase=False,ngram_range=(1,2), max_features=300,sublinear_tf=True)) , ('CART', DecisionTreeClassifier(random_state = 0))])\n",
    "\n",
    "RFC_model_tfidf = Pipeline([(\"tfidf\", TfidfVectorizer(lowercase=False,ngram_range=(1,2), max_features=300,sublinear_tf=True)),('RFC', RandomForestClassifier(n_jobs=-1))])\n",
    "\n",
    "models = []\n",
    "models.append(('LOGI_tfidf', logi_model_tfidf))\n",
    "models.append(('XGB_tfidf', xgb_model_tfidf))\n",
    "models.append(('CART_tfidf', CART_model_tfidf))\n",
    "models.append(('RFC_tfidf', RFC_model_tfidf))\n",
    "\n",
    "#for the parameters scoring \n",
    "scoring_acc = metrics.make_scorer(metrics.accuracy_score)\n",
    "scoring_prec = metrics.make_scorer(metrics.precision_score)\n",
    "scoring_rec = metrics.make_scorer(metrics.recall_score)\n",
    "scoring_f1 = metrics.make_scorer(metrics.f1_score)\n",
    "\n",
    "score_list = []\n",
    "score_list.append(scoring_acc)\n",
    "score_list.append(scoring_prec)\n",
    "score_list.append(scoring_rec)\n",
    "score_list.append(scoring_f1)\n",
    "\n",
    "names_score = ['acc', 'prec', 'rec', 'f1']\n",
    "name_score_model = []\n",
    "\n",
    "#to store results of cv in a data set\n",
    "results_std = []\n",
    "results_mean = []\n",
    "results = []\n",
    "\n",
    "#\n",
    "time_models =[]\n",
    "\n",
    "for name, model in models:\n",
    "    for score, name_score in zip(score_list, names_score):\n",
    "        kfold = KFold(n_splits=10, random_state=7)\n",
    "        \n",
    "        #timing the model\n",
    "        start = time.time()\n",
    "        results_cv = cross_val_score(model, X_train_ks, y_train_ks, cv=kfold, scoring= score)\n",
    "        end = time.time()\n",
    "        \n",
    "        results_mean.append(round(results_cv.mean(),5))\n",
    "        results_std.append(round(results_cv.std(),5))\n",
    "        results.append(results_cv)\n",
    "        time_models.append(round(end - start, 5))\n",
    "        name_score_model.append((name, name_score))\n",
    "        \n",
    "name_dict_db_results = [' '.join(map(str,name_score_model[i])) for i in range(len(name_score_model))]\n",
    "dictionary_results = {'Model': name_dict_db_results, 'Mean': results_mean, 'Std': results_std, 'time_models' :time_models } \n",
    "db_results = pd.DataFrame(dictionary_results)\n",
    "\n",
    "#Adapted from - Brownlee, J. (2016) Machine learning mastery with Python: understand your data, create accurate models, and work projects end-to-end."
   ]
  },
  {
   "cell_type": "code",
   "execution_count": 20,
   "metadata": {},
   "outputs": [
    {
     "data": {
      "text/html": [
       "<div>\n",
       "<style scoped>\n",
       "    .dataframe tbody tr th:only-of-type {\n",
       "        vertical-align: middle;\n",
       "    }\n",
       "\n",
       "    .dataframe tbody tr th {\n",
       "        vertical-align: top;\n",
       "    }\n",
       "\n",
       "    .dataframe thead th {\n",
       "        text-align: right;\n",
       "    }\n",
       "</style>\n",
       "<table border=\"1\" class=\"dataframe\">\n",
       "  <thead>\n",
       "    <tr style=\"text-align: right;\">\n",
       "      <th></th>\n",
       "      <th>Model</th>\n",
       "      <th>Mean</th>\n",
       "      <th>Std</th>\n",
       "      <th>time_models</th>\n",
       "    </tr>\n",
       "  </thead>\n",
       "  <tbody>\n",
       "    <tr>\n",
       "      <th>0</th>\n",
       "      <td>LOGI_tfidf acc</td>\n",
       "      <td>0.90312</td>\n",
       "      <td>0.00307</td>\n",
       "      <td>61.94807</td>\n",
       "    </tr>\n",
       "    <tr>\n",
       "      <th>1</th>\n",
       "      <td>LOGI_tfidf prec</td>\n",
       "      <td>0.92449</td>\n",
       "      <td>0.00251</td>\n",
       "      <td>58.14142</td>\n",
       "    </tr>\n",
       "    <tr>\n",
       "      <th>2</th>\n",
       "      <td>LOGI_tfidf rec</td>\n",
       "      <td>0.96619</td>\n",
       "      <td>0.00257</td>\n",
       "      <td>57.39004</td>\n",
       "    </tr>\n",
       "    <tr>\n",
       "      <th>3</th>\n",
       "      <td>LOGI_tfidf f1</td>\n",
       "      <td>0.94488</td>\n",
       "      <td>0.00174</td>\n",
       "      <td>57.72436</td>\n",
       "    </tr>\n",
       "    <tr>\n",
       "      <th>4</th>\n",
       "      <td>XGB_tfidf acc</td>\n",
       "      <td>0.93081</td>\n",
       "      <td>0.00424</td>\n",
       "      <td>110.42100</td>\n",
       "    </tr>\n",
       "    <tr>\n",
       "      <th>5</th>\n",
       "      <td>XGB_tfidf prec</td>\n",
       "      <td>0.95699</td>\n",
       "      <td>0.00259</td>\n",
       "      <td>111.33676</td>\n",
       "    </tr>\n",
       "    <tr>\n",
       "      <th>6</th>\n",
       "      <td>XGB_tfidf rec</td>\n",
       "      <td>0.96277</td>\n",
       "      <td>0.00304</td>\n",
       "      <td>112.52166</td>\n",
       "    </tr>\n",
       "    <tr>\n",
       "      <th>7</th>\n",
       "      <td>XGB_tfidf f1</td>\n",
       "      <td>0.95987</td>\n",
       "      <td>0.00247</td>\n",
       "      <td>113.45459</td>\n",
       "    </tr>\n",
       "    <tr>\n",
       "      <th>8</th>\n",
       "      <td>CART_tfidf acc</td>\n",
       "      <td>0.91929</td>\n",
       "      <td>0.00346</td>\n",
       "      <td>112.22664</td>\n",
       "    </tr>\n",
       "    <tr>\n",
       "      <th>9</th>\n",
       "      <td>CART_tfidf prec</td>\n",
       "      <td>0.95223</td>\n",
       "      <td>0.00331</td>\n",
       "      <td>107.11535</td>\n",
       "    </tr>\n",
       "    <tr>\n",
       "      <th>10</th>\n",
       "      <td>CART_tfidf rec</td>\n",
       "      <td>0.95395</td>\n",
       "      <td>0.00295</td>\n",
       "      <td>106.34790</td>\n",
       "    </tr>\n",
       "    <tr>\n",
       "      <th>11</th>\n",
       "      <td>CART_tfidf f1</td>\n",
       "      <td>0.95308</td>\n",
       "      <td>0.00207</td>\n",
       "      <td>104.64310</td>\n",
       "    </tr>\n",
       "    <tr>\n",
       "      <th>12</th>\n",
       "      <td>RFC_tfidf acc</td>\n",
       "      <td>0.93915</td>\n",
       "      <td>0.00276</td>\n",
       "      <td>128.11810</td>\n",
       "    </tr>\n",
       "    <tr>\n",
       "      <th>13</th>\n",
       "      <td>RFC_tfidf prec</td>\n",
       "      <td>0.95400</td>\n",
       "      <td>0.00328</td>\n",
       "      <td>128.12379</td>\n",
       "    </tr>\n",
       "    <tr>\n",
       "      <th>14</th>\n",
       "      <td>RFC_tfidf rec</td>\n",
       "      <td>0.97589</td>\n",
       "      <td>0.00186</td>\n",
       "      <td>130.45531</td>\n",
       "    </tr>\n",
       "    <tr>\n",
       "      <th>15</th>\n",
       "      <td>RFC_tfidf f1</td>\n",
       "      <td>0.96490</td>\n",
       "      <td>0.00141</td>\n",
       "      <td>129.00570</td>\n",
       "    </tr>\n",
       "  </tbody>\n",
       "</table>\n",
       "</div>"
      ],
      "text/plain": [
       "              Model     Mean      Std  time_models\n",
       "0    LOGI_tfidf acc  0.90312  0.00307     61.94807\n",
       "1   LOGI_tfidf prec  0.92449  0.00251     58.14142\n",
       "2    LOGI_tfidf rec  0.96619  0.00257     57.39004\n",
       "3     LOGI_tfidf f1  0.94488  0.00174     57.72436\n",
       "4     XGB_tfidf acc  0.93081  0.00424    110.42100\n",
       "5    XGB_tfidf prec  0.95699  0.00259    111.33676\n",
       "6     XGB_tfidf rec  0.96277  0.00304    112.52166\n",
       "7      XGB_tfidf f1  0.95987  0.00247    113.45459\n",
       "8    CART_tfidf acc  0.91929  0.00346    112.22664\n",
       "9   CART_tfidf prec  0.95223  0.00331    107.11535\n",
       "10   CART_tfidf rec  0.95395  0.00295    106.34790\n",
       "11    CART_tfidf f1  0.95308  0.00207    104.64310\n",
       "12    RFC_tfidf acc  0.93915  0.00276    128.11810\n",
       "13   RFC_tfidf prec  0.95400  0.00328    128.12379\n",
       "14    RFC_tfidf rec  0.97589  0.00186    130.45531\n",
       "15     RFC_tfidf f1  0.96490  0.00141    129.00570"
      ]
     },
     "execution_count": 20,
     "metadata": {},
     "output_type": "execute_result"
    }
   ],
   "source": [
    "db_results"
   ]
  },
  {
   "cell_type": "markdown",
   "metadata": {},
   "source": [
    "The best two models are: **Random Forest** and **XGBoost**."
   ]
  },
  {
   "cell_type": "markdown",
   "metadata": {},
   "source": [
    "Word representation using **TF-IDF** vectorizer with a fix dimension of **300** with **unigram** and **bigram**."
   ]
  },
  {
   "cell_type": "code",
   "execution_count": 19,
   "metadata": {},
   "outputs": [],
   "source": [
    "ffidf = TfidfVectorizer(ngram_range = (1,2), encoding='utf-8', sublinear_tf = True, max_features=300)"
   ]
  },
  {
   "cell_type": "code",
   "execution_count": 20,
   "metadata": {},
   "outputs": [],
   "source": [
    "tfidf = TfidfVectorizer(ngram_range = (1,2), encoding='utf-8', sublinear_tf = True, max_features=300)\n",
    "\n",
    "X_train_ks_tf = tfidf.fit_transform(X_train_ks).toarray()\n",
    "X_test_ks_tf = tfidf.transform(X_test_ks).toarray()\n",
    "X_val_ks_tf = tfidf.transform(X_val_ks).toarray()\n",
    "\n",
    "\n",
    "y_train_ks = y_train_ks.astype('int')\n",
    "y_test_ks = y_test_ks.astype('int')\n",
    "y_val_ks = y_val_ks.astype('int')"
   ]
  },
  {
   "cell_type": "code",
   "execution_count": 21,
   "metadata": {},
   "outputs": [],
   "source": [
    "balance = SMOTE()\n",
    "X_train_ks_bal, y_train_ks_bal = balance.fit_resample(X_train_ks_tf, y_train_ks)"
   ]
  },
  {
   "cell_type": "markdown",
   "metadata": {},
   "source": [
    "I create an empty dataframe to store the results of each the models. "
   ]
  },
  {
   "cell_type": "code",
   "execution_count": 22,
   "metadata": {},
   "outputs": [],
   "source": [
    "results_score = pd.DataFrame()"
   ]
  },
  {
   "cell_type": "markdown",
   "metadata": {},
   "source": [
    "## Random Forest"
   ]
  },
  {
   "cell_type": "code",
   "execution_count": 23,
   "metadata": {},
   "outputs": [
    {
     "name": "stdout",
     "output_type": "stream",
     "text": [
      "Accuracy on validation data: \n",
      " 0.9365114478486893\n",
      "Classification report: \n",
      "               precision    recall  f1-score   support\n",
      "\n",
      "           0       0.74      0.84      0.79      3815\n",
      "           1       0.97      0.95      0.96     23308\n",
      "\n",
      "    accuracy                           0.94     27123\n",
      "   macro avg       0.86      0.90      0.88     27123\n",
      "weighted avg       0.94      0.94      0.94     27123\n",
      "\n",
      "Confusion Matrix validation: \n",
      "[[ 3209   606]\n",
      " [ 1116 22192]]\n"
     ]
    }
   ],
   "source": [
    "random.seed(2)\n",
    "rf = RandomForestClassifier(random_state = 8, n_jobs = -1)\n",
    "rf.fit(X_train_ks_bal, y_train_ks_bal)\n",
    "rf_pred = rf.predict(X_val_ks_tf)\n",
    "\n",
    "print(\"Accuracy on validation data: \\n\",metrics.accuracy_score(y_val_ks, rf_pred))\n",
    "print(\"Classification report: \\n\",metrics.classification_report(y_val_ks, rf_pred))\n",
    "print('Confusion Matrix validation: \\n' + str(metrics.confusion_matrix(y_val_ks, rf_pred)))\n"
   ]
  },
  {
   "cell_type": "code",
   "execution_count": 24,
   "metadata": {},
   "outputs": [
    {
     "data": {
      "text/html": [
       "<div>\n",
       "<style scoped>\n",
       "    .dataframe tbody tr th:only-of-type {\n",
       "        vertical-align: middle;\n",
       "    }\n",
       "\n",
       "    .dataframe tbody tr th {\n",
       "        vertical-align: top;\n",
       "    }\n",
       "\n",
       "    .dataframe thead th {\n",
       "        text-align: right;\n",
       "    }\n",
       "</style>\n",
       "<table border=\"1\" class=\"dataframe\">\n",
       "  <thead>\n",
       "    <tr style=\"text-align: right;\">\n",
       "      <th></th>\n",
       "      <th>Model</th>\n",
       "      <th>Data</th>\n",
       "      <th>Precision</th>\n",
       "      <th>Recall</th>\n",
       "      <th>Specificity</th>\n",
       "      <th>F1-score</th>\n",
       "      <th>Accuracy</th>\n",
       "      <th>Bal Accuracy</th>\n",
       "      <th>AUC</th>\n",
       "    </tr>\n",
       "  </thead>\n",
       "  <tbody>\n",
       "    <tr>\n",
       "      <th>0</th>\n",
       "      <td>RF not tuned</td>\n",
       "      <td>Validation</td>\n",
       "      <td>0.973419</td>\n",
       "      <td>0.952119</td>\n",
       "      <td>0.841153</td>\n",
       "      <td>0.962651</td>\n",
       "      <td>0.936511</td>\n",
       "      <td>0.896636</td>\n",
       "      <td>0.896636</td>\n",
       "    </tr>\n",
       "  </tbody>\n",
       "</table>\n",
       "</div>"
      ],
      "text/plain": [
       "          Model        Data  Precision    Recall  Specificity  F1-score  \\\n",
       "0  RF not tuned  Validation   0.973419  0.952119     0.841153  0.962651   \n",
       "\n",
       "   Accuracy  Bal Accuracy       AUC  \n",
       "0  0.936511      0.896636  0.896636  "
      ]
     },
     "execution_count": 24,
     "metadata": {},
     "output_type": "execute_result"
    }
   ],
   "source": [
    "sc = calc_binary_class_metrics(y_val_ks, rf_pred, 'RF not tuned', 'Validation')\n",
    "results_score = results_score.append(sc)\n",
    "results_score"
   ]
  },
  {
   "cell_type": "markdown",
   "metadata": {},
   "source": [
    "Evaulated on the **test data** - keyword search labelled."
   ]
  },
  {
   "cell_type": "code",
   "execution_count": 25,
   "metadata": {},
   "outputs": [
    {
     "name": "stdout",
     "output_type": "stream",
     "text": [
      "Accuracy on the test data: \n",
      " 0.936474578770785\n",
      "Classification report: \n",
      "               precision    recall  f1-score   support\n",
      "\n",
      "           0       0.74      0.84      0.79      3814\n",
      "           1       0.97      0.95      0.96     23309\n",
      "\n",
      "    accuracy                           0.94     27123\n",
      "   macro avg       0.86      0.90      0.88     27123\n",
      "weighted avg       0.94      0.94      0.94     27123\n",
      "\n",
      "Confusion Matrix test: \n",
      "[[ 3211   603]\n",
      " [ 1120 22189]]\n"
     ]
    }
   ],
   "source": [
    "random.seed(2)\n",
    "rf_pred_test = rf.predict(X_test_ks_tf)\n",
    "print(\"Accuracy on the test data: \\n\", metrics.accuracy_score(y_test_ks, rf_pred_test))\n",
    "print(\"Classification report: \\n\", metrics.classification_report(y_test_ks, rf_pred_test))\n",
    "print('Confusion Matrix test: \\n' + str(metrics.confusion_matrix(y_test_ks, rf_pred_test)))"
   ]
  },
  {
   "cell_type": "code",
   "execution_count": 26,
   "metadata": {},
   "outputs": [
    {
     "data": {
      "text/html": [
       "<div>\n",
       "<style scoped>\n",
       "    .dataframe tbody tr th:only-of-type {\n",
       "        vertical-align: middle;\n",
       "    }\n",
       "\n",
       "    .dataframe tbody tr th {\n",
       "        vertical-align: top;\n",
       "    }\n",
       "\n",
       "    .dataframe thead th {\n",
       "        text-align: right;\n",
       "    }\n",
       "</style>\n",
       "<table border=\"1\" class=\"dataframe\">\n",
       "  <thead>\n",
       "    <tr style=\"text-align: right;\">\n",
       "      <th></th>\n",
       "      <th>Model</th>\n",
       "      <th>Data</th>\n",
       "      <th>Precision</th>\n",
       "      <th>Recall</th>\n",
       "      <th>Specificity</th>\n",
       "      <th>F1-score</th>\n",
       "      <th>Accuracy</th>\n",
       "      <th>Bal Accuracy</th>\n",
       "      <th>AUC</th>\n",
       "    </tr>\n",
       "  </thead>\n",
       "  <tbody>\n",
       "    <tr>\n",
       "      <th>0</th>\n",
       "      <td>RF not tuned</td>\n",
       "      <td>Validation</td>\n",
       "      <td>0.973419</td>\n",
       "      <td>0.952119</td>\n",
       "      <td>0.841153</td>\n",
       "      <td>0.962651</td>\n",
       "      <td>0.936511</td>\n",
       "      <td>0.896636</td>\n",
       "      <td>0.896636</td>\n",
       "    </tr>\n",
       "    <tr>\n",
       "      <th>0</th>\n",
       "      <td>RF not tuned</td>\n",
       "      <td>Test</td>\n",
       "      <td>0.973543</td>\n",
       "      <td>0.951950</td>\n",
       "      <td>0.841898</td>\n",
       "      <td>0.962626</td>\n",
       "      <td>0.936475</td>\n",
       "      <td>0.896924</td>\n",
       "      <td>0.896924</td>\n",
       "    </tr>\n",
       "  </tbody>\n",
       "</table>\n",
       "</div>"
      ],
      "text/plain": [
       "          Model        Data  Precision    Recall  Specificity  F1-score  \\\n",
       "0  RF not tuned  Validation   0.973419  0.952119     0.841153  0.962651   \n",
       "0  RF not tuned        Test   0.973543  0.951950     0.841898  0.962626   \n",
       "\n",
       "   Accuracy  Bal Accuracy       AUC  \n",
       "0  0.936511      0.896636  0.896636  \n",
       "0  0.936475      0.896924  0.896924  "
      ]
     },
     "execution_count": 26,
     "metadata": {},
     "output_type": "execute_result"
    }
   ],
   "source": [
    "sc = calc_binary_class_metrics(y_test_ks, rf_pred_test, 'RF not tuned', 'Test')\n",
    "results_score = results_score.append(sc)\n",
    "results_score"
   ]
  },
  {
   "cell_type": "markdown",
   "metadata": {},
   "source": [
    "### Tune the TF-IDF for the Random Forrest algorithm"
   ]
  },
  {
   "cell_type": "code",
   "execution_count": 27,
   "metadata": {},
   "outputs": [
    {
     "name": "stdout",
     "output_type": "stream",
     "text": [
      "Fitting 2 folds for each of 20 candidates, totalling 40 fits\n"
     ]
    },
    {
     "name": "stderr",
     "output_type": "stream",
     "text": [
      "[Parallel(n_jobs=2)]: Using backend LokyBackend with 2 concurrent workers.\n",
      "[Parallel(n_jobs=2)]: Done  28 tasks      | elapsed:  1.9min\n",
      "[Parallel(n_jobs=2)]: Done  40 out of  40 | elapsed:  2.6min finished\n"
     ]
    },
    {
     "name": "stdout",
     "output_type": "stream",
     "text": [
      "Best set of parameters: \n",
      " [('tfidf', TfidfVectorizer(lowercase=False, max_features=400, sublinear_tf=True)), ('clf', OneVsRestClassifier(estimator=RandomForestClassifier(random_state=8)))]\n"
     ]
    }
   ],
   "source": [
    "random.seed(2)\n",
    "pipe_grid = Pipeline([\n",
    "    ('tfidf', TfidfVectorizer(lowercase=False), ),\n",
    "    ('clf', OneVsRestClassifier(RandomForestClassifier(random_state = 8))),\n",
    "])\n",
    "param_grid = {\n",
    "    'tfidf__norm' :('l1', 'l2'),\n",
    "    'tfidf__max_features' : (300, 350, 400, 450,500),\n",
    "    'tfidf__sublinear_tf' : [True, False]\n",
    "}\n",
    "\n",
    "grid_search_tfidf = GridSearchCV(pipe_grid, param_grid, cv=2, n_jobs=2, verbose=3)\n",
    "grid_search_tfidf.fit(X_val_ks, y_val_ks)\n",
    "\n",
    "\n",
    "print(\"Best set of parameters: \\n\" ,grid_search_tfidf.best_estimator_.steps)"
   ]
  },
  {
   "cell_type": "markdown",
   "metadata": {},
   "source": [
    "Fit the TF-IDF with the new parameters"
   ]
  },
  {
   "cell_type": "code",
   "execution_count": 28,
   "metadata": {},
   "outputs": [],
   "source": [
    "tfidf_tune = grid_search_tfidf.best_estimator_[0]\n",
    "\n",
    "X_train_ks_tf_tune = tfidf_tune.fit_transform(X_train_ks).toarray()\n",
    "X_test_ks_tf_tune = tfidf_tune.transform(X_test_ks).toarray()\n",
    "X_val_ks_tf_tune = tfidf_tune.transform(X_val_ks).toarray()"
   ]
  },
  {
   "cell_type": "markdown",
   "metadata": {},
   "source": [
    "Balance the data again with SMOTE."
   ]
  },
  {
   "cell_type": "code",
   "execution_count": 29,
   "metadata": {},
   "outputs": [],
   "source": [
    "balance = SMOTE()\n",
    "X_train_ks_tf_tune_bal, y_train_ks_tf_tune_bal = balance.fit_resample(X_train_ks_tf_tune, y_train_ks)"
   ]
  },
  {
   "cell_type": "code",
   "execution_count": 30,
   "metadata": {},
   "outputs": [
    {
     "name": "stdout",
     "output_type": "stream",
     "text": [
      "Accuracy on validation data: \n",
      " 0.9380599491206725\n",
      "Classification report: \n",
      "               precision    recall  f1-score   support\n",
      "\n",
      "           0       0.75      0.84      0.79      3815\n",
      "           1       0.97      0.95      0.96     23308\n",
      "\n",
      "    accuracy                           0.94     27123\n",
      "   macro avg       0.86      0.90      0.88     27123\n",
      "weighted avg       0.94      0.94      0.94     27123\n",
      "\n",
      "Confusion Matrix validation: \n",
      "[[ 3223   592]\n",
      " [ 1088 22220]]\n"
     ]
    }
   ],
   "source": [
    "random.seed(2)\n",
    "rf_tf_tune = RandomForestClassifier(random_state = 8, n_jobs = -1)\n",
    "rf_tf_tune.fit(X_train_ks_tf_tune_bal, y_train_ks_tf_tune_bal)\n",
    "rf_tf_tune_pred = rf_tf_tune.predict(X_val_ks_tf_tune)\n",
    "\n",
    "print(\"Accuracy on validation data: \\n\",metrics.accuracy_score(y_val_ks, rf_tf_tune_pred))\n",
    "print(\"Classification report: \\n\",metrics.classification_report(y_val_ks, rf_tf_tune_pred))\n",
    "print('Confusion Matrix validation: \\n' + str(metrics.confusion_matrix(y_val_ks, rf_tf_tune_pred)))\n"
   ]
  },
  {
   "cell_type": "code",
   "execution_count": 31,
   "metadata": {},
   "outputs": [
    {
     "data": {
      "text/html": [
       "<div>\n",
       "<style scoped>\n",
       "    .dataframe tbody tr th:only-of-type {\n",
       "        vertical-align: middle;\n",
       "    }\n",
       "\n",
       "    .dataframe tbody tr th {\n",
       "        vertical-align: top;\n",
       "    }\n",
       "\n",
       "    .dataframe thead th {\n",
       "        text-align: right;\n",
       "    }\n",
       "</style>\n",
       "<table border=\"1\" class=\"dataframe\">\n",
       "  <thead>\n",
       "    <tr style=\"text-align: right;\">\n",
       "      <th></th>\n",
       "      <th>Model</th>\n",
       "      <th>Data</th>\n",
       "      <th>Precision</th>\n",
       "      <th>Recall</th>\n",
       "      <th>Specificity</th>\n",
       "      <th>F1-score</th>\n",
       "      <th>Accuracy</th>\n",
       "      <th>Bal Accuracy</th>\n",
       "      <th>AUC</th>\n",
       "    </tr>\n",
       "  </thead>\n",
       "  <tbody>\n",
       "    <tr>\n",
       "      <th>0</th>\n",
       "      <td>RF not tuned</td>\n",
       "      <td>Validation</td>\n",
       "      <td>0.973419</td>\n",
       "      <td>0.952119</td>\n",
       "      <td>0.841153</td>\n",
       "      <td>0.962651</td>\n",
       "      <td>0.936511</td>\n",
       "      <td>0.896636</td>\n",
       "      <td>0.896636</td>\n",
       "    </tr>\n",
       "    <tr>\n",
       "      <th>0</th>\n",
       "      <td>RF not tuned</td>\n",
       "      <td>Test</td>\n",
       "      <td>0.973543</td>\n",
       "      <td>0.951950</td>\n",
       "      <td>0.841898</td>\n",
       "      <td>0.962626</td>\n",
       "      <td>0.936475</td>\n",
       "      <td>0.896924</td>\n",
       "      <td>0.896924</td>\n",
       "    </tr>\n",
       "    <tr>\n",
       "      <th>0</th>\n",
       "      <td>RF TF tuned</td>\n",
       "      <td>Validation</td>\n",
       "      <td>0.974049</td>\n",
       "      <td>0.953321</td>\n",
       "      <td>0.844823</td>\n",
       "      <td>0.963573</td>\n",
       "      <td>0.938060</td>\n",
       "      <td>0.899072</td>\n",
       "      <td>0.899072</td>\n",
       "    </tr>\n",
       "  </tbody>\n",
       "</table>\n",
       "</div>"
      ],
      "text/plain": [
       "          Model        Data  Precision    Recall  Specificity  F1-score  \\\n",
       "0  RF not tuned  Validation   0.973419  0.952119     0.841153  0.962651   \n",
       "0  RF not tuned        Test   0.973543  0.951950     0.841898  0.962626   \n",
       "0   RF TF tuned  Validation   0.974049  0.953321     0.844823  0.963573   \n",
       "\n",
       "   Accuracy  Bal Accuracy       AUC  \n",
       "0  0.936511      0.896636  0.896636  \n",
       "0  0.936475      0.896924  0.896924  \n",
       "0  0.938060      0.899072  0.899072  "
      ]
     },
     "execution_count": 31,
     "metadata": {},
     "output_type": "execute_result"
    }
   ],
   "source": [
    "sc = calc_binary_class_metrics(y_val_ks, rf_tf_tune_pred, 'RF TF tuned', 'Validation')\n",
    "results_score = results_score.append(sc)\n",
    "results_score"
   ]
  },
  {
   "cell_type": "markdown",
   "metadata": {},
   "source": [
    "Evaulated on the **test data** - keyword search labelled."
   ]
  },
  {
   "cell_type": "code",
   "execution_count": 32,
   "metadata": {},
   "outputs": [
    {
     "name": "stdout",
     "output_type": "stream",
     "text": [
      "Accuracy on the test data: \n",
      " 0.9367326623161155\n",
      "Classification report: \n",
      "               precision    recall  f1-score   support\n",
      "\n",
      "           0       0.74      0.84      0.79      3814\n",
      "           1       0.97      0.95      0.96     23309\n",
      "\n",
      "    accuracy                           0.94     27123\n",
      "   macro avg       0.86      0.90      0.88     27123\n",
      "weighted avg       0.94      0.94      0.94     27123\n",
      "\n",
      "Confusion Matrix test: \n",
      "[[ 3199   615]\n",
      " [ 1101 22208]]\n"
     ]
    }
   ],
   "source": [
    "random.seed(2)\n",
    "rf_tf_tune_pred_test = rf_tf_tune.predict(X_test_ks_tf_tune)\n",
    "print(\"Accuracy on the test data: \\n\", metrics.accuracy_score(y_test_ks, rf_tf_tune_pred_test))\n",
    "print(\"Classification report: \\n\",metrics.classification_report(y_test_ks, rf_tf_tune_pred_test))\n",
    "print('Confusion Matrix test: \\n' + str(metrics.confusion_matrix(y_test_ks, rf_tf_tune_pred_test)))"
   ]
  },
  {
   "cell_type": "code",
   "execution_count": 33,
   "metadata": {},
   "outputs": [
    {
     "data": {
      "text/html": [
       "<div>\n",
       "<style scoped>\n",
       "    .dataframe tbody tr th:only-of-type {\n",
       "        vertical-align: middle;\n",
       "    }\n",
       "\n",
       "    .dataframe tbody tr th {\n",
       "        vertical-align: top;\n",
       "    }\n",
       "\n",
       "    .dataframe thead th {\n",
       "        text-align: right;\n",
       "    }\n",
       "</style>\n",
       "<table border=\"1\" class=\"dataframe\">\n",
       "  <thead>\n",
       "    <tr style=\"text-align: right;\">\n",
       "      <th></th>\n",
       "      <th>Model</th>\n",
       "      <th>Data</th>\n",
       "      <th>Precision</th>\n",
       "      <th>Recall</th>\n",
       "      <th>Specificity</th>\n",
       "      <th>F1-score</th>\n",
       "      <th>Accuracy</th>\n",
       "      <th>Bal Accuracy</th>\n",
       "      <th>AUC</th>\n",
       "    </tr>\n",
       "  </thead>\n",
       "  <tbody>\n",
       "    <tr>\n",
       "      <th>0</th>\n",
       "      <td>RF not tuned</td>\n",
       "      <td>Validation</td>\n",
       "      <td>0.973419</td>\n",
       "      <td>0.952119</td>\n",
       "      <td>0.841153</td>\n",
       "      <td>0.962651</td>\n",
       "      <td>0.936511</td>\n",
       "      <td>0.896636</td>\n",
       "      <td>0.896636</td>\n",
       "    </tr>\n",
       "    <tr>\n",
       "      <th>0</th>\n",
       "      <td>RF not tuned</td>\n",
       "      <td>Test</td>\n",
       "      <td>0.973543</td>\n",
       "      <td>0.951950</td>\n",
       "      <td>0.841898</td>\n",
       "      <td>0.962626</td>\n",
       "      <td>0.936475</td>\n",
       "      <td>0.896924</td>\n",
       "      <td>0.896924</td>\n",
       "    </tr>\n",
       "    <tr>\n",
       "      <th>0</th>\n",
       "      <td>RF TF tuned</td>\n",
       "      <td>Validation</td>\n",
       "      <td>0.974049</td>\n",
       "      <td>0.953321</td>\n",
       "      <td>0.844823</td>\n",
       "      <td>0.963573</td>\n",
       "      <td>0.938060</td>\n",
       "      <td>0.899072</td>\n",
       "      <td>0.899072</td>\n",
       "    </tr>\n",
       "    <tr>\n",
       "      <th>0</th>\n",
       "      <td>RF TF tuned</td>\n",
       "      <td>Test</td>\n",
       "      <td>0.973053</td>\n",
       "      <td>0.952765</td>\n",
       "      <td>0.838752</td>\n",
       "      <td>0.962802</td>\n",
       "      <td>0.936733</td>\n",
       "      <td>0.895758</td>\n",
       "      <td>0.895758</td>\n",
       "    </tr>\n",
       "  </tbody>\n",
       "</table>\n",
       "</div>"
      ],
      "text/plain": [
       "          Model        Data  Precision    Recall  Specificity  F1-score  \\\n",
       "0  RF not tuned  Validation   0.973419  0.952119     0.841153  0.962651   \n",
       "0  RF not tuned        Test   0.973543  0.951950     0.841898  0.962626   \n",
       "0   RF TF tuned  Validation   0.974049  0.953321     0.844823  0.963573   \n",
       "0   RF TF tuned        Test   0.973053  0.952765     0.838752  0.962802   \n",
       "\n",
       "   Accuracy  Bal Accuracy       AUC  \n",
       "0  0.936511      0.896636  0.896636  \n",
       "0  0.936475      0.896924  0.896924  \n",
       "0  0.938060      0.899072  0.899072  \n",
       "0  0.936733      0.895758  0.895758  "
      ]
     },
     "execution_count": 33,
     "metadata": {},
     "output_type": "execute_result"
    }
   ],
   "source": [
    "sc = calc_binary_class_metrics(y_test_ks, rf_tf_tune_pred_test, 'RF TF tuned', 'Test')\n",
    "results_score = results_score.append(sc)\n",
    "results_score"
   ]
  },
  {
   "cell_type": "markdown",
   "metadata": {},
   "source": [
    "### Tune the parameters of the Random Forest algorithm"
   ]
  },
  {
   "cell_type": "code",
   "execution_count": 34,
   "metadata": {},
   "outputs": [],
   "source": [
    "param_grid = {'min_samples_leaf': [1, 2, 4],\n",
    "              'min_samples_split' : [2, 5, 10],\n",
    "             'max_features' : ['auto', 'sqrt'],\n",
    "              'max_depth': [20, 40, 60, 80, 100, None],\n",
    "              'n_estimators' : [200, 400, 600, 800, 1000],\n",
    "             'bootstrap' : [True, False]}"
   ]
  },
  {
   "cell_type": "code",
   "execution_count": 35,
   "metadata": {},
   "outputs": [
    {
     "name": "stdout",
     "output_type": "stream",
     "text": [
      "Fitting 3 folds for each of 50 candidates, totalling 150 fits\n"
     ]
    },
    {
     "name": "stderr",
     "output_type": "stream",
     "text": [
      "[Parallel(n_jobs=1)]: Using backend SequentialBackend with 1 concurrent workers.\n",
      "[Parallel(n_jobs=1)]: Done 150 out of 150 | elapsed: 123.5min finished\n"
     ]
    },
    {
     "data": {
      "text/plain": [
       "RandomizedSearchCV(cv=3, estimator=RandomForestClassifier(random_state=8),\n",
       "                   n_iter=50,\n",
       "                   param_distributions={'bootstrap': [True, False],\n",
       "                                        'max_depth': [20, 40, 60, 80, 100,\n",
       "                                                      None],\n",
       "                                        'max_features': ['auto', 'sqrt'],\n",
       "                                        'min_samples_leaf': [1, 2, 4],\n",
       "                                        'min_samples_split': [2, 5, 10],\n",
       "                                        'n_estimators': [200, 400, 600, 800,\n",
       "                                                         1000]},\n",
       "                   scoring='accuracy', verbose=1)"
      ]
     },
     "execution_count": 35,
     "metadata": {},
     "output_type": "execute_result"
    }
   ],
   "source": [
    "random.seed(2)\n",
    "rand_for = RandomForestClassifier(random_state=8)\n",
    "\n",
    "random_search = RandomizedSearchCV(estimator=rand_for,\n",
    "                                   param_distributions=param_grid,\n",
    "                                   n_iter=50,\n",
    "                                   scoring='accuracy',\n",
    "                                   cv=3, \n",
    "                                   verbose=1)\n",
    "\n",
    "# Fit the random search model\n",
    "random_search.fit(X_val_ks_tf_tune, y_val_ks)"
   ]
  },
  {
   "cell_type": "code",
   "execution_count": 36,
   "metadata": {},
   "outputs": [
    {
     "name": "stdout",
     "output_type": "stream",
     "text": [
      "Accuracy on validation data: \n",
      " 0.9407145227297865\n",
      "Classification report: \n",
      "               precision    recall  f1-score   support\n",
      "\n",
      "           0       0.77      0.82      0.80      3815\n",
      "           1       0.97      0.96      0.97     23308\n",
      "\n",
      "    accuracy                           0.94     27123\n",
      "   macro avg       0.87      0.89      0.88     27123\n",
      "weighted avg       0.94      0.94      0.94     27123\n",
      "\n",
      "Confusion Matrix validation: \n",
      "[[ 3136   679]\n",
      " [  929 22379]]\n"
     ]
    }
   ],
   "source": [
    "random.seed(2)\n",
    "rf_both_tune = random_search.best_estimator_\n",
    "rf_both_tune.fit(X_train_ks_tf_tune_bal, y_train_ks_tf_tune_bal)\n",
    "rf_both_tune_pred = rf_both_tune.predict(X_val_ks_tf_tune)\n",
    "\n",
    "print(\"Accuracy on validation data: \\n\",metrics.accuracy_score(y_val_ks, rf_both_tune_pred))\n",
    "print(\"Classification report: \\n\",metrics.classification_report(y_val_ks, rf_both_tune_pred))\n",
    "print('Confusion Matrix validation: \\n' + str(metrics.confusion_matrix(y_val_ks, rf_both_tune_pred)))"
   ]
  },
  {
   "cell_type": "code",
   "execution_count": 37,
   "metadata": {},
   "outputs": [
    {
     "data": {
      "text/html": [
       "<div>\n",
       "<style scoped>\n",
       "    .dataframe tbody tr th:only-of-type {\n",
       "        vertical-align: middle;\n",
       "    }\n",
       "\n",
       "    .dataframe tbody tr th {\n",
       "        vertical-align: top;\n",
       "    }\n",
       "\n",
       "    .dataframe thead th {\n",
       "        text-align: right;\n",
       "    }\n",
       "</style>\n",
       "<table border=\"1\" class=\"dataframe\">\n",
       "  <thead>\n",
       "    <tr style=\"text-align: right;\">\n",
       "      <th></th>\n",
       "      <th>Model</th>\n",
       "      <th>Data</th>\n",
       "      <th>Precision</th>\n",
       "      <th>Recall</th>\n",
       "      <th>Specificity</th>\n",
       "      <th>F1-score</th>\n",
       "      <th>Accuracy</th>\n",
       "      <th>Bal Accuracy</th>\n",
       "      <th>AUC</th>\n",
       "    </tr>\n",
       "  </thead>\n",
       "  <tbody>\n",
       "    <tr>\n",
       "      <th>0</th>\n",
       "      <td>RF not tuned</td>\n",
       "      <td>Validation</td>\n",
       "      <td>0.973419</td>\n",
       "      <td>0.952119</td>\n",
       "      <td>0.841153</td>\n",
       "      <td>0.962651</td>\n",
       "      <td>0.936511</td>\n",
       "      <td>0.896636</td>\n",
       "      <td>0.896636</td>\n",
       "    </tr>\n",
       "    <tr>\n",
       "      <th>0</th>\n",
       "      <td>RF not tuned</td>\n",
       "      <td>Test</td>\n",
       "      <td>0.973543</td>\n",
       "      <td>0.951950</td>\n",
       "      <td>0.841898</td>\n",
       "      <td>0.962626</td>\n",
       "      <td>0.936475</td>\n",
       "      <td>0.896924</td>\n",
       "      <td>0.896924</td>\n",
       "    </tr>\n",
       "    <tr>\n",
       "      <th>0</th>\n",
       "      <td>RF TF tuned</td>\n",
       "      <td>Validation</td>\n",
       "      <td>0.974049</td>\n",
       "      <td>0.953321</td>\n",
       "      <td>0.844823</td>\n",
       "      <td>0.963573</td>\n",
       "      <td>0.938060</td>\n",
       "      <td>0.899072</td>\n",
       "      <td>0.899072</td>\n",
       "    </tr>\n",
       "    <tr>\n",
       "      <th>0</th>\n",
       "      <td>RF TF tuned</td>\n",
       "      <td>Test</td>\n",
       "      <td>0.973053</td>\n",
       "      <td>0.952765</td>\n",
       "      <td>0.838752</td>\n",
       "      <td>0.962802</td>\n",
       "      <td>0.936733</td>\n",
       "      <td>0.895758</td>\n",
       "      <td>0.895758</td>\n",
       "    </tr>\n",
       "    <tr>\n",
       "      <th>0</th>\n",
       "      <td>RF TF and Algorithm tuned</td>\n",
       "      <td>Validation</td>\n",
       "      <td>0.970553</td>\n",
       "      <td>0.960142</td>\n",
       "      <td>0.822018</td>\n",
       "      <td>0.965319</td>\n",
       "      <td>0.940715</td>\n",
       "      <td>0.891080</td>\n",
       "      <td>0.891080</td>\n",
       "    </tr>\n",
       "  </tbody>\n",
       "</table>\n",
       "</div>"
      ],
      "text/plain": [
       "                       Model        Data  Precision    Recall  Specificity  \\\n",
       "0               RF not tuned  Validation   0.973419  0.952119     0.841153   \n",
       "0               RF not tuned        Test   0.973543  0.951950     0.841898   \n",
       "0                RF TF tuned  Validation   0.974049  0.953321     0.844823   \n",
       "0                RF TF tuned        Test   0.973053  0.952765     0.838752   \n",
       "0  RF TF and Algorithm tuned  Validation   0.970553  0.960142     0.822018   \n",
       "\n",
       "   F1-score  Accuracy  Bal Accuracy       AUC  \n",
       "0  0.962651  0.936511      0.896636  0.896636  \n",
       "0  0.962626  0.936475      0.896924  0.896924  \n",
       "0  0.963573  0.938060      0.899072  0.899072  \n",
       "0  0.962802  0.936733      0.895758  0.895758  \n",
       "0  0.965319  0.940715      0.891080  0.891080  "
      ]
     },
     "execution_count": 37,
     "metadata": {},
     "output_type": "execute_result"
    }
   ],
   "source": [
    "sc = calc_binary_class_metrics(y_val_ks, rf_both_tune_pred, 'RF TF and Algorithm tuned', 'Validation')\n",
    "results_score = results_score.append(sc)\n",
    "results_score"
   ]
  },
  {
   "cell_type": "markdown",
   "metadata": {},
   "source": [
    "Evaulated on the **test data** - keyword search labelled."
   ]
  },
  {
   "cell_type": "code",
   "execution_count": 38,
   "metadata": {},
   "outputs": [
    {
     "name": "stdout",
     "output_type": "stream",
     "text": [
      "Accuracy on the test data: \n",
      " 0.9404933082623603\n",
      "Classification report: \n",
      "               precision    recall  f1-score   support\n",
      "\n",
      "           0       0.77      0.83      0.80      3814\n",
      "           1       0.97      0.96      0.97     23309\n",
      "\n",
      "    accuracy                           0.94     27123\n",
      "   macro avg       0.87      0.89      0.88     27123\n",
      "weighted avg       0.94      0.94      0.94     27123\n",
      "\n",
      "Confusion Matrix test: \n",
      "[[ 3152   662]\n",
      " [  952 22357]]\n"
     ]
    }
   ],
   "source": [
    "random.seed(2)\n",
    "rf_both_tune_pred_test = rf_both_tune.predict(X_test_ks_tf_tune)\n",
    "print(\"Accuracy on the test data: \\n\", metrics.accuracy_score(y_test_ks, rf_both_tune_pred_test))\n",
    "print(\"Classification report: \\n\",metrics.classification_report(y_test_ks, rf_both_tune_pred_test))\n",
    "print('Confusion Matrix test: \\n' + str(metrics.confusion_matrix(y_test_ks, rf_both_tune_pred_test)))"
   ]
  },
  {
   "cell_type": "code",
   "execution_count": 39,
   "metadata": {},
   "outputs": [
    {
     "data": {
      "text/html": [
       "<div>\n",
       "<style scoped>\n",
       "    .dataframe tbody tr th:only-of-type {\n",
       "        vertical-align: middle;\n",
       "    }\n",
       "\n",
       "    .dataframe tbody tr th {\n",
       "        vertical-align: top;\n",
       "    }\n",
       "\n",
       "    .dataframe thead th {\n",
       "        text-align: right;\n",
       "    }\n",
       "</style>\n",
       "<table border=\"1\" class=\"dataframe\">\n",
       "  <thead>\n",
       "    <tr style=\"text-align: right;\">\n",
       "      <th></th>\n",
       "      <th>Model</th>\n",
       "      <th>Data</th>\n",
       "      <th>Precision</th>\n",
       "      <th>Recall</th>\n",
       "      <th>Specificity</th>\n",
       "      <th>F1-score</th>\n",
       "      <th>Accuracy</th>\n",
       "      <th>Bal Accuracy</th>\n",
       "      <th>AUC</th>\n",
       "    </tr>\n",
       "  </thead>\n",
       "  <tbody>\n",
       "    <tr>\n",
       "      <th>0</th>\n",
       "      <td>RF not tuned</td>\n",
       "      <td>Validation</td>\n",
       "      <td>0.973419</td>\n",
       "      <td>0.952119</td>\n",
       "      <td>0.841153</td>\n",
       "      <td>0.962651</td>\n",
       "      <td>0.936511</td>\n",
       "      <td>0.896636</td>\n",
       "      <td>0.896636</td>\n",
       "    </tr>\n",
       "    <tr>\n",
       "      <th>0</th>\n",
       "      <td>RF not tuned</td>\n",
       "      <td>Test</td>\n",
       "      <td>0.973543</td>\n",
       "      <td>0.951950</td>\n",
       "      <td>0.841898</td>\n",
       "      <td>0.962626</td>\n",
       "      <td>0.936475</td>\n",
       "      <td>0.896924</td>\n",
       "      <td>0.896924</td>\n",
       "    </tr>\n",
       "    <tr>\n",
       "      <th>0</th>\n",
       "      <td>RF TF tuned</td>\n",
       "      <td>Validation</td>\n",
       "      <td>0.974049</td>\n",
       "      <td>0.953321</td>\n",
       "      <td>0.844823</td>\n",
       "      <td>0.963573</td>\n",
       "      <td>0.938060</td>\n",
       "      <td>0.899072</td>\n",
       "      <td>0.899072</td>\n",
       "    </tr>\n",
       "    <tr>\n",
       "      <th>0</th>\n",
       "      <td>RF TF tuned</td>\n",
       "      <td>Test</td>\n",
       "      <td>0.973053</td>\n",
       "      <td>0.952765</td>\n",
       "      <td>0.838752</td>\n",
       "      <td>0.962802</td>\n",
       "      <td>0.936733</td>\n",
       "      <td>0.895758</td>\n",
       "      <td>0.895758</td>\n",
       "    </tr>\n",
       "    <tr>\n",
       "      <th>0</th>\n",
       "      <td>RF TF and Algorithm tuned</td>\n",
       "      <td>Validation</td>\n",
       "      <td>0.970553</td>\n",
       "      <td>0.960142</td>\n",
       "      <td>0.822018</td>\n",
       "      <td>0.965319</td>\n",
       "      <td>0.940715</td>\n",
       "      <td>0.891080</td>\n",
       "      <td>0.891080</td>\n",
       "    </tr>\n",
       "    <tr>\n",
       "      <th>0</th>\n",
       "      <td>RF TF and Algorithm tuned</td>\n",
       "      <td>Test</td>\n",
       "      <td>0.971241</td>\n",
       "      <td>0.959157</td>\n",
       "      <td>0.826429</td>\n",
       "      <td>0.965161</td>\n",
       "      <td>0.940493</td>\n",
       "      <td>0.892793</td>\n",
       "      <td>0.892793</td>\n",
       "    </tr>\n",
       "  </tbody>\n",
       "</table>\n",
       "</div>"
      ],
      "text/plain": [
       "                       Model        Data  Precision    Recall  Specificity  \\\n",
       "0               RF not tuned  Validation   0.973419  0.952119     0.841153   \n",
       "0               RF not tuned        Test   0.973543  0.951950     0.841898   \n",
       "0                RF TF tuned  Validation   0.974049  0.953321     0.844823   \n",
       "0                RF TF tuned        Test   0.973053  0.952765     0.838752   \n",
       "0  RF TF and Algorithm tuned  Validation   0.970553  0.960142     0.822018   \n",
       "0  RF TF and Algorithm tuned        Test   0.971241  0.959157     0.826429   \n",
       "\n",
       "   F1-score  Accuracy  Bal Accuracy       AUC  \n",
       "0  0.962651  0.936511      0.896636  0.896636  \n",
       "0  0.962626  0.936475      0.896924  0.896924  \n",
       "0  0.963573  0.938060      0.899072  0.899072  \n",
       "0  0.962802  0.936733      0.895758  0.895758  \n",
       "0  0.965319  0.940715      0.891080  0.891080  \n",
       "0  0.965161  0.940493      0.892793  0.892793  "
      ]
     },
     "execution_count": 39,
     "metadata": {},
     "output_type": "execute_result"
    }
   ],
   "source": [
    "sc = calc_binary_class_metrics(y_test_ks, rf_both_tune_pred_test, 'RF TF and Algorithm tuned', 'Test')\n",
    "results_score = results_score.append(sc)\n",
    "results_score"
   ]
  },
  {
   "cell_type": "markdown",
   "metadata": {},
   "source": [
    "## XGBoost"
   ]
  },
  {
   "cell_type": "code",
   "execution_count": 40,
   "metadata": {},
   "outputs": [
    {
     "name": "stdout",
     "output_type": "stream",
     "text": [
      "Accuracy on validation data: \n",
      " 0.924860819230911\n",
      "Classification report: \n",
      "               precision    recall  f1-score   support\n",
      "\n",
      "           0       0.71      0.79      0.75      3815\n",
      "           1       0.97      0.95      0.96     23308\n",
      "\n",
      "    accuracy                           0.92     27123\n",
      "   macro avg       0.84      0.87      0.85     27123\n",
      "weighted avg       0.93      0.92      0.93     27123\n",
      "\n",
      "Confusion Matrix validation: \n",
      "[[ 3029   786]\n",
      " [ 1252 22056]]\n"
     ]
    }
   ],
   "source": [
    "random.seed(2)\n",
    "xb = xgb.XGBClassifier(objective = 'binary:logistic', n_jobs=-1)\n",
    "xb.fit(X_train_ks_bal, y_train_ks_bal)\n",
    "xb_pred = xb.predict(X_val_ks_tf)\n",
    "\n",
    "\n",
    "print(\"Accuracy on validation data: \\n\",metrics.accuracy_score(y_val_ks, xb_pred))\n",
    "print(\"Classification report: \\n\",metrics.classification_report(y_val_ks, xb_pred))\n",
    "print('Confusion Matrix validation: \\n' + str(metrics.confusion_matrix(y_val_ks, xb_pred)))"
   ]
  },
  {
   "cell_type": "code",
   "execution_count": 41,
   "metadata": {},
   "outputs": [
    {
     "data": {
      "text/html": [
       "<div>\n",
       "<style scoped>\n",
       "    .dataframe tbody tr th:only-of-type {\n",
       "        vertical-align: middle;\n",
       "    }\n",
       "\n",
       "    .dataframe tbody tr th {\n",
       "        vertical-align: top;\n",
       "    }\n",
       "\n",
       "    .dataframe thead th {\n",
       "        text-align: right;\n",
       "    }\n",
       "</style>\n",
       "<table border=\"1\" class=\"dataframe\">\n",
       "  <thead>\n",
       "    <tr style=\"text-align: right;\">\n",
       "      <th></th>\n",
       "      <th>Model</th>\n",
       "      <th>Data</th>\n",
       "      <th>Precision</th>\n",
       "      <th>Recall</th>\n",
       "      <th>Specificity</th>\n",
       "      <th>F1-score</th>\n",
       "      <th>Accuracy</th>\n",
       "      <th>Bal Accuracy</th>\n",
       "      <th>AUC</th>\n",
       "    </tr>\n",
       "  </thead>\n",
       "  <tbody>\n",
       "    <tr>\n",
       "      <th>0</th>\n",
       "      <td>RF not tuned</td>\n",
       "      <td>Validation</td>\n",
       "      <td>0.973419</td>\n",
       "      <td>0.952119</td>\n",
       "      <td>0.841153</td>\n",
       "      <td>0.962651</td>\n",
       "      <td>0.936511</td>\n",
       "      <td>0.896636</td>\n",
       "      <td>0.896636</td>\n",
       "    </tr>\n",
       "    <tr>\n",
       "      <th>0</th>\n",
       "      <td>RF not tuned</td>\n",
       "      <td>Test</td>\n",
       "      <td>0.973543</td>\n",
       "      <td>0.951950</td>\n",
       "      <td>0.841898</td>\n",
       "      <td>0.962626</td>\n",
       "      <td>0.936475</td>\n",
       "      <td>0.896924</td>\n",
       "      <td>0.896924</td>\n",
       "    </tr>\n",
       "    <tr>\n",
       "      <th>0</th>\n",
       "      <td>RF TF tuned</td>\n",
       "      <td>Validation</td>\n",
       "      <td>0.974049</td>\n",
       "      <td>0.953321</td>\n",
       "      <td>0.844823</td>\n",
       "      <td>0.963573</td>\n",
       "      <td>0.938060</td>\n",
       "      <td>0.899072</td>\n",
       "      <td>0.899072</td>\n",
       "    </tr>\n",
       "    <tr>\n",
       "      <th>0</th>\n",
       "      <td>RF TF tuned</td>\n",
       "      <td>Test</td>\n",
       "      <td>0.973053</td>\n",
       "      <td>0.952765</td>\n",
       "      <td>0.838752</td>\n",
       "      <td>0.962802</td>\n",
       "      <td>0.936733</td>\n",
       "      <td>0.895758</td>\n",
       "      <td>0.895758</td>\n",
       "    </tr>\n",
       "    <tr>\n",
       "      <th>0</th>\n",
       "      <td>RF TF and Algorithm tuned</td>\n",
       "      <td>Validation</td>\n",
       "      <td>0.970553</td>\n",
       "      <td>0.960142</td>\n",
       "      <td>0.822018</td>\n",
       "      <td>0.965319</td>\n",
       "      <td>0.940715</td>\n",
       "      <td>0.891080</td>\n",
       "      <td>0.891080</td>\n",
       "    </tr>\n",
       "    <tr>\n",
       "      <th>0</th>\n",
       "      <td>RF TF and Algorithm tuned</td>\n",
       "      <td>Test</td>\n",
       "      <td>0.971241</td>\n",
       "      <td>0.959157</td>\n",
       "      <td>0.826429</td>\n",
       "      <td>0.965161</td>\n",
       "      <td>0.940493</td>\n",
       "      <td>0.892793</td>\n",
       "      <td>0.892793</td>\n",
       "    </tr>\n",
       "    <tr>\n",
       "      <th>0</th>\n",
       "      <td>XGBost not tuned</td>\n",
       "      <td>Validation</td>\n",
       "      <td>0.965590</td>\n",
       "      <td>0.946285</td>\n",
       "      <td>0.793971</td>\n",
       "      <td>0.955840</td>\n",
       "      <td>0.924861</td>\n",
       "      <td>0.870128</td>\n",
       "      <td>0.870128</td>\n",
       "    </tr>\n",
       "  </tbody>\n",
       "</table>\n",
       "</div>"
      ],
      "text/plain": [
       "                       Model        Data  Precision    Recall  Specificity  \\\n",
       "0               RF not tuned  Validation   0.973419  0.952119     0.841153   \n",
       "0               RF not tuned        Test   0.973543  0.951950     0.841898   \n",
       "0                RF TF tuned  Validation   0.974049  0.953321     0.844823   \n",
       "0                RF TF tuned        Test   0.973053  0.952765     0.838752   \n",
       "0  RF TF and Algorithm tuned  Validation   0.970553  0.960142     0.822018   \n",
       "0  RF TF and Algorithm tuned        Test   0.971241  0.959157     0.826429   \n",
       "0           XGBost not tuned  Validation   0.965590  0.946285     0.793971   \n",
       "\n",
       "   F1-score  Accuracy  Bal Accuracy       AUC  \n",
       "0  0.962651  0.936511      0.896636  0.896636  \n",
       "0  0.962626  0.936475      0.896924  0.896924  \n",
       "0  0.963573  0.938060      0.899072  0.899072  \n",
       "0  0.962802  0.936733      0.895758  0.895758  \n",
       "0  0.965319  0.940715      0.891080  0.891080  \n",
       "0  0.965161  0.940493      0.892793  0.892793  \n",
       "0  0.955840  0.924861      0.870128  0.870128  "
      ]
     },
     "execution_count": 41,
     "metadata": {},
     "output_type": "execute_result"
    }
   ],
   "source": [
    "sc = calc_binary_class_metrics(y_val_ks, xb_pred, 'XGBost not tuned', 'Validation')\n",
    "results_score = results_score.append(sc)\n",
    "results_score"
   ]
  },
  {
   "cell_type": "code",
   "execution_count": 42,
   "metadata": {},
   "outputs": [
    {
     "name": "stdout",
     "output_type": "stream",
     "text": [
      "Accuracy on test data: \n",
      " 0.9234229251926409\n",
      "Classification report: \n",
      "               precision    recall  f1-score   support\n",
      "\n",
      "           0       0.70      0.80      0.75      3814\n",
      "           1       0.97      0.94      0.95     23309\n",
      "\n",
      "    accuracy                           0.92     27123\n",
      "   macro avg       0.83      0.87      0.85     27123\n",
      "weighted avg       0.93      0.92      0.93     27123\n",
      "\n",
      "Confusion Matrix test: \n",
      "[[ 3055   759]\n",
      " [ 1318 21991]]\n"
     ]
    }
   ],
   "source": [
    "random.seed(2)\n",
    "xb_pred_test = xb.predict(X_test_ks_tf)\n",
    "print(\"Accuracy on test data: \\n\",metrics.accuracy_score(y_test_ks, xb_pred_test))\n",
    "print(\"Classification report: \\n\",metrics.classification_report(y_test_ks, xb_pred_test))\n",
    "print('Confusion Matrix test: \\n' + str(metrics.confusion_matrix(y_test_ks, xb_pred_test)))"
   ]
  },
  {
   "cell_type": "markdown",
   "metadata": {},
   "source": [
    "Evaulated on the **test data** - keyword search labelled."
   ]
  },
  {
   "cell_type": "code",
   "execution_count": 43,
   "metadata": {},
   "outputs": [
    {
     "data": {
      "text/html": [
       "<div>\n",
       "<style scoped>\n",
       "    .dataframe tbody tr th:only-of-type {\n",
       "        vertical-align: middle;\n",
       "    }\n",
       "\n",
       "    .dataframe tbody tr th {\n",
       "        vertical-align: top;\n",
       "    }\n",
       "\n",
       "    .dataframe thead th {\n",
       "        text-align: right;\n",
       "    }\n",
       "</style>\n",
       "<table border=\"1\" class=\"dataframe\">\n",
       "  <thead>\n",
       "    <tr style=\"text-align: right;\">\n",
       "      <th></th>\n",
       "      <th>Model</th>\n",
       "      <th>Data</th>\n",
       "      <th>Precision</th>\n",
       "      <th>Recall</th>\n",
       "      <th>Specificity</th>\n",
       "      <th>F1-score</th>\n",
       "      <th>Accuracy</th>\n",
       "      <th>Bal Accuracy</th>\n",
       "      <th>AUC</th>\n",
       "    </tr>\n",
       "  </thead>\n",
       "  <tbody>\n",
       "    <tr>\n",
       "      <th>0</th>\n",
       "      <td>RF not tuned</td>\n",
       "      <td>Validation</td>\n",
       "      <td>0.973419</td>\n",
       "      <td>0.952119</td>\n",
       "      <td>0.841153</td>\n",
       "      <td>0.962651</td>\n",
       "      <td>0.936511</td>\n",
       "      <td>0.896636</td>\n",
       "      <td>0.896636</td>\n",
       "    </tr>\n",
       "    <tr>\n",
       "      <th>0</th>\n",
       "      <td>RF not tuned</td>\n",
       "      <td>Test</td>\n",
       "      <td>0.973543</td>\n",
       "      <td>0.951950</td>\n",
       "      <td>0.841898</td>\n",
       "      <td>0.962626</td>\n",
       "      <td>0.936475</td>\n",
       "      <td>0.896924</td>\n",
       "      <td>0.896924</td>\n",
       "    </tr>\n",
       "    <tr>\n",
       "      <th>0</th>\n",
       "      <td>RF TF tuned</td>\n",
       "      <td>Validation</td>\n",
       "      <td>0.974049</td>\n",
       "      <td>0.953321</td>\n",
       "      <td>0.844823</td>\n",
       "      <td>0.963573</td>\n",
       "      <td>0.938060</td>\n",
       "      <td>0.899072</td>\n",
       "      <td>0.899072</td>\n",
       "    </tr>\n",
       "    <tr>\n",
       "      <th>0</th>\n",
       "      <td>RF TF tuned</td>\n",
       "      <td>Test</td>\n",
       "      <td>0.973053</td>\n",
       "      <td>0.952765</td>\n",
       "      <td>0.838752</td>\n",
       "      <td>0.962802</td>\n",
       "      <td>0.936733</td>\n",
       "      <td>0.895758</td>\n",
       "      <td>0.895758</td>\n",
       "    </tr>\n",
       "    <tr>\n",
       "      <th>0</th>\n",
       "      <td>RF TF and Algorithm tuned</td>\n",
       "      <td>Validation</td>\n",
       "      <td>0.970553</td>\n",
       "      <td>0.960142</td>\n",
       "      <td>0.822018</td>\n",
       "      <td>0.965319</td>\n",
       "      <td>0.940715</td>\n",
       "      <td>0.891080</td>\n",
       "      <td>0.891080</td>\n",
       "    </tr>\n",
       "    <tr>\n",
       "      <th>0</th>\n",
       "      <td>RF TF and Algorithm tuned</td>\n",
       "      <td>Test</td>\n",
       "      <td>0.971241</td>\n",
       "      <td>0.959157</td>\n",
       "      <td>0.826429</td>\n",
       "      <td>0.965161</td>\n",
       "      <td>0.940493</td>\n",
       "      <td>0.892793</td>\n",
       "      <td>0.892793</td>\n",
       "    </tr>\n",
       "    <tr>\n",
       "      <th>0</th>\n",
       "      <td>XGBost not tuned</td>\n",
       "      <td>Validation</td>\n",
       "      <td>0.965590</td>\n",
       "      <td>0.946285</td>\n",
       "      <td>0.793971</td>\n",
       "      <td>0.955840</td>\n",
       "      <td>0.924861</td>\n",
       "      <td>0.870128</td>\n",
       "      <td>0.870128</td>\n",
       "    </tr>\n",
       "    <tr>\n",
       "      <th>0</th>\n",
       "      <td>XGBost not tuned</td>\n",
       "      <td>Test</td>\n",
       "      <td>0.966637</td>\n",
       "      <td>0.943455</td>\n",
       "      <td>0.800996</td>\n",
       "      <td>0.954906</td>\n",
       "      <td>0.923423</td>\n",
       "      <td>0.872226</td>\n",
       "      <td>0.872226</td>\n",
       "    </tr>\n",
       "  </tbody>\n",
       "</table>\n",
       "</div>"
      ],
      "text/plain": [
       "                       Model        Data  Precision    Recall  Specificity  \\\n",
       "0               RF not tuned  Validation   0.973419  0.952119     0.841153   \n",
       "0               RF not tuned        Test   0.973543  0.951950     0.841898   \n",
       "0                RF TF tuned  Validation   0.974049  0.953321     0.844823   \n",
       "0                RF TF tuned        Test   0.973053  0.952765     0.838752   \n",
       "0  RF TF and Algorithm tuned  Validation   0.970553  0.960142     0.822018   \n",
       "0  RF TF and Algorithm tuned        Test   0.971241  0.959157     0.826429   \n",
       "0           XGBost not tuned  Validation   0.965590  0.946285     0.793971   \n",
       "0           XGBost not tuned        Test   0.966637  0.943455     0.800996   \n",
       "\n",
       "   F1-score  Accuracy  Bal Accuracy       AUC  \n",
       "0  0.962651  0.936511      0.896636  0.896636  \n",
       "0  0.962626  0.936475      0.896924  0.896924  \n",
       "0  0.963573  0.938060      0.899072  0.899072  \n",
       "0  0.962802  0.936733      0.895758  0.895758  \n",
       "0  0.965319  0.940715      0.891080  0.891080  \n",
       "0  0.965161  0.940493      0.892793  0.892793  \n",
       "0  0.955840  0.924861      0.870128  0.870128  \n",
       "0  0.954906  0.923423      0.872226  0.872226  "
      ]
     },
     "execution_count": 43,
     "metadata": {},
     "output_type": "execute_result"
    }
   ],
   "source": [
    "sc = calc_binary_class_metrics(y_test_ks, xb_pred_test, 'XGBost not tuned', 'Test')\n",
    "results_score = results_score.append(sc)\n",
    "results_score"
   ]
  },
  {
   "cell_type": "markdown",
   "metadata": {},
   "source": [
    "### Tune the TF-IDF vectorizer for the XGBoost algorithm"
   ]
  },
  {
   "cell_type": "code",
   "execution_count": 44,
   "metadata": {},
   "outputs": [
    {
     "name": "stdout",
     "output_type": "stream",
     "text": [
      "Fitting 2 folds for each of 20 candidates, totalling 40 fits\n"
     ]
    },
    {
     "name": "stderr",
     "output_type": "stream",
     "text": [
      "[Parallel(n_jobs=-1)]: Using backend LokyBackend with 12 concurrent workers.\n",
      "[Parallel(n_jobs=-1)]: Done  40 out of  40 | elapsed:  1.2min finished\n"
     ]
    },
    {
     "name": "stdout",
     "output_type": "stream",
     "text": [
      "Best parameters for the TF-IDF: [('tfidf', TfidfVectorizer(lowercase=False, max_features=400, sublinear_tf=True)), ('clf', OneVsRestClassifier(estimator=XGBClassifier(base_score=None, booster=None,\n",
      "                                            colsample_bylevel=None,\n",
      "                                            colsample_bynode=None,\n",
      "                                            colsample_bytree=None, gamma=None,\n",
      "                                            gpu_id=None, importance_type='gain',\n",
      "                                            interaction_constraints=None,\n",
      "                                            learning_rate=None,\n",
      "                                            max_delta_step=None, max_depth=None,\n",
      "                                            min_child_weight=None, missing=nan,\n",
      "                                            monotone_constraints=None,\n",
      "                                            n_estimators=100, n_jobs=-1,\n",
      "                                            num_parallel_tree=None,\n",
      "                                            random_state=None, reg_alpha=None,\n",
      "                                            reg_lambda=None,\n",
      "                                            scale_pos_weight=None,\n",
      "                                            subsample=None, tree_method=None,\n",
      "                                            validate_parameters=None,\n",
      "                                            verbosity=None)))]\n"
     ]
    }
   ],
   "source": [
    "random.seed(2)\n",
    "pipeline_grid = Pipeline([\n",
    "    ('tfidf', TfidfVectorizer(lowercase=False)),\n",
    "    ('clf', OneVsRestClassifier(xgb.XGBClassifier(objective = 'binary:logistic', n_jobs=-1))),\n",
    "])\n",
    "param_grid = {\n",
    "    'tfidf__norm' :('l1', 'l2'),\n",
    "    'tfidf__max_features' : (300, 350, 400, 450,500),\n",
    "    'tfidf__sublinear_tf' : [True, False]\n",
    "\n",
    "}\n",
    "\n",
    "grid_search_tfidf_xgb = GridSearchCV(pipeline_grid, param_grid, cv=2, verbose=1, n_jobs=-1)\n",
    "grid_search_tfidf_xgb.fit(X_val_ks, y_val_ks)\n",
    "\n",
    "print(\"Best parameters for the TF-IDF: {}\".format(grid_search_tfidf_xgb.best_estimator_.steps))"
   ]
  },
  {
   "cell_type": "code",
   "execution_count": 45,
   "metadata": {},
   "outputs": [],
   "source": [
    "tfidf_xb = grid_search_tfidf_xgb.best_estimator_[0]\n",
    "\n",
    "X_train_ks_tf_tune_xb = tfidf_xb.fit_transform(X_train_ks).toarray()\n",
    "X_test_ks_tf_tune_xb = tfidf_xb.transform(X_test_ks).toarray()\n",
    "X_val_ks_tf_tune_xb = tfidf_xb.transform(X_val_ks).toarray()"
   ]
  },
  {
   "cell_type": "code",
   "execution_count": 46,
   "metadata": {},
   "outputs": [],
   "source": [
    "balance = SMOTE()\n",
    "X_train_ks_tf_tune_bal_xb, y_train_ks_tf_tune_bal_xb = balance.fit_resample(X_train_ks_tf_tune_xb, y_train_ks)"
   ]
  },
  {
   "cell_type": "markdown",
   "metadata": {},
   "source": [
    "Train the model with the tuned TF-IDF."
   ]
  },
  {
   "cell_type": "code",
   "execution_count": 47,
   "metadata": {},
   "outputs": [
    {
     "name": "stdout",
     "output_type": "stream",
     "text": [
      "Accuracy on validation data: \n",
      " 0.9262987132691811\n",
      "Classification report: \n",
      "               precision    recall  f1-score   support\n",
      "\n",
      "           0       0.71      0.79      0.75      3815\n",
      "           1       0.97      0.95      0.96     23308\n",
      "\n",
      "    accuracy                           0.93     27123\n",
      "   macro avg       0.84      0.87      0.85     27123\n",
      "weighted avg       0.93      0.93      0.93     27123\n",
      "\n",
      "Confusion Matrix validation: \n",
      "[[ 3030   785]\n",
      " [ 1214 22094]]\n"
     ]
    }
   ],
   "source": [
    "random.seed(2)\n",
    "xb_tf_tune = xgb.XGBClassifier(objective = 'binary:logistic', n_jobs=-1)\n",
    "xb_tf_tune.fit(X_train_ks_tf_tune_bal_xb, y_train_ks_tf_tune_bal_xb)\n",
    "xb_tf_tune_pred = xb_tf_tune.predict(X_val_ks_tf_tune_xb)\n",
    "\n",
    "\n",
    "print(\"Accuracy on validation data: \\n\",metrics.accuracy_score(y_val_ks, xb_tf_tune_pred))\n",
    "print(\"Classification report: \\n\",metrics.classification_report(y_val_ks, xb_tf_tune_pred))\n",
    "print('Confusion Matrix validation: \\n' + str(metrics.confusion_matrix(y_val_ks, xb_tf_tune_pred)))"
   ]
  },
  {
   "cell_type": "code",
   "execution_count": 48,
   "metadata": {},
   "outputs": [
    {
     "data": {
      "text/html": [
       "<div>\n",
       "<style scoped>\n",
       "    .dataframe tbody tr th:only-of-type {\n",
       "        vertical-align: middle;\n",
       "    }\n",
       "\n",
       "    .dataframe tbody tr th {\n",
       "        vertical-align: top;\n",
       "    }\n",
       "\n",
       "    .dataframe thead th {\n",
       "        text-align: right;\n",
       "    }\n",
       "</style>\n",
       "<table border=\"1\" class=\"dataframe\">\n",
       "  <thead>\n",
       "    <tr style=\"text-align: right;\">\n",
       "      <th></th>\n",
       "      <th>Model</th>\n",
       "      <th>Data</th>\n",
       "      <th>Precision</th>\n",
       "      <th>Recall</th>\n",
       "      <th>Specificity</th>\n",
       "      <th>F1-score</th>\n",
       "      <th>Accuracy</th>\n",
       "      <th>Bal Accuracy</th>\n",
       "      <th>AUC</th>\n",
       "    </tr>\n",
       "  </thead>\n",
       "  <tbody>\n",
       "    <tr>\n",
       "      <th>0</th>\n",
       "      <td>RF not tuned</td>\n",
       "      <td>Validation</td>\n",
       "      <td>0.973419</td>\n",
       "      <td>0.952119</td>\n",
       "      <td>0.841153</td>\n",
       "      <td>0.962651</td>\n",
       "      <td>0.936511</td>\n",
       "      <td>0.896636</td>\n",
       "      <td>0.896636</td>\n",
       "    </tr>\n",
       "    <tr>\n",
       "      <th>0</th>\n",
       "      <td>RF not tuned</td>\n",
       "      <td>Test</td>\n",
       "      <td>0.973543</td>\n",
       "      <td>0.951950</td>\n",
       "      <td>0.841898</td>\n",
       "      <td>0.962626</td>\n",
       "      <td>0.936475</td>\n",
       "      <td>0.896924</td>\n",
       "      <td>0.896924</td>\n",
       "    </tr>\n",
       "    <tr>\n",
       "      <th>0</th>\n",
       "      <td>RF TF tuned</td>\n",
       "      <td>Validation</td>\n",
       "      <td>0.974049</td>\n",
       "      <td>0.953321</td>\n",
       "      <td>0.844823</td>\n",
       "      <td>0.963573</td>\n",
       "      <td>0.938060</td>\n",
       "      <td>0.899072</td>\n",
       "      <td>0.899072</td>\n",
       "    </tr>\n",
       "    <tr>\n",
       "      <th>0</th>\n",
       "      <td>RF TF tuned</td>\n",
       "      <td>Test</td>\n",
       "      <td>0.973053</td>\n",
       "      <td>0.952765</td>\n",
       "      <td>0.838752</td>\n",
       "      <td>0.962802</td>\n",
       "      <td>0.936733</td>\n",
       "      <td>0.895758</td>\n",
       "      <td>0.895758</td>\n",
       "    </tr>\n",
       "    <tr>\n",
       "      <th>0</th>\n",
       "      <td>RF TF and Algorithm tuned</td>\n",
       "      <td>Validation</td>\n",
       "      <td>0.970553</td>\n",
       "      <td>0.960142</td>\n",
       "      <td>0.822018</td>\n",
       "      <td>0.965319</td>\n",
       "      <td>0.940715</td>\n",
       "      <td>0.891080</td>\n",
       "      <td>0.891080</td>\n",
       "    </tr>\n",
       "    <tr>\n",
       "      <th>0</th>\n",
       "      <td>RF TF and Algorithm tuned</td>\n",
       "      <td>Test</td>\n",
       "      <td>0.971241</td>\n",
       "      <td>0.959157</td>\n",
       "      <td>0.826429</td>\n",
       "      <td>0.965161</td>\n",
       "      <td>0.940493</td>\n",
       "      <td>0.892793</td>\n",
       "      <td>0.892793</td>\n",
       "    </tr>\n",
       "    <tr>\n",
       "      <th>0</th>\n",
       "      <td>XGBost not tuned</td>\n",
       "      <td>Validation</td>\n",
       "      <td>0.965590</td>\n",
       "      <td>0.946285</td>\n",
       "      <td>0.793971</td>\n",
       "      <td>0.955840</td>\n",
       "      <td>0.924861</td>\n",
       "      <td>0.870128</td>\n",
       "      <td>0.870128</td>\n",
       "    </tr>\n",
       "    <tr>\n",
       "      <th>0</th>\n",
       "      <td>XGBost not tuned</td>\n",
       "      <td>Test</td>\n",
       "      <td>0.966637</td>\n",
       "      <td>0.943455</td>\n",
       "      <td>0.800996</td>\n",
       "      <td>0.954906</td>\n",
       "      <td>0.923423</td>\n",
       "      <td>0.872226</td>\n",
       "      <td>0.872226</td>\n",
       "    </tr>\n",
       "    <tr>\n",
       "      <th>0</th>\n",
       "      <td>XGBost TF tuned</td>\n",
       "      <td>Validation</td>\n",
       "      <td>0.965689</td>\n",
       "      <td>0.947915</td>\n",
       "      <td>0.794233</td>\n",
       "      <td>0.956719</td>\n",
       "      <td>0.926299</td>\n",
       "      <td>0.871074</td>\n",
       "      <td>0.871074</td>\n",
       "    </tr>\n",
       "  </tbody>\n",
       "</table>\n",
       "</div>"
      ],
      "text/plain": [
       "                       Model        Data  Precision    Recall  Specificity  \\\n",
       "0               RF not tuned  Validation   0.973419  0.952119     0.841153   \n",
       "0               RF not tuned        Test   0.973543  0.951950     0.841898   \n",
       "0                RF TF tuned  Validation   0.974049  0.953321     0.844823   \n",
       "0                RF TF tuned        Test   0.973053  0.952765     0.838752   \n",
       "0  RF TF and Algorithm tuned  Validation   0.970553  0.960142     0.822018   \n",
       "0  RF TF and Algorithm tuned        Test   0.971241  0.959157     0.826429   \n",
       "0           XGBost not tuned  Validation   0.965590  0.946285     0.793971   \n",
       "0           XGBost not tuned        Test   0.966637  0.943455     0.800996   \n",
       "0            XGBost TF tuned  Validation   0.965689  0.947915     0.794233   \n",
       "\n",
       "   F1-score  Accuracy  Bal Accuracy       AUC  \n",
       "0  0.962651  0.936511      0.896636  0.896636  \n",
       "0  0.962626  0.936475      0.896924  0.896924  \n",
       "0  0.963573  0.938060      0.899072  0.899072  \n",
       "0  0.962802  0.936733      0.895758  0.895758  \n",
       "0  0.965319  0.940715      0.891080  0.891080  \n",
       "0  0.965161  0.940493      0.892793  0.892793  \n",
       "0  0.955840  0.924861      0.870128  0.870128  \n",
       "0  0.954906  0.923423      0.872226  0.872226  \n",
       "0  0.956719  0.926299      0.871074  0.871074  "
      ]
     },
     "execution_count": 48,
     "metadata": {},
     "output_type": "execute_result"
    }
   ],
   "source": [
    "sc = calc_binary_class_metrics(y_val_ks, xb_tf_tune_pred, 'XGBost TF tuned', 'Validation')\n",
    "results_score = results_score.append(sc)\n",
    "results_score"
   ]
  },
  {
   "cell_type": "markdown",
   "metadata": {},
   "source": [
    "Evaulated on the **test data** - keyword search labelled."
   ]
  },
  {
   "cell_type": "code",
   "execution_count": 49,
   "metadata": {},
   "outputs": [
    {
     "name": "stdout",
     "output_type": "stream",
     "text": [
      "Accuracy on test data: \n",
      " 0.9245658666076761\n",
      "Classification report: \n",
      "               precision    recall  f1-score   support\n",
      "\n",
      "           0       0.70      0.80      0.75      3814\n",
      "           1       0.97      0.95      0.96     23309\n",
      "\n",
      "    accuracy                           0.92     27123\n",
      "   macro avg       0.84      0.87      0.85     27123\n",
      "weighted avg       0.93      0.92      0.93     27123\n",
      "\n",
      "Confusion Matrix test: \n",
      "[[ 3043   771]\n",
      " [ 1275 22034]]\n"
     ]
    }
   ],
   "source": [
    "random.seed(2)\n",
    "xb_tf_tune_pred_test = xb_tf_tune.predict(X_test_ks_tf_tune_xb)\n",
    "print(\"Accuracy on test data: \\n\",metrics.accuracy_score(y_test_ks, xb_tf_tune_pred_test))\n",
    "print(\"Classification report: \\n\",metrics.classification_report(y_test_ks, xb_tf_tune_pred_test))\n",
    "print('Confusion Matrix test: \\n' + str(metrics.confusion_matrix(y_test_ks, xb_tf_tune_pred_test)))"
   ]
  },
  {
   "cell_type": "code",
   "execution_count": 50,
   "metadata": {},
   "outputs": [
    {
     "data": {
      "text/html": [
       "<div>\n",
       "<style scoped>\n",
       "    .dataframe tbody tr th:only-of-type {\n",
       "        vertical-align: middle;\n",
       "    }\n",
       "\n",
       "    .dataframe tbody tr th {\n",
       "        vertical-align: top;\n",
       "    }\n",
       "\n",
       "    .dataframe thead th {\n",
       "        text-align: right;\n",
       "    }\n",
       "</style>\n",
       "<table border=\"1\" class=\"dataframe\">\n",
       "  <thead>\n",
       "    <tr style=\"text-align: right;\">\n",
       "      <th></th>\n",
       "      <th>Model</th>\n",
       "      <th>Data</th>\n",
       "      <th>Precision</th>\n",
       "      <th>Recall</th>\n",
       "      <th>Specificity</th>\n",
       "      <th>F1-score</th>\n",
       "      <th>Accuracy</th>\n",
       "      <th>Bal Accuracy</th>\n",
       "      <th>AUC</th>\n",
       "    </tr>\n",
       "  </thead>\n",
       "  <tbody>\n",
       "    <tr>\n",
       "      <th>0</th>\n",
       "      <td>RF not tuned</td>\n",
       "      <td>Validation</td>\n",
       "      <td>0.973419</td>\n",
       "      <td>0.952119</td>\n",
       "      <td>0.841153</td>\n",
       "      <td>0.962651</td>\n",
       "      <td>0.936511</td>\n",
       "      <td>0.896636</td>\n",
       "      <td>0.896636</td>\n",
       "    </tr>\n",
       "    <tr>\n",
       "      <th>0</th>\n",
       "      <td>RF not tuned</td>\n",
       "      <td>Test</td>\n",
       "      <td>0.973543</td>\n",
       "      <td>0.951950</td>\n",
       "      <td>0.841898</td>\n",
       "      <td>0.962626</td>\n",
       "      <td>0.936475</td>\n",
       "      <td>0.896924</td>\n",
       "      <td>0.896924</td>\n",
       "    </tr>\n",
       "    <tr>\n",
       "      <th>0</th>\n",
       "      <td>RF TF tuned</td>\n",
       "      <td>Validation</td>\n",
       "      <td>0.974049</td>\n",
       "      <td>0.953321</td>\n",
       "      <td>0.844823</td>\n",
       "      <td>0.963573</td>\n",
       "      <td>0.938060</td>\n",
       "      <td>0.899072</td>\n",
       "      <td>0.899072</td>\n",
       "    </tr>\n",
       "    <tr>\n",
       "      <th>0</th>\n",
       "      <td>RF TF tuned</td>\n",
       "      <td>Test</td>\n",
       "      <td>0.973053</td>\n",
       "      <td>0.952765</td>\n",
       "      <td>0.838752</td>\n",
       "      <td>0.962802</td>\n",
       "      <td>0.936733</td>\n",
       "      <td>0.895758</td>\n",
       "      <td>0.895758</td>\n",
       "    </tr>\n",
       "    <tr>\n",
       "      <th>0</th>\n",
       "      <td>RF TF and Algorithm tuned</td>\n",
       "      <td>Validation</td>\n",
       "      <td>0.970553</td>\n",
       "      <td>0.960142</td>\n",
       "      <td>0.822018</td>\n",
       "      <td>0.965319</td>\n",
       "      <td>0.940715</td>\n",
       "      <td>0.891080</td>\n",
       "      <td>0.891080</td>\n",
       "    </tr>\n",
       "    <tr>\n",
       "      <th>0</th>\n",
       "      <td>RF TF and Algorithm tuned</td>\n",
       "      <td>Test</td>\n",
       "      <td>0.971241</td>\n",
       "      <td>0.959157</td>\n",
       "      <td>0.826429</td>\n",
       "      <td>0.965161</td>\n",
       "      <td>0.940493</td>\n",
       "      <td>0.892793</td>\n",
       "      <td>0.892793</td>\n",
       "    </tr>\n",
       "    <tr>\n",
       "      <th>0</th>\n",
       "      <td>XGBost not tuned</td>\n",
       "      <td>Validation</td>\n",
       "      <td>0.965590</td>\n",
       "      <td>0.946285</td>\n",
       "      <td>0.793971</td>\n",
       "      <td>0.955840</td>\n",
       "      <td>0.924861</td>\n",
       "      <td>0.870128</td>\n",
       "      <td>0.870128</td>\n",
       "    </tr>\n",
       "    <tr>\n",
       "      <th>0</th>\n",
       "      <td>XGBost not tuned</td>\n",
       "      <td>Test</td>\n",
       "      <td>0.966637</td>\n",
       "      <td>0.943455</td>\n",
       "      <td>0.800996</td>\n",
       "      <td>0.954906</td>\n",
       "      <td>0.923423</td>\n",
       "      <td>0.872226</td>\n",
       "      <td>0.872226</td>\n",
       "    </tr>\n",
       "    <tr>\n",
       "      <th>0</th>\n",
       "      <td>XGBost TF tuned</td>\n",
       "      <td>Validation</td>\n",
       "      <td>0.965689</td>\n",
       "      <td>0.947915</td>\n",
       "      <td>0.794233</td>\n",
       "      <td>0.956719</td>\n",
       "      <td>0.926299</td>\n",
       "      <td>0.871074</td>\n",
       "      <td>0.871074</td>\n",
       "    </tr>\n",
       "    <tr>\n",
       "      <th>0</th>\n",
       "      <td>XGBost TF tuned</td>\n",
       "      <td>Test</td>\n",
       "      <td>0.966192</td>\n",
       "      <td>0.945300</td>\n",
       "      <td>0.797850</td>\n",
       "      <td>0.955632</td>\n",
       "      <td>0.924566</td>\n",
       "      <td>0.871575</td>\n",
       "      <td>0.871575</td>\n",
       "    </tr>\n",
       "  </tbody>\n",
       "</table>\n",
       "</div>"
      ],
      "text/plain": [
       "                       Model        Data  Precision    Recall  Specificity  \\\n",
       "0               RF not tuned  Validation   0.973419  0.952119     0.841153   \n",
       "0               RF not tuned        Test   0.973543  0.951950     0.841898   \n",
       "0                RF TF tuned  Validation   0.974049  0.953321     0.844823   \n",
       "0                RF TF tuned        Test   0.973053  0.952765     0.838752   \n",
       "0  RF TF and Algorithm tuned  Validation   0.970553  0.960142     0.822018   \n",
       "0  RF TF and Algorithm tuned        Test   0.971241  0.959157     0.826429   \n",
       "0           XGBost not tuned  Validation   0.965590  0.946285     0.793971   \n",
       "0           XGBost not tuned        Test   0.966637  0.943455     0.800996   \n",
       "0            XGBost TF tuned  Validation   0.965689  0.947915     0.794233   \n",
       "0            XGBost TF tuned        Test   0.966192  0.945300     0.797850   \n",
       "\n",
       "   F1-score  Accuracy  Bal Accuracy       AUC  \n",
       "0  0.962651  0.936511      0.896636  0.896636  \n",
       "0  0.962626  0.936475      0.896924  0.896924  \n",
       "0  0.963573  0.938060      0.899072  0.899072  \n",
       "0  0.962802  0.936733      0.895758  0.895758  \n",
       "0  0.965319  0.940715      0.891080  0.891080  \n",
       "0  0.965161  0.940493      0.892793  0.892793  \n",
       "0  0.955840  0.924861      0.870128  0.870128  \n",
       "0  0.954906  0.923423      0.872226  0.872226  \n",
       "0  0.956719  0.926299      0.871074  0.871074  \n",
       "0  0.955632  0.924566      0.871575  0.871575  "
      ]
     },
     "execution_count": 50,
     "metadata": {},
     "output_type": "execute_result"
    }
   ],
   "source": [
    "sc = calc_binary_class_metrics(y_test_ks, xb_tf_tune_pred_test, 'XGBost TF tuned', 'Test')\n",
    "results_score = results_score.append(sc)\n",
    "results_score"
   ]
  },
  {
   "cell_type": "markdown",
   "metadata": {},
   "source": [
    "### Tune parameters XGBoost algorithm"
   ]
  },
  {
   "cell_type": "code",
   "execution_count": 51,
   "metadata": {},
   "outputs": [],
   "source": [
    "param_grid = {\n",
    "    'max_depth': [2,4,6,8,10],\n",
    "    'n_estimators': [60, 10,120,160,200, 240],\n",
    "    'learning_rate': [0.1, 0.01, 0.05, 0.009]\n",
    "}"
   ]
  },
  {
   "cell_type": "code",
   "execution_count": 52,
   "metadata": {},
   "outputs": [
    {
     "name": "stdout",
     "output_type": "stream",
     "text": [
      "Fitting 3 folds for each of 50 candidates, totalling 150 fits\n"
     ]
    },
    {
     "name": "stderr",
     "output_type": "stream",
     "text": [
      "[Parallel(n_jobs=1)]: Using backend SequentialBackend with 1 concurrent workers.\n",
      "[Parallel(n_jobs=1)]: Done 150 out of 150 | elapsed: 20.9min finished\n"
     ]
    },
    {
     "data": {
      "text/plain": [
       "RandomizedSearchCV(cv=3,\n",
       "                   estimator=XGBClassifier(base_score=None, booster=None,\n",
       "                                           colsample_bylevel=None,\n",
       "                                           colsample_bynode=None,\n",
       "                                           colsample_bytree=None, gamma=None,\n",
       "                                           gpu_id=None, importance_type='gain',\n",
       "                                           interaction_constraints=None,\n",
       "                                           learning_rate=None,\n",
       "                                           max_delta_step=None, max_depth=None,\n",
       "                                           min_child_weight=None, missing=nan,\n",
       "                                           monotone_constraints=None,\n",
       "                                           n_estimators=100, n_jobs=-1,\n",
       "                                           num_parallel_tree=None,\n",
       "                                           random_state=None, reg_alpha=None,\n",
       "                                           reg_lambda=None,\n",
       "                                           scale_pos_weight=None,\n",
       "                                           subsample=None, tree_method=None,\n",
       "                                           validate_parameters=None,\n",
       "                                           verbosity=None),\n",
       "                   n_iter=50,\n",
       "                   param_distributions={'learning_rate': [0.1, 0.01, 0.05,\n",
       "                                                          0.009],\n",
       "                                        'max_depth': [2, 4, 6, 8, 10],\n",
       "                                        'n_estimators': [60, 10, 120, 160, 200,\n",
       "                                                         240]},\n",
       "                   scoring='accuracy', verbose=1)"
      ]
     },
     "execution_count": 52,
     "metadata": {},
     "output_type": "execute_result"
    }
   ],
   "source": [
    "random.seed(2)\n",
    "xb = xgb.XGBClassifier(objective = 'binary:logistic', n_jobs=-1)\n",
    "\n",
    "\n",
    "\n",
    "# Definition of the random search\n",
    "random_search = RandomizedSearchCV(estimator=xb,\n",
    "                                   param_distributions=param_grid,\n",
    "                                   n_iter=50,\n",
    "                                   scoring='accuracy',\n",
    "                                   cv=3, \n",
    "                                   verbose=1)\n",
    "\n",
    "# Fit the random search model\n",
    "random_search.fit(X_val_ks_tf_tune_xb, y_val_ks)"
   ]
  },
  {
   "cell_type": "markdown",
   "metadata": {},
   "source": [
    "Train with the model tuned."
   ]
  },
  {
   "cell_type": "code",
   "execution_count": 53,
   "metadata": {},
   "outputs": [
    {
     "name": "stdout",
     "output_type": "stream",
     "text": [
      "Accuracy on validation data: \n",
      " 0.9359952807580283\n",
      "Classification report: \n",
      "               precision    recall  f1-score   support\n",
      "\n",
      "           0       0.75      0.81      0.78      3815\n",
      "           1       0.97      0.96      0.96     23308\n",
      "\n",
      "    accuracy                           0.94     27123\n",
      "   macro avg       0.86      0.88      0.87     27123\n",
      "weighted avg       0.94      0.94      0.94     27123\n",
      "\n",
      "Confusion Matrix validation: \n",
      "[[ 3088   727]\n",
      " [ 1009 22299]]\n"
     ]
    }
   ],
   "source": [
    "random.seed(2)\n",
    "xb_both_tune = random_search.best_estimator_\n",
    "xb_both_tune.fit(X_train_ks_tf_tune_bal_xb, y_train_ks_tf_tune_bal_xb)\n",
    "xb_both_tune_pred = xb_both_tune.predict(X_val_ks_tf_tune_xb)\n",
    "\n",
    "\n",
    "print(\"Accuracy on validation data: \\n\",metrics.accuracy_score(y_val_ks, xb_both_tune_pred))\n",
    "print(\"Classification report: \\n\",metrics.classification_report(y_val_ks, xb_both_tune_pred))\n",
    "print('Confusion Matrix validation: \\n' + str(metrics.confusion_matrix(y_val_ks, xb_both_tune_pred)))"
   ]
  },
  {
   "cell_type": "code",
   "execution_count": 54,
   "metadata": {},
   "outputs": [
    {
     "data": {
      "text/html": [
       "<div>\n",
       "<style scoped>\n",
       "    .dataframe tbody tr th:only-of-type {\n",
       "        vertical-align: middle;\n",
       "    }\n",
       "\n",
       "    .dataframe tbody tr th {\n",
       "        vertical-align: top;\n",
       "    }\n",
       "\n",
       "    .dataframe thead th {\n",
       "        text-align: right;\n",
       "    }\n",
       "</style>\n",
       "<table border=\"1\" class=\"dataframe\">\n",
       "  <thead>\n",
       "    <tr style=\"text-align: right;\">\n",
       "      <th></th>\n",
       "      <th>Model</th>\n",
       "      <th>Data</th>\n",
       "      <th>Precision</th>\n",
       "      <th>Recall</th>\n",
       "      <th>Specificity</th>\n",
       "      <th>F1-score</th>\n",
       "      <th>Accuracy</th>\n",
       "      <th>Bal Accuracy</th>\n",
       "      <th>AUC</th>\n",
       "    </tr>\n",
       "  </thead>\n",
       "  <tbody>\n",
       "    <tr>\n",
       "      <th>0</th>\n",
       "      <td>RF not tuned</td>\n",
       "      <td>Validation</td>\n",
       "      <td>0.973419</td>\n",
       "      <td>0.952119</td>\n",
       "      <td>0.841153</td>\n",
       "      <td>0.962651</td>\n",
       "      <td>0.936511</td>\n",
       "      <td>0.896636</td>\n",
       "      <td>0.896636</td>\n",
       "    </tr>\n",
       "    <tr>\n",
       "      <th>0</th>\n",
       "      <td>RF not tuned</td>\n",
       "      <td>Test</td>\n",
       "      <td>0.973543</td>\n",
       "      <td>0.951950</td>\n",
       "      <td>0.841898</td>\n",
       "      <td>0.962626</td>\n",
       "      <td>0.936475</td>\n",
       "      <td>0.896924</td>\n",
       "      <td>0.896924</td>\n",
       "    </tr>\n",
       "    <tr>\n",
       "      <th>0</th>\n",
       "      <td>RF TF tuned</td>\n",
       "      <td>Validation</td>\n",
       "      <td>0.974049</td>\n",
       "      <td>0.953321</td>\n",
       "      <td>0.844823</td>\n",
       "      <td>0.963573</td>\n",
       "      <td>0.938060</td>\n",
       "      <td>0.899072</td>\n",
       "      <td>0.899072</td>\n",
       "    </tr>\n",
       "    <tr>\n",
       "      <th>0</th>\n",
       "      <td>RF TF tuned</td>\n",
       "      <td>Test</td>\n",
       "      <td>0.973053</td>\n",
       "      <td>0.952765</td>\n",
       "      <td>0.838752</td>\n",
       "      <td>0.962802</td>\n",
       "      <td>0.936733</td>\n",
       "      <td>0.895758</td>\n",
       "      <td>0.895758</td>\n",
       "    </tr>\n",
       "    <tr>\n",
       "      <th>0</th>\n",
       "      <td>RF TF and Algorithm tuned</td>\n",
       "      <td>Validation</td>\n",
       "      <td>0.970553</td>\n",
       "      <td>0.960142</td>\n",
       "      <td>0.822018</td>\n",
       "      <td>0.965319</td>\n",
       "      <td>0.940715</td>\n",
       "      <td>0.891080</td>\n",
       "      <td>0.891080</td>\n",
       "    </tr>\n",
       "    <tr>\n",
       "      <th>0</th>\n",
       "      <td>RF TF and Algorithm tuned</td>\n",
       "      <td>Test</td>\n",
       "      <td>0.971241</td>\n",
       "      <td>0.959157</td>\n",
       "      <td>0.826429</td>\n",
       "      <td>0.965161</td>\n",
       "      <td>0.940493</td>\n",
       "      <td>0.892793</td>\n",
       "      <td>0.892793</td>\n",
       "    </tr>\n",
       "    <tr>\n",
       "      <th>0</th>\n",
       "      <td>XGBost not tuned</td>\n",
       "      <td>Validation</td>\n",
       "      <td>0.965590</td>\n",
       "      <td>0.946285</td>\n",
       "      <td>0.793971</td>\n",
       "      <td>0.955840</td>\n",
       "      <td>0.924861</td>\n",
       "      <td>0.870128</td>\n",
       "      <td>0.870128</td>\n",
       "    </tr>\n",
       "    <tr>\n",
       "      <th>0</th>\n",
       "      <td>XGBost not tuned</td>\n",
       "      <td>Test</td>\n",
       "      <td>0.966637</td>\n",
       "      <td>0.943455</td>\n",
       "      <td>0.800996</td>\n",
       "      <td>0.954906</td>\n",
       "      <td>0.923423</td>\n",
       "      <td>0.872226</td>\n",
       "      <td>0.872226</td>\n",
       "    </tr>\n",
       "    <tr>\n",
       "      <th>0</th>\n",
       "      <td>XGBost TF tuned</td>\n",
       "      <td>Validation</td>\n",
       "      <td>0.965689</td>\n",
       "      <td>0.947915</td>\n",
       "      <td>0.794233</td>\n",
       "      <td>0.956719</td>\n",
       "      <td>0.926299</td>\n",
       "      <td>0.871074</td>\n",
       "      <td>0.871074</td>\n",
       "    </tr>\n",
       "    <tr>\n",
       "      <th>0</th>\n",
       "      <td>XGBost TF tuned</td>\n",
       "      <td>Test</td>\n",
       "      <td>0.966192</td>\n",
       "      <td>0.945300</td>\n",
       "      <td>0.797850</td>\n",
       "      <td>0.955632</td>\n",
       "      <td>0.924566</td>\n",
       "      <td>0.871575</td>\n",
       "      <td>0.871575</td>\n",
       "    </tr>\n",
       "    <tr>\n",
       "      <th>0</th>\n",
       "      <td>XGBoost TF and Algorithm tuned</td>\n",
       "      <td>Validation</td>\n",
       "      <td>0.968427</td>\n",
       "      <td>0.956710</td>\n",
       "      <td>0.809436</td>\n",
       "      <td>0.962533</td>\n",
       "      <td>0.935995</td>\n",
       "      <td>0.883073</td>\n",
       "      <td>0.883073</td>\n",
       "    </tr>\n",
       "  </tbody>\n",
       "</table>\n",
       "</div>"
      ],
      "text/plain": [
       "                            Model        Data  Precision    Recall  \\\n",
       "0                    RF not tuned  Validation   0.973419  0.952119   \n",
       "0                    RF not tuned        Test   0.973543  0.951950   \n",
       "0                     RF TF tuned  Validation   0.974049  0.953321   \n",
       "0                     RF TF tuned        Test   0.973053  0.952765   \n",
       "0       RF TF and Algorithm tuned  Validation   0.970553  0.960142   \n",
       "0       RF TF and Algorithm tuned        Test   0.971241  0.959157   \n",
       "0                XGBost not tuned  Validation   0.965590  0.946285   \n",
       "0                XGBost not tuned        Test   0.966637  0.943455   \n",
       "0                 XGBost TF tuned  Validation   0.965689  0.947915   \n",
       "0                 XGBost TF tuned        Test   0.966192  0.945300   \n",
       "0  XGBoost TF and Algorithm tuned  Validation   0.968427  0.956710   \n",
       "\n",
       "   Specificity  F1-score  Accuracy  Bal Accuracy       AUC  \n",
       "0     0.841153  0.962651  0.936511      0.896636  0.896636  \n",
       "0     0.841898  0.962626  0.936475      0.896924  0.896924  \n",
       "0     0.844823  0.963573  0.938060      0.899072  0.899072  \n",
       "0     0.838752  0.962802  0.936733      0.895758  0.895758  \n",
       "0     0.822018  0.965319  0.940715      0.891080  0.891080  \n",
       "0     0.826429  0.965161  0.940493      0.892793  0.892793  \n",
       "0     0.793971  0.955840  0.924861      0.870128  0.870128  \n",
       "0     0.800996  0.954906  0.923423      0.872226  0.872226  \n",
       "0     0.794233  0.956719  0.926299      0.871074  0.871074  \n",
       "0     0.797850  0.955632  0.924566      0.871575  0.871575  \n",
       "0     0.809436  0.962533  0.935995      0.883073  0.883073  "
      ]
     },
     "execution_count": 54,
     "metadata": {},
     "output_type": "execute_result"
    }
   ],
   "source": [
    "sc = calc_binary_class_metrics(y_val_ks, xb_both_tune_pred, 'XGBoost TF and Algorithm tuned', 'Validation')\n",
    "results_score = results_score.append(sc)\n",
    "results_score"
   ]
  },
  {
   "cell_type": "markdown",
   "metadata": {},
   "source": [
    "Evaulated on the **test data** - keyword search labelled."
   ]
  },
  {
   "cell_type": "code",
   "execution_count": 55,
   "metadata": {},
   "outputs": [
    {
     "name": "stdout",
     "output_type": "stream",
     "text": [
      "Accuracy on test data: \n",
      " 0.9349998156546104\n",
      "Classification report: \n",
      "               precision    recall  f1-score   support\n",
      "\n",
      "           0       0.75      0.81      0.78      3814\n",
      "           1       0.97      0.96      0.96     23309\n",
      "\n",
      "    accuracy                           0.93     27123\n",
      "   macro avg       0.86      0.88      0.87     27123\n",
      "weighted avg       0.94      0.93      0.94     27123\n",
      "\n",
      "Confusion Matrix test: \n",
      "[[ 3097   717]\n",
      " [ 1046 22263]]\n"
     ]
    }
   ],
   "source": [
    "random.seed(2)\n",
    "xb_both_tune_pred_test = xb_both_tune.predict(X_test_ks_tf_tune_xb)\n",
    "print(\"Accuracy on test data: \\n\",metrics.accuracy_score(y_test_ks, xb_both_tune_pred_test))\n",
    "print(\"Classification report: \\n\",metrics.classification_report(y_test_ks, xb_both_tune_pred_test))\n",
    "print('Confusion Matrix test: \\n' + str(metrics.confusion_matrix(y_test_ks, xb_both_tune_pred_test)))"
   ]
  },
  {
   "cell_type": "code",
   "execution_count": 56,
   "metadata": {},
   "outputs": [
    {
     "data": {
      "text/html": [
       "<div>\n",
       "<style scoped>\n",
       "    .dataframe tbody tr th:only-of-type {\n",
       "        vertical-align: middle;\n",
       "    }\n",
       "\n",
       "    .dataframe tbody tr th {\n",
       "        vertical-align: top;\n",
       "    }\n",
       "\n",
       "    .dataframe thead th {\n",
       "        text-align: right;\n",
       "    }\n",
       "</style>\n",
       "<table border=\"1\" class=\"dataframe\">\n",
       "  <thead>\n",
       "    <tr style=\"text-align: right;\">\n",
       "      <th></th>\n",
       "      <th>Model</th>\n",
       "      <th>Data</th>\n",
       "      <th>Precision</th>\n",
       "      <th>Recall</th>\n",
       "      <th>Specificity</th>\n",
       "      <th>F1-score</th>\n",
       "      <th>Accuracy</th>\n",
       "      <th>Bal Accuracy</th>\n",
       "      <th>AUC</th>\n",
       "    </tr>\n",
       "  </thead>\n",
       "  <tbody>\n",
       "    <tr>\n",
       "      <th>0</th>\n",
       "      <td>RF not tuned</td>\n",
       "      <td>Validation</td>\n",
       "      <td>0.973419</td>\n",
       "      <td>0.952119</td>\n",
       "      <td>0.841153</td>\n",
       "      <td>0.962651</td>\n",
       "      <td>0.936511</td>\n",
       "      <td>0.896636</td>\n",
       "      <td>0.896636</td>\n",
       "    </tr>\n",
       "    <tr>\n",
       "      <th>0</th>\n",
       "      <td>RF not tuned</td>\n",
       "      <td>Test</td>\n",
       "      <td>0.973543</td>\n",
       "      <td>0.951950</td>\n",
       "      <td>0.841898</td>\n",
       "      <td>0.962626</td>\n",
       "      <td>0.936475</td>\n",
       "      <td>0.896924</td>\n",
       "      <td>0.896924</td>\n",
       "    </tr>\n",
       "    <tr>\n",
       "      <th>0</th>\n",
       "      <td>RF TF tuned</td>\n",
       "      <td>Validation</td>\n",
       "      <td>0.974049</td>\n",
       "      <td>0.953321</td>\n",
       "      <td>0.844823</td>\n",
       "      <td>0.963573</td>\n",
       "      <td>0.938060</td>\n",
       "      <td>0.899072</td>\n",
       "      <td>0.899072</td>\n",
       "    </tr>\n",
       "    <tr>\n",
       "      <th>0</th>\n",
       "      <td>RF TF tuned</td>\n",
       "      <td>Test</td>\n",
       "      <td>0.973053</td>\n",
       "      <td>0.952765</td>\n",
       "      <td>0.838752</td>\n",
       "      <td>0.962802</td>\n",
       "      <td>0.936733</td>\n",
       "      <td>0.895758</td>\n",
       "      <td>0.895758</td>\n",
       "    </tr>\n",
       "    <tr>\n",
       "      <th>0</th>\n",
       "      <td>RF TF and Algorithm tuned</td>\n",
       "      <td>Validation</td>\n",
       "      <td>0.970553</td>\n",
       "      <td>0.960142</td>\n",
       "      <td>0.822018</td>\n",
       "      <td>0.965319</td>\n",
       "      <td>0.940715</td>\n",
       "      <td>0.891080</td>\n",
       "      <td>0.891080</td>\n",
       "    </tr>\n",
       "    <tr>\n",
       "      <th>0</th>\n",
       "      <td>RF TF and Algorithm tuned</td>\n",
       "      <td>Test</td>\n",
       "      <td>0.971241</td>\n",
       "      <td>0.959157</td>\n",
       "      <td>0.826429</td>\n",
       "      <td>0.965161</td>\n",
       "      <td>0.940493</td>\n",
       "      <td>0.892793</td>\n",
       "      <td>0.892793</td>\n",
       "    </tr>\n",
       "    <tr>\n",
       "      <th>0</th>\n",
       "      <td>XGBost not tuned</td>\n",
       "      <td>Validation</td>\n",
       "      <td>0.965590</td>\n",
       "      <td>0.946285</td>\n",
       "      <td>0.793971</td>\n",
       "      <td>0.955840</td>\n",
       "      <td>0.924861</td>\n",
       "      <td>0.870128</td>\n",
       "      <td>0.870128</td>\n",
       "    </tr>\n",
       "    <tr>\n",
       "      <th>0</th>\n",
       "      <td>XGBost not tuned</td>\n",
       "      <td>Test</td>\n",
       "      <td>0.966637</td>\n",
       "      <td>0.943455</td>\n",
       "      <td>0.800996</td>\n",
       "      <td>0.954906</td>\n",
       "      <td>0.923423</td>\n",
       "      <td>0.872226</td>\n",
       "      <td>0.872226</td>\n",
       "    </tr>\n",
       "    <tr>\n",
       "      <th>0</th>\n",
       "      <td>XGBost TF tuned</td>\n",
       "      <td>Validation</td>\n",
       "      <td>0.965689</td>\n",
       "      <td>0.947915</td>\n",
       "      <td>0.794233</td>\n",
       "      <td>0.956719</td>\n",
       "      <td>0.926299</td>\n",
       "      <td>0.871074</td>\n",
       "      <td>0.871074</td>\n",
       "    </tr>\n",
       "    <tr>\n",
       "      <th>0</th>\n",
       "      <td>XGBost TF tuned</td>\n",
       "      <td>Test</td>\n",
       "      <td>0.966192</td>\n",
       "      <td>0.945300</td>\n",
       "      <td>0.797850</td>\n",
       "      <td>0.955632</td>\n",
       "      <td>0.924566</td>\n",
       "      <td>0.871575</td>\n",
       "      <td>0.871575</td>\n",
       "    </tr>\n",
       "    <tr>\n",
       "      <th>0</th>\n",
       "      <td>XGBoost TF and Algorithm tuned</td>\n",
       "      <td>Validation</td>\n",
       "      <td>0.968427</td>\n",
       "      <td>0.956710</td>\n",
       "      <td>0.809436</td>\n",
       "      <td>0.962533</td>\n",
       "      <td>0.935995</td>\n",
       "      <td>0.883073</td>\n",
       "      <td>0.883073</td>\n",
       "    </tr>\n",
       "    <tr>\n",
       "      <th>0</th>\n",
       "      <td>XGBoost TF and Algorithm tuned</td>\n",
       "      <td>Test</td>\n",
       "      <td>0.968799</td>\n",
       "      <td>0.955125</td>\n",
       "      <td>0.812008</td>\n",
       "      <td>0.961913</td>\n",
       "      <td>0.935000</td>\n",
       "      <td>0.883567</td>\n",
       "      <td>0.883567</td>\n",
       "    </tr>\n",
       "  </tbody>\n",
       "</table>\n",
       "</div>"
      ],
      "text/plain": [
       "                            Model        Data  Precision    Recall  \\\n",
       "0                    RF not tuned  Validation   0.973419  0.952119   \n",
       "0                    RF not tuned        Test   0.973543  0.951950   \n",
       "0                     RF TF tuned  Validation   0.974049  0.953321   \n",
       "0                     RF TF tuned        Test   0.973053  0.952765   \n",
       "0       RF TF and Algorithm tuned  Validation   0.970553  0.960142   \n",
       "0       RF TF and Algorithm tuned        Test   0.971241  0.959157   \n",
       "0                XGBost not tuned  Validation   0.965590  0.946285   \n",
       "0                XGBost not tuned        Test   0.966637  0.943455   \n",
       "0                 XGBost TF tuned  Validation   0.965689  0.947915   \n",
       "0                 XGBost TF tuned        Test   0.966192  0.945300   \n",
       "0  XGBoost TF and Algorithm tuned  Validation   0.968427  0.956710   \n",
       "0  XGBoost TF and Algorithm tuned        Test   0.968799  0.955125   \n",
       "\n",
       "   Specificity  F1-score  Accuracy  Bal Accuracy       AUC  \n",
       "0     0.841153  0.962651  0.936511      0.896636  0.896636  \n",
       "0     0.841898  0.962626  0.936475      0.896924  0.896924  \n",
       "0     0.844823  0.963573  0.938060      0.899072  0.899072  \n",
       "0     0.838752  0.962802  0.936733      0.895758  0.895758  \n",
       "0     0.822018  0.965319  0.940715      0.891080  0.891080  \n",
       "0     0.826429  0.965161  0.940493      0.892793  0.892793  \n",
       "0     0.793971  0.955840  0.924861      0.870128  0.870128  \n",
       "0     0.800996  0.954906  0.923423      0.872226  0.872226  \n",
       "0     0.794233  0.956719  0.926299      0.871074  0.871074  \n",
       "0     0.797850  0.955632  0.924566      0.871575  0.871575  \n",
       "0     0.809436  0.962533  0.935995      0.883073  0.883073  \n",
       "0     0.812008  0.961913  0.935000      0.883567  0.883567  "
      ]
     },
     "execution_count": 56,
     "metadata": {},
     "output_type": "execute_result"
    }
   ],
   "source": [
    "sc = calc_binary_class_metrics(y_test_ks, xb_both_tune_pred_test, 'XGBoost TF and Algorithm tuned', 'Test')\n",
    "results_score = results_score.append(sc)\n",
    "results_score"
   ]
  },
  {
   "cell_type": "markdown",
   "metadata": {},
   "source": [
    "## The best model is achieved by the Random Forest"
   ]
  },
  {
   "cell_type": "markdown",
   "metadata": {},
   "source": [
    "Best model with the TF-IDF vectorizer tuned and with default parameters for the learning model."
   ]
  },
  {
   "cell_type": "code",
   "execution_count": 57,
   "metadata": {},
   "outputs": [],
   "source": [
    "X_test_tf = tfidf_tune.transform(X_test).toarray()"
   ]
  },
  {
   "cell_type": "markdown",
   "metadata": {},
   "source": [
    "I evaluate the model using the test data split from the manually labelled data used in the model store in that folder **project\\E_Models\\Abstracts** file name **Best_two_models_Binary_Classification_abstracts**."
   ]
  },
  {
   "cell_type": "code",
   "execution_count": 58,
   "metadata": {},
   "outputs": [
    {
     "name": "stdout",
     "output_type": "stream",
     "text": [
      "Accuracy on test data: \n",
      " 0.9487179487179487\n",
      "Classification report: \n",
      "               precision    recall  f1-score   support\n",
      "\n",
      "           0       0.80      0.57      0.67         7\n",
      "           1       0.96      0.99      0.97        71\n",
      "\n",
      "    accuracy                           0.95        78\n",
      "   macro avg       0.88      0.78      0.82        78\n",
      "weighted avg       0.94      0.95      0.94        78\n",
      "\n",
      "Confusion Matrix test: \n",
      "[[ 4  3]\n",
      " [ 1 70]]\n"
     ]
    }
   ],
   "source": [
    "best_model_pred = rf_tf_tune.predict(X_test_tf)\n",
    "print(\"Accuracy on test data: \\n\",metrics.accuracy_score(y_test, best_model_pred))\n",
    "print(\"Classification report: \\n\",metrics.classification_report(y_test, best_model_pred))\n",
    "print('Confusion Matrix test: \\n' + str(metrics.confusion_matrix(y_test, best_model_pred)))"
   ]
  },
  {
   "cell_type": "code",
   "execution_count": 59,
   "metadata": {},
   "outputs": [
    {
     "data": {
      "text/html": [
       "<div>\n",
       "<style scoped>\n",
       "    .dataframe tbody tr th:only-of-type {\n",
       "        vertical-align: middle;\n",
       "    }\n",
       "\n",
       "    .dataframe tbody tr th {\n",
       "        vertical-align: top;\n",
       "    }\n",
       "\n",
       "    .dataframe thead th {\n",
       "        text-align: right;\n",
       "    }\n",
       "</style>\n",
       "<table border=\"1\" class=\"dataframe\">\n",
       "  <thead>\n",
       "    <tr style=\"text-align: right;\">\n",
       "      <th></th>\n",
       "      <th>Model</th>\n",
       "      <th>Data</th>\n",
       "      <th>Precision</th>\n",
       "      <th>Recall</th>\n",
       "      <th>Specificity</th>\n",
       "      <th>F1-score</th>\n",
       "      <th>Accuracy</th>\n",
       "      <th>Bal Accuracy</th>\n",
       "      <th>AUC</th>\n",
       "    </tr>\n",
       "  </thead>\n",
       "  <tbody>\n",
       "    <tr>\n",
       "      <th>0</th>\n",
       "      <td>RF TF tuned</td>\n",
       "      <td>Original Test data</td>\n",
       "      <td>0.958904</td>\n",
       "      <td>0.985915</td>\n",
       "      <td>0.571429</td>\n",
       "      <td>0.972222</td>\n",
       "      <td>0.948718</td>\n",
       "      <td>0.778672</td>\n",
       "      <td>0.778672</td>\n",
       "    </tr>\n",
       "  </tbody>\n",
       "</table>\n",
       "</div>"
      ],
      "text/plain": [
       "          Model                Data  Precision    Recall  Specificity  \\\n",
       "0  RF TF tuned   Original Test data   0.958904  0.985915     0.571429   \n",
       "\n",
       "   F1-score  Accuracy  Bal Accuracy       AUC  \n",
       "0  0.972222  0.948718      0.778672  0.778672  "
      ]
     },
     "execution_count": 59,
     "metadata": {},
     "output_type": "execute_result"
    }
   ],
   "source": [
    "sc = calc_binary_class_metrics(y_test, best_model_pred, 'RF TF tuned ', 'Original Test data')\n",
    "sc"
   ]
  },
  {
   "cell_type": "code",
   "execution_count": 60,
   "metadata": {},
   "outputs": [
    {
     "data": {
      "image/png": "[encoded data removed]",
      "text/plain": [
       "<Figure size 432x360 with 2 Axes>"
      ]
     },
     "metadata": {
      "needs_background": "light"
     },
     "output_type": "display_data"
    }
   ],
   "source": [
    "db['label'] = db.label.replace(to_replace=['use claim', 'product and process'], value=['process', 'product'])\n",
    "db.groupby(by='label').count()\n",
    "#https://github.com/miguelfzafra/Latest-News-Classifier/blob/master/0.%20Latest%20News%20Classifier/04.%20Model%20Training/06.%20MT%20-%20Random%20Forest.ipynb\n",
    "aux_db = db[['label']].drop_duplicates().sort_values('label')\n",
    "conf_matrix = metrics.confusion_matrix(y_test, best_model_pred)\n",
    "plt.figure(figsize=(6,5))\n",
    "aux_db['label'] = aux_db.label.replace(to_replace=[1, 0], value=['Product', 'Process'])\n",
    "conf = sns.heatmap(conf_matrix, \n",
    "            annot=True,\n",
    "            xticklabels=aux_db['label'].values, \n",
    "            yticklabels=aux_db['label'].values,\n",
    "            cmap=\"Blues\")\n",
    "conf.set_yticklabels(conf.get_yticklabels(), rotation=360)\n",
    "plt.ylabel('True label')\n",
    "plt.xlabel('Predicted')\n",
    "plt.title('RF with TF-IDF tuned')\n",
    "plt.show()"
   ]
  },
  {
   "cell_type": "code",
   "execution_count": 61,
   "metadata": {},
   "outputs": [
    {
     "data": {
      "text/plain": [
       "{'tfidf__max_features': 400, 'tfidf__norm': 'l2', 'tfidf__sublinear_tf': True}"
      ]
     },
     "execution_count": 61,
     "metadata": {},
     "output_type": "execute_result"
    }
   ],
   "source": [
    "grid_search_tfidf.best_params_"
   ]
  },
  {
   "cell_type": "markdown",
   "metadata": {},
   "source": [
    "## I will now merge both test and train dataset manually labelled and test the model if the results above only on the test data can be trustworthy."
   ]
  },
  {
   "cell_type": "markdown",
   "metadata": {},
   "source": [
    "I merge both features and targets form both train and test data"
   ]
  },
  {
   "cell_type": "code",
   "execution_count": 61,
   "metadata": {},
   "outputs": [],
   "source": [
    "features_X = [X_train, X_test]\n",
    "features_X = pd.concat(features_X)\n",
    "targets_y = [y_train, y_test]\n",
    "targets_y = pd.concat(targets_y)"
   ]
  },
  {
   "cell_type": "markdown",
   "metadata": {},
   "source": [
    "I use the TF-IDF vectorizer tuned for the best model."
   ]
  },
  {
   "cell_type": "code",
   "execution_count": 62,
   "metadata": {},
   "outputs": [],
   "source": [
    "features_X_tf = tfidf_tune.transform(features_X).toarray()"
   ]
  },
  {
   "cell_type": "markdown",
   "metadata": {},
   "source": [
    "I run the model on the whole labelled data."
   ]
  },
  {
   "cell_type": "code",
   "execution_count": 63,
   "metadata": {},
   "outputs": [
    {
     "name": "stdout",
     "output_type": "stream",
     "text": [
      "Accuracy on test data: \n",
      " 0.9123711340206185\n",
      "Classification report: \n",
      "               precision    recall  f1-score   support\n",
      "\n",
      "           0       0.50      0.59      0.54        17\n",
      "           1       0.96      0.94      0.95       177\n",
      "\n",
      "    accuracy                           0.91       194\n",
      "   macro avg       0.73      0.77      0.75       194\n",
      "weighted avg       0.92      0.91      0.92       194\n",
      "\n",
      "Confusion Matrix test: \n",
      "[[ 10   7]\n",
      " [ 10 167]]\n"
     ]
    }
   ],
   "source": [
    "best_model_pred_X_y = rf_tf_tune.predict(features_X_tf)\n",
    "print(\"Accuracy on test data: \\n\",metrics.accuracy_score(targets_y, best_model_pred_X_y))\n",
    "print(\"Classification report: \\n\",metrics.classification_report(targets_y, best_model_pred_X_y))\n",
    "print('Confusion Matrix test: \\n' + str(metrics.confusion_matrix(targets_y, best_model_pred_X_y)))"
   ]
  },
  {
   "cell_type": "code",
   "execution_count": 64,
   "metadata": {},
   "outputs": [
    {
     "data": {
      "text/html": [
       "<div>\n",
       "<style scoped>\n",
       "    .dataframe tbody tr th:only-of-type {\n",
       "        vertical-align: middle;\n",
       "    }\n",
       "\n",
       "    .dataframe tbody tr th {\n",
       "        vertical-align: top;\n",
       "    }\n",
       "\n",
       "    .dataframe thead th {\n",
       "        text-align: right;\n",
       "    }\n",
       "</style>\n",
       "<table border=\"1\" class=\"dataframe\">\n",
       "  <thead>\n",
       "    <tr style=\"text-align: right;\">\n",
       "      <th></th>\n",
       "      <th>Model</th>\n",
       "      <th>Data</th>\n",
       "      <th>Precision</th>\n",
       "      <th>Recall</th>\n",
       "      <th>Specificity</th>\n",
       "      <th>F1-score</th>\n",
       "      <th>Accuracy</th>\n",
       "      <th>Bal Accuracy</th>\n",
       "      <th>AUC</th>\n",
       "    </tr>\n",
       "  </thead>\n",
       "  <tbody>\n",
       "    <tr>\n",
       "      <th>0</th>\n",
       "      <td>RF TF tuned</td>\n",
       "      <td>Original Labelled Data</td>\n",
       "      <td>0.95977</td>\n",
       "      <td>0.943503</td>\n",
       "      <td>0.588235</td>\n",
       "      <td>0.951567</td>\n",
       "      <td>0.912371</td>\n",
       "      <td>0.765869</td>\n",
       "      <td>0.765869</td>\n",
       "    </tr>\n",
       "  </tbody>\n",
       "</table>\n",
       "</div>"
      ],
      "text/plain": [
       "          Model                    Data  Precision    Recall  Specificity  \\\n",
       "0  RF TF tuned   Original Labelled Data    0.95977  0.943503     0.588235   \n",
       "\n",
       "   F1-score  Accuracy  Bal Accuracy       AUC  \n",
       "0  0.951567  0.912371      0.765869  0.765869  "
      ]
     },
     "execution_count": 64,
     "metadata": {},
     "output_type": "execute_result"
    }
   ],
   "source": [
    "sc = calc_binary_class_metrics(targets_y, best_model_pred_X_y, 'RF TF tuned ', 'Original Labelled Data')\n",
    "sc"
   ]
  },
  {
   "cell_type": "code",
   "execution_count": 62,
   "metadata": {},
   "outputs": [],
   "source": [
    "#save the model\n",
    "with open(ospath('~/final_project/Z_Best_models_saved/Abstracts/Best_Binary_Keyword_model.pickle.pickle'), 'wb') as model:\n",
    "    pickle.dump(rf_tf_tune, model)\n",
    "    \n",
    "#save tf-df fitted vectorizer to use for the best model\n",
    "with open(ospath('~/final_project/Z_Best_models_saved/Abstracts/Best_tf_idf_for_Binary_Keyword_model.pickle'), 'wb') as model:\n",
    "    pickle.dump(tfidf_tune, model)"
   ]
  },
  {
   "cell_type": "code",
   "execution_count": null,
   "metadata": {},
   "outputs": [],
   "source": []
  }
 ],
 "metadata": {
  "kernelspec": {
   "display_name": "Python 3",
   "language": "python",
   "name": "python3"
  },
  "language_info": {
   "codemirror_mode": {
    "name": "ipython",
    "version": 3
   },
   "file_extension": ".py",
   "mimetype": "text/x-python",
   "name": "python",
   "nbconvert_exporter": "python",
   "pygments_lexer": "ipython3",
   "version": "3.7.6"
  }
 },
 "nbformat": 4,
 "nbformat_minor": 4
}
