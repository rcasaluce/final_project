{
 "cells": [
  {
   "cell_type": "code",
   "execution_count": 1,
   "metadata": {},
   "outputs": [],
   "source": [
    "import random\n",
    "from numpy.random import seed\n",
    "seed(3)\n",
    "import numpy as np\n",
    "np.random.default_rng\n",
    "import warnings\n",
    "warnings.filterwarnings(\"ignore\")\n",
    "import pandas as pd\n",
    "from pandas import read_csv\n",
    "%matplotlib inline\n",
    "import matplotlib.pyplot as plt\n",
    "import seaborn as sns\n",
    "import pickle\n",
    "from os.path import expanduser as ospath\n",
    "import time\n",
    "import os\n",
    "os.chdir(\"C:/Users/rober/project/B_Data_pre_processing/My_functions\")\n",
    "from B_pre_processing_data import pre_process_db\n",
    "from A_merge_datasets import merge_select_columns\n",
    "from C_metrics_binary import calc_binary_class_metrics\n",
    "os.chdir(\"C:/Users/rober/project/F_Extra_Experiments_Abstracts\")\n",
    "\n",
    "import xgboost as xgb\n",
    "from sklearn.pipeline import Pipeline, FeatureUnion, make_pipeline\n",
    "from sklearn.model_selection import KFold,GridSearchCV, cross_val_score, train_test_split, RandomizedSearchCV\n",
    "from sklearn.ensemble import RandomForestClassifier\n",
    "from sklearn.linear_model import LogisticRegression\n",
    "from sklearn import metrics\n",
    "from sklearn.multiclass import OneVsRestClassifier\n",
    "from sklearn.feature_extraction.text import TfidfVectorizer\n",
    "from imblearn.over_sampling import SMOTE\n",
    "from collections import Counter\n",
    "\n",
    "from gensim.models import Word2Vec\n",
    "import gensim"
   ]
  },
  {
   "cell_type": "markdown",
   "metadata": {},
   "source": [
    "# Steps:\n",
    "\n",
    ">1. Load Pickle Files\n",
    ">2. Prepare the data to be augmented\n",
    ">3. Data augmentation only for the minority class\n",
    ">4. Data augmentation on both classes"
   ]
  },
  {
   "cell_type": "markdown",
   "metadata": {},
   "source": [
    "## 1. Load Pickle Files"
   ]
  },
  {
   "cell_type": "code",
   "execution_count": 2,
   "metadata": {},
   "outputs": [],
   "source": [
    "with open(ospath('~/final_project/E_Models/Abstracts/Pickle_Files/X_test_abstracts.pickle'), 'rb') as data:\n",
    "    X_test = pickle.load(data)\n",
    "    \n",
    "with open(ospath('~/final_project/E_Models/Abstracts/Pickle_Files/y_test_abstracts.pickle'), 'rb') as data:\n",
    "    y_test = pickle.load(data)"
   ]
  },
  {
   "cell_type": "code",
   "execution_count": 3,
   "metadata": {},
   "outputs": [],
   "source": [
    "with open(ospath('~/final_project/E_Models/Abstracts/Pickle_Files/X_train_abstracts.pickle'), 'rb') as data:\n",
    "    X_train = pickle.load(data)\n",
    "    \n",
    "with open(ospath('~/final_project/E_Models/Abstracts/Pickle_Files/y_train_abstracts.pickle'), 'rb') as data:\n",
    "    y_train = pickle.load(data)"
   ]
  },
  {
   "cell_type": "code",
   "execution_count": 4,
   "metadata": {},
   "outputs": [],
   "source": [
    "with open(ospath('~/final_project/B_Data_pre_processing/Pickle_Files/Abstracts_cleaned.pickle'), 'rb') as data:\n",
    "    db = pickle.load(data)"
   ]
  },
  {
   "cell_type": "code",
   "execution_count": 5,
   "metadata": {},
   "outputs": [],
   "source": [
    "with open(ospath('~/final_project/E_Models/Abstracts/Pickle_Files/xgb_model_abstracts.pickle'), 'rb') as data:\n",
    "    xgb_fitted = pickle.load(data)"
   ]
  },
  {
   "cell_type": "markdown",
   "metadata": {},
   "source": [
    "## 2. Prepare the data to be augmented"
   ]
  },
  {
   "cell_type": "code",
   "execution_count": 6,
   "metadata": {},
   "outputs": [],
   "source": [
    "X_train_db = pd.DataFrame(X_train)\n",
    "y_train_db = pd.DataFrame(y_train)\n",
    "X_y_train_db = pd.concat([y_train_db,X_train_db], axis=1)\n",
    "X_y_train_product = X_y_train_db[X_y_train_db['label'] == 1]\n",
    "X_y_train_process = X_y_train_db[X_y_train_db['label'] == 0]"
   ]
  },
  {
   "cell_type": "code",
   "execution_count": 7,
   "metadata": {},
   "outputs": [
    {
     "name": "stdout",
     "output_type": "stream",
     "text": [
      "Data shape Features only labelled as product/product and process: \n",
      " (106, 2)\n",
      "Data shape Features only labelled as process/use claim: \n",
      " (10, 2)\n"
     ]
    }
   ],
   "source": [
    "print('Data shape Features only labelled as product/product and process: \\n',X_y_train_product.shape)\n",
    "print('Data shape Features only labelled as process/use claim: \\n',X_y_train_process.shape)"
   ]
  },
  {
   "cell_type": "markdown",
   "metadata": {},
   "source": [
    "Initialisation dataset to store all the results"
   ]
  },
  {
   "cell_type": "code",
   "execution_count": 8,
   "metadata": {},
   "outputs": [],
   "source": [
    "results_score = pd.DataFrame()"
   ]
  },
  {
   "cell_type": "markdown",
   "metadata": {},
   "source": [
    "## 3. Data augmentation only for the minority class\n",
    "Parameters set to: num_aug = 11 and alpha = 0.05"
   ]
  },
  {
   "cell_type": "code",
   "execution_count": 9,
   "metadata": {},
   "outputs": [],
   "source": [
    "with open(ospath('~/final_project/F_Extra_Experiments_Abstracts/Data_for_augmentation/X_process.txt'), 'w' , encoding=\"utf-8\") as file:\n",
    "    for lab, text in zip(X_y_train_process['label'],X_y_train_process['text_clean']) :\n",
    "        file.write(str(lab))\n",
    "        file.write(\"\\t\")\n",
    "        file.write(text)\n",
    "        file.write(\"\\n\")"
   ]
  },
  {
   "cell_type": "code",
   "execution_count": 10,
   "metadata": {},
   "outputs": [
    {
     "data": {
      "text/html": [
       "<div>\n",
       "<style scoped>\n",
       "    .dataframe tbody tr th:only-of-type {\n",
       "        vertical-align: middle;\n",
       "    }\n",
       "\n",
       "    .dataframe tbody tr th {\n",
       "        vertical-align: top;\n",
       "    }\n",
       "\n",
       "    .dataframe thead th {\n",
       "        text-align: right;\n",
       "    }\n",
       "</style>\n",
       "<table border=\"1\" class=\"dataframe\">\n",
       "  <thead>\n",
       "    <tr style=\"text-align: right;\">\n",
       "      <th></th>\n",
       "      <th>label</th>\n",
       "      <th>text_clean</th>\n",
       "    </tr>\n",
       "  </thead>\n",
       "  <tbody>\n",
       "    <tr>\n",
       "      <th>104</th>\n",
       "      <td>0</td>\n",
       "      <td>process produce solid nanocomposite particles ...</td>\n",
       "    </tr>\n",
       "    <tr>\n",
       "      <th>975</th>\n",
       "      <td>0</td>\n",
       "      <td>invention relate thin film solid state electro...</td>\n",
       "    </tr>\n",
       "    <tr>\n",
       "      <th>157</th>\n",
       "      <td>0</td>\n",
       "      <td>motor generator mg control via motor controlle...</td>\n",
       "    </tr>\n",
       "    <tr>\n",
       "      <th>537</th>\n",
       "      <td>0</td>\n",
       "      <td>method chemically modify carbon nanotubes diam...</td>\n",
       "    </tr>\n",
       "    <tr>\n",
       "      <th>288</th>\n",
       "      <td>0</td>\n",
       "      <td>method modify surface carbon materials vapor g...</td>\n",
       "    </tr>\n",
       "    <tr>\n",
       "      <th>779</th>\n",
       "      <td>0</td>\n",
       "      <td>method form electrolytic capacitor disclose me...</td>\n",
       "    </tr>\n",
       "    <tr>\n",
       "      <th>64</th>\n",
       "      <td>0</td>\n",
       "      <td>process include suspend electroactive material...</td>\n",
       "    </tr>\n",
       "    <tr>\n",
       "      <th>1318</th>\n",
       "      <td>0</td>\n",
       "      <td>pattern conduct polymer surface exhibit excell...</td>\n",
       "    </tr>\n",
       "    <tr>\n",
       "      <th>255</th>\n",
       "      <td>0</td>\n",
       "      <td>methods systems disclose manage plurality powe...</td>\n",
       "    </tr>\n",
       "    <tr>\n",
       "      <th>319</th>\n",
       "      <td>0</td>\n",
       "      <td>accord method manufacture solid electrolytic c...</td>\n",
       "    </tr>\n",
       "  </tbody>\n",
       "</table>\n",
       "</div>"
      ],
      "text/plain": [
       "      label                                         text_clean\n",
       "104       0  process produce solid nanocomposite particles ...\n",
       "975       0  invention relate thin film solid state electro...\n",
       "157       0  motor generator mg control via motor controlle...\n",
       "537       0  method chemically modify carbon nanotubes diam...\n",
       "288       0  method modify surface carbon materials vapor g...\n",
       "779       0  method form electrolytic capacitor disclose me...\n",
       "64        0  process include suspend electroactive material...\n",
       "1318      0  pattern conduct polymer surface exhibit excell...\n",
       "255       0  methods systems disclose manage plurality powe...\n",
       "319       0  accord method manufacture solid electrolytic c..."
      ]
     },
     "execution_count": 10,
     "metadata": {},
     "output_type": "execute_result"
    }
   ],
   "source": [
    "X_y_train_process"
   ]
  },
  {
   "cell_type": "markdown",
   "metadata": {},
   "source": [
    "### Load the text file with the data augmented and split the features from their targets values "
   ]
  },
  {
   "cell_type": "code",
   "execution_count": 11,
   "metadata": {},
   "outputs": [],
   "source": [
    "X_process_aug = pd.read_table(ospath('~/final_project/F_Extra_Experiments_Abstracts/Data_for_augmentation/X_process_augmented.txt'), sep = '\\t', names=('label', 'text_clean'))\n",
    "X_y_train_aug = pd.concat((X_y_train_product, X_process_aug)) \n",
    "X_train_aug = X_y_train_aug['text_clean']\n",
    "y_train_aug = X_y_train_aug['label']\n",
    "tfidf = TfidfVectorizer(ngram_range = (1,2) , encoding='utf-8',sublinear_tf=True, max_features = 300, max_df=0.25, min_df=4)\n",
    "\n",
    "X_train_tf_aug = tfidf.fit_transform(X_train_aug).toarray()\n",
    "X_test_tf = tfidf.transform(X_test).toarray()"
   ]
  },
  {
   "cell_type": "markdown",
   "metadata": {},
   "source": [
    "Checks frequency of each class after the data augmentation"
   ]
  },
  {
   "cell_type": "code",
   "execution_count": 12,
   "metadata": {},
   "outputs": [
    {
     "data": {
      "text/plain": [
       "0    120\n",
       "1    106\n",
       "Name: label, dtype: int64"
      ]
     },
     "execution_count": 12,
     "metadata": {},
     "output_type": "execute_result"
    }
   ],
   "source": [
    "y_train_aug.value_counts()"
   ]
  },
  {
   "cell_type": "markdown",
   "metadata": {},
   "source": [
    "### First, I run the best model loaded with Pickle file"
   ]
  },
  {
   "cell_type": "markdown",
   "metadata": {},
   "source": [
    "I try first with the binary classification model already trained and loaded here - **project\\E_Models\\Abstracts**"
   ]
  },
  {
   "cell_type": "code",
   "execution_count": 13,
   "metadata": {},
   "outputs": [
    {
     "name": "stdout",
     "output_type": "stream",
     "text": [
      "Accuracy on the test data: \n",
      "0.9102564102564102\n",
      "Classification report\n",
      "              precision    recall  f1-score   support\n",
      "\n",
      "           0       0.50      0.14      0.22         7\n",
      "           1       0.92      0.99      0.95        71\n",
      "\n",
      "    accuracy                           0.91        78\n",
      "   macro avg       0.71      0.56      0.59        78\n",
      "weighted avg       0.88      0.91      0.89        78\n",
      "\n",
      "Confusion Matrix : \n",
      "[[ 1  6]\n",
      " [ 1 70]]\n"
     ]
    }
   ],
   "source": [
    "random.seed(3)\n",
    "xgb_fitted.fit(X_train_tf_aug, y_train_aug)\n",
    "xbg_fitted_pred = xgb_fitted.predict(X_test_tf)\n",
    "\n",
    "print(\"Accuracy on the test data: \")\n",
    "print(metrics.accuracy_score(y_test, xbg_fitted_pred))\n",
    "print(\"Classification report\")\n",
    "print(metrics.classification_report(y_test, xbg_fitted_pred))\n",
    "print('Confusion Matrix : ')\n",
    "print(metrics.confusion_matrix(y_test, xbg_fitted_pred))"
   ]
  },
  {
   "cell_type": "code",
   "execution_count": 14,
   "metadata": {},
   "outputs": [
    {
     "data": {
      "text/html": [
       "<div>\n",
       "<style scoped>\n",
       "    .dataframe tbody tr th:only-of-type {\n",
       "        vertical-align: middle;\n",
       "    }\n",
       "\n",
       "    .dataframe tbody tr th {\n",
       "        vertical-align: top;\n",
       "    }\n",
       "\n",
       "    .dataframe thead th {\n",
       "        text-align: right;\n",
       "    }\n",
       "</style>\n",
       "<table border=\"1\" class=\"dataframe\">\n",
       "  <thead>\n",
       "    <tr style=\"text-align: right;\">\n",
       "      <th></th>\n",
       "      <th>Model</th>\n",
       "      <th>Data</th>\n",
       "      <th>Precision</th>\n",
       "      <th>Recall</th>\n",
       "      <th>Specificity</th>\n",
       "      <th>F1-score</th>\n",
       "      <th>Accuracy</th>\n",
       "      <th>Bal Accuracy</th>\n",
       "      <th>AUC</th>\n",
       "    </tr>\n",
       "  </thead>\n",
       "  <tbody>\n",
       "    <tr>\n",
       "      <th>0</th>\n",
       "      <td>Orig. XB fitted</td>\n",
       "      <td>1 class, n=11, a=0.05</td>\n",
       "      <td>0.921053</td>\n",
       "      <td>0.985915</td>\n",
       "      <td>0.142857</td>\n",
       "      <td>0.952381</td>\n",
       "      <td>0.910256</td>\n",
       "      <td>0.564386</td>\n",
       "      <td>0.564386</td>\n",
       "    </tr>\n",
       "  </tbody>\n",
       "</table>\n",
       "</div>"
      ],
      "text/plain": [
       "             Model                   Data  Precision    Recall  Specificity  \\\n",
       "0  Orig. XB fitted  1 class, n=11, a=0.05   0.921053  0.985915     0.142857   \n",
       "\n",
       "   F1-score  Accuracy  Bal Accuracy       AUC  \n",
       "0  0.952381  0.910256      0.564386  0.564386  "
      ]
     },
     "execution_count": 14,
     "metadata": {},
     "output_type": "execute_result"
    }
   ],
   "source": [
    "sc = calc_binary_class_metrics(y_test, xbg_fitted_pred, 'Orig. XB fitted', '1 class, n=11, a=0.05')\n",
    "results_score = results_score.append(sc)\n",
    "results_score"
   ]
  },
  {
   "cell_type": "markdown",
   "metadata": {},
   "source": [
    "### Next I try with both the labels and balance with SMOTE"
   ]
  },
  {
   "cell_type": "code",
   "execution_count": 15,
   "metadata": {},
   "outputs": [],
   "source": [
    "oversample = SMOTE()\n",
    "X_train_tf_aug_bal, y_train_aug_bal = oversample.fit_resample(X_train_tf_aug, y_train_aug)"
   ]
  },
  {
   "cell_type": "code",
   "execution_count": 16,
   "metadata": {},
   "outputs": [
    {
     "name": "stdout",
     "output_type": "stream",
     "text": [
      "Accuracy on the test data: \n",
      "0.8974358974358975\n",
      "Classification report\n",
      "              precision    recall  f1-score   support\n",
      "\n",
      "           0       0.33      0.14      0.20         7\n",
      "           1       0.92      0.97      0.95        71\n",
      "\n",
      "    accuracy                           0.90        78\n",
      "   macro avg       0.63      0.56      0.57        78\n",
      "weighted avg       0.87      0.90      0.88        78\n",
      "\n",
      "Confusion Matrix : \n",
      "[[ 1  6]\n",
      " [ 2 69]]\n"
     ]
    }
   ],
   "source": [
    "random.seed(3)\n",
    "xbg_fitted_bal = xgb.XGBClassifier(objective = 'binary:logistic', n_jobs=-1)\n",
    "xbg_fitted_bal.fit(X_train_tf_aug_bal, y_train_aug_bal)\n",
    "xbg_bal_pred = xbg_fitted_bal.predict(X_test_tf)\n",
    "\n",
    "print(\"Accuracy on the test data: \")\n",
    "print(metrics.accuracy_score(y_test, xbg_bal_pred))\n",
    "print(\"Classification report\")\n",
    "print(metrics.classification_report(y_test, xbg_bal_pred))\n",
    "print('Confusion Matrix : ')\n",
    "print(metrics.confusion_matrix(y_test, xbg_bal_pred))"
   ]
  },
  {
   "cell_type": "code",
   "execution_count": 17,
   "metadata": {},
   "outputs": [
    {
     "data": {
      "text/html": [
       "<div>\n",
       "<style scoped>\n",
       "    .dataframe tbody tr th:only-of-type {\n",
       "        vertical-align: middle;\n",
       "    }\n",
       "\n",
       "    .dataframe tbody tr th {\n",
       "        vertical-align: top;\n",
       "    }\n",
       "\n",
       "    .dataframe thead th {\n",
       "        text-align: right;\n",
       "    }\n",
       "</style>\n",
       "<table border=\"1\" class=\"dataframe\">\n",
       "  <thead>\n",
       "    <tr style=\"text-align: right;\">\n",
       "      <th></th>\n",
       "      <th>Model</th>\n",
       "      <th>Data</th>\n",
       "      <th>Precision</th>\n",
       "      <th>Recall</th>\n",
       "      <th>Specificity</th>\n",
       "      <th>F1-score</th>\n",
       "      <th>Accuracy</th>\n",
       "      <th>Bal Accuracy</th>\n",
       "      <th>AUC</th>\n",
       "    </tr>\n",
       "  </thead>\n",
       "  <tbody>\n",
       "    <tr>\n",
       "      <th>0</th>\n",
       "      <td>Orig. XB fitted</td>\n",
       "      <td>1 class, n=11, a=0.05</td>\n",
       "      <td>0.921053</td>\n",
       "      <td>0.985915</td>\n",
       "      <td>0.142857</td>\n",
       "      <td>0.952381</td>\n",
       "      <td>0.910256</td>\n",
       "      <td>0.564386</td>\n",
       "      <td>0.564386</td>\n",
       "    </tr>\n",
       "    <tr>\n",
       "      <th>0</th>\n",
       "      <td>Orig. XB fitted Bal</td>\n",
       "      <td>1 class, n=11, a=0.05</td>\n",
       "      <td>0.920000</td>\n",
       "      <td>0.971831</td>\n",
       "      <td>0.142857</td>\n",
       "      <td>0.945205</td>\n",
       "      <td>0.897436</td>\n",
       "      <td>0.557344</td>\n",
       "      <td>0.557344</td>\n",
       "    </tr>\n",
       "  </tbody>\n",
       "</table>\n",
       "</div>"
      ],
      "text/plain": [
       "                 Model                   Data  Precision    Recall  \\\n",
       "0      Orig. XB fitted  1 class, n=11, a=0.05   0.921053  0.985915   \n",
       "0  Orig. XB fitted Bal  1 class, n=11, a=0.05   0.920000  0.971831   \n",
       "\n",
       "   Specificity  F1-score  Accuracy  Bal Accuracy       AUC  \n",
       "0     0.142857  0.952381  0.910256      0.564386  0.564386  \n",
       "0     0.142857  0.945205  0.897436      0.557344  0.557344  "
      ]
     },
     "execution_count": 17,
     "metadata": {},
     "output_type": "execute_result"
    }
   ],
   "source": [
    "sc = calc_binary_class_metrics(y_test, xbg_bal_pred, 'Orig. XB fitted Bal', '1 class, n=11, a=0.05')\n",
    "results_score = results_score.append(sc)\n",
    "results_score"
   ]
  },
  {
   "cell_type": "markdown",
   "metadata": {},
   "source": [
    "## Tune Hyperparameters TF-IDF "
   ]
  },
  {
   "cell_type": "code",
   "execution_count": 18,
   "metadata": {},
   "outputs": [
    {
     "name": "stdout",
     "output_type": "stream",
     "text": [
      "Fitting 2 folds for each of 20 candidates, totalling 40 fits\n"
     ]
    },
    {
     "name": "stderr",
     "output_type": "stream",
     "text": [
      "[Parallel(n_jobs=-1)]: Using backend LokyBackend with 12 concurrent workers.\n"
     ]
    },
    {
     "name": "stdout",
     "output_type": "stream",
     "text": [
      "Best parameters for the TF-IDF: [('tfidf', TfidfVectorizer(lowercase=False, max_features=300, sublinear_tf=True)), ('clf', OneVsRestClassifier(estimator=XGBClassifier(base_score=None, booster=None,\n",
      "                                            colsample_bylevel=None,\n",
      "                                            colsample_bynode=None,\n",
      "                                            colsample_bytree=None, gamma=None,\n",
      "                                            gpu_id=None, importance_type='gain',\n",
      "                                            interaction_constraints=None,\n",
      "                                            learning_rate=None,\n",
      "                                            max_delta_step=None, max_depth=None,\n",
      "                                            min_child_weight=None, missing=nan,\n",
      "                                            monotone_constraints=None,\n",
      "                                            n_estimators=100, n_jobs=-1,\n",
      "                                            num_parallel_tree=None,\n",
      "                                            random_state=None, reg_alpha=None,\n",
      "                                            reg_lambda=None,\n",
      "                                            scale_pos_weight=None,\n",
      "                                            subsample=None, tree_method=None,\n",
      "                                            validate_parameters=None,\n",
      "                                            verbosity=None)))]\n"
     ]
    },
    {
     "name": "stderr",
     "output_type": "stream",
     "text": [
      "[Parallel(n_jobs=-1)]: Done  40 out of  40 | elapsed:    2.7s finished\n"
     ]
    }
   ],
   "source": [
    "random.seed(3)\n",
    "pipeline_grid = Pipeline([\n",
    "    ('tfidf', TfidfVectorizer(lowercase=False)),\n",
    "    ('clf', OneVsRestClassifier(xgb.XGBClassifier(objective = 'binary:logistic', n_jobs=-1))),\n",
    "])\n",
    "param_grid = {\n",
    "    'tfidf__norm' :('l1', 'l2'),\n",
    "    'tfidf__max_features' : (300, 350, 400, 450,500),\n",
    "    'tfidf__sublinear_tf' : [True, False]\n",
    "\n",
    "}\n",
    "\n",
    "grid_search_tfidf_xgb = GridSearchCV(pipeline_grid, param_grid, cv=2, verbose=1, n_jobs=-1)\n",
    "grid_search_tfidf_xgb.fit(X_train_aug, y_train_aug)\n",
    "\n",
    "print(\"Best parameters for the TF-IDF: {}\".format(grid_search_tfidf_xgb.best_estimator_.steps))"
   ]
  },
  {
   "cell_type": "code",
   "execution_count": 19,
   "metadata": {},
   "outputs": [],
   "source": [
    "tfidf_tune_xb = grid_search_tfidf_xgb.best_estimator_[0]\n",
    "\n",
    "X_train_tf_tune_xb = tfidf_tune_xb.fit_transform(X_train_aug).toarray()\n",
    "X_test_tf_tune_xb = tfidf_tune_xb.transform(X_test).toarray()"
   ]
  },
  {
   "cell_type": "code",
   "execution_count": 20,
   "metadata": {},
   "outputs": [],
   "source": [
    "oversample = SMOTE()\n",
    "X_train_tf_tune_aug_bal, y_train_tf_tune_aug_bal = oversample.fit_resample(X_train_tf_tune_xb, y_train_aug)"
   ]
  },
  {
   "cell_type": "code",
   "execution_count": 21,
   "metadata": {},
   "outputs": [
    {
     "name": "stdout",
     "output_type": "stream",
     "text": [
      "Accuracy on the test data: \n",
      "0.8461538461538461\n",
      "Classification report\n",
      "              precision    recall  f1-score   support\n",
      "\n",
      "           0       0.00      0.00      0.00         7\n",
      "           1       0.90      0.93      0.92        71\n",
      "\n",
      "    accuracy                           0.85        78\n",
      "   macro avg       0.45      0.46      0.46        78\n",
      "weighted avg       0.82      0.85      0.83        78\n",
      "\n",
      "Confusion Matrix : \n",
      "[[ 0  7]\n",
      " [ 5 66]]\n"
     ]
    }
   ],
   "source": [
    "random.seed(3)\n",
    "xbg_tf_tune = xgb.XGBClassifier(objective = 'binary:logistic', n_jobs=-1)\n",
    "xbg_tf_tune.fit(X_train_tf_tune_aug_bal, y_train_tf_tune_aug_bal)\n",
    "xbg_tf_tune_pred = xbg_tf_tune.predict(X_test_tf_tune_xb)\n",
    "\n",
    "print(\"Accuracy on the test data: \")\n",
    "print(metrics.accuracy_score(y_test, xbg_tf_tune_pred))\n",
    "print(\"Classification report\")\n",
    "print(metrics.classification_report(y_test, xbg_tf_tune_pred))\n",
    "print('Confusion Matrix : ')\n",
    "print(metrics.confusion_matrix(y_test, xbg_tf_tune_pred))"
   ]
  },
  {
   "cell_type": "code",
   "execution_count": 22,
   "metadata": {},
   "outputs": [
    {
     "data": {
      "text/html": [
       "<div>\n",
       "<style scoped>\n",
       "    .dataframe tbody tr th:only-of-type {\n",
       "        vertical-align: middle;\n",
       "    }\n",
       "\n",
       "    .dataframe tbody tr th {\n",
       "        vertical-align: top;\n",
       "    }\n",
       "\n",
       "    .dataframe thead th {\n",
       "        text-align: right;\n",
       "    }\n",
       "</style>\n",
       "<table border=\"1\" class=\"dataframe\">\n",
       "  <thead>\n",
       "    <tr style=\"text-align: right;\">\n",
       "      <th></th>\n",
       "      <th>Model</th>\n",
       "      <th>Data</th>\n",
       "      <th>Precision</th>\n",
       "      <th>Recall</th>\n",
       "      <th>Specificity</th>\n",
       "      <th>F1-score</th>\n",
       "      <th>Accuracy</th>\n",
       "      <th>Bal Accuracy</th>\n",
       "      <th>AUC</th>\n",
       "    </tr>\n",
       "  </thead>\n",
       "  <tbody>\n",
       "    <tr>\n",
       "      <th>0</th>\n",
       "      <td>Orig. XB fitted</td>\n",
       "      <td>1 class, n=11, a=0.05</td>\n",
       "      <td>0.921053</td>\n",
       "      <td>0.985915</td>\n",
       "      <td>0.142857</td>\n",
       "      <td>0.952381</td>\n",
       "      <td>0.910256</td>\n",
       "      <td>0.564386</td>\n",
       "      <td>0.564386</td>\n",
       "    </tr>\n",
       "    <tr>\n",
       "      <th>0</th>\n",
       "      <td>Orig. XB fitted Bal</td>\n",
       "      <td>1 class, n=11, a=0.05</td>\n",
       "      <td>0.920000</td>\n",
       "      <td>0.971831</td>\n",
       "      <td>0.142857</td>\n",
       "      <td>0.945205</td>\n",
       "      <td>0.897436</td>\n",
       "      <td>0.557344</td>\n",
       "      <td>0.557344</td>\n",
       "    </tr>\n",
       "    <tr>\n",
       "      <th>0</th>\n",
       "      <td>XB tf tune</td>\n",
       "      <td>1 class, n=11, a=0.05</td>\n",
       "      <td>0.904110</td>\n",
       "      <td>0.929577</td>\n",
       "      <td>0.000000</td>\n",
       "      <td>0.916667</td>\n",
       "      <td>0.846154</td>\n",
       "      <td>0.464789</td>\n",
       "      <td>0.464789</td>\n",
       "    </tr>\n",
       "  </tbody>\n",
       "</table>\n",
       "</div>"
      ],
      "text/plain": [
       "                 Model                   Data  Precision    Recall  \\\n",
       "0      Orig. XB fitted  1 class, n=11, a=0.05   0.921053  0.985915   \n",
       "0  Orig. XB fitted Bal  1 class, n=11, a=0.05   0.920000  0.971831   \n",
       "0           XB tf tune  1 class, n=11, a=0.05   0.904110  0.929577   \n",
       "\n",
       "   Specificity  F1-score  Accuracy  Bal Accuracy       AUC  \n",
       "0     0.142857  0.952381  0.910256      0.564386  0.564386  \n",
       "0     0.142857  0.945205  0.897436      0.557344  0.557344  \n",
       "0     0.000000  0.916667  0.846154      0.464789  0.464789  "
      ]
     },
     "execution_count": 22,
     "metadata": {},
     "output_type": "execute_result"
    }
   ],
   "source": [
    "sc = calc_binary_class_metrics(y_test, xbg_tf_tune_pred, 'XB tf tune', '1 class, n=11, a=0.05')\n",
    "results_score = results_score.append(sc)\n",
    "results_score"
   ]
  },
  {
   "cell_type": "markdown",
   "metadata": {},
   "source": [
    "## 4. Data augmentation for both classes\n",
    "Parameters set to: num_aug = 11 and alpha = 0.05"
   ]
  },
  {
   "cell_type": "code",
   "execution_count": 23,
   "metadata": {},
   "outputs": [],
   "source": [
    "with open(ospath('~/final_project/F_Extra_Experiments_Abstracts/Data_for_augmentation/X_y_train.txt'), 'w' , encoding=\"utf-8\") as file:\n",
    "    for lab, text in zip(X_y_train_db['label'],X_y_train_db['text_clean']) :\n",
    "        file.write(str(lab))\n",
    "        file.write(\"\\t\")\n",
    "        file.write(text)\n",
    "        file.write(\"\\n\")"
   ]
  },
  {
   "cell_type": "code",
   "execution_count": 24,
   "metadata": {},
   "outputs": [],
   "source": [
    "X_y_train_aug = pd.read_table(ospath('~/final_project/F_Extra_Experiments_Abstracts/Data_for_augmentation/X_y_train_augmented.txt'), sep = '\\t', names=('label', 'text_clean'))"
   ]
  },
  {
   "cell_type": "code",
   "execution_count": 25,
   "metadata": {},
   "outputs": [
    {
     "data": {
      "text/html": [
       "<div>\n",
       "<style scoped>\n",
       "    .dataframe tbody tr th:only-of-type {\n",
       "        vertical-align: middle;\n",
       "    }\n",
       "\n",
       "    .dataframe tbody tr th {\n",
       "        vertical-align: top;\n",
       "    }\n",
       "\n",
       "    .dataframe thead th {\n",
       "        text-align: right;\n",
       "    }\n",
       "</style>\n",
       "<table border=\"1\" class=\"dataframe\">\n",
       "  <thead>\n",
       "    <tr style=\"text-align: right;\">\n",
       "      <th></th>\n",
       "      <th>label</th>\n",
       "      <th>text_clean</th>\n",
       "    </tr>\n",
       "  </thead>\n",
       "  <tbody>\n",
       "    <tr>\n",
       "      <th>0</th>\n",
       "      <td>1</td>\n",
       "      <td>solid electrolytic capacitor obtain employ sol...</td>\n",
       "    </tr>\n",
       "    <tr>\n",
       "      <th>1</th>\n",
       "      <td>1</td>\n",
       "      <td>solid electrolytic capacitor obtain employ sol...</td>\n",
       "    </tr>\n",
       "    <tr>\n",
       "      <th>2</th>\n",
       "      <td>1</td>\n",
       "      <td>square electrolytic capacitor obtain employ sq...</td>\n",
       "    </tr>\n",
       "    <tr>\n",
       "      <th>3</th>\n",
       "      <td>1</td>\n",
       "      <td>solid electrolytic capacitor obtain employ sol...</td>\n",
       "    </tr>\n",
       "    <tr>\n",
       "      <th>4</th>\n",
       "      <td>1</td>\n",
       "      <td>solid electrolytic capacitor obtain employ sol...</td>\n",
       "    </tr>\n",
       "    <tr>\n",
       "      <th>...</th>\n",
       "      <td>...</td>\n",
       "      <td>...</td>\n",
       "    </tr>\n",
       "    <tr>\n",
       "      <th>1387</th>\n",
       "      <td>1</td>\n",
       "      <td>provide examples electrochemically active elec...</td>\n",
       "    </tr>\n",
       "    <tr>\n",
       "      <th>1388</th>\n",
       "      <td>1</td>\n",
       "      <td>provide examples electrochemically active elec...</td>\n",
       "    </tr>\n",
       "    <tr>\n",
       "      <th>1389</th>\n",
       "      <td>1</td>\n",
       "      <td>provide examples electrochemically active elec...</td>\n",
       "    </tr>\n",
       "    <tr>\n",
       "      <th>1390</th>\n",
       "      <td>1</td>\n",
       "      <td>provide examples electrochemically active elec...</td>\n",
       "    </tr>\n",
       "    <tr>\n",
       "      <th>1391</th>\n",
       "      <td>1</td>\n",
       "      <td>provide examples electrochemically active elec...</td>\n",
       "    </tr>\n",
       "  </tbody>\n",
       "</table>\n",
       "<p>1392 rows × 2 columns</p>\n",
       "</div>"
      ],
      "text/plain": [
       "      label                                         text_clean\n",
       "0         1  solid electrolytic capacitor obtain employ sol...\n",
       "1         1  solid electrolytic capacitor obtain employ sol...\n",
       "2         1  square electrolytic capacitor obtain employ sq...\n",
       "3         1  solid electrolytic capacitor obtain employ sol...\n",
       "4         1  solid electrolytic capacitor obtain employ sol...\n",
       "...     ...                                                ...\n",
       "1387      1  provide examples electrochemically active elec...\n",
       "1388      1  provide examples electrochemically active elec...\n",
       "1389      1  provide examples electrochemically active elec...\n",
       "1390      1  provide examples electrochemically active elec...\n",
       "1391      1  provide examples electrochemically active elec...\n",
       "\n",
       "[1392 rows x 2 columns]"
      ]
     },
     "execution_count": 25,
     "metadata": {},
     "output_type": "execute_result"
    }
   ],
   "source": [
    "X_y_train_aug"
   ]
  },
  {
   "cell_type": "code",
   "execution_count": 26,
   "metadata": {},
   "outputs": [],
   "source": [
    "X_train_both_aug = X_y_train_aug['text_clean']\n",
    "y_train_both_aug = X_y_train_aug['label']\n",
    "tfidf = TfidfVectorizer(ngram_range = (1,2) , encoding='utf-8',sublinear_tf=True, max_features = 300, max_df=0.25, min_df=4)\n",
    "\n",
    "X_train_both_tf_aug = tfidf.fit_transform(X_train_both_aug).toarray()\n",
    "X_test_tf = tfidf.transform(X_test).toarray()"
   ]
  },
  {
   "cell_type": "code",
   "execution_count": 27,
   "metadata": {},
   "outputs": [
    {
     "data": {
      "text/plain": [
       "(1392,)"
      ]
     },
     "execution_count": 27,
     "metadata": {},
     "output_type": "execute_result"
    }
   ],
   "source": [
    "y_train_both_aug.shape"
   ]
  },
  {
   "cell_type": "code",
   "execution_count": 28,
   "metadata": {},
   "outputs": [
    {
     "data": {
      "text/plain": [
       "1    1272\n",
       "0     120\n",
       "Name: label, dtype: int64"
      ]
     },
     "execution_count": 28,
     "metadata": {},
     "output_type": "execute_result"
    }
   ],
   "source": [
    "y_train_both_aug.value_counts()"
   ]
  },
  {
   "cell_type": "code",
   "execution_count": 29,
   "metadata": {},
   "outputs": [
    {
     "data": {
      "text/plain": [
       "(1392,)"
      ]
     },
     "execution_count": 29,
     "metadata": {},
     "output_type": "execute_result"
    }
   ],
   "source": [
    "X_train_both_aug.shape"
   ]
  },
  {
   "cell_type": "code",
   "execution_count": 30,
   "metadata": {},
   "outputs": [],
   "source": [
    "oversample = SMOTE()\n",
    "X_train_both_tf_aug_bal, y_train_both_aug_bal = oversample.fit_resample(X_train_both_tf_aug, y_train_both_aug)"
   ]
  },
  {
   "cell_type": "code",
   "execution_count": 31,
   "metadata": {},
   "outputs": [
    {
     "name": "stdout",
     "output_type": "stream",
     "text": [
      "Accuracy on the test data: \n",
      "0.8717948717948718\n",
      "Classification report\n",
      "              precision    recall  f1-score   support\n",
      "\n",
      "           0       0.20      0.14      0.17         7\n",
      "           1       0.92      0.94      0.93        71\n",
      "\n",
      "    accuracy                           0.87        78\n",
      "   macro avg       0.56      0.54      0.55        78\n",
      "weighted avg       0.85      0.87      0.86        78\n",
      "\n",
      "Confusion Matrix : \n",
      "[[ 1  6]\n",
      " [ 4 67]]\n"
     ]
    }
   ],
   "source": [
    "random.seed(3)\n",
    "xbg_both_lab_bal = xgb.XGBClassifier(objective = 'binary:logistic', n_jobs=-1)\n",
    "xbg_both_lab_bal.fit(X_train_both_tf_aug_bal, y_train_both_aug_bal)\n",
    "xbg__both_lab_pred = xbg_both_lab_bal.predict(X_test_tf)\n",
    "\n",
    "print(\"Accuracy on the test data: \")\n",
    "print(metrics.accuracy_score(y_test, xbg__both_lab_pred))\n",
    "print(\"Classification report\")\n",
    "print(metrics.classification_report(y_test, xbg__both_lab_pred))\n",
    "print('Confusion Matrix : ')\n",
    "print(metrics.confusion_matrix(y_test, xbg__both_lab_pred))"
   ]
  },
  {
   "cell_type": "code",
   "execution_count": 32,
   "metadata": {},
   "outputs": [
    {
     "data": {
      "text/html": [
       "<div>\n",
       "<style scoped>\n",
       "    .dataframe tbody tr th:only-of-type {\n",
       "        vertical-align: middle;\n",
       "    }\n",
       "\n",
       "    .dataframe tbody tr th {\n",
       "        vertical-align: top;\n",
       "    }\n",
       "\n",
       "    .dataframe thead th {\n",
       "        text-align: right;\n",
       "    }\n",
       "</style>\n",
       "<table border=\"1\" class=\"dataframe\">\n",
       "  <thead>\n",
       "    <tr style=\"text-align: right;\">\n",
       "      <th></th>\n",
       "      <th>Model</th>\n",
       "      <th>Data</th>\n",
       "      <th>Precision</th>\n",
       "      <th>Recall</th>\n",
       "      <th>Specificity</th>\n",
       "      <th>F1-score</th>\n",
       "      <th>Accuracy</th>\n",
       "      <th>Bal Accuracy</th>\n",
       "      <th>AUC</th>\n",
       "    </tr>\n",
       "  </thead>\n",
       "  <tbody>\n",
       "    <tr>\n",
       "      <th>0</th>\n",
       "      <td>Orig. XB fitted</td>\n",
       "      <td>1 class, n=11, a=0.05</td>\n",
       "      <td>0.921053</td>\n",
       "      <td>0.985915</td>\n",
       "      <td>0.142857</td>\n",
       "      <td>0.952381</td>\n",
       "      <td>0.910256</td>\n",
       "      <td>0.564386</td>\n",
       "      <td>0.564386</td>\n",
       "    </tr>\n",
       "    <tr>\n",
       "      <th>0</th>\n",
       "      <td>Orig. XB fitted Bal</td>\n",
       "      <td>1 class, n=11, a=0.05</td>\n",
       "      <td>0.920000</td>\n",
       "      <td>0.971831</td>\n",
       "      <td>0.142857</td>\n",
       "      <td>0.945205</td>\n",
       "      <td>0.897436</td>\n",
       "      <td>0.557344</td>\n",
       "      <td>0.557344</td>\n",
       "    </tr>\n",
       "    <tr>\n",
       "      <th>0</th>\n",
       "      <td>XB tf tune</td>\n",
       "      <td>1 class, n=11, a=0.05</td>\n",
       "      <td>0.904110</td>\n",
       "      <td>0.929577</td>\n",
       "      <td>0.000000</td>\n",
       "      <td>0.916667</td>\n",
       "      <td>0.846154</td>\n",
       "      <td>0.464789</td>\n",
       "      <td>0.464789</td>\n",
       "    </tr>\n",
       "    <tr>\n",
       "      <th>0</th>\n",
       "      <td>XB not tune</td>\n",
       "      <td>2 class, n=11, a=0.05</td>\n",
       "      <td>0.917808</td>\n",
       "      <td>0.943662</td>\n",
       "      <td>0.142857</td>\n",
       "      <td>0.930556</td>\n",
       "      <td>0.871795</td>\n",
       "      <td>0.543260</td>\n",
       "      <td>0.543260</td>\n",
       "    </tr>\n",
       "  </tbody>\n",
       "</table>\n",
       "</div>"
      ],
      "text/plain": [
       "                 Model                   Data  Precision    Recall  \\\n",
       "0      Orig. XB fitted  1 class, n=11, a=0.05   0.921053  0.985915   \n",
       "0  Orig. XB fitted Bal  1 class, n=11, a=0.05   0.920000  0.971831   \n",
       "0           XB tf tune  1 class, n=11, a=0.05   0.904110  0.929577   \n",
       "0          XB not tune  2 class, n=11, a=0.05   0.917808  0.943662   \n",
       "\n",
       "   Specificity  F1-score  Accuracy  Bal Accuracy       AUC  \n",
       "0     0.142857  0.952381  0.910256      0.564386  0.564386  \n",
       "0     0.142857  0.945205  0.897436      0.557344  0.557344  \n",
       "0     0.000000  0.916667  0.846154      0.464789  0.464789  \n",
       "0     0.142857  0.930556  0.871795      0.543260  0.543260  "
      ]
     },
     "execution_count": 32,
     "metadata": {},
     "output_type": "execute_result"
    }
   ],
   "source": [
    "sc = calc_binary_class_metrics(y_test, xbg__both_lab_pred, 'XB not tune', '2 class, n=11, a=0.05')\n",
    "results_score = results_score.append(sc)\n",
    "results_score"
   ]
  },
  {
   "cell_type": "code",
   "execution_count": 33,
   "metadata": {},
   "outputs": [
    {
     "name": "stdout",
     "output_type": "stream",
     "text": [
      "Fitting 2 folds for each of 120 candidates, totalling 240 fits\n"
     ]
    },
    {
     "name": "stderr",
     "output_type": "stream",
     "text": [
      "[Parallel(n_jobs=-1)]: Using backend LokyBackend with 12 concurrent workers.\n",
      "[Parallel(n_jobs=-1)]: Done  26 tasks      | elapsed:    1.2s\n",
      "[Parallel(n_jobs=-1)]: Done 176 tasks      | elapsed:    6.7s\n",
      "[Parallel(n_jobs=-1)]: Done 240 out of 240 | elapsed:    8.9s finished\n"
     ]
    },
    {
     "name": "stdout",
     "output_type": "stream",
     "text": [
      "Best parameters for the TF-IDF: [('tfidf', TfidfVectorizer(lowercase=False, max_df=0.25, max_features=450, min_df=6,\n",
      "                sublinear_tf=True)), ('clf', OneVsRestClassifier(estimator=XGBClassifier(base_score=None, booster=None,\n",
      "                                            colsample_bylevel=None,\n",
      "                                            colsample_bynode=None,\n",
      "                                            colsample_bytree=None, gamma=None,\n",
      "                                            gpu_id=None, importance_type='gain',\n",
      "                                            interaction_constraints=None,\n",
      "                                            learning_rate=None,\n",
      "                                            max_delta_step=None, max_depth=None,\n",
      "                                            min_child_weight=None, missing=nan,\n",
      "                                            monotone_constraints=None,\n",
      "                                            n_estimators=100, n_jobs=-1,\n",
      "                                            num_parallel_tree=None,\n",
      "                                            random_state=None, reg_alpha=None,\n",
      "                                            reg_lambda=None,\n",
      "                                            scale_pos_weight=None,\n",
      "                                            subsample=None, tree_method=None,\n",
      "                                            validate_parameters=None,\n",
      "                                            verbosity=None)))]\n"
     ]
    }
   ],
   "source": [
    "random.seed(3)\n",
    "pipeline_grid = Pipeline([\n",
    "    ('tfidf', TfidfVectorizer(lowercase=False)),\n",
    "    ('clf', OneVsRestClassifier(xgb.XGBClassifier(objective = 'binary:logistic', n_jobs=-1))),\n",
    "])\n",
    "param_grid = {\n",
    "    'tfidf__max_df': (0.25, 0.5, 0.75),\n",
    "    'tfidf__min_df' : (2,4,6,8,10),\n",
    "    'tfidf__max_features' : (300, 350, 400, 450),\n",
    "    'tfidf__sublinear_tf' : [True, False]\n",
    "\n",
    "}\n",
    "\n",
    "grid_search_tfidf_xgb = GridSearchCV(pipeline_grid, param_grid, cv=2, verbose=1, n_jobs=-1)\n",
    "grid_search_tfidf_xgb.fit(X_train_both_aug, y_train_both_aug)\n",
    "\n",
    "print(\"Best parameters for the TF-IDF: {}\".format(grid_search_tfidf_xgb.best_estimator_.steps))"
   ]
  },
  {
   "cell_type": "code",
   "execution_count": 34,
   "metadata": {},
   "outputs": [],
   "source": [
    "tfidf = grid_search_tfidf_xgb.best_estimator_[0]\n",
    "\n",
    "X_train_both_tf_aug_tune = tfidf.fit_transform(X_train_both_aug).toarray()\n",
    "X_test_tf_tune = tfidf.transform(X_test).toarray()#test data from the manually labelled dataset"
   ]
  },
  {
   "cell_type": "code",
   "execution_count": 35,
   "metadata": {},
   "outputs": [],
   "source": [
    "oversample = SMOTE()\n",
    "X_train_both_tf_aug_bal_tune, y_train_both_aug_bal_tune = oversample.fit_resample(X_train_both_tf_aug_tune, y_train_both_aug)"
   ]
  },
  {
   "cell_type": "code",
   "execution_count": 36,
   "metadata": {},
   "outputs": [
    {
     "name": "stdout",
     "output_type": "stream",
     "text": [
      "Accuracy on the test data: \n",
      "0.8717948717948718\n",
      "Classification report\n",
      "              precision    recall  f1-score   support\n",
      "\n",
      "           0       0.20      0.14      0.17         7\n",
      "           1       0.92      0.94      0.93        71\n",
      "\n",
      "    accuracy                           0.87        78\n",
      "   macro avg       0.56      0.54      0.55        78\n",
      "weighted avg       0.85      0.87      0.86        78\n",
      "\n",
      "Confusion Matrix : \n",
      "[[ 1  6]\n",
      " [ 4 67]]\n"
     ]
    }
   ],
   "source": [
    "random.seed(3)\n",
    "xbg_both_lab_bal_tune = xgb.XGBClassifier(objective = 'binary:logistic', n_jobs=-1)\n",
    "xbg_both_lab_bal_tune.fit(X_train_both_tf_aug_bal_tune, y_train_both_aug_bal_tune)\n",
    "xbg__both_lab_pred_tune = xbg_both_lab_bal_tune.predict(X_test_tf_tune)\n",
    "\n",
    "print(\"Accuracy on the test data: \")\n",
    "print(metrics.accuracy_score(y_test, xbg__both_lab_pred_tune))\n",
    "print(\"Classification report\")\n",
    "print(metrics.classification_report(y_test, xbg__both_lab_pred_tune))\n",
    "print('Confusion Matrix : ')\n",
    "print(metrics.confusion_matrix(y_test, xbg__both_lab_pred_tune))"
   ]
  },
  {
   "cell_type": "code",
   "execution_count": 37,
   "metadata": {},
   "outputs": [
    {
     "data": {
      "text/html": [
       "<div>\n",
       "<style scoped>\n",
       "    .dataframe tbody tr th:only-of-type {\n",
       "        vertical-align: middle;\n",
       "    }\n",
       "\n",
       "    .dataframe tbody tr th {\n",
       "        vertical-align: top;\n",
       "    }\n",
       "\n",
       "    .dataframe thead th {\n",
       "        text-align: right;\n",
       "    }\n",
       "</style>\n",
       "<table border=\"1\" class=\"dataframe\">\n",
       "  <thead>\n",
       "    <tr style=\"text-align: right;\">\n",
       "      <th></th>\n",
       "      <th>Model</th>\n",
       "      <th>Data</th>\n",
       "      <th>Precision</th>\n",
       "      <th>Recall</th>\n",
       "      <th>Specificity</th>\n",
       "      <th>F1-score</th>\n",
       "      <th>Accuracy</th>\n",
       "      <th>Bal Accuracy</th>\n",
       "      <th>AUC</th>\n",
       "    </tr>\n",
       "  </thead>\n",
       "  <tbody>\n",
       "    <tr>\n",
       "      <th>0</th>\n",
       "      <td>Orig. XB fitted</td>\n",
       "      <td>1 class, n=11, a=0.05</td>\n",
       "      <td>0.921053</td>\n",
       "      <td>0.985915</td>\n",
       "      <td>0.142857</td>\n",
       "      <td>0.952381</td>\n",
       "      <td>0.910256</td>\n",
       "      <td>0.564386</td>\n",
       "      <td>0.564386</td>\n",
       "    </tr>\n",
       "    <tr>\n",
       "      <th>0</th>\n",
       "      <td>Orig. XB fitted Bal</td>\n",
       "      <td>1 class, n=11, a=0.05</td>\n",
       "      <td>0.920000</td>\n",
       "      <td>0.971831</td>\n",
       "      <td>0.142857</td>\n",
       "      <td>0.945205</td>\n",
       "      <td>0.897436</td>\n",
       "      <td>0.557344</td>\n",
       "      <td>0.557344</td>\n",
       "    </tr>\n",
       "    <tr>\n",
       "      <th>0</th>\n",
       "      <td>XB tf tune</td>\n",
       "      <td>1 class, n=11, a=0.05</td>\n",
       "      <td>0.904110</td>\n",
       "      <td>0.929577</td>\n",
       "      <td>0.000000</td>\n",
       "      <td>0.916667</td>\n",
       "      <td>0.846154</td>\n",
       "      <td>0.464789</td>\n",
       "      <td>0.464789</td>\n",
       "    </tr>\n",
       "    <tr>\n",
       "      <th>0</th>\n",
       "      <td>XB not tune</td>\n",
       "      <td>2 class, n=11, a=0.05</td>\n",
       "      <td>0.917808</td>\n",
       "      <td>0.943662</td>\n",
       "      <td>0.142857</td>\n",
       "      <td>0.930556</td>\n",
       "      <td>0.871795</td>\n",
       "      <td>0.543260</td>\n",
       "      <td>0.543260</td>\n",
       "    </tr>\n",
       "    <tr>\n",
       "      <th>0</th>\n",
       "      <td>XB TF tune</td>\n",
       "      <td>2 class, n=11, a=0.05</td>\n",
       "      <td>0.917808</td>\n",
       "      <td>0.943662</td>\n",
       "      <td>0.142857</td>\n",
       "      <td>0.930556</td>\n",
       "      <td>0.871795</td>\n",
       "      <td>0.543260</td>\n",
       "      <td>0.543260</td>\n",
       "    </tr>\n",
       "  </tbody>\n",
       "</table>\n",
       "</div>"
      ],
      "text/plain": [
       "                 Model                   Data  Precision    Recall  \\\n",
       "0      Orig. XB fitted  1 class, n=11, a=0.05   0.921053  0.985915   \n",
       "0  Orig. XB fitted Bal  1 class, n=11, a=0.05   0.920000  0.971831   \n",
       "0           XB tf tune  1 class, n=11, a=0.05   0.904110  0.929577   \n",
       "0          XB not tune  2 class, n=11, a=0.05   0.917808  0.943662   \n",
       "0           XB TF tune  2 class, n=11, a=0.05   0.917808  0.943662   \n",
       "\n",
       "   Specificity  F1-score  Accuracy  Bal Accuracy       AUC  \n",
       "0     0.142857  0.952381  0.910256      0.564386  0.564386  \n",
       "0     0.142857  0.945205  0.897436      0.557344  0.557344  \n",
       "0     0.000000  0.916667  0.846154      0.464789  0.464789  \n",
       "0     0.142857  0.930556  0.871795      0.543260  0.543260  \n",
       "0     0.142857  0.930556  0.871795      0.543260  0.543260  "
      ]
     },
     "execution_count": 37,
     "metadata": {},
     "output_type": "execute_result"
    }
   ],
   "source": [
    "sc = calc_binary_class_metrics(y_test, xbg__both_lab_pred_tune, 'XB TF tune', '2 class, n=11, a=0.05')\n",
    "results_score = results_score.append(sc)\n",
    "results_score"
   ]
  },
  {
   "cell_type": "markdown",
   "metadata": {},
   "source": [
    "### None of them have improved the original binary classification model trained with manually labelled data."
   ]
  },
  {
   "cell_type": "code",
   "execution_count": null,
   "metadata": {},
   "outputs": [],
   "source": []
  }
 ],
 "metadata": {
  "kernelspec": {
   "display_name": "Python 3",
   "language": "python",
   "name": "python3"
  },
  "language_info": {
   "codemirror_mode": {
    "name": "ipython",
    "version": 3
   },
   "file_extension": ".py",
   "mimetype": "text/x-python",
   "name": "python",
   "nbconvert_exporter": "python",
   "pygments_lexer": "ipython3",
   "version": "3.7.6"
  }
 },
 "nbformat": 4,
 "nbformat_minor": 4
}
