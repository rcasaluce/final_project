{
 "cells": [
  {
   "cell_type": "code",
   "execution_count": 1,
   "metadata": {},
   "outputs": [],
   "source": [
    "from numpy.random import seed\n",
    "seed(3)\n",
    "import pandas as pd\n",
    "import numpy as np\n",
    "import warnings\n",
    "warnings.filterwarnings(\"ignore\")\n",
    "from os.path import expanduser as ospath\n",
    "import pickle\n",
    "from My_functions.A_merge_datasets import merge_select_columns \n",
    "from My_functions.B_pre_processing_data import pre_process_db  #my merge and pre-procesisng function"
   ]
  },
  {
   "cell_type": "markdown",
   "metadata": {},
   "source": [
    "## Import the four datasets to be merged together"
   ]
  },
  {
   "cell_type": "code",
   "execution_count": 2,
   "metadata": {},
   "outputs": [],
   "source": [
    "dt_fw = pd.read_excel(ospath('~/final_project/Labelled_data/FW.xlsx'))\n",
    "dt_fw = dt_fw[:1185]\n",
    "dt_LIB = pd.read_excel(ospath('~/final_project/Labelled_data/LIB.xlsx'))\n",
    "dt_LIB = dt_LIB[:1217]\n",
    "dt_LC = pd.read_excel(ospath('~/final_project/Labelled_data/LC.xlsx'))\n",
    "dt_SC = pd.read_excel(ospath('~/final_project/Labelled_data/SC.xlsx'))\n",
    "\n",
    "\n",
    "dt_LIB['publn_nr'] = np.int64(dt_LIB['publn_nr'])\n",
    "dt_LC['publn_nr'] = np.int64(dt_LC['publn_nr'])\n",
    "dt_fw['publn_nr'] = np.int64(dt_fw['publn_nr'])\n",
    "dt_SC['publn_nr'] = np.int64(dt_SC['publn_nr'])"
   ]
  },
  {
   "cell_type": "code",
   "execution_count": 3,
   "metadata": {},
   "outputs": [],
   "source": [
    "db = merge_select_columns(dt_fw, dt_LC, dt_SC, dt_LIB, labels = 'Yes', abstracts = 'No')"
   ]
  },
  {
   "cell_type": "code",
   "execution_count": 4,
   "metadata": {},
   "outputs": [
    {
     "data": {
      "text/plain": [
       "(4857, 4)"
      ]
     },
     "execution_count": 4,
     "metadata": {},
     "output_type": "execute_result"
    }
   ],
   "source": [
    "db.shape"
   ]
  },
  {
   "cell_type": "markdown",
   "metadata": {},
   "source": [
    "## Call text pre-processing function"
   ]
  },
  {
   "cell_type": "code",
   "execution_count": 5,
   "metadata": {},
   "outputs": [],
   "source": [
    "db = pre_process_db(db)"
   ]
  },
  {
   "cell_type": "code",
   "execution_count": 6,
   "metadata": {},
   "outputs": [
    {
     "data": {
      "text/html": [
       "<div>\n",
       "<style scoped>\n",
       "    .dataframe tbody tr th:only-of-type {\n",
       "        vertical-align: middle;\n",
       "    }\n",
       "\n",
       "    .dataframe tbody tr th {\n",
       "        vertical-align: top;\n",
       "    }\n",
       "\n",
       "    .dataframe thead th {\n",
       "        text-align: right;\n",
       "    }\n",
       "</style>\n",
       "<table border=\"1\" class=\"dataframe\">\n",
       "  <thead>\n",
       "    <tr style=\"text-align: right;\">\n",
       "      <th></th>\n",
       "      <th>publn_nr</th>\n",
       "      <th>type</th>\n",
       "      <th>label</th>\n",
       "      <th>text</th>\n",
       "      <th>text_clean</th>\n",
       "    </tr>\n",
       "  </thead>\n",
       "  <tbody>\n",
       "    <tr>\n",
       "      <th>1</th>\n",
       "      <td>4254843</td>\n",
       "      <td>Claim 1</td>\n",
       "      <td>product</td>\n",
       "      <td>An electrically powered vehicle comprising: a ...</td>\n",
       "      <td>electrically power vehicle comprise body suppo...</td>\n",
       "    </tr>\n",
       "    <tr>\n",
       "      <th>2</th>\n",
       "      <td>4254843</td>\n",
       "      <td>Claim 2</td>\n",
       "      <td>product</td>\n",
       "      <td>An electrically powered vehicle as recited in ...</td>\n",
       "      <td>electrically power vehicle recite claim wherei...</td>\n",
       "    </tr>\n",
       "    <tr>\n",
       "      <th>3</th>\n",
       "      <td>4254843</td>\n",
       "      <td>Claim 3</td>\n",
       "      <td>product</td>\n",
       "      <td>An electrically powered vehicle as recited in ...</td>\n",
       "      <td>electrically power vehicle recite claim wherei...</td>\n",
       "    </tr>\n",
       "    <tr>\n",
       "      <th>4</th>\n",
       "      <td>4254843</td>\n",
       "      <td>Claim 4</td>\n",
       "      <td>product</td>\n",
       "      <td>An electrically powered vehicle as recited in ...</td>\n",
       "      <td>electrically power vehicle recite claim compri...</td>\n",
       "    </tr>\n",
       "    <tr>\n",
       "      <th>5</th>\n",
       "      <td>4254843</td>\n",
       "      <td>Claim 5</td>\n",
       "      <td>product</td>\n",
       "      <td>An electrically powered vehicle as recited in ...</td>\n",
       "      <td>electrically power vehicle recite claim compri...</td>\n",
       "    </tr>\n",
       "  </tbody>\n",
       "</table>\n",
       "</div>"
      ],
      "text/plain": [
       "   publn_nr     type    label  \\\n",
       "1   4254843  Claim 1  product   \n",
       "2   4254843  Claim 2  product   \n",
       "3   4254843  Claim 3  product   \n",
       "4   4254843  Claim 4  product   \n",
       "5   4254843  Claim 5  product   \n",
       "\n",
       "                                                text  \\\n",
       "1  An electrically powered vehicle comprising: a ...   \n",
       "2  An electrically powered vehicle as recited in ...   \n",
       "3  An electrically powered vehicle as recited in ...   \n",
       "4  An electrically powered vehicle as recited in ...   \n",
       "5  An electrically powered vehicle as recited in ...   \n",
       "\n",
       "                                          text_clean  \n",
       "1  electrically power vehicle comprise body suppo...  \n",
       "2  electrically power vehicle recite claim wherei...  \n",
       "3  electrically power vehicle recite claim wherei...  \n",
       "4  electrically power vehicle recite claim compri...  \n",
       "5  electrically power vehicle recite claim compri...  "
      ]
     },
     "execution_count": 6,
     "metadata": {},
     "output_type": "execute_result"
    }
   ],
   "source": [
    "db.head()"
   ]
  },
  {
   "cell_type": "code",
   "execution_count": 7,
   "metadata": {},
   "outputs": [
    {
     "name": "stdout",
     "output_type": "stream",
     "text": [
      "An electrically powered vehicle as recited in claim 6 wherein said ventilator means includes air passage means for directing air from said fan means to outlet means external of said vehicle.\n"
     ]
    }
   ],
   "source": [
    "print(db['text'].iloc[10])"
   ]
  },
  {
   "cell_type": "code",
   "execution_count": 8,
   "metadata": {},
   "outputs": [
    {
     "name": "stdout",
     "output_type": "stream",
     "text": [
      "electrically power vehicle recite claim wherein say ventilator mean include air passage mean direct air say fan mean outlet mean external say vehicle\n"
     ]
    }
   ],
   "source": [
    "print(db['text_clean'].iloc[10])"
   ]
  },
  {
   "cell_type": "markdown",
   "metadata": {},
   "source": [
    "## Save the pre-processed dataset with Pickle"
   ]
  },
  {
   "cell_type": "code",
   "execution_count": 9,
   "metadata": {},
   "outputs": [],
   "source": [
    "with open('Pickle_Files/Claims_cleaned.pickle', 'wb') as file:\n",
    "    pickle.dump(db, file)"
   ]
  },
  {
   "cell_type": "code",
   "execution_count": null,
   "metadata": {},
   "outputs": [],
   "source": []
  }
 ],
 "metadata": {
  "kernelspec": {
   "display_name": "Python 3",
   "language": "python",
   "name": "python3"
  },
  "language_info": {
   "codemirror_mode": {
    "name": "ipython",
    "version": 3
   },
   "file_extension": ".py",
   "mimetype": "text/x-python",
   "name": "python",
   "nbconvert_exporter": "python",
   "pygments_lexer": "ipython3",
   "version": "3.7.6"
  }
 },
 "nbformat": 4,
 "nbformat_minor": 4
}
