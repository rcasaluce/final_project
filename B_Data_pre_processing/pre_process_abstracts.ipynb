{
 "cells": [
  {
   "cell_type": "code",
   "execution_count": 1,
   "metadata": {},
   "outputs": [],
   "source": [
    "from numpy.random import seed\n",
    "seed(3)\n",
    "import pandas as pd\n",
    "import numpy as np\n",
    "import warnings\n",
    "warnings.filterwarnings(\"ignore\")\n",
    "from os.path import expanduser as ospath\n",
    "import pickle\n",
    "from My_functions.A_merge_datasets import merge_select_columns \n",
    "from My_functions.B_pre_processing_data import pre_process_db  "
   ]
  },
  {
   "cell_type": "markdown",
   "metadata": {},
   "source": [
    "## Import the four datasets to be merged together"
   ]
  },
  {
   "cell_type": "code",
   "execution_count": 2,
   "metadata": {},
   "outputs": [],
   "source": [
    "dt_fw = pd.read_excel(ospath('~/code_final_project/Labelled_data/FW.xlsx'))\n",
    "dt_fw = dt_fw[:1185]\n",
    "dt_LIB = pd.read_excel(ospath('~/code_final_project/Labelled_data/LIB.xlsx'))\n",
    "dt_LIB = dt_LIB[:1217]\n",
    "dt_LC = pd.read_excel(ospath('~/code_final_project/Labelled_data/LC.xlsx'))\n",
    "dt_SC = pd.read_excel(ospath('~/code_final_project/Labelled_data/SC.xlsx'))\n",
    "\n",
    "\n",
    "dt_LIB['publn_nr'] = np.int64(dt_LIB['publn_nr'])\n",
    "dt_LC['publn_nr'] = np.int64(dt_LC['publn_nr'])\n",
    "dt_fw['publn_nr'] = np.int64(dt_fw['publn_nr'])\n",
    "dt_SC['publn_nr'] = np.int64(dt_SC['publn_nr'])"
   ]
  },
  {
   "cell_type": "code",
   "execution_count": 3,
   "metadata": {},
   "outputs": [],
   "source": [
    "db = merge_select_columns(dt_fw, dt_LC, dt_SC, dt_LIB, labels = 'Yes', abstracts = 'Yes')"
   ]
  },
  {
   "cell_type": "code",
   "execution_count": 4,
   "metadata": {},
   "outputs": [],
   "source": [
    "#delete duplicates patents\n",
    "db = db.drop_duplicates(['publn_nr'])"
   ]
  },
  {
   "cell_type": "code",
   "execution_count": 5,
   "metadata": {},
   "outputs": [
    {
     "data": {
      "text/plain": [
       "(194, 4)"
      ]
     },
     "execution_count": 5,
     "metadata": {},
     "output_type": "execute_result"
    }
   ],
   "source": [
    "db.shape"
   ]
  },
  {
   "cell_type": "markdown",
   "metadata": {},
   "source": [
    "## Call text pre-processing function"
   ]
  },
  {
   "cell_type": "code",
   "execution_count": 6,
   "metadata": {},
   "outputs": [],
   "source": [
    "db = pre_process_db(db)"
   ]
  },
  {
   "cell_type": "code",
   "execution_count": 7,
   "metadata": {},
   "outputs": [
    {
     "data": {
      "text/html": [
       "<div>\n",
       "<style scoped>\n",
       "    .dataframe tbody tr th:only-of-type {\n",
       "        vertical-align: middle;\n",
       "    }\n",
       "\n",
       "    .dataframe tbody tr th {\n",
       "        vertical-align: top;\n",
       "    }\n",
       "\n",
       "    .dataframe thead th {\n",
       "        text-align: right;\n",
       "    }\n",
       "</style>\n",
       "<table border=\"1\" class=\"dataframe\">\n",
       "  <thead>\n",
       "    <tr style=\"text-align: right;\">\n",
       "      <th></th>\n",
       "      <th>publn_nr</th>\n",
       "      <th>type</th>\n",
       "      <th>label</th>\n",
       "      <th>text</th>\n",
       "      <th>text_clean</th>\n",
       "    </tr>\n",
       "  </thead>\n",
       "  <tbody>\n",
       "    <tr>\n",
       "      <th>0</th>\n",
       "      <td>4254843</td>\n",
       "      <td>Abstract</td>\n",
       "      <td>product</td>\n",
       "      <td>An electrically powered vehicle having a bank ...</td>\n",
       "      <td>electrically power vehicle bank batteries supp...</td>\n",
       "    </tr>\n",
       "    <tr>\n",
       "      <th>20</th>\n",
       "      <td>5680032</td>\n",
       "      <td>Abstract</td>\n",
       "      <td>product</td>\n",
       "      <td>During forward motion of an electrically-power...</td>\n",
       "      <td>forward motion electrically-powered vehicle ai...</td>\n",
       "    </tr>\n",
       "    <tr>\n",
       "      <th>51</th>\n",
       "      <td>5272378</td>\n",
       "      <td>Abstract</td>\n",
       "      <td>product</td>\n",
       "      <td>An apparatus for generating power by utilizing...</td>\n",
       "      <td>apparatus generate power utilize wind produce ...</td>\n",
       "    </tr>\n",
       "    <tr>\n",
       "      <th>68</th>\n",
       "      <td>4309620</td>\n",
       "      <td>Abstract</td>\n",
       "      <td>product</td>\n",
       "      <td>In a preferred embodiment, the flywheel electr...</td>\n",
       "      <td>prefer embodiment flywheel electric transmissi...</td>\n",
       "    </tr>\n",
       "    <tr>\n",
       "      <th>118</th>\n",
       "      <td>5514923</td>\n",
       "      <td>Abstract</td>\n",
       "      <td>product</td>\n",
       "      <td>A high efficiency multi-phasic type DC motor i...</td>\n",
       "      <td>high efficiency multi-phasic type dc motor inc...</td>\n",
       "    </tr>\n",
       "  </tbody>\n",
       "</table>\n",
       "</div>"
      ],
      "text/plain": [
       "     publn_nr      type    label  \\\n",
       "0     4254843  Abstract  product   \n",
       "20    5680032  Abstract  product   \n",
       "51    5272378  Abstract  product   \n",
       "68    4309620  Abstract  product   \n",
       "118   5514923  Abstract  product   \n",
       "\n",
       "                                                  text  \\\n",
       "0    An electrically powered vehicle having a bank ...   \n",
       "20   During forward motion of an electrically-power...   \n",
       "51   An apparatus for generating power by utilizing...   \n",
       "68   In a preferred embodiment, the flywheel electr...   \n",
       "118  A high efficiency multi-phasic type DC motor i...   \n",
       "\n",
       "                                            text_clean  \n",
       "0    electrically power vehicle bank batteries supp...  \n",
       "20   forward motion electrically-powered vehicle ai...  \n",
       "51   apparatus generate power utilize wind produce ...  \n",
       "68   prefer embodiment flywheel electric transmissi...  \n",
       "118  high efficiency multi-phasic type dc motor inc...  "
      ]
     },
     "execution_count": 7,
     "metadata": {},
     "output_type": "execute_result"
    }
   ],
   "source": [
    "db.head()"
   ]
  },
  {
   "cell_type": "code",
   "execution_count": 8,
   "metadata": {},
   "outputs": [
    {
     "name": "stdout",
     "output_type": "stream",
     "text": [
      "Methods and systems are disclosed for managing a plurality of power resource assets from a central control center, operating the plurality of power resource assets in an automated fashion as a single power plant.\n"
     ]
    }
   ],
   "source": [
    "print(db['text'].iloc[10])"
   ]
  },
  {
   "cell_type": "code",
   "execution_count": 9,
   "metadata": {},
   "outputs": [
    {
     "name": "stdout",
     "output_type": "stream",
     "text": [
      "methods systems disclose manage plurality power resource assets central control center operate plurality power resource assets automate fashion single power plant\n"
     ]
    }
   ],
   "source": [
    "print(db['text_clean'].iloc[10])"
   ]
  },
  {
   "cell_type": "markdown",
   "metadata": {},
   "source": [
    "## Save the pre-processed dataset with Pickle\n"
   ]
  },
  {
   "cell_type": "code",
   "execution_count": 10,
   "metadata": {},
   "outputs": [],
   "source": [
    "with open('Pickle_Files/Abstracts_cleaned.pickle', 'wb') as file:\n",
    "    pickle.dump(db, file)"
   ]
  },
  {
   "cell_type": "code",
   "execution_count": null,
   "metadata": {},
   "outputs": [],
   "source": []
  }
 ],
 "metadata": {
  "kernelspec": {
   "display_name": "Python 3",
   "language": "python",
   "name": "python3"
  },
  "language_info": {
   "codemirror_mode": {
    "name": "ipython",
    "version": 3
   },
   "file_extension": ".py",
   "mimetype": "text/x-python",
   "name": "python",
   "nbconvert_exporter": "python",
   "pygments_lexer": "ipython3",
   "version": "3.7.6"
  }
 },
 "nbformat": 4,
 "nbformat_minor": 4
}
