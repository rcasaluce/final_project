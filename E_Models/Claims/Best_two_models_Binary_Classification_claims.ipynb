{
 "cells": [
  {
   "cell_type": "code",
   "execution_count": 1,
   "metadata": {},
   "outputs": [],
   "source": [
    "import random\n",
    "from numpy.random import seed\n",
    "seed(3)\n",
    "import numpy as np\n",
    "np.random.default_rng\n",
    "import warnings\n",
    "warnings.filterwarnings(\"ignore\")\n",
    "import pandas as pd\n",
    "%matplotlib inline\n",
    "import matplotlib.pyplot as plt\n",
    "import seaborn as sns\n",
    "import pickle\n",
    "from os.path import expanduser as ospath\n",
    "import os\n",
    "os.chdir(\"C:/Users/rober/project/B_Data_pre_processing/My_functions\")\n",
    "from C_metrics_binary import calc_binary_class_metrics\n",
    "from E_MAEweighted_funct import MAE_weighted\n",
    "os.chdir(\"C:/Users/rober/project/F_Extra_Experiments_Abstracts/\")\n",
    "\n",
    "import xgboost as xgb\n",
    "from sklearn.preprocessing import label_binarize\n",
    "from sklearn.model_selection import KFold,GridSearchCV, cross_val_score, RandomizedSearchCV\n",
    "from sklearn.pipeline import Pipeline, make_pipeline\n",
    "from sklearn.ensemble import RandomForestClassifier\n",
    "from sklearn import metrics\n",
    "from sklearn.multiclass import OneVsRestClassifier\n",
    "from sklearn.feature_extraction.text import TfidfVectorizer\n",
    "from imblearn.over_sampling import SMOTE\n",
    "from collections import Counter"
   ]
  },
  {
   "cell_type": "markdown",
   "metadata": {},
   "source": [
    "## Steps:\n",
    "\n",
    "> 1. Load pre-processed text\n",
    "> 2. Split in three datasets and divide the features from the targets\n",
    "> 3. Word representation using TF-IDF \n",
    "> 4. Using SMOTE to Balanced the train data\n",
    "> 5. Train the two best learning algorithms - Random Forest and XGBoost\n",
    "\n",
    "\n",
    "        First algorithm Random Forest:\n",
    "        \n",
    ">>        5.1 Train anduntuned test Random Forest and TF-IDF both \n",
    ">>        5.2 Tune TF-IDF\n",
    ">>        5.3 Train and test Random Forest with only TF-IDF tuned\n",
    ">>        5.4 Tune hyperparameters Random Forest\n",
    ">>        5.5 Train and test Random Forest with TF-IDF both tuned\n",
    "        \n",
    "        Second algorithm XGBoost:\n",
    "        \n",
    ">>        5.6 Train and test XGBoost and TF-IDF both untuned\n",
    ">>        5.7 Tune TF-IDF\n",
    ">>        5.8 Train and test XGBoost with only TF-IDF tuned\n",
    ">>        5.9 Tune hyperparameters XGBoost\n",
    ">>        5.10 Train and test XGBoost with TF-IDF both tuned\n",
    "        \n",
    "> 6. Best model    \n",
    "\n",
    "***"
   ]
  },
  {
   "cell_type": "markdown",
   "metadata": {},
   "source": [
    "# 1. Load pre-processed text\n"
   ]
  },
  {
   "cell_type": "code",
   "execution_count": 2,
   "metadata": {},
   "outputs": [],
   "source": [
    "with open(ospath('~/code_final_project/B_Data_pre_processing/Pickle_Files/Claims_cleaned.pickle'), 'rb') as data:\n",
    "    db = pickle.load(data)"
   ]
  },
  {
   "cell_type": "code",
   "execution_count": 3,
   "metadata": {},
   "outputs": [
    {
     "data": {
      "text/html": [
       "<div>\n",
       "<style scoped>\n",
       "    .dataframe tbody tr th:only-of-type {\n",
       "        vertical-align: middle;\n",
       "    }\n",
       "\n",
       "    .dataframe tbody tr th {\n",
       "        vertical-align: top;\n",
       "    }\n",
       "\n",
       "    .dataframe thead th {\n",
       "        text-align: right;\n",
       "    }\n",
       "</style>\n",
       "<table border=\"1\" class=\"dataframe\">\n",
       "  <thead>\n",
       "    <tr style=\"text-align: right;\">\n",
       "      <th></th>\n",
       "      <th>publn_nr</th>\n",
       "      <th>type</th>\n",
       "      <th>label</th>\n",
       "      <th>text</th>\n",
       "      <th>text_clean</th>\n",
       "    </tr>\n",
       "  </thead>\n",
       "  <tbody>\n",
       "    <tr>\n",
       "      <th>1</th>\n",
       "      <td>4254843</td>\n",
       "      <td>Claim 1</td>\n",
       "      <td>product</td>\n",
       "      <td>An electrically powered vehicle comprising: a ...</td>\n",
       "      <td>electrically power vehicle comprise body suppo...</td>\n",
       "    </tr>\n",
       "    <tr>\n",
       "      <th>2</th>\n",
       "      <td>4254843</td>\n",
       "      <td>Claim 2</td>\n",
       "      <td>product</td>\n",
       "      <td>An electrically powered vehicle as recited in ...</td>\n",
       "      <td>electrically power vehicle recite claim wherei...</td>\n",
       "    </tr>\n",
       "    <tr>\n",
       "      <th>3</th>\n",
       "      <td>4254843</td>\n",
       "      <td>Claim 3</td>\n",
       "      <td>product</td>\n",
       "      <td>An electrically powered vehicle as recited in ...</td>\n",
       "      <td>electrically power vehicle recite claim wherei...</td>\n",
       "    </tr>\n",
       "    <tr>\n",
       "      <th>4</th>\n",
       "      <td>4254843</td>\n",
       "      <td>Claim 4</td>\n",
       "      <td>product</td>\n",
       "      <td>An electrically powered vehicle as recited in ...</td>\n",
       "      <td>electrically power vehicle recite claim compri...</td>\n",
       "    </tr>\n",
       "    <tr>\n",
       "      <th>5</th>\n",
       "      <td>4254843</td>\n",
       "      <td>Claim 5</td>\n",
       "      <td>product</td>\n",
       "      <td>An electrically powered vehicle as recited in ...</td>\n",
       "      <td>electrically power vehicle recite claim compri...</td>\n",
       "    </tr>\n",
       "  </tbody>\n",
       "</table>\n",
       "</div>"
      ],
      "text/plain": [
       "   publn_nr     type    label  \\\n",
       "1   4254843  Claim 1  product   \n",
       "2   4254843  Claim 2  product   \n",
       "3   4254843  Claim 3  product   \n",
       "4   4254843  Claim 4  product   \n",
       "5   4254843  Claim 5  product   \n",
       "\n",
       "                                                text  \\\n",
       "1  An electrically powered vehicle comprising: a ...   \n",
       "2  An electrically powered vehicle as recited in ...   \n",
       "3  An electrically powered vehicle as recited in ...   \n",
       "4  An electrically powered vehicle as recited in ...   \n",
       "5  An electrically powered vehicle as recited in ...   \n",
       "\n",
       "                                          text_clean  \n",
       "1  electrically power vehicle comprise body suppo...  \n",
       "2  electrically power vehicle recite claim wherei...  \n",
       "3  electrically power vehicle recite claim wherei...  \n",
       "4  electrically power vehicle recite claim compri...  \n",
       "5  electrically power vehicle recite claim compri...  "
      ]
     },
     "execution_count": 3,
     "metadata": {},
     "output_type": "execute_result"
    }
   ],
   "source": [
    "db.head()"
   ]
  },
  {
   "cell_type": "markdown",
   "metadata": {},
   "source": [
    "This convert name labels form string to numbers and merge into only two classes "
   ]
  },
  {
   "cell_type": "code",
   "execution_count": 4,
   "metadata": {},
   "outputs": [
    {
     "data": {
      "text/html": [
       "<div>\n",
       "<style scoped>\n",
       "    .dataframe tbody tr th:only-of-type {\n",
       "        vertical-align: middle;\n",
       "    }\n",
       "\n",
       "    .dataframe tbody tr th {\n",
       "        vertical-align: top;\n",
       "    }\n",
       "\n",
       "    .dataframe thead th {\n",
       "        text-align: right;\n",
       "    }\n",
       "</style>\n",
       "<table border=\"1\" class=\"dataframe\">\n",
       "  <thead>\n",
       "    <tr style=\"text-align: right;\">\n",
       "      <th></th>\n",
       "      <th>publn_nr</th>\n",
       "      <th>type</th>\n",
       "      <th>text</th>\n",
       "      <th>text_clean</th>\n",
       "    </tr>\n",
       "    <tr>\n",
       "      <th>label</th>\n",
       "      <th></th>\n",
       "      <th></th>\n",
       "      <th></th>\n",
       "      <th></th>\n",
       "    </tr>\n",
       "  </thead>\n",
       "  <tbody>\n",
       "    <tr>\n",
       "      <th>0</th>\n",
       "      <td>1047</td>\n",
       "      <td>1047</td>\n",
       "      <td>1047</td>\n",
       "      <td>1047</td>\n",
       "    </tr>\n",
       "    <tr>\n",
       "      <th>1</th>\n",
       "      <td>3810</td>\n",
       "      <td>3810</td>\n",
       "      <td>3810</td>\n",
       "      <td>3810</td>\n",
       "    </tr>\n",
       "  </tbody>\n",
       "</table>\n",
       "</div>"
      ],
      "text/plain": [
       "       publn_nr  type  text  text_clean\n",
       "label                                  \n",
       "0          1047  1047  1047        1047\n",
       "1          3810  3810  3810        3810"
      ]
     },
     "execution_count": 4,
     "metadata": {},
     "output_type": "execute_result"
    }
   ],
   "source": [
    "db['label'] = db.label.replace(to_replace=['product', 'process', 'use claim', 'product and process'], value=[1, 0, 0,1])\n",
    "db.groupby(by='label').count()"
   ]
  },
  {
   "cell_type": "markdown",
   "metadata": {},
   "source": [
    "***"
   ]
  },
  {
   "cell_type": "markdown",
   "metadata": {},
   "source": [
    "# 2. Split in three datasets and divide the features from the targets\n",
    "\n",
    "Train 50%, validation 25% and test 25% datasets. \n"
   ]
  },
  {
   "cell_type": "code",
   "execution_count": 5,
   "metadata": {},
   "outputs": [
    {
     "name": "stdout",
     "output_type": "stream",
     "text": [
      "number of patents : 194\n",
      "-------------------------------------------------------------------------------- \n",
      "\n",
      "Train data:\n",
      "Train data shape: (2570, 5) \n",
      "Number of patents: 98\n",
      "First patent number train: 5680032\n",
      "\n",
      "Train frequency classes:        publn_nr\n",
      "label          \n",
      "0           567\n",
      "1          2003\n",
      "-------------------------------------------------------------------------------- \n",
      "\n",
      "Test data:\n",
      "Test data shape: (1205, 5) \n",
      "Number of patents: 48\n",
      "First patent number test: 1353191\n",
      "\n",
      "Test frequency classes:        publn_nr\n",
      "label          \n",
      "0           312\n",
      "1           893\n",
      "-------------------------------------------------------------------------------- \n",
      "\n",
      "Val data:\n",
      "Val data shape: (1082, 5) \n",
      "Number of patents: 48\n",
      "First patent number val: 7061749\n",
      "\n",
      "Val frequency classes:        publn_nr\n",
      "label          \n",
      "0           168\n",
      "1           914 \n",
      "\n"
     ]
    }
   ],
   "source": [
    "def split_train_test_val(db):\n",
    "    \n",
    "    random.seed(0)\n",
    "    pat_nr = list(db['publn_nr'].unique())\n",
    "    print('number of patents :',str(len(pat_nr )))\n",
    "    \n",
    "    test =  random.sample(pat_nr, 48)\n",
    "\n",
    "    train_test = [i for i in pat_nr if i not in test]\n",
    "\n",
    "    val = random.sample(train_test, 48)\n",
    "\n",
    "    train = [i for i in train_test if i not in val]\n",
    "\n",
    "    #create an empty data set\n",
    "    train_db = pd.DataFrame()                             \n",
    "    for num in range(len(train)):   \n",
    "        train_db = train_db.append(db.loc[db['publn_nr'] == train[num]], ignore_index=True)\n",
    "\n",
    "    #create an empty data set\n",
    "    val_db = pd.DataFrame()                             \n",
    "    for num in range(len(val)):   \n",
    "        val_db = val_db.append(db.loc[db['publn_nr'] == val[num]], ignore_index=True)\n",
    "\n",
    "    #create an empty data set\n",
    "    test_db = pd.DataFrame()                             \n",
    "    for num in range(len(test)):   \n",
    "        test_db = test_db.append(db.loc[db['publn_nr'] == test[num]], ignore_index=True)\n",
    "\n",
    "    print('-'*80,'\\n')\n",
    "    print('Train data:')\n",
    "    print('Train data shape: {} \\nNumber of patents: {}'.format(train_db.shape ,len(train_db['publn_nr'].unique())))\n",
    "    print('First patent number train:',train_db['publn_nr'].iloc[0])\n",
    "    print()\n",
    "    print('Train frequency classes:',train_db.groupby(by='label').count().iloc[:,:1])\n",
    "    print('-'*80,'\\n')\n",
    "    print('Test data:')\n",
    "    print('Test data shape: {} \\nNumber of patents: {}'.format(test_db.shape, len(test_db['publn_nr'].unique())))\n",
    "    print('First patent number test:',test_db['publn_nr'].iloc[0])\n",
    "    print()\n",
    "    print('Test frequency classes:',test_db.groupby(by='label').count().iloc[:,:1])\n",
    "    print('-'*80,'\\n')\n",
    "    print('Val data:')\n",
    "    print('Val data shape: {} \\nNumber of patents: {}'.format(val_db.shape, len(val_db['publn_nr'].unique())))\n",
    "    print('First patent number val:',val_db['publn_nr'].iloc[0])\n",
    "    print()\n",
    "    print('Val frequency classes:',val_db.groupby(by='label').count().iloc[:,:1],'\\n')\n",
    "    \n",
    "    \n",
    "    return train_db, test_db, val_db\n",
    "\n",
    "train_db, test_db, val_db = split_train_test_val(db) \n"
   ]
  },
  {
   "cell_type": "markdown",
   "metadata": {},
   "source": [
    "### Separate for the three datasets the features from the labels"
   ]
  },
  {
   "cell_type": "code",
   "execution_count": 6,
   "metadata": {},
   "outputs": [],
   "source": [
    "X_train = train_db['text_clean']\n",
    "y_train = train_db['label']\n",
    "\n",
    "X_val = val_db['text_clean']\n",
    "y_val = val_db['label']\n",
    "\n",
    "X_test = test_db['text_clean']\n",
    "y_test = test_db['label']\n",
    "\n",
    "y_train = y_train.astype('int')\n",
    "y_val = y_val.astype('int')\n",
    "y_test = y_test.astype('int')"
   ]
  },
  {
   "cell_type": "markdown",
   "metadata": {},
   "source": [
    "Initialisation dataset to store all the results"
   ]
  },
  {
   "cell_type": "code",
   "execution_count": 7,
   "metadata": {},
   "outputs": [],
   "source": [
    "results_score = pd.DataFrame()"
   ]
  },
  {
   "cell_type": "markdown",
   "metadata": {},
   "source": [
    "***"
   ]
  },
  {
   "cell_type": "markdown",
   "metadata": {},
   "source": [
    "# 3. Word representation using TF-IDF\n",
    "At the first, I do not select the features dimension. I run the model with all the features. I use the same TF-IDF vectorizer below for the second untuned learning algorithm - XGBoost. "
   ]
  },
  {
   "cell_type": "code",
   "execution_count": 8,
   "metadata": {},
   "outputs": [],
   "source": [
    "tfidf = TfidfVectorizer(ngram_range = (1,2), encoding='utf-8', sublinear_tf = True)\n",
    "\n",
    "X_train_tf = tfidf.fit_transform(X_train).toarray()\n",
    "X_test_tf = tfidf.transform(X_test).toarray()\n",
    "X_val_tf = tfidf.transform(X_val).toarray()\n",
    "\n",
    "\n",
    "y_train = y_train.astype('int')\n",
    "y_test = y_test.astype('int')\n",
    "y_val = y_val.astype('int')"
   ]
  },
  {
   "cell_type": "markdown",
   "metadata": {},
   "source": [
    "***"
   ]
  },
  {
   "cell_type": "markdown",
   "metadata": {},
   "source": [
    "# 4. Using SMOTE to Balanced the train data"
   ]
  },
  {
   "cell_type": "code",
   "execution_count": 9,
   "metadata": {},
   "outputs": [],
   "source": [
    "balance = SMOTE()\n",
    "X_train_bal, y_train_bal = balance.fit_resample(X_train_tf, y_train)"
   ]
  },
  {
   "cell_type": "markdown",
   "metadata": {},
   "source": [
    "***"
   ]
  },
  {
   "cell_type": "markdown",
   "metadata": {},
   "source": [
    "# 5. Train the two best learning algorithms - Random Forest and XGBoost"
   ]
  },
  {
   "cell_type": "markdown",
   "metadata": {},
   "source": [
    "## 5.1 Train and test Random Forest and TF-IDF both untuned\n"
   ]
  },
  {
   "cell_type": "markdown",
   "metadata": {},
   "source": [
    "### First random forest model without any tuning and no feature dimension selected."
   ]
  },
  {
   "cell_type": "markdown",
   "metadata": {},
   "source": [
    "Train and evaluate the model with validation data. "
   ]
  },
  {
   "cell_type": "code",
   "execution_count": 10,
   "metadata": {},
   "outputs": [
    {
     "name": "stdout",
     "output_type": "stream",
     "text": [
      "Accuracy on validation data: \n",
      " 0.9713493530499075\n",
      "Classification report: \n",
      "               precision    recall  f1-score   support\n",
      "\n",
      "           0       0.96      0.85      0.90       168\n",
      "           1       0.97      0.99      0.98       914\n",
      "\n",
      "    accuracy                           0.97      1082\n",
      "   macro avg       0.97      0.92      0.94      1082\n",
      "weighted avg       0.97      0.97      0.97      1082\n",
      "\n",
      "Confusion Matrix validation: \n",
      "[[143  25]\n",
      " [  6 908]]\n"
     ]
    }
   ],
   "source": [
    "random.seed(2)\n",
    "rf = RandomForestClassifier(random_state = 8, n_jobs = -1)\n",
    "rf.fit(X_train_bal, y_train_bal)\n",
    "rf_pred = rf.predict(X_val_tf)\n",
    "\n",
    "print(\"Accuracy on validation data: \\n\",metrics.accuracy_score(y_val, rf_pred))\n",
    "print(\"Classification report: \\n\",metrics.classification_report(y_val, rf_pred))\n",
    "print('Confusion Matrix validation: \\n' + str(metrics.confusion_matrix(y_val, rf_pred)))\n",
    "\n",
    "\n"
   ]
  },
  {
   "cell_type": "code",
   "execution_count": 11,
   "metadata": {},
   "outputs": [
    {
     "data": {
      "text/html": [
       "<div>\n",
       "<style scoped>\n",
       "    .dataframe tbody tr th:only-of-type {\n",
       "        vertical-align: middle;\n",
       "    }\n",
       "\n",
       "    .dataframe tbody tr th {\n",
       "        vertical-align: top;\n",
       "    }\n",
       "\n",
       "    .dataframe thead th {\n",
       "        text-align: right;\n",
       "    }\n",
       "</style>\n",
       "<table border=\"1\" class=\"dataframe\">\n",
       "  <thead>\n",
       "    <tr style=\"text-align: right;\">\n",
       "      <th></th>\n",
       "      <th>Model</th>\n",
       "      <th>Data</th>\n",
       "      <th>Precision</th>\n",
       "      <th>Recall</th>\n",
       "      <th>Specificity</th>\n",
       "      <th>F1-score</th>\n",
       "      <th>Accuracy</th>\n",
       "      <th>Bal Accuracy</th>\n",
       "      <th>AUC</th>\n",
       "    </tr>\n",
       "  </thead>\n",
       "  <tbody>\n",
       "    <tr>\n",
       "      <th>0</th>\n",
       "      <td>RF not tuned</td>\n",
       "      <td>Validation</td>\n",
       "      <td>0.973205</td>\n",
       "      <td>0.993435</td>\n",
       "      <td>0.85119</td>\n",
       "      <td>0.983216</td>\n",
       "      <td>0.971349</td>\n",
       "      <td>0.922313</td>\n",
       "      <td>0.922313</td>\n",
       "    </tr>\n",
       "  </tbody>\n",
       "</table>\n",
       "</div>"
      ],
      "text/plain": [
       "          Model        Data  Precision    Recall  Specificity  F1-score  \\\n",
       "0  RF not tuned  Validation   0.973205  0.993435      0.85119  0.983216   \n",
       "\n",
       "   Accuracy  Bal Accuracy       AUC  \n",
       "0  0.971349      0.922313  0.922313  "
      ]
     },
     "execution_count": 11,
     "metadata": {},
     "output_type": "execute_result"
    }
   ],
   "source": [
    "sc = calc_binary_class_metrics(y_val, rf_pred, 'RF not tuned', 'Validation')\n",
    "results_score = results_score.append(sc)\n",
    "results_score"
   ]
  },
  {
   "cell_type": "code",
   "execution_count": 12,
   "metadata": {},
   "outputs": [
    {
     "name": "stdout",
     "output_type": "stream",
     "text": [
      "Accuracy on the test data: \n",
      " 0.9452282157676348\n",
      "Classification report: \n",
      "               precision    recall  f1-score   support\n",
      "\n",
      "           0       0.98      0.81      0.88       312\n",
      "           1       0.94      0.99      0.96       893\n",
      "\n",
      "    accuracy                           0.95      1205\n",
      "   macro avg       0.96      0.90      0.92      1205\n",
      "weighted avg       0.95      0.95      0.94      1205\n",
      "\n",
      "Confusion Matrix test: \n",
      "[[252  60]\n",
      " [  6 887]]\n"
     ]
    }
   ],
   "source": [
    "random.seed(2)\n",
    "rf_pred_test = rf.predict(X_test_tf)\n",
    "print(\"Accuracy on the test data: \\n\", metrics.accuracy_score(y_test, rf_pred_test))\n",
    "print(\"Classification report: \\n\", metrics.classification_report(y_test, rf_pred_test))\n",
    "print('Confusion Matrix test: \\n' + str(metrics.confusion_matrix(y_test, rf_pred_test)))"
   ]
  },
  {
   "cell_type": "code",
   "execution_count": 13,
   "metadata": {},
   "outputs": [
    {
     "data": {
      "text/html": [
       "<div>\n",
       "<style scoped>\n",
       "    .dataframe tbody tr th:only-of-type {\n",
       "        vertical-align: middle;\n",
       "    }\n",
       "\n",
       "    .dataframe tbody tr th {\n",
       "        vertical-align: top;\n",
       "    }\n",
       "\n",
       "    .dataframe thead th {\n",
       "        text-align: right;\n",
       "    }\n",
       "</style>\n",
       "<table border=\"1\" class=\"dataframe\">\n",
       "  <thead>\n",
       "    <tr style=\"text-align: right;\">\n",
       "      <th></th>\n",
       "      <th>Model</th>\n",
       "      <th>Data</th>\n",
       "      <th>Precision</th>\n",
       "      <th>Recall</th>\n",
       "      <th>Specificity</th>\n",
       "      <th>F1-score</th>\n",
       "      <th>Accuracy</th>\n",
       "      <th>Bal Accuracy</th>\n",
       "      <th>AUC</th>\n",
       "    </tr>\n",
       "  </thead>\n",
       "  <tbody>\n",
       "    <tr>\n",
       "      <th>0</th>\n",
       "      <td>RF not tuned</td>\n",
       "      <td>Validation</td>\n",
       "      <td>0.973205</td>\n",
       "      <td>0.993435</td>\n",
       "      <td>0.851190</td>\n",
       "      <td>0.983216</td>\n",
       "      <td>0.971349</td>\n",
       "      <td>0.922313</td>\n",
       "      <td>0.922313</td>\n",
       "    </tr>\n",
       "    <tr>\n",
       "      <th>0</th>\n",
       "      <td>RF not tuned</td>\n",
       "      <td>Test</td>\n",
       "      <td>0.936642</td>\n",
       "      <td>0.993281</td>\n",
       "      <td>0.807692</td>\n",
       "      <td>0.964130</td>\n",
       "      <td>0.945228</td>\n",
       "      <td>0.900487</td>\n",
       "      <td>0.900487</td>\n",
       "    </tr>\n",
       "  </tbody>\n",
       "</table>\n",
       "</div>"
      ],
      "text/plain": [
       "          Model        Data  Precision    Recall  Specificity  F1-score  \\\n",
       "0  RF not tuned  Validation   0.973205  0.993435     0.851190  0.983216   \n",
       "0  RF not tuned        Test   0.936642  0.993281     0.807692  0.964130   \n",
       "\n",
       "   Accuracy  Bal Accuracy       AUC  \n",
       "0  0.971349      0.922313  0.922313  \n",
       "0  0.945228      0.900487  0.900487  "
      ]
     },
     "execution_count": 13,
     "metadata": {},
     "output_type": "execute_result"
    }
   ],
   "source": [
    "sc = calc_binary_class_metrics(y_test, rf_pred_test, 'RF not tuned', 'Test')\n",
    "results_score = results_score.append(sc)\n",
    "results_score"
   ]
  },
  {
   "cell_type": "markdown",
   "metadata": {},
   "source": [
    "***"
   ]
  },
  {
   "cell_type": "markdown",
   "metadata": {},
   "source": [
    "## 5.2 Tuning Hyperparameters TFIDF"
   ]
  },
  {
   "cell_type": "markdown",
   "metadata": {},
   "source": [
    "Tuning on the validation set using Grid Search"
   ]
  },
  {
   "cell_type": "code",
   "execution_count": 14,
   "metadata": {},
   "outputs": [
    {
     "name": "stdout",
     "output_type": "stream",
     "text": [
      "Fitting 2 folds for each of 20 candidates, totalling 40 fits\n"
     ]
    },
    {
     "name": "stderr",
     "output_type": "stream",
     "text": [
      "[Parallel(n_jobs=2)]: Using backend LokyBackend with 2 concurrent workers.\n",
      "[Parallel(n_jobs=2)]: Done  28 tasks      | elapsed:    3.3s\n",
      "[Parallel(n_jobs=2)]: Done  40 out of  40 | elapsed:    4.4s finished\n"
     ]
    },
    {
     "data": {
      "text/plain": [
       "GridSearchCV(cv=2,\n",
       "             estimator=Pipeline(steps=[('tfidf',\n",
       "                                        TfidfVectorizer(lowercase=False)),\n",
       "                                       ('clf',\n",
       "                                        OneVsRestClassifier(estimator=RandomForestClassifier(random_state=8)))]),\n",
       "             n_jobs=2,\n",
       "             param_grid={'tfidf__max_features': (300, 350, 400, 450, 500),\n",
       "                         'tfidf__norm': ('l1', 'l2'),\n",
       "                         'tfidf__sublinear_tf': [True, False]},\n",
       "             verbose=3)"
      ]
     },
     "execution_count": 14,
     "metadata": {},
     "output_type": "execute_result"
    }
   ],
   "source": [
    "random.seed(2)\n",
    "pipe_grid = Pipeline([\n",
    "    ('tfidf', TfidfVectorizer(lowercase=False), ),\n",
    "    ('clf', OneVsRestClassifier(RandomForestClassifier(random_state = 8))),\n",
    "])\n",
    "param_grid = {\n",
    "    'tfidf__norm' :('l1', 'l2'),\n",
    "    'tfidf__max_features' : (300, 350, 400, 450,500),\n",
    "    'tfidf__sublinear_tf' : [True, False]\n",
    "}\n",
    "\n",
    "grid_search_tfidf = GridSearchCV(pipe_grid, param_grid, cv=2, n_jobs=2, verbose=3)\n",
    "grid_search_tfidf.fit(X_val, y_val)\n",
    "\n",
    "\n"
   ]
  },
  {
   "cell_type": "code",
   "execution_count": 15,
   "metadata": {},
   "outputs": [
    {
     "name": "stdout",
     "output_type": "stream",
     "text": [
      "Best parameters for the TF-IDF: \n",
      " {'tfidf__max_features': 500, 'tfidf__norm': 'l2', 'tfidf__sublinear_tf': True}\n"
     ]
    }
   ],
   "source": [
    "print(\"Best parameters for the TF-IDF: \\n\",grid_search_tfidf.best_params_)"
   ]
  },
  {
   "cell_type": "markdown",
   "metadata": {},
   "source": [
    "Now, with the new paramaters for the TFIDF vectorizer"
   ]
  },
  {
   "cell_type": "code",
   "execution_count": 16,
   "metadata": {},
   "outputs": [],
   "source": [
    "tfidf_rand = grid_search_tfidf.best_estimator_[0]\n",
    "X_train_tf_tune = tfidf_rand.fit_transform(X_train).toarray()\n",
    "X_test_tf_tune = tfidf_rand.transform(X_test).toarray()\n",
    "X_val_tf_tune = tfidf_rand.transform(X_val).toarray()"
   ]
  },
  {
   "cell_type": "markdown",
   "metadata": {},
   "source": [
    "I use SMOTE again to balance the dataset"
   ]
  },
  {
   "cell_type": "code",
   "execution_count": 17,
   "metadata": {},
   "outputs": [],
   "source": [
    "balance = SMOTE()\n",
    "X_train_tune_bal, y_train_tune_bal = balance.fit_resample(X_train_tf_tune, y_train)"
   ]
  },
  {
   "cell_type": "markdown",
   "metadata": {},
   "source": [
    "## 5.3 Train and test Random Forest with only TF-IDF tuned"
   ]
  },
  {
   "cell_type": "code",
   "execution_count": 18,
   "metadata": {},
   "outputs": [
    {
     "name": "stdout",
     "output_type": "stream",
     "text": [
      "Accuracy on validation data: \n",
      " 0.9898336414048059\n",
      "Classification report: \n",
      "               precision    recall  f1-score   support\n",
      "\n",
      "           0       0.96      0.97      0.97       168\n",
      "           1       0.99      0.99      0.99       914\n",
      "\n",
      "    accuracy                           0.99      1082\n",
      "   macro avg       0.98      0.98      0.98      1082\n",
      "weighted avg       0.99      0.99      0.99      1082\n",
      "\n",
      "Confusion Matrix validation: \n",
      "[[163   5]\n",
      " [  6 908]]\n"
     ]
    }
   ],
   "source": [
    "random.seed(2)\n",
    "rf_tf_tune = RandomForestClassifier(random_state = 8, n_jobs = -1)\n",
    "rf_tf_tune.fit(X_train_tune_bal, y_train_tune_bal)\n",
    "rf_tf_tune_pred = rf_tf_tune.predict(X_val_tf_tune)\n",
    "\n",
    "print(\"Accuracy on validation data: \\n\",metrics.accuracy_score(y_val, rf_tf_tune_pred))\n",
    "print(\"Classification report: \\n\",metrics.classification_report(y_val, rf_tf_tune_pred))\n",
    "print('Confusion Matrix validation: \\n' + str(metrics.confusion_matrix(y_val, rf_tf_tune_pred)))"
   ]
  },
  {
   "cell_type": "markdown",
   "metadata": {},
   "source": [
    "Print metrics for the validation data."
   ]
  },
  {
   "cell_type": "code",
   "execution_count": 19,
   "metadata": {},
   "outputs": [
    {
     "data": {
      "text/html": [
       "<div>\n",
       "<style scoped>\n",
       "    .dataframe tbody tr th:only-of-type {\n",
       "        vertical-align: middle;\n",
       "    }\n",
       "\n",
       "    .dataframe tbody tr th {\n",
       "        vertical-align: top;\n",
       "    }\n",
       "\n",
       "    .dataframe thead th {\n",
       "        text-align: right;\n",
       "    }\n",
       "</style>\n",
       "<table border=\"1\" class=\"dataframe\">\n",
       "  <thead>\n",
       "    <tr style=\"text-align: right;\">\n",
       "      <th></th>\n",
       "      <th>Model</th>\n",
       "      <th>Data</th>\n",
       "      <th>Precision</th>\n",
       "      <th>Recall</th>\n",
       "      <th>Specificity</th>\n",
       "      <th>F1-score</th>\n",
       "      <th>Accuracy</th>\n",
       "      <th>Bal Accuracy</th>\n",
       "      <th>AUC</th>\n",
       "    </tr>\n",
       "  </thead>\n",
       "  <tbody>\n",
       "    <tr>\n",
       "      <th>0</th>\n",
       "      <td>RF not tuned</td>\n",
       "      <td>Validation</td>\n",
       "      <td>0.973205</td>\n",
       "      <td>0.993435</td>\n",
       "      <td>0.851190</td>\n",
       "      <td>0.983216</td>\n",
       "      <td>0.971349</td>\n",
       "      <td>0.922313</td>\n",
       "      <td>0.922313</td>\n",
       "    </tr>\n",
       "    <tr>\n",
       "      <th>0</th>\n",
       "      <td>RF not tuned</td>\n",
       "      <td>Test</td>\n",
       "      <td>0.936642</td>\n",
       "      <td>0.993281</td>\n",
       "      <td>0.807692</td>\n",
       "      <td>0.964130</td>\n",
       "      <td>0.945228</td>\n",
       "      <td>0.900487</td>\n",
       "      <td>0.900487</td>\n",
       "    </tr>\n",
       "    <tr>\n",
       "      <th>0</th>\n",
       "      <td>RF TF tuned</td>\n",
       "      <td>Validation</td>\n",
       "      <td>0.994524</td>\n",
       "      <td>0.993435</td>\n",
       "      <td>0.970238</td>\n",
       "      <td>0.993979</td>\n",
       "      <td>0.989834</td>\n",
       "      <td>0.981837</td>\n",
       "      <td>0.981837</td>\n",
       "    </tr>\n",
       "  </tbody>\n",
       "</table>\n",
       "</div>"
      ],
      "text/plain": [
       "          Model        Data  Precision    Recall  Specificity  F1-score  \\\n",
       "0  RF not tuned  Validation   0.973205  0.993435     0.851190  0.983216   \n",
       "0  RF not tuned        Test   0.936642  0.993281     0.807692  0.964130   \n",
       "0   RF TF tuned  Validation   0.994524  0.993435     0.970238  0.993979   \n",
       "\n",
       "   Accuracy  Bal Accuracy       AUC  \n",
       "0  0.971349      0.922313  0.922313  \n",
       "0  0.945228      0.900487  0.900487  \n",
       "0  0.989834      0.981837  0.981837  "
      ]
     },
     "execution_count": 19,
     "metadata": {},
     "output_type": "execute_result"
    }
   ],
   "source": [
    "sc = calc_binary_class_metrics(y_val, rf_tf_tune_pred, 'RF TF tuned', 'Validation')\n",
    "results_score = results_score.append(sc)\n",
    "results_score"
   ]
  },
  {
   "cell_type": "markdown",
   "metadata": {},
   "source": [
    "Evaluate the model using the test data. "
   ]
  },
  {
   "cell_type": "code",
   "execution_count": 20,
   "metadata": {},
   "outputs": [
    {
     "name": "stdout",
     "output_type": "stream",
     "text": [
      "Accuracy on the test data: \n",
      " 0.9701244813278008\n",
      "Classification report: \n",
      "               precision    recall  f1-score   support\n",
      "\n",
      "           0       0.95      0.94      0.94       312\n",
      "           1       0.98      0.98      0.98       893\n",
      "\n",
      "    accuracy                           0.97      1205\n",
      "   macro avg       0.96      0.96      0.96      1205\n",
      "weighted avg       0.97      0.97      0.97      1205\n",
      "\n",
      "Confusion Matrix test: \n",
      "[[292  20]\n",
      " [ 16 877]]\n"
     ]
    }
   ],
   "source": [
    "random.seed(2)\n",
    "rf_tf_tune_pred_test = rf_tf_tune.predict(X_test_tf_tune)\n",
    "print(\"Accuracy on the test data: \\n\", metrics.accuracy_score(y_test, rf_tf_tune_pred_test))\n",
    "print(\"Classification report: \\n\",metrics.classification_report(y_test, rf_tf_tune_pred_test))\n",
    "print('Confusion Matrix test: \\n' + str(metrics.confusion_matrix(y_test, rf_tf_tune_pred_test)))"
   ]
  },
  {
   "cell_type": "markdown",
   "metadata": {},
   "source": [
    "Print evalution metrics for the test data. "
   ]
  },
  {
   "cell_type": "code",
   "execution_count": 21,
   "metadata": {},
   "outputs": [
    {
     "data": {
      "text/html": [
       "<div>\n",
       "<style scoped>\n",
       "    .dataframe tbody tr th:only-of-type {\n",
       "        vertical-align: middle;\n",
       "    }\n",
       "\n",
       "    .dataframe tbody tr th {\n",
       "        vertical-align: top;\n",
       "    }\n",
       "\n",
       "    .dataframe thead th {\n",
       "        text-align: right;\n",
       "    }\n",
       "</style>\n",
       "<table border=\"1\" class=\"dataframe\">\n",
       "  <thead>\n",
       "    <tr style=\"text-align: right;\">\n",
       "      <th></th>\n",
       "      <th>Model</th>\n",
       "      <th>Data</th>\n",
       "      <th>Precision</th>\n",
       "      <th>Recall</th>\n",
       "      <th>Specificity</th>\n",
       "      <th>F1-score</th>\n",
       "      <th>Accuracy</th>\n",
       "      <th>Bal Accuracy</th>\n",
       "      <th>AUC</th>\n",
       "    </tr>\n",
       "  </thead>\n",
       "  <tbody>\n",
       "    <tr>\n",
       "      <th>0</th>\n",
       "      <td>RF not tuned</td>\n",
       "      <td>Validation</td>\n",
       "      <td>0.973205</td>\n",
       "      <td>0.993435</td>\n",
       "      <td>0.851190</td>\n",
       "      <td>0.983216</td>\n",
       "      <td>0.971349</td>\n",
       "      <td>0.922313</td>\n",
       "      <td>0.922313</td>\n",
       "    </tr>\n",
       "    <tr>\n",
       "      <th>0</th>\n",
       "      <td>RF not tuned</td>\n",
       "      <td>Test</td>\n",
       "      <td>0.936642</td>\n",
       "      <td>0.993281</td>\n",
       "      <td>0.807692</td>\n",
       "      <td>0.964130</td>\n",
       "      <td>0.945228</td>\n",
       "      <td>0.900487</td>\n",
       "      <td>0.900487</td>\n",
       "    </tr>\n",
       "    <tr>\n",
       "      <th>0</th>\n",
       "      <td>RF TF tuned</td>\n",
       "      <td>Validation</td>\n",
       "      <td>0.994524</td>\n",
       "      <td>0.993435</td>\n",
       "      <td>0.970238</td>\n",
       "      <td>0.993979</td>\n",
       "      <td>0.989834</td>\n",
       "      <td>0.981837</td>\n",
       "      <td>0.981837</td>\n",
       "    </tr>\n",
       "    <tr>\n",
       "      <th>0</th>\n",
       "      <td>RF TF tuned</td>\n",
       "      <td>Test</td>\n",
       "      <td>0.977703</td>\n",
       "      <td>0.982083</td>\n",
       "      <td>0.935897</td>\n",
       "      <td>0.979888</td>\n",
       "      <td>0.970124</td>\n",
       "      <td>0.958990</td>\n",
       "      <td>0.958990</td>\n",
       "    </tr>\n",
       "  </tbody>\n",
       "</table>\n",
       "</div>"
      ],
      "text/plain": [
       "          Model        Data  Precision    Recall  Specificity  F1-score  \\\n",
       "0  RF not tuned  Validation   0.973205  0.993435     0.851190  0.983216   \n",
       "0  RF not tuned        Test   0.936642  0.993281     0.807692  0.964130   \n",
       "0   RF TF tuned  Validation   0.994524  0.993435     0.970238  0.993979   \n",
       "0   RF TF tuned        Test   0.977703  0.982083     0.935897  0.979888   \n",
       "\n",
       "   Accuracy  Bal Accuracy       AUC  \n",
       "0  0.971349      0.922313  0.922313  \n",
       "0  0.945228      0.900487  0.900487  \n",
       "0  0.989834      0.981837  0.981837  \n",
       "0  0.970124      0.958990  0.958990  "
      ]
     },
     "execution_count": 21,
     "metadata": {},
     "output_type": "execute_result"
    }
   ],
   "source": [
    "sc = calc_binary_class_metrics(y_test, rf_tf_tune_pred_test, 'RF TF tuned', 'Test')\n",
    "results_score = results_score.append(sc)\n",
    "results_score"
   ]
  },
  {
   "cell_type": "markdown",
   "metadata": {},
   "source": [
    "## 5.4 Tune Hyperparameters Learning Algorithm"
   ]
  },
  {
   "cell_type": "markdown",
   "metadata": {},
   "source": [
    "I set here the list of parameters to be fitted. For tune the hyperparameter for the learning algorithm, I used Random search method"
   ]
  },
  {
   "cell_type": "code",
   "execution_count": 22,
   "metadata": {},
   "outputs": [],
   "source": [
    "param_grid = {'min_samples_leaf': [1, 2, 4],\n",
    "              'min_samples_split' : [2, 5, 10],\n",
    "             'max_features' : ['auto', 'sqrt'],\n",
    "              'max_depth': [20, 40, 60, 80, 100, None],\n",
    "              'n_estimators' : [200, 400, 600, 800, 1000],\n",
    "             'bootstrap' : [True, False]}"
   ]
  },
  {
   "cell_type": "code",
   "execution_count": 23,
   "metadata": {},
   "outputs": [
    {
     "name": "stdout",
     "output_type": "stream",
     "text": [
      "Fitting 3 folds for each of 50 candidates, totalling 150 fits\n"
     ]
    },
    {
     "name": "stderr",
     "output_type": "stream",
     "text": [
      "[Parallel(n_jobs=1)]: Using backend SequentialBackend with 1 concurrent workers.\n",
      "[Parallel(n_jobs=1)]: Done 150 out of 150 | elapsed:  2.6min finished\n"
     ]
    },
    {
     "data": {
      "text/plain": [
       "RandomizedSearchCV(cv=3, estimator=RandomForestClassifier(random_state=8),\n",
       "                   n_iter=50,\n",
       "                   param_distributions={'bootstrap': [True, False],\n",
       "                                        'max_depth': [20, 40, 60, 80, 100,\n",
       "                                                      None],\n",
       "                                        'max_features': ['auto', 'sqrt'],\n",
       "                                        'min_samples_leaf': [1, 2, 4],\n",
       "                                        'min_samples_split': [2, 5, 10],\n",
       "                                        'n_estimators': [200, 400, 600, 800,\n",
       "                                                         1000]},\n",
       "                   scoring='accuracy', verbose=1)"
      ]
     },
     "execution_count": 23,
     "metadata": {},
     "output_type": "execute_result"
    }
   ],
   "source": [
    "random.seed(2)\n",
    "rand_for = RandomForestClassifier(random_state=8)\n",
    "\n",
    "random_search_rf = RandomizedSearchCV(estimator=rand_for,\n",
    "                                   param_distributions=param_grid,\n",
    "                                   n_iter=50,\n",
    "                                   scoring='accuracy',\n",
    "                                   cv=3, \n",
    "                                   verbose=1)\n",
    "\n",
    "# Fit the random search model\n",
    "random_search_rf.fit(X_val_tf_tune, y_val)"
   ]
  },
  {
   "cell_type": "code",
   "execution_count": 24,
   "metadata": {},
   "outputs": [
    {
     "data": {
      "text/plain": [
       "RandomForestClassifier(bootstrap=False, max_depth=100, max_features='sqrt',\n",
       "                       n_estimators=600, random_state=8)"
      ]
     },
     "execution_count": 24,
     "metadata": {},
     "output_type": "execute_result"
    }
   ],
   "source": [
    "random_search_rf.best_estimator_"
   ]
  },
  {
   "cell_type": "markdown",
   "metadata": {},
   "source": [
    "## 5.5 Train and test Random Forest with TF-IDF both tuned"
   ]
  },
  {
   "cell_type": "code",
   "execution_count": 25,
   "metadata": {},
   "outputs": [
    {
     "name": "stdout",
     "output_type": "stream",
     "text": [
      "Accuracy on validation data: \n",
      " 0.988909426987061\n",
      "Classification report: \n",
      "               precision    recall  f1-score   support\n",
      "\n",
      "           0       0.97      0.96      0.96       168\n",
      "           1       0.99      0.99      0.99       914\n",
      "\n",
      "    accuracy                           0.99      1082\n",
      "   macro avg       0.98      0.98      0.98      1082\n",
      "weighted avg       0.99      0.99      0.99      1082\n",
      "\n",
      "Confusion Matrix validation: \n",
      "[[161   7]\n",
      " [  5 909]]\n"
     ]
    }
   ],
   "source": [
    "random.seed(2)\n",
    "rf_both_tune = random_search_rf.best_estimator_\n",
    "rf_both_tune.fit(X_train_tune_bal, y_train_tune_bal)\n",
    "rf_both_tune_pred = rf_both_tune.predict(X_val_tf_tune)\n",
    "\n",
    "print(\"Accuracy on validation data: \\n\",metrics.accuracy_score(y_val, rf_both_tune_pred))\n",
    "print(\"Classification report: \\n\",metrics.classification_report(y_val, rf_both_tune_pred))\n",
    "print('Confusion Matrix validation: \\n' + str(metrics.confusion_matrix(y_val, rf_both_tune_pred)))"
   ]
  },
  {
   "cell_type": "code",
   "execution_count": 26,
   "metadata": {},
   "outputs": [
    {
     "data": {
      "text/html": [
       "<div>\n",
       "<style scoped>\n",
       "    .dataframe tbody tr th:only-of-type {\n",
       "        vertical-align: middle;\n",
       "    }\n",
       "\n",
       "    .dataframe tbody tr th {\n",
       "        vertical-align: top;\n",
       "    }\n",
       "\n",
       "    .dataframe thead th {\n",
       "        text-align: right;\n",
       "    }\n",
       "</style>\n",
       "<table border=\"1\" class=\"dataframe\">\n",
       "  <thead>\n",
       "    <tr style=\"text-align: right;\">\n",
       "      <th></th>\n",
       "      <th>Model</th>\n",
       "      <th>Data</th>\n",
       "      <th>Precision</th>\n",
       "      <th>Recall</th>\n",
       "      <th>Specificity</th>\n",
       "      <th>F1-score</th>\n",
       "      <th>Accuracy</th>\n",
       "      <th>Bal Accuracy</th>\n",
       "      <th>AUC</th>\n",
       "    </tr>\n",
       "  </thead>\n",
       "  <tbody>\n",
       "    <tr>\n",
       "      <th>0</th>\n",
       "      <td>RF not tuned</td>\n",
       "      <td>Validation</td>\n",
       "      <td>0.973205</td>\n",
       "      <td>0.993435</td>\n",
       "      <td>0.851190</td>\n",
       "      <td>0.983216</td>\n",
       "      <td>0.971349</td>\n",
       "      <td>0.922313</td>\n",
       "      <td>0.922313</td>\n",
       "    </tr>\n",
       "    <tr>\n",
       "      <th>0</th>\n",
       "      <td>RF not tuned</td>\n",
       "      <td>Test</td>\n",
       "      <td>0.936642</td>\n",
       "      <td>0.993281</td>\n",
       "      <td>0.807692</td>\n",
       "      <td>0.964130</td>\n",
       "      <td>0.945228</td>\n",
       "      <td>0.900487</td>\n",
       "      <td>0.900487</td>\n",
       "    </tr>\n",
       "    <tr>\n",
       "      <th>0</th>\n",
       "      <td>RF TF tuned</td>\n",
       "      <td>Validation</td>\n",
       "      <td>0.994524</td>\n",
       "      <td>0.993435</td>\n",
       "      <td>0.970238</td>\n",
       "      <td>0.993979</td>\n",
       "      <td>0.989834</td>\n",
       "      <td>0.981837</td>\n",
       "      <td>0.981837</td>\n",
       "    </tr>\n",
       "    <tr>\n",
       "      <th>0</th>\n",
       "      <td>RF TF tuned</td>\n",
       "      <td>Test</td>\n",
       "      <td>0.977703</td>\n",
       "      <td>0.982083</td>\n",
       "      <td>0.935897</td>\n",
       "      <td>0.979888</td>\n",
       "      <td>0.970124</td>\n",
       "      <td>0.958990</td>\n",
       "      <td>0.958990</td>\n",
       "    </tr>\n",
       "    <tr>\n",
       "      <th>0</th>\n",
       "      <td>RF TF and Algorithm tuned</td>\n",
       "      <td>Validation</td>\n",
       "      <td>0.992358</td>\n",
       "      <td>0.994530</td>\n",
       "      <td>0.958333</td>\n",
       "      <td>0.993443</td>\n",
       "      <td>0.988909</td>\n",
       "      <td>0.976431</td>\n",
       "      <td>0.976431</td>\n",
       "    </tr>\n",
       "  </tbody>\n",
       "</table>\n",
       "</div>"
      ],
      "text/plain": [
       "                       Model        Data  Precision    Recall  Specificity  \\\n",
       "0               RF not tuned  Validation   0.973205  0.993435     0.851190   \n",
       "0               RF not tuned        Test   0.936642  0.993281     0.807692   \n",
       "0                RF TF tuned  Validation   0.994524  0.993435     0.970238   \n",
       "0                RF TF tuned        Test   0.977703  0.982083     0.935897   \n",
       "0  RF TF and Algorithm tuned  Validation   0.992358  0.994530     0.958333   \n",
       "\n",
       "   F1-score  Accuracy  Bal Accuracy       AUC  \n",
       "0  0.983216  0.971349      0.922313  0.922313  \n",
       "0  0.964130  0.945228      0.900487  0.900487  \n",
       "0  0.993979  0.989834      0.981837  0.981837  \n",
       "0  0.979888  0.970124      0.958990  0.958990  \n",
       "0  0.993443  0.988909      0.976431  0.976431  "
      ]
     },
     "execution_count": 26,
     "metadata": {},
     "output_type": "execute_result"
    }
   ],
   "source": [
    "sc = calc_binary_class_metrics(y_val, rf_both_tune_pred, 'RF TF and Algorithm tuned', 'Validation')\n",
    "results_score = results_score.append(sc)\n",
    "results_score"
   ]
  },
  {
   "cell_type": "markdown",
   "metadata": {},
   "source": [
    "Evaluate with test data."
   ]
  },
  {
   "cell_type": "code",
   "execution_count": 27,
   "metadata": {},
   "outputs": [
    {
     "name": "stdout",
     "output_type": "stream",
     "text": [
      "Accuracy on the test data: \n",
      " 0.9767634854771784\n",
      "Classification report: \n",
      "               precision    recall  f1-score   support\n",
      "\n",
      "           0       0.97      0.94      0.95       312\n",
      "           1       0.98      0.99      0.98       893\n",
      "\n",
      "    accuracy                           0.98      1205\n",
      "   macro avg       0.97      0.97      0.97      1205\n",
      "weighted avg       0.98      0.98      0.98      1205\n",
      "\n",
      "Confusion Matrix test: \n",
      "[[294  18]\n",
      " [ 10 883]]\n"
     ]
    }
   ],
   "source": [
    "random.seed(2)\n",
    "rf_both_tune_pred_test = rf_both_tune.predict(X_test_tf_tune)\n",
    "print(\"Accuracy on the test data: \\n\", metrics.accuracy_score(y_test, rf_both_tune_pred_test))\n",
    "print(\"Classification report: \\n\",metrics.classification_report(y_test, rf_both_tune_pred_test))\n",
    "print('Confusion Matrix test: \\n' + str(metrics.confusion_matrix(y_test, rf_both_tune_pred_test)))"
   ]
  },
  {
   "cell_type": "code",
   "execution_count": 28,
   "metadata": {},
   "outputs": [
    {
     "data": {
      "text/html": [
       "<div>\n",
       "<style scoped>\n",
       "    .dataframe tbody tr th:only-of-type {\n",
       "        vertical-align: middle;\n",
       "    }\n",
       "\n",
       "    .dataframe tbody tr th {\n",
       "        vertical-align: top;\n",
       "    }\n",
       "\n",
       "    .dataframe thead th {\n",
       "        text-align: right;\n",
       "    }\n",
       "</style>\n",
       "<table border=\"1\" class=\"dataframe\">\n",
       "  <thead>\n",
       "    <tr style=\"text-align: right;\">\n",
       "      <th></th>\n",
       "      <th>Model</th>\n",
       "      <th>Data</th>\n",
       "      <th>Precision</th>\n",
       "      <th>Recall</th>\n",
       "      <th>Specificity</th>\n",
       "      <th>F1-score</th>\n",
       "      <th>Accuracy</th>\n",
       "      <th>Bal Accuracy</th>\n",
       "      <th>AUC</th>\n",
       "    </tr>\n",
       "  </thead>\n",
       "  <tbody>\n",
       "    <tr>\n",
       "      <th>0</th>\n",
       "      <td>RF not tuned</td>\n",
       "      <td>Validation</td>\n",
       "      <td>0.973205</td>\n",
       "      <td>0.993435</td>\n",
       "      <td>0.851190</td>\n",
       "      <td>0.983216</td>\n",
       "      <td>0.971349</td>\n",
       "      <td>0.922313</td>\n",
       "      <td>0.922313</td>\n",
       "    </tr>\n",
       "    <tr>\n",
       "      <th>0</th>\n",
       "      <td>RF not tuned</td>\n",
       "      <td>Test</td>\n",
       "      <td>0.936642</td>\n",
       "      <td>0.993281</td>\n",
       "      <td>0.807692</td>\n",
       "      <td>0.964130</td>\n",
       "      <td>0.945228</td>\n",
       "      <td>0.900487</td>\n",
       "      <td>0.900487</td>\n",
       "    </tr>\n",
       "    <tr>\n",
       "      <th>0</th>\n",
       "      <td>RF TF tuned</td>\n",
       "      <td>Validation</td>\n",
       "      <td>0.994524</td>\n",
       "      <td>0.993435</td>\n",
       "      <td>0.970238</td>\n",
       "      <td>0.993979</td>\n",
       "      <td>0.989834</td>\n",
       "      <td>0.981837</td>\n",
       "      <td>0.981837</td>\n",
       "    </tr>\n",
       "    <tr>\n",
       "      <th>0</th>\n",
       "      <td>RF TF tuned</td>\n",
       "      <td>Test</td>\n",
       "      <td>0.977703</td>\n",
       "      <td>0.982083</td>\n",
       "      <td>0.935897</td>\n",
       "      <td>0.979888</td>\n",
       "      <td>0.970124</td>\n",
       "      <td>0.958990</td>\n",
       "      <td>0.958990</td>\n",
       "    </tr>\n",
       "    <tr>\n",
       "      <th>0</th>\n",
       "      <td>RF TF and Algorithm tuned</td>\n",
       "      <td>Validation</td>\n",
       "      <td>0.992358</td>\n",
       "      <td>0.994530</td>\n",
       "      <td>0.958333</td>\n",
       "      <td>0.993443</td>\n",
       "      <td>0.988909</td>\n",
       "      <td>0.976431</td>\n",
       "      <td>0.976431</td>\n",
       "    </tr>\n",
       "    <tr>\n",
       "      <th>0</th>\n",
       "      <td>RF TF and Algorithm tuned</td>\n",
       "      <td>Test</td>\n",
       "      <td>0.980022</td>\n",
       "      <td>0.988802</td>\n",
       "      <td>0.942308</td>\n",
       "      <td>0.984392</td>\n",
       "      <td>0.976763</td>\n",
       "      <td>0.965555</td>\n",
       "      <td>0.965555</td>\n",
       "    </tr>\n",
       "  </tbody>\n",
       "</table>\n",
       "</div>"
      ],
      "text/plain": [
       "                       Model        Data  Precision    Recall  Specificity  \\\n",
       "0               RF not tuned  Validation   0.973205  0.993435     0.851190   \n",
       "0               RF not tuned        Test   0.936642  0.993281     0.807692   \n",
       "0                RF TF tuned  Validation   0.994524  0.993435     0.970238   \n",
       "0                RF TF tuned        Test   0.977703  0.982083     0.935897   \n",
       "0  RF TF and Algorithm tuned  Validation   0.992358  0.994530     0.958333   \n",
       "0  RF TF and Algorithm tuned        Test   0.980022  0.988802     0.942308   \n",
       "\n",
       "   F1-score  Accuracy  Bal Accuracy       AUC  \n",
       "0  0.983216  0.971349      0.922313  0.922313  \n",
       "0  0.964130  0.945228      0.900487  0.900487  \n",
       "0  0.993979  0.989834      0.981837  0.981837  \n",
       "0  0.979888  0.970124      0.958990  0.958990  \n",
       "0  0.993443  0.988909      0.976431  0.976431  \n",
       "0  0.984392  0.976763      0.965555  0.965555  "
      ]
     },
     "execution_count": 28,
     "metadata": {},
     "output_type": "execute_result"
    }
   ],
   "source": [
    "sc = calc_binary_class_metrics(y_test, rf_both_tune_pred_test, 'RF TF and Algorithm tuned', 'Test')\n",
    "results_score = results_score.append(sc)\n",
    "results_score"
   ]
  },
  {
   "cell_type": "markdown",
   "metadata": {},
   "source": [
    "# Second Learning Algorithm: XGBoost"
   ]
  },
  {
   "cell_type": "markdown",
   "metadata": {},
   "source": [
    "## 5.6 Train and test XGboost and TF-IDF both untuned"
   ]
  },
  {
   "cell_type": "markdown",
   "metadata": {},
   "source": [
    "I run first the XGBoost algorithm with the TF-IDF vectorizer not tuned but the data balanced with SMOTE."
   ]
  },
  {
   "cell_type": "code",
   "execution_count": 29,
   "metadata": {},
   "outputs": [
    {
     "name": "stdout",
     "output_type": "stream",
     "text": [
      "Accuracy on validation data: \n",
      " 0.988909426987061\n",
      "Classification report: \n",
      "               precision    recall  f1-score   support\n",
      "\n",
      "           0       0.97      0.96      0.96       168\n",
      "           1       0.99      0.99      0.99       914\n",
      "\n",
      "    accuracy                           0.99      1082\n",
      "   macro avg       0.98      0.98      0.98      1082\n",
      "weighted avg       0.99      0.99      0.99      1082\n",
      "\n",
      "Confusion Matrix validation: \n",
      "[[161   7]\n",
      " [  5 909]]\n"
     ]
    }
   ],
   "source": [
    "random.seed(2)\n",
    "xb = xgb.XGBClassifier(objective = 'binary:logistic', n_jobs=-1)\n",
    "xb.fit(X_train_bal, y_train_bal)\n",
    "xb_pred = xb.predict(X_val_tf)\n",
    "\n",
    "\n",
    "print(\"Accuracy on validation data: \\n\",metrics.accuracy_score(y_val, xb_pred))\n",
    "print(\"Classification report: \\n\",metrics.classification_report(y_val, xb_pred))\n",
    "print('Confusion Matrix validation: \\n' + str(metrics.confusion_matrix(y_val, xb_pred)))"
   ]
  },
  {
   "cell_type": "code",
   "execution_count": 30,
   "metadata": {},
   "outputs": [
    {
     "data": {
      "text/html": [
       "<div>\n",
       "<style scoped>\n",
       "    .dataframe tbody tr th:only-of-type {\n",
       "        vertical-align: middle;\n",
       "    }\n",
       "\n",
       "    .dataframe tbody tr th {\n",
       "        vertical-align: top;\n",
       "    }\n",
       "\n",
       "    .dataframe thead th {\n",
       "        text-align: right;\n",
       "    }\n",
       "</style>\n",
       "<table border=\"1\" class=\"dataframe\">\n",
       "  <thead>\n",
       "    <tr style=\"text-align: right;\">\n",
       "      <th></th>\n",
       "      <th>Model</th>\n",
       "      <th>Data</th>\n",
       "      <th>Precision</th>\n",
       "      <th>Recall</th>\n",
       "      <th>Specificity</th>\n",
       "      <th>F1-score</th>\n",
       "      <th>Accuracy</th>\n",
       "      <th>Bal Accuracy</th>\n",
       "      <th>AUC</th>\n",
       "    </tr>\n",
       "  </thead>\n",
       "  <tbody>\n",
       "    <tr>\n",
       "      <th>0</th>\n",
       "      <td>RF not tuned</td>\n",
       "      <td>Validation</td>\n",
       "      <td>0.973205</td>\n",
       "      <td>0.993435</td>\n",
       "      <td>0.851190</td>\n",
       "      <td>0.983216</td>\n",
       "      <td>0.971349</td>\n",
       "      <td>0.922313</td>\n",
       "      <td>0.922313</td>\n",
       "    </tr>\n",
       "    <tr>\n",
       "      <th>0</th>\n",
       "      <td>RF not tuned</td>\n",
       "      <td>Test</td>\n",
       "      <td>0.936642</td>\n",
       "      <td>0.993281</td>\n",
       "      <td>0.807692</td>\n",
       "      <td>0.964130</td>\n",
       "      <td>0.945228</td>\n",
       "      <td>0.900487</td>\n",
       "      <td>0.900487</td>\n",
       "    </tr>\n",
       "    <tr>\n",
       "      <th>0</th>\n",
       "      <td>RF TF tuned</td>\n",
       "      <td>Validation</td>\n",
       "      <td>0.994524</td>\n",
       "      <td>0.993435</td>\n",
       "      <td>0.970238</td>\n",
       "      <td>0.993979</td>\n",
       "      <td>0.989834</td>\n",
       "      <td>0.981837</td>\n",
       "      <td>0.981837</td>\n",
       "    </tr>\n",
       "    <tr>\n",
       "      <th>0</th>\n",
       "      <td>RF TF tuned</td>\n",
       "      <td>Test</td>\n",
       "      <td>0.977703</td>\n",
       "      <td>0.982083</td>\n",
       "      <td>0.935897</td>\n",
       "      <td>0.979888</td>\n",
       "      <td>0.970124</td>\n",
       "      <td>0.958990</td>\n",
       "      <td>0.958990</td>\n",
       "    </tr>\n",
       "    <tr>\n",
       "      <th>0</th>\n",
       "      <td>RF TF and Algorithm tuned</td>\n",
       "      <td>Validation</td>\n",
       "      <td>0.992358</td>\n",
       "      <td>0.994530</td>\n",
       "      <td>0.958333</td>\n",
       "      <td>0.993443</td>\n",
       "      <td>0.988909</td>\n",
       "      <td>0.976431</td>\n",
       "      <td>0.976431</td>\n",
       "    </tr>\n",
       "    <tr>\n",
       "      <th>0</th>\n",
       "      <td>RF TF and Algorithm tuned</td>\n",
       "      <td>Test</td>\n",
       "      <td>0.980022</td>\n",
       "      <td>0.988802</td>\n",
       "      <td>0.942308</td>\n",
       "      <td>0.984392</td>\n",
       "      <td>0.976763</td>\n",
       "      <td>0.965555</td>\n",
       "      <td>0.965555</td>\n",
       "    </tr>\n",
       "    <tr>\n",
       "      <th>0</th>\n",
       "      <td>XGBost not tuned</td>\n",
       "      <td>Validation</td>\n",
       "      <td>0.992358</td>\n",
       "      <td>0.994530</td>\n",
       "      <td>0.958333</td>\n",
       "      <td>0.993443</td>\n",
       "      <td>0.988909</td>\n",
       "      <td>0.976431</td>\n",
       "      <td>0.976431</td>\n",
       "    </tr>\n",
       "  </tbody>\n",
       "</table>\n",
       "</div>"
      ],
      "text/plain": [
       "                       Model        Data  Precision    Recall  Specificity  \\\n",
       "0               RF not tuned  Validation   0.973205  0.993435     0.851190   \n",
       "0               RF not tuned        Test   0.936642  0.993281     0.807692   \n",
       "0                RF TF tuned  Validation   0.994524  0.993435     0.970238   \n",
       "0                RF TF tuned        Test   0.977703  0.982083     0.935897   \n",
       "0  RF TF and Algorithm tuned  Validation   0.992358  0.994530     0.958333   \n",
       "0  RF TF and Algorithm tuned        Test   0.980022  0.988802     0.942308   \n",
       "0           XGBost not tuned  Validation   0.992358  0.994530     0.958333   \n",
       "\n",
       "   F1-score  Accuracy  Bal Accuracy       AUC  \n",
       "0  0.983216  0.971349      0.922313  0.922313  \n",
       "0  0.964130  0.945228      0.900487  0.900487  \n",
       "0  0.993979  0.989834      0.981837  0.981837  \n",
       "0  0.979888  0.970124      0.958990  0.958990  \n",
       "0  0.993443  0.988909      0.976431  0.976431  \n",
       "0  0.984392  0.976763      0.965555  0.965555  \n",
       "0  0.993443  0.988909      0.976431  0.976431  "
      ]
     },
     "execution_count": 30,
     "metadata": {},
     "output_type": "execute_result"
    }
   ],
   "source": [
    "sc = calc_binary_class_metrics(y_val, xb_pred, 'XGBost not tuned', 'Validation')\n",
    "results_score = results_score.append(sc)\n",
    "results_score"
   ]
  },
  {
   "cell_type": "markdown",
   "metadata": {},
   "source": [
    "Evaluate with test data."
   ]
  },
  {
   "cell_type": "code",
   "execution_count": 31,
   "metadata": {},
   "outputs": [
    {
     "name": "stdout",
     "output_type": "stream",
     "text": [
      "Accuracy on test data: \n",
      " 0.970954356846473\n",
      "Classification report: \n",
      "               precision    recall  f1-score   support\n",
      "\n",
      "           0       0.95      0.94      0.94       312\n",
      "           1       0.98      0.98      0.98       893\n",
      "\n",
      "    accuracy                           0.97      1205\n",
      "   macro avg       0.96      0.96      0.96      1205\n",
      "weighted avg       0.97      0.97      0.97      1205\n",
      "\n",
      "Confusion Matrix test: \n",
      "[[293  19]\n",
      " [ 16 877]]\n"
     ]
    }
   ],
   "source": [
    "random.seed(2)\n",
    "xb_pred_test = xb.predict(X_test_tf)\n",
    "print(\"Accuracy on test data: \\n\",metrics.accuracy_score(y_test, xb_pred_test))\n",
    "print(\"Classification report: \\n\",metrics.classification_report(y_test, xb_pred_test))\n",
    "print('Confusion Matrix test: \\n' + str(metrics.confusion_matrix(y_test, xb_pred_test)))"
   ]
  },
  {
   "cell_type": "code",
   "execution_count": 32,
   "metadata": {},
   "outputs": [
    {
     "data": {
      "text/html": [
       "<div>\n",
       "<style scoped>\n",
       "    .dataframe tbody tr th:only-of-type {\n",
       "        vertical-align: middle;\n",
       "    }\n",
       "\n",
       "    .dataframe tbody tr th {\n",
       "        vertical-align: top;\n",
       "    }\n",
       "\n",
       "    .dataframe thead th {\n",
       "        text-align: right;\n",
       "    }\n",
       "</style>\n",
       "<table border=\"1\" class=\"dataframe\">\n",
       "  <thead>\n",
       "    <tr style=\"text-align: right;\">\n",
       "      <th></th>\n",
       "      <th>Model</th>\n",
       "      <th>Data</th>\n",
       "      <th>Precision</th>\n",
       "      <th>Recall</th>\n",
       "      <th>Specificity</th>\n",
       "      <th>F1-score</th>\n",
       "      <th>Accuracy</th>\n",
       "      <th>Bal Accuracy</th>\n",
       "      <th>AUC</th>\n",
       "    </tr>\n",
       "  </thead>\n",
       "  <tbody>\n",
       "    <tr>\n",
       "      <th>0</th>\n",
       "      <td>RF not tuned</td>\n",
       "      <td>Validation</td>\n",
       "      <td>0.973205</td>\n",
       "      <td>0.993435</td>\n",
       "      <td>0.851190</td>\n",
       "      <td>0.983216</td>\n",
       "      <td>0.971349</td>\n",
       "      <td>0.922313</td>\n",
       "      <td>0.922313</td>\n",
       "    </tr>\n",
       "    <tr>\n",
       "      <th>0</th>\n",
       "      <td>RF not tuned</td>\n",
       "      <td>Test</td>\n",
       "      <td>0.936642</td>\n",
       "      <td>0.993281</td>\n",
       "      <td>0.807692</td>\n",
       "      <td>0.964130</td>\n",
       "      <td>0.945228</td>\n",
       "      <td>0.900487</td>\n",
       "      <td>0.900487</td>\n",
       "    </tr>\n",
       "    <tr>\n",
       "      <th>0</th>\n",
       "      <td>RF TF tuned</td>\n",
       "      <td>Validation</td>\n",
       "      <td>0.994524</td>\n",
       "      <td>0.993435</td>\n",
       "      <td>0.970238</td>\n",
       "      <td>0.993979</td>\n",
       "      <td>0.989834</td>\n",
       "      <td>0.981837</td>\n",
       "      <td>0.981837</td>\n",
       "    </tr>\n",
       "    <tr>\n",
       "      <th>0</th>\n",
       "      <td>RF TF tuned</td>\n",
       "      <td>Test</td>\n",
       "      <td>0.977703</td>\n",
       "      <td>0.982083</td>\n",
       "      <td>0.935897</td>\n",
       "      <td>0.979888</td>\n",
       "      <td>0.970124</td>\n",
       "      <td>0.958990</td>\n",
       "      <td>0.958990</td>\n",
       "    </tr>\n",
       "    <tr>\n",
       "      <th>0</th>\n",
       "      <td>RF TF and Algorithm tuned</td>\n",
       "      <td>Validation</td>\n",
       "      <td>0.992358</td>\n",
       "      <td>0.994530</td>\n",
       "      <td>0.958333</td>\n",
       "      <td>0.993443</td>\n",
       "      <td>0.988909</td>\n",
       "      <td>0.976431</td>\n",
       "      <td>0.976431</td>\n",
       "    </tr>\n",
       "    <tr>\n",
       "      <th>0</th>\n",
       "      <td>RF TF and Algorithm tuned</td>\n",
       "      <td>Test</td>\n",
       "      <td>0.980022</td>\n",
       "      <td>0.988802</td>\n",
       "      <td>0.942308</td>\n",
       "      <td>0.984392</td>\n",
       "      <td>0.976763</td>\n",
       "      <td>0.965555</td>\n",
       "      <td>0.965555</td>\n",
       "    </tr>\n",
       "    <tr>\n",
       "      <th>0</th>\n",
       "      <td>XGBost not tuned</td>\n",
       "      <td>Validation</td>\n",
       "      <td>0.992358</td>\n",
       "      <td>0.994530</td>\n",
       "      <td>0.958333</td>\n",
       "      <td>0.993443</td>\n",
       "      <td>0.988909</td>\n",
       "      <td>0.976431</td>\n",
       "      <td>0.976431</td>\n",
       "    </tr>\n",
       "    <tr>\n",
       "      <th>0</th>\n",
       "      <td>XGBost not tuned</td>\n",
       "      <td>Test</td>\n",
       "      <td>0.978795</td>\n",
       "      <td>0.982083</td>\n",
       "      <td>0.939103</td>\n",
       "      <td>0.980436</td>\n",
       "      <td>0.970954</td>\n",
       "      <td>0.960593</td>\n",
       "      <td>0.960593</td>\n",
       "    </tr>\n",
       "  </tbody>\n",
       "</table>\n",
       "</div>"
      ],
      "text/plain": [
       "                       Model        Data  Precision    Recall  Specificity  \\\n",
       "0               RF not tuned  Validation   0.973205  0.993435     0.851190   \n",
       "0               RF not tuned        Test   0.936642  0.993281     0.807692   \n",
       "0                RF TF tuned  Validation   0.994524  0.993435     0.970238   \n",
       "0                RF TF tuned        Test   0.977703  0.982083     0.935897   \n",
       "0  RF TF and Algorithm tuned  Validation   0.992358  0.994530     0.958333   \n",
       "0  RF TF and Algorithm tuned        Test   0.980022  0.988802     0.942308   \n",
       "0           XGBost not tuned  Validation   0.992358  0.994530     0.958333   \n",
       "0           XGBost not tuned        Test   0.978795  0.982083     0.939103   \n",
       "\n",
       "   F1-score  Accuracy  Bal Accuracy       AUC  \n",
       "0  0.983216  0.971349      0.922313  0.922313  \n",
       "0  0.964130  0.945228      0.900487  0.900487  \n",
       "0  0.993979  0.989834      0.981837  0.981837  \n",
       "0  0.979888  0.970124      0.958990  0.958990  \n",
       "0  0.993443  0.988909      0.976431  0.976431  \n",
       "0  0.984392  0.976763      0.965555  0.965555  \n",
       "0  0.993443  0.988909      0.976431  0.976431  \n",
       "0  0.980436  0.970954      0.960593  0.960593  "
      ]
     },
     "execution_count": 32,
     "metadata": {},
     "output_type": "execute_result"
    }
   ],
   "source": [
    "sc = calc_binary_class_metrics(y_test, xb_pred_test, 'XGBost not tuned', 'Test')\n",
    "results_score = results_score.append(sc)\n",
    "results_score"
   ]
  },
  {
   "cell_type": "markdown",
   "metadata": {},
   "source": [
    "## 5.7 Tune TF-IDF vectorizer "
   ]
  },
  {
   "cell_type": "code",
   "execution_count": 33,
   "metadata": {},
   "outputs": [
    {
     "name": "stdout",
     "output_type": "stream",
     "text": [
      "Fitting 2 folds for each of 20 candidates, totalling 40 fits\n"
     ]
    },
    {
     "name": "stderr",
     "output_type": "stream",
     "text": [
      "[Parallel(n_jobs=-1)]: Using backend LokyBackend with 12 concurrent workers.\n",
      "[Parallel(n_jobs=-1)]: Done  40 out of  40 | elapsed:    3.7s finished\n"
     ]
    },
    {
     "data": {
      "text/plain": [
       "GridSearchCV(cv=2,\n",
       "             estimator=Pipeline(steps=[('tfidf',\n",
       "                                        TfidfVectorizer(lowercase=False)),\n",
       "                                       ('clf',\n",
       "                                        OneVsRestClassifier(estimator=XGBClassifier(base_score=None,\n",
       "                                                                                    booster=None,\n",
       "                                                                                    colsample_bylevel=None,\n",
       "                                                                                    colsample_bynode=None,\n",
       "                                                                                    colsample_bytree=None,\n",
       "                                                                                    gamma=None,\n",
       "                                                                                    gpu_id=None,\n",
       "                                                                                    importance_type='gain',\n",
       "                                                                                    interaction_constraints=None,\n",
       "                                                                                    learning_rate=None,\n",
       "                                                                                    max_delta_step=None,\n",
       "                                                                                    ma...\n",
       "                                                                                    monotone_constraints=None,\n",
       "                                                                                    n_estimators=100,\n",
       "                                                                                    n_jobs=-1,\n",
       "                                                                                    num_parallel_tree=None,\n",
       "                                                                                    random_state=None,\n",
       "                                                                                    reg_alpha=None,\n",
       "                                                                                    reg_lambda=None,\n",
       "                                                                                    scale_pos_weight=None,\n",
       "                                                                                    subsample=None,\n",
       "                                                                                    tree_method=None,\n",
       "                                                                                    validate_parameters=None,\n",
       "                                                                                    verbosity=None)))]),\n",
       "             n_jobs=-1,\n",
       "             param_grid={'tfidf__max_features': (300, 350, 400, 450, 500),\n",
       "                         'tfidf__norm': ('l1', 'l2'),\n",
       "                         'tfidf__sublinear_tf': [True, False]},\n",
       "             verbose=1)"
      ]
     },
     "execution_count": 33,
     "metadata": {},
     "output_type": "execute_result"
    }
   ],
   "source": [
    "random.seed(2)\n",
    "\n",
    "param_grid = {\n",
    "    'tfidf__norm' :('l1', 'l2'),\n",
    "    'tfidf__max_features' : (300, 350, 400, 450,500),\n",
    "    'tfidf__sublinear_tf' : [True, False]\n",
    "\n",
    "}\n",
    "\n",
    "pipeline_grid = Pipeline([\n",
    "    ('tfidf', TfidfVectorizer(lowercase=False)),\n",
    "    ('clf', OneVsRestClassifier(xgb.XGBClassifier(objective = 'binary:logistic', n_jobs=-1))),\n",
    "])\n",
    "\n",
    "grid_search_tfidf_xgb = GridSearchCV(pipeline_grid, param_grid, cv=2, verbose=1, n_jobs=-1)\n",
    "grid_search_tfidf_xgb.fit(X_val, y_val)"
   ]
  },
  {
   "cell_type": "code",
   "execution_count": 34,
   "metadata": {},
   "outputs": [
    {
     "name": "stdout",
     "output_type": "stream",
     "text": [
      "Best parameters for the TF-IDF: \n",
      " {'tfidf__max_features': 300, 'tfidf__norm': 'l2', 'tfidf__sublinear_tf': False}\n"
     ]
    }
   ],
   "source": [
    "print(\"Best parameters for the TF-IDF: \\n\",grid_search_tfidf_xgb.best_params_)"
   ]
  },
  {
   "cell_type": "markdown",
   "metadata": {},
   "source": [
    "I retrain the TF-IDF vectorizer with the new tune parameters"
   ]
  },
  {
   "cell_type": "code",
   "execution_count": 35,
   "metadata": {},
   "outputs": [],
   "source": [
    "tfidf_xb = grid_search_tfidf_xgb.best_estimator_[0]\n",
    "\n",
    "X_train_tf_tune_xb = tfidf_xb.fit_transform(X_train).toarray()\n",
    "X_test_tf_tune_xb = tfidf_xb.transform(X_test).toarray()\n",
    "X_val_tf_tune_xb = tfidf_xb.transform(X_val).toarray()"
   ]
  },
  {
   "cell_type": "code",
   "execution_count": 36,
   "metadata": {},
   "outputs": [],
   "source": [
    "balance = SMOTE()\n",
    "X_train_tune_bal_xb, y_train_tune_bal_xb = balance.fit_resample(X_train_tf_tune_xb, y_train)"
   ]
  },
  {
   "cell_type": "markdown",
   "metadata": {},
   "source": [
    "## 5.8 Train and test XGBoost with TF-IDF tuned"
   ]
  },
  {
   "cell_type": "code",
   "execution_count": 37,
   "metadata": {},
   "outputs": [
    {
     "name": "stdout",
     "output_type": "stream",
     "text": [
      "Accuracy on validation data: \n",
      " 0.9852125693160814\n",
      "Classification report: \n",
      "               precision    recall  f1-score   support\n",
      "\n",
      "           0       0.97      0.93      0.95       168\n",
      "           1       0.99      0.99      0.99       914\n",
      "\n",
      "    accuracy                           0.99      1082\n",
      "   macro avg       0.98      0.96      0.97      1082\n",
      "weighted avg       0.99      0.99      0.99      1082\n",
      "\n",
      "Confusion Matrix validation: \n",
      "[[157  11]\n",
      " [  5 909]]\n"
     ]
    }
   ],
   "source": [
    "random.seed(2)\n",
    "xb_tf_tune = xgb.XGBClassifier(objective = 'binary:logistic', n_jobs=-1)\n",
    "xb_tf_tune.fit(X_train_tune_bal_xb, y_train_tune_bal_xb)\n",
    "xb_tf_tune_pred = xb_tf_tune.predict(X_val_tf_tune_xb)\n",
    "\n",
    "\n",
    "print(\"Accuracy on validation data: \\n\",metrics.accuracy_score(y_val, xb_tf_tune_pred))\n",
    "print(\"Classification report: \\n\",metrics.classification_report(y_val, xb_tf_tune_pred))\n",
    "print('Confusion Matrix validation: \\n' + str(metrics.confusion_matrix(y_val, xb_tf_tune_pred)))"
   ]
  },
  {
   "cell_type": "code",
   "execution_count": 38,
   "metadata": {},
   "outputs": [
    {
     "data": {
      "text/html": [
       "<div>\n",
       "<style scoped>\n",
       "    .dataframe tbody tr th:only-of-type {\n",
       "        vertical-align: middle;\n",
       "    }\n",
       "\n",
       "    .dataframe tbody tr th {\n",
       "        vertical-align: top;\n",
       "    }\n",
       "\n",
       "    .dataframe thead th {\n",
       "        text-align: right;\n",
       "    }\n",
       "</style>\n",
       "<table border=\"1\" class=\"dataframe\">\n",
       "  <thead>\n",
       "    <tr style=\"text-align: right;\">\n",
       "      <th></th>\n",
       "      <th>Model</th>\n",
       "      <th>Data</th>\n",
       "      <th>Precision</th>\n",
       "      <th>Recall</th>\n",
       "      <th>Specificity</th>\n",
       "      <th>F1-score</th>\n",
       "      <th>Accuracy</th>\n",
       "      <th>Bal Accuracy</th>\n",
       "      <th>AUC</th>\n",
       "    </tr>\n",
       "  </thead>\n",
       "  <tbody>\n",
       "    <tr>\n",
       "      <th>0</th>\n",
       "      <td>RF not tuned</td>\n",
       "      <td>Validation</td>\n",
       "      <td>0.973205</td>\n",
       "      <td>0.993435</td>\n",
       "      <td>0.851190</td>\n",
       "      <td>0.983216</td>\n",
       "      <td>0.971349</td>\n",
       "      <td>0.922313</td>\n",
       "      <td>0.922313</td>\n",
       "    </tr>\n",
       "    <tr>\n",
       "      <th>0</th>\n",
       "      <td>RF not tuned</td>\n",
       "      <td>Test</td>\n",
       "      <td>0.936642</td>\n",
       "      <td>0.993281</td>\n",
       "      <td>0.807692</td>\n",
       "      <td>0.964130</td>\n",
       "      <td>0.945228</td>\n",
       "      <td>0.900487</td>\n",
       "      <td>0.900487</td>\n",
       "    </tr>\n",
       "    <tr>\n",
       "      <th>0</th>\n",
       "      <td>RF TF tuned</td>\n",
       "      <td>Validation</td>\n",
       "      <td>0.994524</td>\n",
       "      <td>0.993435</td>\n",
       "      <td>0.970238</td>\n",
       "      <td>0.993979</td>\n",
       "      <td>0.989834</td>\n",
       "      <td>0.981837</td>\n",
       "      <td>0.981837</td>\n",
       "    </tr>\n",
       "    <tr>\n",
       "      <th>0</th>\n",
       "      <td>RF TF tuned</td>\n",
       "      <td>Test</td>\n",
       "      <td>0.977703</td>\n",
       "      <td>0.982083</td>\n",
       "      <td>0.935897</td>\n",
       "      <td>0.979888</td>\n",
       "      <td>0.970124</td>\n",
       "      <td>0.958990</td>\n",
       "      <td>0.958990</td>\n",
       "    </tr>\n",
       "    <tr>\n",
       "      <th>0</th>\n",
       "      <td>RF TF and Algorithm tuned</td>\n",
       "      <td>Validation</td>\n",
       "      <td>0.992358</td>\n",
       "      <td>0.994530</td>\n",
       "      <td>0.958333</td>\n",
       "      <td>0.993443</td>\n",
       "      <td>0.988909</td>\n",
       "      <td>0.976431</td>\n",
       "      <td>0.976431</td>\n",
       "    </tr>\n",
       "    <tr>\n",
       "      <th>0</th>\n",
       "      <td>RF TF and Algorithm tuned</td>\n",
       "      <td>Test</td>\n",
       "      <td>0.980022</td>\n",
       "      <td>0.988802</td>\n",
       "      <td>0.942308</td>\n",
       "      <td>0.984392</td>\n",
       "      <td>0.976763</td>\n",
       "      <td>0.965555</td>\n",
       "      <td>0.965555</td>\n",
       "    </tr>\n",
       "    <tr>\n",
       "      <th>0</th>\n",
       "      <td>XGBost not tuned</td>\n",
       "      <td>Validation</td>\n",
       "      <td>0.992358</td>\n",
       "      <td>0.994530</td>\n",
       "      <td>0.958333</td>\n",
       "      <td>0.993443</td>\n",
       "      <td>0.988909</td>\n",
       "      <td>0.976431</td>\n",
       "      <td>0.976431</td>\n",
       "    </tr>\n",
       "    <tr>\n",
       "      <th>0</th>\n",
       "      <td>XGBost not tuned</td>\n",
       "      <td>Test</td>\n",
       "      <td>0.978795</td>\n",
       "      <td>0.982083</td>\n",
       "      <td>0.939103</td>\n",
       "      <td>0.980436</td>\n",
       "      <td>0.970954</td>\n",
       "      <td>0.960593</td>\n",
       "      <td>0.960593</td>\n",
       "    </tr>\n",
       "    <tr>\n",
       "      <th>0</th>\n",
       "      <td>XGBost TF tuned</td>\n",
       "      <td>Validation</td>\n",
       "      <td>0.988043</td>\n",
       "      <td>0.994530</td>\n",
       "      <td>0.934524</td>\n",
       "      <td>0.991276</td>\n",
       "      <td>0.985213</td>\n",
       "      <td>0.964527</td>\n",
       "      <td>0.964527</td>\n",
       "    </tr>\n",
       "  </tbody>\n",
       "</table>\n",
       "</div>"
      ],
      "text/plain": [
       "                       Model        Data  Precision    Recall  Specificity  \\\n",
       "0               RF not tuned  Validation   0.973205  0.993435     0.851190   \n",
       "0               RF not tuned        Test   0.936642  0.993281     0.807692   \n",
       "0                RF TF tuned  Validation   0.994524  0.993435     0.970238   \n",
       "0                RF TF tuned        Test   0.977703  0.982083     0.935897   \n",
       "0  RF TF and Algorithm tuned  Validation   0.992358  0.994530     0.958333   \n",
       "0  RF TF and Algorithm tuned        Test   0.980022  0.988802     0.942308   \n",
       "0           XGBost not tuned  Validation   0.992358  0.994530     0.958333   \n",
       "0           XGBost not tuned        Test   0.978795  0.982083     0.939103   \n",
       "0            XGBost TF tuned  Validation   0.988043  0.994530     0.934524   \n",
       "\n",
       "   F1-score  Accuracy  Bal Accuracy       AUC  \n",
       "0  0.983216  0.971349      0.922313  0.922313  \n",
       "0  0.964130  0.945228      0.900487  0.900487  \n",
       "0  0.993979  0.989834      0.981837  0.981837  \n",
       "0  0.979888  0.970124      0.958990  0.958990  \n",
       "0  0.993443  0.988909      0.976431  0.976431  \n",
       "0  0.984392  0.976763      0.965555  0.965555  \n",
       "0  0.993443  0.988909      0.976431  0.976431  \n",
       "0  0.980436  0.970954      0.960593  0.960593  \n",
       "0  0.991276  0.985213      0.964527  0.964527  "
      ]
     },
     "execution_count": 38,
     "metadata": {},
     "output_type": "execute_result"
    }
   ],
   "source": [
    "sc = calc_binary_class_metrics(y_val, xb_tf_tune_pred, 'XGBost TF tuned', 'Validation')\n",
    "results_score = results_score.append(sc)\n",
    "results_score"
   ]
  },
  {
   "cell_type": "code",
   "execution_count": 39,
   "metadata": {},
   "outputs": [
    {
     "name": "stdout",
     "output_type": "stream",
     "text": [
      "Accuracy on test data: \n",
      " 0.9692946058091286\n",
      "Classification report: \n",
      "               precision    recall  f1-score   support\n",
      "\n",
      "           0       0.95      0.93      0.94       312\n",
      "           1       0.97      0.98      0.98       893\n",
      "\n",
      "    accuracy                           0.97      1205\n",
      "   macro avg       0.96      0.96      0.96      1205\n",
      "weighted avg       0.97      0.97      0.97      1205\n",
      "\n",
      "Confusion Matrix test: \n",
      "[[289  23]\n",
      " [ 14 879]]\n"
     ]
    }
   ],
   "source": [
    "random.seed(2)\n",
    "xb_tf_tune_pred_test = xb_tf_tune.predict(X_test_tf_tune_xb)\n",
    "print(\"Accuracy on test data: \\n\",metrics.accuracy_score(y_test, xb_tf_tune_pred_test))\n",
    "print(\"Classification report: \\n\",metrics.classification_report(y_test, xb_tf_tune_pred_test))\n",
    "print('Confusion Matrix test: \\n' + str(metrics.confusion_matrix(y_test, xb_tf_tune_pred_test)))"
   ]
  },
  {
   "cell_type": "code",
   "execution_count": 40,
   "metadata": {},
   "outputs": [
    {
     "data": {
      "text/html": [
       "<div>\n",
       "<style scoped>\n",
       "    .dataframe tbody tr th:only-of-type {\n",
       "        vertical-align: middle;\n",
       "    }\n",
       "\n",
       "    .dataframe tbody tr th {\n",
       "        vertical-align: top;\n",
       "    }\n",
       "\n",
       "    .dataframe thead th {\n",
       "        text-align: right;\n",
       "    }\n",
       "</style>\n",
       "<table border=\"1\" class=\"dataframe\">\n",
       "  <thead>\n",
       "    <tr style=\"text-align: right;\">\n",
       "      <th></th>\n",
       "      <th>Model</th>\n",
       "      <th>Data</th>\n",
       "      <th>Precision</th>\n",
       "      <th>Recall</th>\n",
       "      <th>Specificity</th>\n",
       "      <th>F1-score</th>\n",
       "      <th>Accuracy</th>\n",
       "      <th>Bal Accuracy</th>\n",
       "      <th>AUC</th>\n",
       "    </tr>\n",
       "  </thead>\n",
       "  <tbody>\n",
       "    <tr>\n",
       "      <th>0</th>\n",
       "      <td>RF not tuned</td>\n",
       "      <td>Validation</td>\n",
       "      <td>0.973205</td>\n",
       "      <td>0.993435</td>\n",
       "      <td>0.851190</td>\n",
       "      <td>0.983216</td>\n",
       "      <td>0.971349</td>\n",
       "      <td>0.922313</td>\n",
       "      <td>0.922313</td>\n",
       "    </tr>\n",
       "    <tr>\n",
       "      <th>0</th>\n",
       "      <td>RF not tuned</td>\n",
       "      <td>Test</td>\n",
       "      <td>0.936642</td>\n",
       "      <td>0.993281</td>\n",
       "      <td>0.807692</td>\n",
       "      <td>0.964130</td>\n",
       "      <td>0.945228</td>\n",
       "      <td>0.900487</td>\n",
       "      <td>0.900487</td>\n",
       "    </tr>\n",
       "    <tr>\n",
       "      <th>0</th>\n",
       "      <td>RF TF tuned</td>\n",
       "      <td>Validation</td>\n",
       "      <td>0.994524</td>\n",
       "      <td>0.993435</td>\n",
       "      <td>0.970238</td>\n",
       "      <td>0.993979</td>\n",
       "      <td>0.989834</td>\n",
       "      <td>0.981837</td>\n",
       "      <td>0.981837</td>\n",
       "    </tr>\n",
       "    <tr>\n",
       "      <th>0</th>\n",
       "      <td>RF TF tuned</td>\n",
       "      <td>Test</td>\n",
       "      <td>0.977703</td>\n",
       "      <td>0.982083</td>\n",
       "      <td>0.935897</td>\n",
       "      <td>0.979888</td>\n",
       "      <td>0.970124</td>\n",
       "      <td>0.958990</td>\n",
       "      <td>0.958990</td>\n",
       "    </tr>\n",
       "    <tr>\n",
       "      <th>0</th>\n",
       "      <td>RF TF and Algorithm tuned</td>\n",
       "      <td>Validation</td>\n",
       "      <td>0.992358</td>\n",
       "      <td>0.994530</td>\n",
       "      <td>0.958333</td>\n",
       "      <td>0.993443</td>\n",
       "      <td>0.988909</td>\n",
       "      <td>0.976431</td>\n",
       "      <td>0.976431</td>\n",
       "    </tr>\n",
       "    <tr>\n",
       "      <th>0</th>\n",
       "      <td>RF TF and Algorithm tuned</td>\n",
       "      <td>Test</td>\n",
       "      <td>0.980022</td>\n",
       "      <td>0.988802</td>\n",
       "      <td>0.942308</td>\n",
       "      <td>0.984392</td>\n",
       "      <td>0.976763</td>\n",
       "      <td>0.965555</td>\n",
       "      <td>0.965555</td>\n",
       "    </tr>\n",
       "    <tr>\n",
       "      <th>0</th>\n",
       "      <td>XGBost not tuned</td>\n",
       "      <td>Validation</td>\n",
       "      <td>0.992358</td>\n",
       "      <td>0.994530</td>\n",
       "      <td>0.958333</td>\n",
       "      <td>0.993443</td>\n",
       "      <td>0.988909</td>\n",
       "      <td>0.976431</td>\n",
       "      <td>0.976431</td>\n",
       "    </tr>\n",
       "    <tr>\n",
       "      <th>0</th>\n",
       "      <td>XGBost not tuned</td>\n",
       "      <td>Test</td>\n",
       "      <td>0.978795</td>\n",
       "      <td>0.982083</td>\n",
       "      <td>0.939103</td>\n",
       "      <td>0.980436</td>\n",
       "      <td>0.970954</td>\n",
       "      <td>0.960593</td>\n",
       "      <td>0.960593</td>\n",
       "    </tr>\n",
       "    <tr>\n",
       "      <th>0</th>\n",
       "      <td>XGBost TF tuned</td>\n",
       "      <td>Validation</td>\n",
       "      <td>0.988043</td>\n",
       "      <td>0.994530</td>\n",
       "      <td>0.934524</td>\n",
       "      <td>0.991276</td>\n",
       "      <td>0.985213</td>\n",
       "      <td>0.964527</td>\n",
       "      <td>0.964527</td>\n",
       "    </tr>\n",
       "    <tr>\n",
       "      <th>0</th>\n",
       "      <td>XGBost TF tuned</td>\n",
       "      <td>Test</td>\n",
       "      <td>0.974501</td>\n",
       "      <td>0.984323</td>\n",
       "      <td>0.926282</td>\n",
       "      <td>0.979387</td>\n",
       "      <td>0.969295</td>\n",
       "      <td>0.955302</td>\n",
       "      <td>0.955302</td>\n",
       "    </tr>\n",
       "  </tbody>\n",
       "</table>\n",
       "</div>"
      ],
      "text/plain": [
       "                       Model        Data  Precision    Recall  Specificity  \\\n",
       "0               RF not tuned  Validation   0.973205  0.993435     0.851190   \n",
       "0               RF not tuned        Test   0.936642  0.993281     0.807692   \n",
       "0                RF TF tuned  Validation   0.994524  0.993435     0.970238   \n",
       "0                RF TF tuned        Test   0.977703  0.982083     0.935897   \n",
       "0  RF TF and Algorithm tuned  Validation   0.992358  0.994530     0.958333   \n",
       "0  RF TF and Algorithm tuned        Test   0.980022  0.988802     0.942308   \n",
       "0           XGBost not tuned  Validation   0.992358  0.994530     0.958333   \n",
       "0           XGBost not tuned        Test   0.978795  0.982083     0.939103   \n",
       "0            XGBost TF tuned  Validation   0.988043  0.994530     0.934524   \n",
       "0            XGBost TF tuned        Test   0.974501  0.984323     0.926282   \n",
       "\n",
       "   F1-score  Accuracy  Bal Accuracy       AUC  \n",
       "0  0.983216  0.971349      0.922313  0.922313  \n",
       "0  0.964130  0.945228      0.900487  0.900487  \n",
       "0  0.993979  0.989834      0.981837  0.981837  \n",
       "0  0.979888  0.970124      0.958990  0.958990  \n",
       "0  0.993443  0.988909      0.976431  0.976431  \n",
       "0  0.984392  0.976763      0.965555  0.965555  \n",
       "0  0.993443  0.988909      0.976431  0.976431  \n",
       "0  0.980436  0.970954      0.960593  0.960593  \n",
       "0  0.991276  0.985213      0.964527  0.964527  \n",
       "0  0.979387  0.969295      0.955302  0.955302  "
      ]
     },
     "execution_count": 40,
     "metadata": {},
     "output_type": "execute_result"
    }
   ],
   "source": [
    "sc = calc_binary_class_metrics(y_test, xb_tf_tune_pred_test, 'XGBost TF tuned', 'Test')\n",
    "results_score = results_score.append(sc)\n",
    "results_score"
   ]
  },
  {
   "cell_type": "markdown",
   "metadata": {},
   "source": [
    "## 5.9 Tune Hyperparamters XGBoost algorithm"
   ]
  },
  {
   "cell_type": "code",
   "execution_count": 41,
   "metadata": {},
   "outputs": [],
   "source": [
    "param_grid = {\n",
    "    'max_depth': [2,4,6,8,10],\n",
    "    'n_estimators': [60, 10,120,160,200, 240],\n",
    "    'learning_rate': [0.1, 0.01, 0.05, 0.009]\n",
    "}"
   ]
  },
  {
   "cell_type": "code",
   "execution_count": 42,
   "metadata": {},
   "outputs": [
    {
     "name": "stdout",
     "output_type": "stream",
     "text": [
      "Fitting 3 folds for each of 50 candidates, totalling 150 fits\n"
     ]
    },
    {
     "name": "stderr",
     "output_type": "stream",
     "text": [
      "[Parallel(n_jobs=1)]: Using backend SequentialBackend with 1 concurrent workers.\n",
      "[Parallel(n_jobs=1)]: Done 150 out of 150 | elapsed:   33.3s finished\n"
     ]
    },
    {
     "data": {
      "text/plain": [
       "RandomizedSearchCV(cv=3,\n",
       "                   estimator=XGBClassifier(base_score=None, booster=None,\n",
       "                                           colsample_bylevel=None,\n",
       "                                           colsample_bynode=None,\n",
       "                                           colsample_bytree=None, gamma=None,\n",
       "                                           gpu_id=None, importance_type='gain',\n",
       "                                           interaction_constraints=None,\n",
       "                                           learning_rate=None,\n",
       "                                           max_delta_step=None, max_depth=None,\n",
       "                                           min_child_weight=None, missing=nan,\n",
       "                                           monotone_constraints=None,\n",
       "                                           n_estimators=100, n_jobs=-1,\n",
       "                                           num_parallel_tree=None,\n",
       "                                           random_state=None, reg_alpha=None,\n",
       "                                           reg_lambda=None,\n",
       "                                           scale_pos_weight=None,\n",
       "                                           subsample=None, tree_method=None,\n",
       "                                           validate_parameters=None,\n",
       "                                           verbosity=None),\n",
       "                   n_iter=50,\n",
       "                   param_distributions={'learning_rate': [0.1, 0.01, 0.05,\n",
       "                                                          0.009],\n",
       "                                        'max_depth': [2, 4, 6, 8, 10],\n",
       "                                        'n_estimators': [60, 10, 120, 160, 200,\n",
       "                                                         240]},\n",
       "                   scoring='accuracy', verbose=1)"
      ]
     },
     "execution_count": 42,
     "metadata": {},
     "output_type": "execute_result"
    }
   ],
   "source": [
    "random.seed(2)\n",
    "xb = xgb.XGBClassifier(objective = 'binary:logistic', n_jobs=-1)\n",
    "\n",
    "\n",
    "\n",
    "# Definition of the random search\n",
    "random_search_xgb = RandomizedSearchCV(estimator=xb,\n",
    "                                   param_distributions=param_grid,\n",
    "                                   n_iter=50,\n",
    "                                   scoring='accuracy',\n",
    "                                   cv=3, \n",
    "                                   verbose=1)\n",
    "\n",
    "# Fit the random search model\n",
    "random_search_xgb.fit(X_val_tf_tune_xb, y_val)"
   ]
  },
  {
   "cell_type": "code",
   "execution_count": 43,
   "metadata": {},
   "outputs": [
    {
     "name": "stdout",
     "output_type": "stream",
     "text": [
      "XGBClassifier(base_score=0.5, booster='gbtree', colsample_bylevel=1,\n",
      "              colsample_bynode=1, colsample_bytree=1, gamma=0, gpu_id=-1,\n",
      "              importance_type='gain', interaction_constraints='',\n",
      "              learning_rate=0.1, max_delta_step=0, max_depth=4,\n",
      "              min_child_weight=1, missing=nan, monotone_constraints='()',\n",
      "              n_estimators=240, n_jobs=-1, num_parallel_tree=1, random_state=0,\n",
      "              reg_alpha=0, reg_lambda=1, scale_pos_weight=1, subsample=1,\n",
      "              tree_method='exact', validate_parameters=1, verbosity=None)\n"
     ]
    }
   ],
   "source": [
    "print(random_search_xgb.best_estimator_)"
   ]
  },
  {
   "cell_type": "markdown",
   "metadata": {},
   "source": [
    "## 5.10 Train and test XGBoost and TF-IDF both untuned"
   ]
  },
  {
   "cell_type": "code",
   "execution_count": 44,
   "metadata": {},
   "outputs": [
    {
     "name": "stdout",
     "output_type": "stream",
     "text": [
      "Accuracy on validation data: \n",
      " 0.9852125693160814\n",
      "Classification report: \n",
      "               precision    recall  f1-score   support\n",
      "\n",
      "           0       0.97      0.93      0.95       168\n",
      "           1       0.99      0.99      0.99       914\n",
      "\n",
      "    accuracy                           0.99      1082\n",
      "   macro avg       0.98      0.96      0.97      1082\n",
      "weighted avg       0.99      0.99      0.99      1082\n",
      "\n",
      "Confusion Matrix validation: \n",
      "[[157  11]\n",
      " [  5 909]]\n"
     ]
    }
   ],
   "source": [
    "random.seed(2)\n",
    "xb_both_tune = random_search_xgb.best_estimator_\n",
    "xb_both_tune.fit(X_train_tune_bal_xb, y_train_tune_bal_xb)\n",
    "xb_both_tune_pred = xb_both_tune.predict(X_val_tf_tune_xb)\n",
    "\n",
    "\n",
    "print(\"Accuracy on validation data: \\n\",metrics.accuracy_score(y_val, xb_both_tune_pred))\n",
    "print(\"Classification report: \\n\",metrics.classification_report(y_val, xb_both_tune_pred))\n",
    "print('Confusion Matrix validation: \\n' + str(metrics.confusion_matrix(y_val, xb_both_tune_pred)))"
   ]
  },
  {
   "cell_type": "code",
   "execution_count": 45,
   "metadata": {},
   "outputs": [
    {
     "data": {
      "text/html": [
       "<div>\n",
       "<style scoped>\n",
       "    .dataframe tbody tr th:only-of-type {\n",
       "        vertical-align: middle;\n",
       "    }\n",
       "\n",
       "    .dataframe tbody tr th {\n",
       "        vertical-align: top;\n",
       "    }\n",
       "\n",
       "    .dataframe thead th {\n",
       "        text-align: right;\n",
       "    }\n",
       "</style>\n",
       "<table border=\"1\" class=\"dataframe\">\n",
       "  <thead>\n",
       "    <tr style=\"text-align: right;\">\n",
       "      <th></th>\n",
       "      <th>Model</th>\n",
       "      <th>Data</th>\n",
       "      <th>Precision</th>\n",
       "      <th>Recall</th>\n",
       "      <th>Specificity</th>\n",
       "      <th>F1-score</th>\n",
       "      <th>Accuracy</th>\n",
       "      <th>Bal Accuracy</th>\n",
       "      <th>AUC</th>\n",
       "    </tr>\n",
       "  </thead>\n",
       "  <tbody>\n",
       "    <tr>\n",
       "      <th>0</th>\n",
       "      <td>RF not tuned</td>\n",
       "      <td>Validation</td>\n",
       "      <td>0.973205</td>\n",
       "      <td>0.993435</td>\n",
       "      <td>0.851190</td>\n",
       "      <td>0.983216</td>\n",
       "      <td>0.971349</td>\n",
       "      <td>0.922313</td>\n",
       "      <td>0.922313</td>\n",
       "    </tr>\n",
       "    <tr>\n",
       "      <th>0</th>\n",
       "      <td>RF not tuned</td>\n",
       "      <td>Test</td>\n",
       "      <td>0.936642</td>\n",
       "      <td>0.993281</td>\n",
       "      <td>0.807692</td>\n",
       "      <td>0.964130</td>\n",
       "      <td>0.945228</td>\n",
       "      <td>0.900487</td>\n",
       "      <td>0.900487</td>\n",
       "    </tr>\n",
       "    <tr>\n",
       "      <th>0</th>\n",
       "      <td>RF TF tuned</td>\n",
       "      <td>Validation</td>\n",
       "      <td>0.994524</td>\n",
       "      <td>0.993435</td>\n",
       "      <td>0.970238</td>\n",
       "      <td>0.993979</td>\n",
       "      <td>0.989834</td>\n",
       "      <td>0.981837</td>\n",
       "      <td>0.981837</td>\n",
       "    </tr>\n",
       "    <tr>\n",
       "      <th>0</th>\n",
       "      <td>RF TF tuned</td>\n",
       "      <td>Test</td>\n",
       "      <td>0.977703</td>\n",
       "      <td>0.982083</td>\n",
       "      <td>0.935897</td>\n",
       "      <td>0.979888</td>\n",
       "      <td>0.970124</td>\n",
       "      <td>0.958990</td>\n",
       "      <td>0.958990</td>\n",
       "    </tr>\n",
       "    <tr>\n",
       "      <th>0</th>\n",
       "      <td>RF TF and Algorithm tuned</td>\n",
       "      <td>Validation</td>\n",
       "      <td>0.992358</td>\n",
       "      <td>0.994530</td>\n",
       "      <td>0.958333</td>\n",
       "      <td>0.993443</td>\n",
       "      <td>0.988909</td>\n",
       "      <td>0.976431</td>\n",
       "      <td>0.976431</td>\n",
       "    </tr>\n",
       "    <tr>\n",
       "      <th>0</th>\n",
       "      <td>RF TF and Algorithm tuned</td>\n",
       "      <td>Test</td>\n",
       "      <td>0.980022</td>\n",
       "      <td>0.988802</td>\n",
       "      <td>0.942308</td>\n",
       "      <td>0.984392</td>\n",
       "      <td>0.976763</td>\n",
       "      <td>0.965555</td>\n",
       "      <td>0.965555</td>\n",
       "    </tr>\n",
       "    <tr>\n",
       "      <th>0</th>\n",
       "      <td>XGBost not tuned</td>\n",
       "      <td>Validation</td>\n",
       "      <td>0.992358</td>\n",
       "      <td>0.994530</td>\n",
       "      <td>0.958333</td>\n",
       "      <td>0.993443</td>\n",
       "      <td>0.988909</td>\n",
       "      <td>0.976431</td>\n",
       "      <td>0.976431</td>\n",
       "    </tr>\n",
       "    <tr>\n",
       "      <th>0</th>\n",
       "      <td>XGBost not tuned</td>\n",
       "      <td>Test</td>\n",
       "      <td>0.978795</td>\n",
       "      <td>0.982083</td>\n",
       "      <td>0.939103</td>\n",
       "      <td>0.980436</td>\n",
       "      <td>0.970954</td>\n",
       "      <td>0.960593</td>\n",
       "      <td>0.960593</td>\n",
       "    </tr>\n",
       "    <tr>\n",
       "      <th>0</th>\n",
       "      <td>XGBost TF tuned</td>\n",
       "      <td>Validation</td>\n",
       "      <td>0.988043</td>\n",
       "      <td>0.994530</td>\n",
       "      <td>0.934524</td>\n",
       "      <td>0.991276</td>\n",
       "      <td>0.985213</td>\n",
       "      <td>0.964527</td>\n",
       "      <td>0.964527</td>\n",
       "    </tr>\n",
       "    <tr>\n",
       "      <th>0</th>\n",
       "      <td>XGBost TF tuned</td>\n",
       "      <td>Test</td>\n",
       "      <td>0.974501</td>\n",
       "      <td>0.984323</td>\n",
       "      <td>0.926282</td>\n",
       "      <td>0.979387</td>\n",
       "      <td>0.969295</td>\n",
       "      <td>0.955302</td>\n",
       "      <td>0.955302</td>\n",
       "    </tr>\n",
       "    <tr>\n",
       "      <th>0</th>\n",
       "      <td>XGBoost TF and Algorithm tuned</td>\n",
       "      <td>Validation</td>\n",
       "      <td>0.988043</td>\n",
       "      <td>0.994530</td>\n",
       "      <td>0.934524</td>\n",
       "      <td>0.991276</td>\n",
       "      <td>0.985213</td>\n",
       "      <td>0.964527</td>\n",
       "      <td>0.964527</td>\n",
       "    </tr>\n",
       "  </tbody>\n",
       "</table>\n",
       "</div>"
      ],
      "text/plain": [
       "                            Model        Data  Precision    Recall  \\\n",
       "0                    RF not tuned  Validation   0.973205  0.993435   \n",
       "0                    RF not tuned        Test   0.936642  0.993281   \n",
       "0                     RF TF tuned  Validation   0.994524  0.993435   \n",
       "0                     RF TF tuned        Test   0.977703  0.982083   \n",
       "0       RF TF and Algorithm tuned  Validation   0.992358  0.994530   \n",
       "0       RF TF and Algorithm tuned        Test   0.980022  0.988802   \n",
       "0                XGBost not tuned  Validation   0.992358  0.994530   \n",
       "0                XGBost not tuned        Test   0.978795  0.982083   \n",
       "0                 XGBost TF tuned  Validation   0.988043  0.994530   \n",
       "0                 XGBost TF tuned        Test   0.974501  0.984323   \n",
       "0  XGBoost TF and Algorithm tuned  Validation   0.988043  0.994530   \n",
       "\n",
       "   Specificity  F1-score  Accuracy  Bal Accuracy       AUC  \n",
       "0     0.851190  0.983216  0.971349      0.922313  0.922313  \n",
       "0     0.807692  0.964130  0.945228      0.900487  0.900487  \n",
       "0     0.970238  0.993979  0.989834      0.981837  0.981837  \n",
       "0     0.935897  0.979888  0.970124      0.958990  0.958990  \n",
       "0     0.958333  0.993443  0.988909      0.976431  0.976431  \n",
       "0     0.942308  0.984392  0.976763      0.965555  0.965555  \n",
       "0     0.958333  0.993443  0.988909      0.976431  0.976431  \n",
       "0     0.939103  0.980436  0.970954      0.960593  0.960593  \n",
       "0     0.934524  0.991276  0.985213      0.964527  0.964527  \n",
       "0     0.926282  0.979387  0.969295      0.955302  0.955302  \n",
       "0     0.934524  0.991276  0.985213      0.964527  0.964527  "
      ]
     },
     "execution_count": 45,
     "metadata": {},
     "output_type": "execute_result"
    }
   ],
   "source": [
    "sc = calc_binary_class_metrics(y_val, xb_both_tune_pred, 'XGBoost TF and Algorithm tuned', 'Validation')\n",
    "results_score = results_score.append(sc)\n",
    "results_score"
   ]
  },
  {
   "cell_type": "code",
   "execution_count": 46,
   "metadata": {},
   "outputs": [
    {
     "name": "stdout",
     "output_type": "stream",
     "text": [
      "Accuracy on test data: \n",
      " 0.975103734439834\n",
      "Classification report: \n",
      "               precision    recall  f1-score   support\n",
      "\n",
      "           0       0.96      0.94      0.95       312\n",
      "           1       0.98      0.99      0.98       893\n",
      "\n",
      "    accuracy                           0.98      1205\n",
      "   macro avg       0.97      0.96      0.97      1205\n",
      "weighted avg       0.98      0.98      0.97      1205\n",
      "\n",
      "Confusion Matrix test: \n",
      "[[293  19]\n",
      " [ 11 882]]\n"
     ]
    }
   ],
   "source": [
    "random.seed(2)\n",
    "xb_both_tune_pred_test = xb_both_tune.predict(X_test_tf_tune_xb)\n",
    "print(\"Accuracy on test data: \\n\",metrics.accuracy_score(y_test, xb_both_tune_pred_test))\n",
    "print(\"Classification report: \\n\",metrics.classification_report(y_test, xb_both_tune_pred_test))\n",
    "print('Confusion Matrix test: \\n' + str(metrics.confusion_matrix(y_test, xb_both_tune_pred_test)))"
   ]
  },
  {
   "cell_type": "code",
   "execution_count": 47,
   "metadata": {},
   "outputs": [
    {
     "data": {
      "text/html": [
       "<div>\n",
       "<style scoped>\n",
       "    .dataframe tbody tr th:only-of-type {\n",
       "        vertical-align: middle;\n",
       "    }\n",
       "\n",
       "    .dataframe tbody tr th {\n",
       "        vertical-align: top;\n",
       "    }\n",
       "\n",
       "    .dataframe thead th {\n",
       "        text-align: right;\n",
       "    }\n",
       "</style>\n",
       "<table border=\"1\" class=\"dataframe\">\n",
       "  <thead>\n",
       "    <tr style=\"text-align: right;\">\n",
       "      <th></th>\n",
       "      <th>Model</th>\n",
       "      <th>Data</th>\n",
       "      <th>Precision</th>\n",
       "      <th>Recall</th>\n",
       "      <th>Specificity</th>\n",
       "      <th>F1-score</th>\n",
       "      <th>Accuracy</th>\n",
       "      <th>Bal Accuracy</th>\n",
       "      <th>AUC</th>\n",
       "    </tr>\n",
       "  </thead>\n",
       "  <tbody>\n",
       "    <tr>\n",
       "      <th>0</th>\n",
       "      <td>RF not tuned</td>\n",
       "      <td>Validation</td>\n",
       "      <td>0.973205</td>\n",
       "      <td>0.993435</td>\n",
       "      <td>0.851190</td>\n",
       "      <td>0.983216</td>\n",
       "      <td>0.971349</td>\n",
       "      <td>0.922313</td>\n",
       "      <td>0.922313</td>\n",
       "    </tr>\n",
       "    <tr>\n",
       "      <th>0</th>\n",
       "      <td>RF not tuned</td>\n",
       "      <td>Test</td>\n",
       "      <td>0.936642</td>\n",
       "      <td>0.993281</td>\n",
       "      <td>0.807692</td>\n",
       "      <td>0.964130</td>\n",
       "      <td>0.945228</td>\n",
       "      <td>0.900487</td>\n",
       "      <td>0.900487</td>\n",
       "    </tr>\n",
       "    <tr>\n",
       "      <th>0</th>\n",
       "      <td>RF TF tuned</td>\n",
       "      <td>Validation</td>\n",
       "      <td>0.994524</td>\n",
       "      <td>0.993435</td>\n",
       "      <td>0.970238</td>\n",
       "      <td>0.993979</td>\n",
       "      <td>0.989834</td>\n",
       "      <td>0.981837</td>\n",
       "      <td>0.981837</td>\n",
       "    </tr>\n",
       "    <tr>\n",
       "      <th>0</th>\n",
       "      <td>RF TF tuned</td>\n",
       "      <td>Test</td>\n",
       "      <td>0.977703</td>\n",
       "      <td>0.982083</td>\n",
       "      <td>0.935897</td>\n",
       "      <td>0.979888</td>\n",
       "      <td>0.970124</td>\n",
       "      <td>0.958990</td>\n",
       "      <td>0.958990</td>\n",
       "    </tr>\n",
       "    <tr>\n",
       "      <th>0</th>\n",
       "      <td>RF TF and Algorithm tuned</td>\n",
       "      <td>Validation</td>\n",
       "      <td>0.992358</td>\n",
       "      <td>0.994530</td>\n",
       "      <td>0.958333</td>\n",
       "      <td>0.993443</td>\n",
       "      <td>0.988909</td>\n",
       "      <td>0.976431</td>\n",
       "      <td>0.976431</td>\n",
       "    </tr>\n",
       "    <tr>\n",
       "      <th>0</th>\n",
       "      <td>RF TF and Algorithm tuned</td>\n",
       "      <td>Test</td>\n",
       "      <td>0.980022</td>\n",
       "      <td>0.988802</td>\n",
       "      <td>0.942308</td>\n",
       "      <td>0.984392</td>\n",
       "      <td>0.976763</td>\n",
       "      <td>0.965555</td>\n",
       "      <td>0.965555</td>\n",
       "    </tr>\n",
       "    <tr>\n",
       "      <th>0</th>\n",
       "      <td>XGBost not tuned</td>\n",
       "      <td>Validation</td>\n",
       "      <td>0.992358</td>\n",
       "      <td>0.994530</td>\n",
       "      <td>0.958333</td>\n",
       "      <td>0.993443</td>\n",
       "      <td>0.988909</td>\n",
       "      <td>0.976431</td>\n",
       "      <td>0.976431</td>\n",
       "    </tr>\n",
       "    <tr>\n",
       "      <th>0</th>\n",
       "      <td>XGBost not tuned</td>\n",
       "      <td>Test</td>\n",
       "      <td>0.978795</td>\n",
       "      <td>0.982083</td>\n",
       "      <td>0.939103</td>\n",
       "      <td>0.980436</td>\n",
       "      <td>0.970954</td>\n",
       "      <td>0.960593</td>\n",
       "      <td>0.960593</td>\n",
       "    </tr>\n",
       "    <tr>\n",
       "      <th>0</th>\n",
       "      <td>XGBost TF tuned</td>\n",
       "      <td>Validation</td>\n",
       "      <td>0.988043</td>\n",
       "      <td>0.994530</td>\n",
       "      <td>0.934524</td>\n",
       "      <td>0.991276</td>\n",
       "      <td>0.985213</td>\n",
       "      <td>0.964527</td>\n",
       "      <td>0.964527</td>\n",
       "    </tr>\n",
       "    <tr>\n",
       "      <th>0</th>\n",
       "      <td>XGBost TF tuned</td>\n",
       "      <td>Test</td>\n",
       "      <td>0.974501</td>\n",
       "      <td>0.984323</td>\n",
       "      <td>0.926282</td>\n",
       "      <td>0.979387</td>\n",
       "      <td>0.969295</td>\n",
       "      <td>0.955302</td>\n",
       "      <td>0.955302</td>\n",
       "    </tr>\n",
       "    <tr>\n",
       "      <th>0</th>\n",
       "      <td>XGBoost TF and Algorithm tuned</td>\n",
       "      <td>Validation</td>\n",
       "      <td>0.988043</td>\n",
       "      <td>0.994530</td>\n",
       "      <td>0.934524</td>\n",
       "      <td>0.991276</td>\n",
       "      <td>0.985213</td>\n",
       "      <td>0.964527</td>\n",
       "      <td>0.964527</td>\n",
       "    </tr>\n",
       "    <tr>\n",
       "      <th>0</th>\n",
       "      <td>XGBoost TF and Algorithm tuned</td>\n",
       "      <td>Test</td>\n",
       "      <td>0.978912</td>\n",
       "      <td>0.987682</td>\n",
       "      <td>0.939103</td>\n",
       "      <td>0.983278</td>\n",
       "      <td>0.975104</td>\n",
       "      <td>0.963392</td>\n",
       "      <td>0.963392</td>\n",
       "    </tr>\n",
       "  </tbody>\n",
       "</table>\n",
       "</div>"
      ],
      "text/plain": [
       "                            Model        Data  Precision    Recall  \\\n",
       "0                    RF not tuned  Validation   0.973205  0.993435   \n",
       "0                    RF not tuned        Test   0.936642  0.993281   \n",
       "0                     RF TF tuned  Validation   0.994524  0.993435   \n",
       "0                     RF TF tuned        Test   0.977703  0.982083   \n",
       "0       RF TF and Algorithm tuned  Validation   0.992358  0.994530   \n",
       "0       RF TF and Algorithm tuned        Test   0.980022  0.988802   \n",
       "0                XGBost not tuned  Validation   0.992358  0.994530   \n",
       "0                XGBost not tuned        Test   0.978795  0.982083   \n",
       "0                 XGBost TF tuned  Validation   0.988043  0.994530   \n",
       "0                 XGBost TF tuned        Test   0.974501  0.984323   \n",
       "0  XGBoost TF and Algorithm tuned  Validation   0.988043  0.994530   \n",
       "0  XGBoost TF and Algorithm tuned        Test   0.978912  0.987682   \n",
       "\n",
       "   Specificity  F1-score  Accuracy  Bal Accuracy       AUC  \n",
       "0     0.851190  0.983216  0.971349      0.922313  0.922313  \n",
       "0     0.807692  0.964130  0.945228      0.900487  0.900487  \n",
       "0     0.970238  0.993979  0.989834      0.981837  0.981837  \n",
       "0     0.935897  0.979888  0.970124      0.958990  0.958990  \n",
       "0     0.958333  0.993443  0.988909      0.976431  0.976431  \n",
       "0     0.942308  0.984392  0.976763      0.965555  0.965555  \n",
       "0     0.958333  0.993443  0.988909      0.976431  0.976431  \n",
       "0     0.939103  0.980436  0.970954      0.960593  0.960593  \n",
       "0     0.934524  0.991276  0.985213      0.964527  0.964527  \n",
       "0     0.926282  0.979387  0.969295      0.955302  0.955302  \n",
       "0     0.934524  0.991276  0.985213      0.964527  0.964527  \n",
       "0     0.939103  0.983278  0.975104      0.963392  0.963392  "
      ]
     },
     "execution_count": 47,
     "metadata": {},
     "output_type": "execute_result"
    }
   ],
   "source": [
    "sc = calc_binary_class_metrics(y_test, xb_both_tune_pred_test, 'XGBoost TF and Algorithm tuned', 'Test')\n",
    "results_score = results_score.append(sc)\n",
    "results_score"
   ]
  },
  {
   "cell_type": "markdown",
   "metadata": {},
   "source": [
    "## 6 Best Model"
   ]
  },
  {
   "cell_type": "markdown",
   "metadata": {},
   "source": [
    "The best model is Random Forest with both vectorizer and learning algorithm tuned."
   ]
  },
  {
   "cell_type": "code",
   "execution_count": 48,
   "metadata": {},
   "outputs": [
    {
     "data": {
      "text/plain": [
       "Text(0.5, 1.0, 'RF TF and Algorithm tuned')"
      ]
     },
     "execution_count": 48,
     "metadata": {},
     "output_type": "execute_result"
    },
    {
     "data": {
      "image/png": "[encoded data removed]",
      "text/plain": [
       "<Figure size 432x288 with 2 Axes>"
      ]
     },
     "metadata": {
      "needs_background": "light"
     },
     "output_type": "display_data"
    }
   ],
   "source": [
    "plot_conf = metrics.plot_confusion_matrix(rf_both_tune, X_test_tf_tune, y_test, values_format = 'n',\n",
    "                                   cmap=plt.cm.Blues, display_labels = ['process' , 'product', 'use claim'] )\n",
    "title = 'RF TF and Algorithm tuned'\n",
    "plot_conf.ax_.set_title(title)"
   ]
  },
  {
   "cell_type": "code",
   "execution_count": 49,
   "metadata": {},
   "outputs": [
    {
     "data": {
      "text/plain": [
       "{'n_estimators': 600,\n",
       " 'min_samples_split': 2,\n",
       " 'min_samples_leaf': 1,\n",
       " 'max_features': 'sqrt',\n",
       " 'max_depth': 100,\n",
       " 'bootstrap': False}"
      ]
     },
     "execution_count": 49,
     "metadata": {},
     "output_type": "execute_result"
    }
   ],
   "source": [
    "random_search_rf.best_params_"
   ]
  },
  {
   "cell_type": "code",
   "execution_count": 60,
   "metadata": {},
   "outputs": [
    {
     "data": {
      "text/plain": [
       "'weighted-MAE is 0.003498269118210207'"
      ]
     },
     "execution_count": 60,
     "metadata": {},
     "output_type": "execute_result"
    }
   ],
   "source": [
    "MAE_weighted(rf_both_tune_pred_test, test_db, binary_class = 'Yes')"
   ]
  },
  {
   "cell_type": "code",
   "execution_count": 58,
   "metadata": {},
   "outputs": [
    {
     "data": {
      "text/plain": [
       "Model           RF TF and Algorithm tuned\n",
       "Data                                 Test\n",
       "Precision                        0.980022\n",
       "Recall                           0.988802\n",
       "Specificity                      0.942308\n",
       "F1-score                         0.984392\n",
       "Accuracy                         0.976763\n",
       "Bal Accuracy                     0.965555\n",
       "AUC                              0.965555\n",
       "Name: 0, dtype: object"
      ]
     },
     "execution_count": 58,
     "metadata": {},
     "output_type": "execute_result"
    }
   ],
   "source": [
    "results_score.iloc[5]"
   ]
  },
  {
   "cell_type": "code",
   "execution_count": 62,
   "metadata": {},
   "outputs": [],
   "source": [
    "#save the model\n",
    "with open(ospath('~/code_final_project/Z_Best_models_saved/Claims/Best_Binary_model.pickle.pickle'), 'wb') as model:\n",
    "    pickle.dump(rf_both_tune, model)\n",
    "    \n",
    "#save tf-df fitted vectorizer to use for the best model\n",
    "with open(ospath('~/code_final_project/Z_Best_models_saved/Claims/Best_tf_idf_for_Binary_model.pickle'), 'wb') as model:\n",
    "    pickle.dump(tfidf_rand, model)"
   ]
  },
  {
   "cell_type": "code",
   "execution_count": null,
   "metadata": {},
   "outputs": [],
   "source": []
  }
 ],
 "metadata": {
  "kernelspec": {
   "display_name": "Python 3",
   "language": "python",
   "name": "python3"
  },
  "language_info": {
   "codemirror_mode": {
    "name": "ipython",
    "version": 3
   },
   "file_extension": ".py",
   "mimetype": "text/x-python",
   "name": "python",
   "nbconvert_exporter": "python",
   "pygments_lexer": "ipython3",
   "version": "3.7.6"
  }
 },
 "nbformat": 4,
 "nbformat_minor": 4
}
