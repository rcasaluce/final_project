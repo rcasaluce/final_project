{
 "cells": [
  {
   "cell_type": "code",
   "execution_count": 1,
   "metadata": {},
   "outputs": [],
   "source": [
    "import random\n",
    "from numpy.random import seed\n",
    "seed(3)\n",
    "import numpy as np\n",
    "np.random.default_rng\n",
    "import warnings\n",
    "warnings.filterwarnings(\"ignore\")\n",
    "import pandas as pd\n",
    "from pandas import read_csv\n",
    "%matplotlib inline\n",
    "import matplotlib.pyplot as plt\n",
    "import seaborn as sns\n",
    "import pickle\n",
    "from os.path import expanduser as ospath\n",
    "import os\n",
    "os.chdir(\"C:/Users/rober/project/B_Data_pre_processing/My_functions\")\n",
    "from D_metrics_multiclass import calc_multiclass_metrics\n",
    "from E_MAEweighted_funct import MAE_weighted\n",
    "os.chdir(\"C:/Users/rober/project/F_Extra_Experiments_Abstracts/\")\n",
    "import time\n",
    "\n",
    "import xgboost as xgb\n",
    "from sklearn.preprocessing import label_binarize\n",
    "from sklearn.model_selection import KFold, GridSearchCV, RandomizedSearchCV, cross_val_score, train_test_split\n",
    "from sklearn.pipeline import Pipeline, FeatureUnion, make_pipeline\n",
    "from sklearn.ensemble import RandomForestClassifier\n",
    "#from sklearn.metrics import classification_report, fbeta_score, make_scorer, precision_score, accuracy_score, f1_score,  recall_score, confusion_matrix, roc_auc_score\n",
    "from sklearn import metrics\n",
    "from sklearn.multiclass import OneVsRestClassifier\n",
    "from sklearn.feature_extraction.text import TfidfVectorizer\n",
    "from imblearn.over_sampling import SMOTE\n",
    "from collections import Counter"
   ]
  },
  {
   "cell_type": "markdown",
   "metadata": {},
   "source": [
    "## Steps:\n",
    "\n",
    "> 1. Load pre-processed text\n",
    "> 2. Split in three datasets and divide the features from the targets\n",
    "> 3. Word representation using TF-IDF \n",
    "> 4. Using SMOTE to Balanced the train data\n",
    "> 5. Train the two best learning algorithms - Random Forest and XGBoost\n",
    "\n",
    "\n",
    "        First algorithm Random Forest:\n",
    "        \n",
    ">>        5.1 Train and test Random Forest and TF-IDF both untuned\n",
    ">>        5.2 Tune TF-IDF\n",
    ">>        5.3 Train and test Random Forest with only TF-IDF tuned\n",
    ">>        5.4 Tune hyperparameters Random Forest\n",
    ">>        5.5 Train and test Random Forest with TF-IDF both tuned\n",
    "        \n",
    "        Second algorithm XGBoost:\n",
    "        \n",
    ">>        5.6 Train and test XGBoost and TF-IDF both untuned\n",
    ">>        5.7 Tune TF-IDF\n",
    ">>        5.8 Train and test XGBoost with only TF-IDF tuned\n",
    ">>        5.9 Tune hyperparameters XGBoost\n",
    ">>        5.10 Train and test XGBoost with TF-IDF both tuned\n",
    "        \n",
    "> 6. Best model    \n",
    "\n",
    "***"
   ]
  },
  {
   "cell_type": "markdown",
   "metadata": {},
   "source": [
    "# 1. Load pre-processed text"
   ]
  },
  {
   "cell_type": "code",
   "execution_count": 2,
   "metadata": {},
   "outputs": [],
   "source": [
    "with open(ospath('~/code_final_project/B_Data_pre_processing/Pickle_Files/Claims_cleaned.pickle'), 'rb') as data:\n",
    "    db = pickle.load(data)"
   ]
  },
  {
   "cell_type": "code",
   "execution_count": 3,
   "metadata": {},
   "outputs": [
    {
     "data": {
      "text/html": [
       "<div>\n",
       "<style scoped>\n",
       "    .dataframe tbody tr th:only-of-type {\n",
       "        vertical-align: middle;\n",
       "    }\n",
       "\n",
       "    .dataframe tbody tr th {\n",
       "        vertical-align: top;\n",
       "    }\n",
       "\n",
       "    .dataframe thead th {\n",
       "        text-align: right;\n",
       "    }\n",
       "</style>\n",
       "<table border=\"1\" class=\"dataframe\">\n",
       "  <thead>\n",
       "    <tr style=\"text-align: right;\">\n",
       "      <th></th>\n",
       "      <th>publn_nr</th>\n",
       "      <th>type</th>\n",
       "      <th>label</th>\n",
       "      <th>text</th>\n",
       "      <th>text_clean</th>\n",
       "    </tr>\n",
       "  </thead>\n",
       "  <tbody>\n",
       "    <tr>\n",
       "      <th>1</th>\n",
       "      <td>4254843</td>\n",
       "      <td>Claim 1</td>\n",
       "      <td>product</td>\n",
       "      <td>An electrically powered vehicle comprising: a ...</td>\n",
       "      <td>electrically power vehicle comprise body suppo...</td>\n",
       "    </tr>\n",
       "    <tr>\n",
       "      <th>2</th>\n",
       "      <td>4254843</td>\n",
       "      <td>Claim 2</td>\n",
       "      <td>product</td>\n",
       "      <td>An electrically powered vehicle as recited in ...</td>\n",
       "      <td>electrically power vehicle recite claim wherei...</td>\n",
       "    </tr>\n",
       "    <tr>\n",
       "      <th>3</th>\n",
       "      <td>4254843</td>\n",
       "      <td>Claim 3</td>\n",
       "      <td>product</td>\n",
       "      <td>An electrically powered vehicle as recited in ...</td>\n",
       "      <td>electrically power vehicle recite claim wherei...</td>\n",
       "    </tr>\n",
       "    <tr>\n",
       "      <th>4</th>\n",
       "      <td>4254843</td>\n",
       "      <td>Claim 4</td>\n",
       "      <td>product</td>\n",
       "      <td>An electrically powered vehicle as recited in ...</td>\n",
       "      <td>electrically power vehicle recite claim compri...</td>\n",
       "    </tr>\n",
       "    <tr>\n",
       "      <th>5</th>\n",
       "      <td>4254843</td>\n",
       "      <td>Claim 5</td>\n",
       "      <td>product</td>\n",
       "      <td>An electrically powered vehicle as recited in ...</td>\n",
       "      <td>electrically power vehicle recite claim compri...</td>\n",
       "    </tr>\n",
       "  </tbody>\n",
       "</table>\n",
       "</div>"
      ],
      "text/plain": [
       "   publn_nr     type    label  \\\n",
       "1   4254843  Claim 1  product   \n",
       "2   4254843  Claim 2  product   \n",
       "3   4254843  Claim 3  product   \n",
       "4   4254843  Claim 4  product   \n",
       "5   4254843  Claim 5  product   \n",
       "\n",
       "                                                text  \\\n",
       "1  An electrically powered vehicle comprising: a ...   \n",
       "2  An electrically powered vehicle as recited in ...   \n",
       "3  An electrically powered vehicle as recited in ...   \n",
       "4  An electrically powered vehicle as recited in ...   \n",
       "5  An electrically powered vehicle as recited in ...   \n",
       "\n",
       "                                          text_clean  \n",
       "1  electrically power vehicle comprise body suppo...  \n",
       "2  electrically power vehicle recite claim wherei...  \n",
       "3  electrically power vehicle recite claim wherei...  \n",
       "4  electrically power vehicle recite claim compri...  \n",
       "5  electrically power vehicle recite claim compri...  "
      ]
     },
     "execution_count": 3,
     "metadata": {},
     "output_type": "execute_result"
    }
   ],
   "source": [
    "db.head()"
   ]
  },
  {
   "cell_type": "markdown",
   "metadata": {},
   "source": [
    "This convert name labels form string to numbers and merge into only two classes:\n",
    "Process 0, Product 1 and Use claim 2"
   ]
  },
  {
   "cell_type": "code",
   "execution_count": 4,
   "metadata": {},
   "outputs": [
    {
     "data": {
      "text/html": [
       "<div>\n",
       "<style scoped>\n",
       "    .dataframe tbody tr th:only-of-type {\n",
       "        vertical-align: middle;\n",
       "    }\n",
       "\n",
       "    .dataframe tbody tr th {\n",
       "        vertical-align: top;\n",
       "    }\n",
       "\n",
       "    .dataframe thead th {\n",
       "        text-align: right;\n",
       "    }\n",
       "</style>\n",
       "<table border=\"1\" class=\"dataframe\">\n",
       "  <thead>\n",
       "    <tr style=\"text-align: right;\">\n",
       "      <th></th>\n",
       "      <th>publn_nr</th>\n",
       "      <th>type</th>\n",
       "      <th>text</th>\n",
       "      <th>text_clean</th>\n",
       "    </tr>\n",
       "    <tr>\n",
       "      <th>label</th>\n",
       "      <th></th>\n",
       "      <th></th>\n",
       "      <th></th>\n",
       "      <th></th>\n",
       "    </tr>\n",
       "  </thead>\n",
       "  <tbody>\n",
       "    <tr>\n",
       "      <th>0</th>\n",
       "      <td>740</td>\n",
       "      <td>740</td>\n",
       "      <td>740</td>\n",
       "      <td>740</td>\n",
       "    </tr>\n",
       "    <tr>\n",
       "      <th>1</th>\n",
       "      <td>3809</td>\n",
       "      <td>3809</td>\n",
       "      <td>3809</td>\n",
       "      <td>3809</td>\n",
       "    </tr>\n",
       "    <tr>\n",
       "      <th>2</th>\n",
       "      <td>307</td>\n",
       "      <td>307</td>\n",
       "      <td>307</td>\n",
       "      <td>307</td>\n",
       "    </tr>\n",
       "  </tbody>\n",
       "</table>\n",
       "</div>"
      ],
      "text/plain": [
       "       publn_nr  type  text  text_clean\n",
       "label                                  \n",
       "0           740   740   740         740\n",
       "1          3809  3809  3809        3809\n",
       "2           307   307   307         307"
      ]
     },
     "execution_count": 4,
     "metadata": {},
     "output_type": "execute_result"
    }
   ],
   "source": [
    "db['label'] = db.label.replace(to_replace=['process', 'product','use claim'], value=[0, 1, 2])\n",
    "db = db[(db['label'] != 'product and process')]\n",
    "db.groupby(by='label').count()"
   ]
  },
  {
   "cell_type": "markdown",
   "metadata": {},
   "source": [
    "# 2. Split in three datasets and divide the features from the targets\n"
   ]
  },
  {
   "cell_type": "markdown",
   "metadata": {},
   "source": [
    "Train 50%, validation 25% and test 25%."
   ]
  },
  {
   "cell_type": "code",
   "execution_count": 5,
   "metadata": {},
   "outputs": [
    {
     "name": "stdout",
     "output_type": "stream",
     "text": [
      "number of patents : 194\n",
      "-------------------------------------------------------------------------------- \n",
      "\n",
      "Train data:\n",
      "Train data shape: (2319, 5) \n",
      "Number of patents: 98\n",
      "First patent number train: 4254843\n",
      "\n",
      "Train frequency classes:        publn_nr\n",
      "label          \n",
      "0           370\n",
      "1          1770\n",
      "2           179\n",
      "-------------------------------------------------------------------------------- \n",
      "\n",
      "Test data:\n",
      "Test data shape: (1106, 5) \n",
      "Number of patents: 48\n",
      "First patent number test: 7009401\n",
      "\n",
      "Test frequency classes:        publn_nr\n",
      "label          \n",
      "0           205\n",
      "1           846\n",
      "2            55\n",
      "-------------------------------------------------------------------------------- \n",
      "\n",
      "Val data:\n",
      "Val data shape: (1431, 5) \n",
      "Number of patents: 48\n",
      "First patent number val: 5961672\n",
      "\n",
      "Val frequency classes:        publn_nr\n",
      "label          \n",
      "0           165\n",
      "1          1193\n",
      "2            73 \n",
      "\n"
     ]
    }
   ],
   "source": [
    "def split_train_test_val(db):\n",
    "    \n",
    "    random.seed(8)\n",
    "    pat_nr = list(db['publn_nr'].unique())\n",
    "    print('number of patents :',str(len(pat_nr )))\n",
    "    \n",
    "    test =  random.sample(pat_nr, 48)\n",
    "\n",
    "    train_test = [i for i in pat_nr if i not in test]\n",
    "\n",
    "    val = random.sample(train_test, 48)\n",
    "\n",
    "    train = [i for i in train_test if i not in val]\n",
    "\n",
    "    #create an empty data set\n",
    "    train_db = pd.DataFrame()                             \n",
    "    for num in range(len(train)):   \n",
    "        train_db = train_db.append(db.loc[db['publn_nr'] == train[num]], ignore_index=True)\n",
    "\n",
    "    #create an empty data set\n",
    "    val_db = pd.DataFrame()                             \n",
    "    for num in range(len(val)):   \n",
    "        val_db = val_db.append(db.loc[db['publn_nr'] == val[num]], ignore_index=True)\n",
    "\n",
    "    #create an empty data set\n",
    "    test_db = pd.DataFrame()                             \n",
    "    for num in range(len(test)):   \n",
    "        test_db = test_db.append(db.loc[db['publn_nr'] == test[num]], ignore_index=True)\n",
    "\n",
    "    print('-'*80,'\\n')\n",
    "    print('Train data:')\n",
    "    print('Train data shape: {} \\nNumber of patents: {}'.format(train_db.shape ,len(train_db['publn_nr'].unique())))\n",
    "    print('First patent number train:',train_db['publn_nr'].iloc[0])\n",
    "    print()\n",
    "    print('Train frequency classes:',train_db.groupby(by='label').count().iloc[:,:1])\n",
    "    print('-'*80,'\\n')\n",
    "    print('Test data:')\n",
    "    print('Test data shape: {} \\nNumber of patents: {}'.format(test_db.shape, len(test_db['publn_nr'].unique())))\n",
    "    print('First patent number test:',test_db['publn_nr'].iloc[0])\n",
    "    print()\n",
    "    print('Test frequency classes:',test_db.groupby(by='label').count().iloc[:,:1])\n",
    "    print('-'*80,'\\n')\n",
    "    print('Val data:')\n",
    "    print('Val data shape: {} \\nNumber of patents: {}'.format(val_db.shape, len(val_db['publn_nr'].unique())))\n",
    "    print('First patent number val:',val_db['publn_nr'].iloc[0])\n",
    "    print()\n",
    "    print('Val frequency classes:',val_db.groupby(by='label').count().iloc[:,:1],'\\n')\n",
    "    \n",
    "    \n",
    "    return train_db, test_db, val_db\n",
    "\n",
    "train_db, test_db, val_db = split_train_test_val(db) \n"
   ]
  },
  {
   "cell_type": "markdown",
   "metadata": {},
   "source": [
    "### Separate for the three datasets the features from the labels"
   ]
  },
  {
   "cell_type": "code",
   "execution_count": 6,
   "metadata": {},
   "outputs": [],
   "source": [
    "X_train = train_db['text_clean']\n",
    "y_train = train_db['label']\n",
    "\n",
    "X_val = val_db['text_clean']\n",
    "y_val = val_db['label']\n",
    "\n",
    "X_test = test_db['text_clean']\n",
    "y_test = test_db['label']\n",
    "\n",
    "y_train = y_train.astype('int')\n",
    "y_val = y_val.astype('int')\n",
    "y_test = y_test.astype('int')"
   ]
  },
  {
   "cell_type": "markdown",
   "metadata": {},
   "source": [
    "# 3. Word representation using TF-IDF\n",
    "I will not select now the features dimension. I run the model with all the features"
   ]
  },
  {
   "cell_type": "code",
   "execution_count": 7,
   "metadata": {},
   "outputs": [],
   "source": [
    "tfidf = TfidfVectorizer(ngram_range = (1,2), encoding='utf-8')\n",
    "\n",
    "X_train_tf = tfidf.fit_transform(X_train).toarray()\n",
    "X_test_tf = tfidf.transform(X_test).toarray()\n",
    "X_val_tf = tfidf.transform(X_val).toarray()\n",
    "\n",
    "\n",
    "y_train = y_train.astype('int')\n",
    "y_test = y_test.astype('int')\n",
    "y_val = y_val.astype('int')"
   ]
  },
  {
   "cell_type": "markdown",
   "metadata": {},
   "source": [
    "# 4. Using SMOTE to Balanced the train data"
   ]
  },
  {
   "cell_type": "code",
   "execution_count": 8,
   "metadata": {},
   "outputs": [],
   "source": [
    "balance = SMOTE()\n",
    "X_train_bal, y_train_bal = balance.fit_resample(X_train_tf, y_train)"
   ]
  },
  {
   "cell_type": "markdown",
   "metadata": {},
   "source": [
    "Initiation dataset to store all the results"
   ]
  },
  {
   "cell_type": "code",
   "execution_count": 9,
   "metadata": {},
   "outputs": [],
   "source": [
    "results_score = pd.DataFrame()"
   ]
  },
  {
   "cell_type": "markdown",
   "metadata": {},
   "source": [
    "# First Learning Algorithm\n",
    "## 5.1 Train and test Random Forest and TF-IDF both untuned"
   ]
  },
  {
   "cell_type": "markdown",
   "metadata": {},
   "source": [
    "### First, I train the random forest model without any tuning and no feature diemension selected."
   ]
  },
  {
   "cell_type": "markdown",
   "metadata": {},
   "source": [
    "Train and evaluate the model with validation data. "
   ]
  },
  {
   "cell_type": "code",
   "execution_count": 10,
   "metadata": {},
   "outputs": [
    {
     "name": "stdout",
     "output_type": "stream",
     "text": [
      "Accuracy on validation data: \n",
      " 0.9287211740041929\n",
      "Confusion Matrix validation: \n",
      "[[ 113   51    1]\n",
      " [   7 1186    0]\n",
      " [   3   40   30]]\n"
     ]
    }
   ],
   "source": [
    "rf = RandomForestClassifier(random_state = 8, n_jobs = -1)\n",
    "rf.fit(X_train_bal, y_train_bal)\n",
    "rf_pred = rf.predict(X_val_tf)\n",
    "\n",
    "print(\"Accuracy on validation data: \\n\",metrics.accuracy_score(y_val, rf_pred))\n",
    "print('Confusion Matrix validation: \\n' + str(metrics.confusion_matrix(y_val, rf_pred)))"
   ]
  },
  {
   "cell_type": "markdown",
   "metadata": {},
   "source": [
    "Store the results in dataset results scores."
   ]
  },
  {
   "cell_type": "code",
   "execution_count": 11,
   "metadata": {},
   "outputs": [
    {
     "data": {
      "text/html": [
       "<div>\n",
       "<style scoped>\n",
       "    .dataframe tbody tr th:only-of-type {\n",
       "        vertical-align: middle;\n",
       "    }\n",
       "\n",
       "    .dataframe tbody tr th {\n",
       "        vertical-align: top;\n",
       "    }\n",
       "\n",
       "    .dataframe thead th {\n",
       "        text-align: right;\n",
       "    }\n",
       "</style>\n",
       "<table border=\"1\" class=\"dataframe\">\n",
       "  <thead>\n",
       "    <tr style=\"text-align: right;\">\n",
       "      <th></th>\n",
       "      <th>Model</th>\n",
       "      <th>Data</th>\n",
       "      <th>Precision</th>\n",
       "      <th>Recall</th>\n",
       "      <th>Specificity</th>\n",
       "      <th>F1-score</th>\n",
       "      <th>Accuracy</th>\n",
       "      <th>Bal Accuracy</th>\n",
       "      <th>AUC</th>\n",
       "    </tr>\n",
       "  </thead>\n",
       "  <tbody>\n",
       "    <tr>\n",
       "      <th>0</th>\n",
       "      <td>RF not tuned</td>\n",
       "      <td>Validation</td>\n",
       "      <td>0.938393</td>\n",
       "      <td>0.696647</td>\n",
       "      <td>0.869671</td>\n",
       "      <td>0.77399</td>\n",
       "      <td>0.928721</td>\n",
       "      <td>0.696647</td>\n",
       "      <td>0.783159</td>\n",
       "    </tr>\n",
       "  </tbody>\n",
       "</table>\n",
       "</div>"
      ],
      "text/plain": [
       "          Model        Data  Precision    Recall  Specificity  F1-score  \\\n",
       "0  RF not tuned  Validation   0.938393  0.696647     0.869671   0.77399   \n",
       "\n",
       "   Accuracy  Bal Accuracy       AUC  \n",
       "0  0.928721      0.696647  0.783159  "
      ]
     },
     "execution_count": 11,
     "metadata": {},
     "output_type": "execute_result"
    }
   ],
   "source": [
    "sc = calc_multiclass_metrics(y_val, rf_pred, 'RF not tuned', 'Validation')\n",
    "results_score = results_score.append(sc)\n",
    "results_score"
   ]
  },
  {
   "cell_type": "markdown",
   "metadata": {},
   "source": [
    "Now, I evalaute tmhe model with the test data"
   ]
  },
  {
   "cell_type": "code",
   "execution_count": 12,
   "metadata": {},
   "outputs": [
    {
     "name": "stdout",
     "output_type": "stream",
     "text": [
      "Accuracy on the test data: \n",
      " 0.9132007233273056\n",
      "Confusion Matrix validation: \n",
      "[[148  50   7]\n",
      " [  5 841   0]\n",
      " [  8  26  21]]\n"
     ]
    }
   ],
   "source": [
    "rf_pred_test = rf.predict(X_test_tf)\n",
    "print(\"Accuracy on the test data: \\n\", metrics.accuracy_score(y_test, rf_pred_test))\n",
    "print('Confusion Matrix validation: \\n' + str(metrics.confusion_matrix(y_test, rf_pred_test)))"
   ]
  },
  {
   "cell_type": "code",
   "execution_count": 13,
   "metadata": {},
   "outputs": [
    {
     "data": {
      "text/html": [
       "<div>\n",
       "<style scoped>\n",
       "    .dataframe tbody tr th:only-of-type {\n",
       "        vertical-align: middle;\n",
       "    }\n",
       "\n",
       "    .dataframe tbody tr th {\n",
       "        vertical-align: top;\n",
       "    }\n",
       "\n",
       "    .dataframe thead th {\n",
       "        text-align: right;\n",
       "    }\n",
       "</style>\n",
       "<table border=\"1\" class=\"dataframe\">\n",
       "  <thead>\n",
       "    <tr style=\"text-align: right;\">\n",
       "      <th></th>\n",
       "      <th>Model</th>\n",
       "      <th>Data</th>\n",
       "      <th>Precision</th>\n",
       "      <th>Recall</th>\n",
       "      <th>Specificity</th>\n",
       "      <th>F1-score</th>\n",
       "      <th>Accuracy</th>\n",
       "      <th>Bal Accuracy</th>\n",
       "      <th>AUC</th>\n",
       "    </tr>\n",
       "  </thead>\n",
       "  <tbody>\n",
       "    <tr>\n",
       "      <th>0</th>\n",
       "      <td>RF not tuned</td>\n",
       "      <td>Validation</td>\n",
       "      <td>0.938393</td>\n",
       "      <td>0.696647</td>\n",
       "      <td>0.869671</td>\n",
       "      <td>0.773990</td>\n",
       "      <td>0.928721</td>\n",
       "      <td>0.696647</td>\n",
       "      <td>0.783159</td>\n",
       "    </tr>\n",
       "    <tr>\n",
       "      <th>0</th>\n",
       "      <td>RF not tuned</td>\n",
       "      <td>Test</td>\n",
       "      <td>0.862125</td>\n",
       "      <td>0.699286</td>\n",
       "      <td>0.895535</td>\n",
       "      <td>0.756274</td>\n",
       "      <td>0.913201</td>\n",
       "      <td>0.699286</td>\n",
       "      <td>0.797410</td>\n",
       "    </tr>\n",
       "  </tbody>\n",
       "</table>\n",
       "</div>"
      ],
      "text/plain": [
       "          Model        Data  Precision    Recall  Specificity  F1-score  \\\n",
       "0  RF not tuned  Validation   0.938393  0.696647     0.869671  0.773990   \n",
       "0  RF not tuned        Test   0.862125  0.699286     0.895535  0.756274   \n",
       "\n",
       "   Accuracy  Bal Accuracy       AUC  \n",
       "0  0.928721      0.696647  0.783159  \n",
       "0  0.913201      0.699286  0.797410  "
      ]
     },
     "execution_count": 13,
     "metadata": {},
     "output_type": "execute_result"
    }
   ],
   "source": [
    "sc = calc_multiclass_metrics(y_test, rf_pred_test, 'RF not tuned', 'Test')\n",
    "results_score = results_score.append(sc)\n",
    "results_score"
   ]
  },
  {
   "cell_type": "markdown",
   "metadata": {},
   "source": [
    "## 5.2 Tuning Hyperparameters TF-IDF"
   ]
  },
  {
   "cell_type": "markdown",
   "metadata": {},
   "source": [
    "Tuning on the validation set using Grid Search"
   ]
  },
  {
   "cell_type": "code",
   "execution_count": 14,
   "metadata": {},
   "outputs": [
    {
     "name": "stdout",
     "output_type": "stream",
     "text": [
      "Fitting 2 folds for each of 20 candidates, totalling 40 fits\n"
     ]
    },
    {
     "name": "stderr",
     "output_type": "stream",
     "text": [
      "[Parallel(n_jobs=2)]: Using backend LokyBackend with 2 concurrent workers.\n",
      "[Parallel(n_jobs=2)]: Done  28 tasks      | elapsed:    7.7s\n",
      "[Parallel(n_jobs=2)]: Done  40 out of  40 | elapsed:   10.5s finished\n"
     ]
    },
    {
     "data": {
      "text/plain": [
       "GridSearchCV(cv=2,\n",
       "             estimator=Pipeline(steps=[('tfidf',\n",
       "                                        TfidfVectorizer(lowercase=False)),\n",
       "                                       ('clf',\n",
       "                                        OneVsRestClassifier(estimator=RandomForestClassifier(random_state=8)))]),\n",
       "             n_jobs=2,\n",
       "             param_grid={'tfidf__max_features': (300, 350, 400, 450, 500),\n",
       "                         'tfidf__norm': ('l1', 'l2'),\n",
       "                         'tfidf__sublinear_tf': [True, False]},\n",
       "             verbose=3)"
      ]
     },
     "execution_count": 14,
     "metadata": {},
     "output_type": "execute_result"
    }
   ],
   "source": [
    "pipe_grid = Pipeline([\n",
    "    ('tfidf', TfidfVectorizer(lowercase=False)),\n",
    "    ('clf', OneVsRestClassifier(RandomForestClassifier(random_state = 8))),\n",
    "])\n",
    "param_grid = {\n",
    "    'tfidf__norm' :('l1', 'l2'),\n",
    "    'tfidf__max_features' : (300, 350, 400, 450,500),\n",
    "    'tfidf__sublinear_tf' : [True, False]\n",
    "}\n",
    "\n",
    "grid_search_tfidf = GridSearchCV(pipe_grid, param_grid, cv=2, n_jobs=2, verbose=3)\n",
    "grid_search_tfidf.fit(X_val, y_val)"
   ]
  },
  {
   "cell_type": "markdown",
   "metadata": {},
   "source": [
    "Now, with the new paramaters for the TFIDF vectorizer"
   ]
  },
  {
   "cell_type": "code",
   "execution_count": 15,
   "metadata": {},
   "outputs": [
    {
     "name": "stdout",
     "output_type": "stream",
     "text": [
      "Best set of parameters: \n",
      " TfidfVectorizer(lowercase=False, max_features=450, norm='l1', sublinear_tf=True)\n"
     ]
    }
   ],
   "source": [
    "print('Best set of parameters: \\n', grid_search_tfidf.best_estimator_[0])"
   ]
  },
  {
   "cell_type": "code",
   "execution_count": 16,
   "metadata": {},
   "outputs": [],
   "source": [
    "tfidf_tune = grid_search_tfidf.best_estimator_[0]\n",
    "\n",
    "X_train_tf_tune = tfidf.fit_transform(X_train).toarray()\n",
    "X_test_tf_tune = tfidf.transform(X_test).toarray()\n",
    "X_val_tf_tune = tfidf.transform(X_val).toarray()"
   ]
  },
  {
   "cell_type": "markdown",
   "metadata": {},
   "source": [
    "I use SMOTE again to balance the dataset"
   ]
  },
  {
   "cell_type": "code",
   "execution_count": 17,
   "metadata": {},
   "outputs": [],
   "source": [
    "balance = SMOTE()\n",
    "X_train_tune_bal, y_train_tune__bal = balance.fit_resample(X_train_tf_tune, y_train)"
   ]
  },
  {
   "cell_type": "markdown",
   "metadata": {},
   "source": [
    "## 5.3 Train and test Random Forest with only TF-IDF tuned"
   ]
  },
  {
   "cell_type": "code",
   "execution_count": 18,
   "metadata": {},
   "outputs": [
    {
     "name": "stdout",
     "output_type": "stream",
     "text": [
      "Accuracy on validation data: \n",
      " 0.9371069182389937\n",
      "Confusion Matrix validation: \n",
      "[[ 116   46    3]\n",
      " [   6 1187    0]\n",
      " [   5   30   38]]\n"
     ]
    }
   ],
   "source": [
    "rf_tf_tune = RandomForestClassifier(random_state = 8, n_jobs = -1)\n",
    "rf_tf_tune.fit(X_train_tune_bal, y_train_tune__bal)\n",
    "rf_tf_tune_pred = rf_tf_tune.predict(X_val_tf_tune)\n",
    "\n",
    "print(\"Accuracy on validation data: \\n\",metrics.accuracy_score(y_val, rf_tf_tune_pred))\n",
    "print('Confusion Matrix validation: \\n' + str(metrics.confusion_matrix(y_val, rf_tf_tune_pred)))"
   ]
  },
  {
   "cell_type": "code",
   "execution_count": 19,
   "metadata": {},
   "outputs": [
    {
     "data": {
      "text/html": [
       "<div>\n",
       "<style scoped>\n",
       "    .dataframe tbody tr th:only-of-type {\n",
       "        vertical-align: middle;\n",
       "    }\n",
       "\n",
       "    .dataframe tbody tr th {\n",
       "        vertical-align: top;\n",
       "    }\n",
       "\n",
       "    .dataframe thead th {\n",
       "        text-align: right;\n",
       "    }\n",
       "</style>\n",
       "<table border=\"1\" class=\"dataframe\">\n",
       "  <thead>\n",
       "    <tr style=\"text-align: right;\">\n",
       "      <th></th>\n",
       "      <th>Model</th>\n",
       "      <th>Data</th>\n",
       "      <th>Precision</th>\n",
       "      <th>Recall</th>\n",
       "      <th>Specificity</th>\n",
       "      <th>F1-score</th>\n",
       "      <th>Accuracy</th>\n",
       "      <th>Bal Accuracy</th>\n",
       "      <th>AUC</th>\n",
       "    </tr>\n",
       "  </thead>\n",
       "  <tbody>\n",
       "    <tr>\n",
       "      <th>0</th>\n",
       "      <td>RF not tuned</td>\n",
       "      <td>Validation</td>\n",
       "      <td>0.938393</td>\n",
       "      <td>0.696647</td>\n",
       "      <td>0.869671</td>\n",
       "      <td>0.773990</td>\n",
       "      <td>0.928721</td>\n",
       "      <td>0.696647</td>\n",
       "      <td>0.783159</td>\n",
       "    </tr>\n",
       "    <tr>\n",
       "      <th>0</th>\n",
       "      <td>RF not tuned</td>\n",
       "      <td>Test</td>\n",
       "      <td>0.862125</td>\n",
       "      <td>0.699286</td>\n",
       "      <td>0.895535</td>\n",
       "      <td>0.756274</td>\n",
       "      <td>0.913201</td>\n",
       "      <td>0.699286</td>\n",
       "      <td>0.797410</td>\n",
       "    </tr>\n",
       "    <tr>\n",
       "      <th>0</th>\n",
       "      <td>RF TF tuned</td>\n",
       "      <td>Validation</td>\n",
       "      <td>0.926680</td>\n",
       "      <td>0.739516</td>\n",
       "      <td>0.889925</td>\n",
       "      <td>0.809267</td>\n",
       "      <td>0.937107</td>\n",
       "      <td>0.739516</td>\n",
       "      <td>0.814721</td>\n",
       "    </tr>\n",
       "  </tbody>\n",
       "</table>\n",
       "</div>"
      ],
      "text/plain": [
       "          Model        Data  Precision    Recall  Specificity  F1-score  \\\n",
       "0  RF not tuned  Validation   0.938393  0.696647     0.869671  0.773990   \n",
       "0  RF not tuned        Test   0.862125  0.699286     0.895535  0.756274   \n",
       "0   RF TF tuned  Validation   0.926680  0.739516     0.889925  0.809267   \n",
       "\n",
       "   Accuracy  Bal Accuracy       AUC  \n",
       "0  0.928721      0.696647  0.783159  \n",
       "0  0.913201      0.699286  0.797410  \n",
       "0  0.937107      0.739516  0.814721  "
      ]
     },
     "execution_count": 19,
     "metadata": {},
     "output_type": "execute_result"
    }
   ],
   "source": [
    "sc = calc_multiclass_metrics(y_val, rf_tf_tune_pred, 'RF TF tuned', 'Validation')\n",
    "results_score = results_score.append(sc)\n",
    "results_score"
   ]
  },
  {
   "cell_type": "markdown",
   "metadata": {},
   "source": [
    "Test the model"
   ]
  },
  {
   "cell_type": "code",
   "execution_count": 20,
   "metadata": {},
   "outputs": [
    {
     "name": "stdout",
     "output_type": "stream",
     "text": [
      "Accuracy on the test data: \n",
      " 0.9213381555153707\n",
      "Confusion Matrix validation: \n",
      "[[158  43   4]\n",
      " [  7 839   0]\n",
      " [ 10  23  22]]\n"
     ]
    }
   ],
   "source": [
    "rf_tf_tune_pred_test = rf_tf_tune.predict(X_test_tf)\n",
    "print(\"Accuracy on the test data: \\n\", metrics.accuracy_score(y_test, rf_tf_tune_pred_test))\n",
    "print('Confusion Matrix validation: \\n' + str(metrics.confusion_matrix(y_test, rf_tf_tune_pred_test)))"
   ]
  },
  {
   "cell_type": "code",
   "execution_count": 21,
   "metadata": {},
   "outputs": [
    {
     "data": {
      "text/html": [
       "<div>\n",
       "<style scoped>\n",
       "    .dataframe tbody tr th:only-of-type {\n",
       "        vertical-align: middle;\n",
       "    }\n",
       "\n",
       "    .dataframe tbody tr th {\n",
       "        vertical-align: top;\n",
       "    }\n",
       "\n",
       "    .dataframe thead th {\n",
       "        text-align: right;\n",
       "    }\n",
       "</style>\n",
       "<table border=\"1\" class=\"dataframe\">\n",
       "  <thead>\n",
       "    <tr style=\"text-align: right;\">\n",
       "      <th></th>\n",
       "      <th>Model</th>\n",
       "      <th>Data</th>\n",
       "      <th>Precision</th>\n",
       "      <th>Recall</th>\n",
       "      <th>Specificity</th>\n",
       "      <th>F1-score</th>\n",
       "      <th>Accuracy</th>\n",
       "      <th>Bal Accuracy</th>\n",
       "      <th>AUC</th>\n",
       "    </tr>\n",
       "  </thead>\n",
       "  <tbody>\n",
       "    <tr>\n",
       "      <th>0</th>\n",
       "      <td>RF not tuned</td>\n",
       "      <td>Validation</td>\n",
       "      <td>0.938393</td>\n",
       "      <td>0.696647</td>\n",
       "      <td>0.869671</td>\n",
       "      <td>0.773990</td>\n",
       "      <td>0.928721</td>\n",
       "      <td>0.696647</td>\n",
       "      <td>0.783159</td>\n",
       "    </tr>\n",
       "    <tr>\n",
       "      <th>0</th>\n",
       "      <td>RF not tuned</td>\n",
       "      <td>Test</td>\n",
       "      <td>0.862125</td>\n",
       "      <td>0.699286</td>\n",
       "      <td>0.895535</td>\n",
       "      <td>0.756274</td>\n",
       "      <td>0.913201</td>\n",
       "      <td>0.699286</td>\n",
       "      <td>0.797410</td>\n",
       "    </tr>\n",
       "    <tr>\n",
       "      <th>0</th>\n",
       "      <td>RF TF tuned</td>\n",
       "      <td>Validation</td>\n",
       "      <td>0.926680</td>\n",
       "      <td>0.739516</td>\n",
       "      <td>0.889925</td>\n",
       "      <td>0.809267</td>\n",
       "      <td>0.937107</td>\n",
       "      <td>0.739516</td>\n",
       "      <td>0.814721</td>\n",
       "    </tr>\n",
       "    <tr>\n",
       "      <th>0</th>\n",
       "      <td>RF TF tuned</td>\n",
       "      <td>Test</td>\n",
       "      <td>0.892028</td>\n",
       "      <td>0.720819</td>\n",
       "      <td>0.907827</td>\n",
       "      <td>0.777699</td>\n",
       "      <td>0.921338</td>\n",
       "      <td>0.720819</td>\n",
       "      <td>0.814323</td>\n",
       "    </tr>\n",
       "  </tbody>\n",
       "</table>\n",
       "</div>"
      ],
      "text/plain": [
       "          Model        Data  Precision    Recall  Specificity  F1-score  \\\n",
       "0  RF not tuned  Validation   0.938393  0.696647     0.869671  0.773990   \n",
       "0  RF not tuned        Test   0.862125  0.699286     0.895535  0.756274   \n",
       "0   RF TF tuned  Validation   0.926680  0.739516     0.889925  0.809267   \n",
       "0   RF TF tuned        Test   0.892028  0.720819     0.907827  0.777699   \n",
       "\n",
       "   Accuracy  Bal Accuracy       AUC  \n",
       "0  0.928721      0.696647  0.783159  \n",
       "0  0.913201      0.699286  0.797410  \n",
       "0  0.937107      0.739516  0.814721  \n",
       "0  0.921338      0.720819  0.814323  "
      ]
     },
     "execution_count": 21,
     "metadata": {},
     "output_type": "execute_result"
    }
   ],
   "source": [
    "sc = calc_multiclass_metrics(y_test, rf_tf_tune_pred_test, 'RF TF tuned', 'Test')\n",
    "results_score = results_score.append(sc)\n",
    "results_score"
   ]
  },
  {
   "cell_type": "markdown",
   "metadata": {},
   "source": [
    "## 5.4 Tune Hyperparameters Random Forest algorithm"
   ]
  },
  {
   "cell_type": "markdown",
   "metadata": {},
   "source": [
    "I set here the list of parameters to be fitted. For tune the hyperparameter for the learning algorithm, I used Random search method"
   ]
  },
  {
   "cell_type": "markdown",
   "metadata": {},
   "source": [
    "Hyperparameters tuned on validation data."
   ]
  },
  {
   "cell_type": "code",
   "execution_count": 22,
   "metadata": {},
   "outputs": [],
   "source": [
    "param_grid = {'min_samples_leaf': [1, 2, 4],\n",
    "              'min_samples_split' : [2, 5, 10],\n",
    "             'max_features' : ['auto', 'sqrt'],\n",
    "              'max_depth': [20, 40, 60, 80, 100, None],\n",
    "              'n_estimators' : [200, 400, 600, 800, 1000],\n",
    "             'bootstrap' : [True, False]}"
   ]
  },
  {
   "cell_type": "code",
   "execution_count": 23,
   "metadata": {},
   "outputs": [
    {
     "name": "stdout",
     "output_type": "stream",
     "text": [
      "Fitting 3 folds for each of 50 candidates, totalling 150 fits\n"
     ]
    },
    {
     "name": "stderr",
     "output_type": "stream",
     "text": [
      "[Parallel(n_jobs=1)]: Using backend SequentialBackend with 1 concurrent workers.\n",
      "[Parallel(n_jobs=1)]: Done 150 out of 150 | elapsed: 54.5min finished\n"
     ]
    },
    {
     "data": {
      "text/plain": [
       "RandomizedSearchCV(cv=3, estimator=RandomForestClassifier(random_state=8),\n",
       "                   n_iter=50,\n",
       "                   param_distributions={'bootstrap': [True, False],\n",
       "                                        'max_depth': [20, 40, 60, 80, 100,\n",
       "                                                      None],\n",
       "                                        'max_features': ['auto', 'sqrt'],\n",
       "                                        'min_samples_leaf': [1, 2, 4],\n",
       "                                        'min_samples_split': [2, 5, 10],\n",
       "                                        'n_estimators': [200, 400, 600, 800,\n",
       "                                                         1000]},\n",
       "                   scoring='accuracy', verbose=1)"
      ]
     },
     "execution_count": 23,
     "metadata": {},
     "output_type": "execute_result"
    }
   ],
   "source": [
    "rand_for = RandomForestClassifier(random_state=8)\n",
    "\n",
    "random_search = RandomizedSearchCV(estimator=rand_for,\n",
    "                                   param_distributions=param_grid,\n",
    "                                   n_iter=50,\n",
    "                                   scoring='accuracy',\n",
    "                                   cv=3, \n",
    "                                   verbose=1)\n",
    "\n",
    "random_search.fit(X_val_tf_tune, y_val)"
   ]
  },
  {
   "cell_type": "markdown",
   "metadata": {},
   "source": [
    "#### Print the best parameters"
   ]
  },
  {
   "cell_type": "code",
   "execution_count": 24,
   "metadata": {},
   "outputs": [
    {
     "name": "stdout",
     "output_type": "stream",
     "text": [
      "{'n_estimators': 1000, 'min_samples_split': 2, 'min_samples_leaf': 1, 'max_features': 'sqrt', 'max_depth': None, 'bootstrap': False}\n"
     ]
    }
   ],
   "source": [
    "print(random_search.best_params_)"
   ]
  },
  {
   "cell_type": "markdown",
   "metadata": {},
   "source": [
    "## 5.5 Train and test Random Forest and TF-IDF both tuned"
   ]
  },
  {
   "cell_type": "code",
   "execution_count": 25,
   "metadata": {},
   "outputs": [
    {
     "name": "stdout",
     "output_type": "stream",
     "text": [
      "Accuracy on validation data: \n",
      " 0.9993011879804332\n",
      "Confusion Matrix validation: \n",
      "[[ 165    0    0]\n",
      " [   1 1192    0]\n",
      " [   0    0   73]]\n"
     ]
    }
   ],
   "source": [
    "rf_both_tune = random_search.best_estimator_\n",
    "rf_both_tune_pred = rf_both_tune.predict(X_val_tf_tune)\n",
    "print(\"Accuracy on validation data: \\n\",metrics.accuracy_score(y_val, rf_both_tune_pred))\n",
    "print('Confusion Matrix validation: \\n' + str(metrics.confusion_matrix(y_val, rf_both_tune_pred)))"
   ]
  },
  {
   "cell_type": "code",
   "execution_count": 26,
   "metadata": {},
   "outputs": [
    {
     "data": {
      "text/html": [
       "<div>\n",
       "<style scoped>\n",
       "    .dataframe tbody tr th:only-of-type {\n",
       "        vertical-align: middle;\n",
       "    }\n",
       "\n",
       "    .dataframe tbody tr th {\n",
       "        vertical-align: top;\n",
       "    }\n",
       "\n",
       "    .dataframe thead th {\n",
       "        text-align: right;\n",
       "    }\n",
       "</style>\n",
       "<table border=\"1\" class=\"dataframe\">\n",
       "  <thead>\n",
       "    <tr style=\"text-align: right;\">\n",
       "      <th></th>\n",
       "      <th>Model</th>\n",
       "      <th>Data</th>\n",
       "      <th>Precision</th>\n",
       "      <th>Recall</th>\n",
       "      <th>Specificity</th>\n",
       "      <th>F1-score</th>\n",
       "      <th>Accuracy</th>\n",
       "      <th>Bal Accuracy</th>\n",
       "      <th>AUC</th>\n",
       "    </tr>\n",
       "  </thead>\n",
       "  <tbody>\n",
       "    <tr>\n",
       "      <th>0</th>\n",
       "      <td>RF not tuned</td>\n",
       "      <td>Validation</td>\n",
       "      <td>0.938393</td>\n",
       "      <td>0.696647</td>\n",
       "      <td>0.869671</td>\n",
       "      <td>0.773990</td>\n",
       "      <td>0.928721</td>\n",
       "      <td>0.696647</td>\n",
       "      <td>0.783159</td>\n",
       "    </tr>\n",
       "    <tr>\n",
       "      <th>0</th>\n",
       "      <td>RF not tuned</td>\n",
       "      <td>Test</td>\n",
       "      <td>0.862125</td>\n",
       "      <td>0.699286</td>\n",
       "      <td>0.895535</td>\n",
       "      <td>0.756274</td>\n",
       "      <td>0.913201</td>\n",
       "      <td>0.699286</td>\n",
       "      <td>0.797410</td>\n",
       "    </tr>\n",
       "    <tr>\n",
       "      <th>0</th>\n",
       "      <td>RF TF tuned</td>\n",
       "      <td>Validation</td>\n",
       "      <td>0.926680</td>\n",
       "      <td>0.739516</td>\n",
       "      <td>0.889925</td>\n",
       "      <td>0.809267</td>\n",
       "      <td>0.937107</td>\n",
       "      <td>0.739516</td>\n",
       "      <td>0.814721</td>\n",
       "    </tr>\n",
       "    <tr>\n",
       "      <th>0</th>\n",
       "      <td>RF TF tuned</td>\n",
       "      <td>Test</td>\n",
       "      <td>0.892028</td>\n",
       "      <td>0.720819</td>\n",
       "      <td>0.907827</td>\n",
       "      <td>0.777699</td>\n",
       "      <td>0.921338</td>\n",
       "      <td>0.720819</td>\n",
       "      <td>0.814323</td>\n",
       "    </tr>\n",
       "    <tr>\n",
       "      <th>0</th>\n",
       "      <td>RF TF and Algorithm tuned</td>\n",
       "      <td>Validation</td>\n",
       "      <td>0.997992</td>\n",
       "      <td>0.999721</td>\n",
       "      <td>0.999737</td>\n",
       "      <td>0.998853</td>\n",
       "      <td>0.999301</td>\n",
       "      <td>0.999721</td>\n",
       "      <td>0.999729</td>\n",
       "    </tr>\n",
       "  </tbody>\n",
       "</table>\n",
       "</div>"
      ],
      "text/plain": [
       "                       Model        Data  Precision    Recall  Specificity  \\\n",
       "0               RF not tuned  Validation   0.938393  0.696647     0.869671   \n",
       "0               RF not tuned        Test   0.862125  0.699286     0.895535   \n",
       "0                RF TF tuned  Validation   0.926680  0.739516     0.889925   \n",
       "0                RF TF tuned        Test   0.892028  0.720819     0.907827   \n",
       "0  RF TF and Algorithm tuned  Validation   0.997992  0.999721     0.999737   \n",
       "\n",
       "   F1-score  Accuracy  Bal Accuracy       AUC  \n",
       "0  0.773990  0.928721      0.696647  0.783159  \n",
       "0  0.756274  0.913201      0.699286  0.797410  \n",
       "0  0.809267  0.937107      0.739516  0.814721  \n",
       "0  0.777699  0.921338      0.720819  0.814323  \n",
       "0  0.998853  0.999301      0.999721  0.999729  "
      ]
     },
     "execution_count": 26,
     "metadata": {},
     "output_type": "execute_result"
    }
   ],
   "source": [
    "sc = calc_multiclass_metrics(y_val, rf_both_tune_pred, 'RF TF and Algorithm tuned', 'Validation')\n",
    "results_score = results_score.append(sc)\n",
    "results_score"
   ]
  },
  {
   "cell_type": "code",
   "execution_count": 27,
   "metadata": {},
   "outputs": [
    {
     "name": "stdout",
     "output_type": "stream",
     "text": [
      "Accuracy on the test data: \n",
      " 0.8743218806509946\n",
      "Confusion Matrix test: \n",
      "[[114  75  16]\n",
      " [  2 844   0]\n",
      " [  3  43   9]]\n"
     ]
    }
   ],
   "source": [
    "rf_both_tune_pred_test = rf_both_tune.predict(X_test_tf_tune)\n",
    "print(\"Accuracy on the test data: \\n\", metrics.accuracy_score(y_test, rf_both_tune_pred_test))\n",
    "print('Confusion Matrix test: \\n' + str(metrics.confusion_matrix(y_test, rf_both_tune_pred_test)))"
   ]
  },
  {
   "cell_type": "code",
   "execution_count": 28,
   "metadata": {},
   "outputs": [
    {
     "data": {
      "text/html": [
       "<div>\n",
       "<style scoped>\n",
       "    .dataframe tbody tr th:only-of-type {\n",
       "        vertical-align: middle;\n",
       "    }\n",
       "\n",
       "    .dataframe tbody tr th {\n",
       "        vertical-align: top;\n",
       "    }\n",
       "\n",
       "    .dataframe thead th {\n",
       "        text-align: right;\n",
       "    }\n",
       "</style>\n",
       "<table border=\"1\" class=\"dataframe\">\n",
       "  <thead>\n",
       "    <tr style=\"text-align: right;\">\n",
       "      <th></th>\n",
       "      <th>Model</th>\n",
       "      <th>Data</th>\n",
       "      <th>Precision</th>\n",
       "      <th>Recall</th>\n",
       "      <th>Specificity</th>\n",
       "      <th>F1-score</th>\n",
       "      <th>Accuracy</th>\n",
       "      <th>Bal Accuracy</th>\n",
       "      <th>AUC</th>\n",
       "    </tr>\n",
       "  </thead>\n",
       "  <tbody>\n",
       "    <tr>\n",
       "      <th>0</th>\n",
       "      <td>RF not tuned</td>\n",
       "      <td>Validation</td>\n",
       "      <td>0.938393</td>\n",
       "      <td>0.696647</td>\n",
       "      <td>0.869671</td>\n",
       "      <td>0.773990</td>\n",
       "      <td>0.928721</td>\n",
       "      <td>0.696647</td>\n",
       "      <td>0.783159</td>\n",
       "    </tr>\n",
       "    <tr>\n",
       "      <th>0</th>\n",
       "      <td>RF not tuned</td>\n",
       "      <td>Test</td>\n",
       "      <td>0.862125</td>\n",
       "      <td>0.699286</td>\n",
       "      <td>0.895535</td>\n",
       "      <td>0.756274</td>\n",
       "      <td>0.913201</td>\n",
       "      <td>0.699286</td>\n",
       "      <td>0.797410</td>\n",
       "    </tr>\n",
       "    <tr>\n",
       "      <th>0</th>\n",
       "      <td>RF TF tuned</td>\n",
       "      <td>Validation</td>\n",
       "      <td>0.926680</td>\n",
       "      <td>0.739516</td>\n",
       "      <td>0.889925</td>\n",
       "      <td>0.809267</td>\n",
       "      <td>0.937107</td>\n",
       "      <td>0.739516</td>\n",
       "      <td>0.814721</td>\n",
       "    </tr>\n",
       "    <tr>\n",
       "      <th>0</th>\n",
       "      <td>RF TF tuned</td>\n",
       "      <td>Test</td>\n",
       "      <td>0.892028</td>\n",
       "      <td>0.720819</td>\n",
       "      <td>0.907827</td>\n",
       "      <td>0.777699</td>\n",
       "      <td>0.921338</td>\n",
       "      <td>0.720819</td>\n",
       "      <td>0.814323</td>\n",
       "    </tr>\n",
       "    <tr>\n",
       "      <th>0</th>\n",
       "      <td>RF TF and Algorithm tuned</td>\n",
       "      <td>Validation</td>\n",
       "      <td>0.997992</td>\n",
       "      <td>0.999721</td>\n",
       "      <td>0.999737</td>\n",
       "      <td>0.998853</td>\n",
       "      <td>0.999301</td>\n",
       "      <td>0.999721</td>\n",
       "      <td>0.999729</td>\n",
       "    </tr>\n",
       "    <tr>\n",
       "      <th>0</th>\n",
       "      <td>RF TF and Algorithm tuned</td>\n",
       "      <td>Test</td>\n",
       "      <td>0.731774</td>\n",
       "      <td>0.572457</td>\n",
       "      <td>0.841794</td>\n",
       "      <td>0.620777</td>\n",
       "      <td>0.874322</td>\n",
       "      <td>0.572457</td>\n",
       "      <td>0.707125</td>\n",
       "    </tr>\n",
       "  </tbody>\n",
       "</table>\n",
       "</div>"
      ],
      "text/plain": [
       "                       Model        Data  Precision    Recall  Specificity  \\\n",
       "0               RF not tuned  Validation   0.938393  0.696647     0.869671   \n",
       "0               RF not tuned        Test   0.862125  0.699286     0.895535   \n",
       "0                RF TF tuned  Validation   0.926680  0.739516     0.889925   \n",
       "0                RF TF tuned        Test   0.892028  0.720819     0.907827   \n",
       "0  RF TF and Algorithm tuned  Validation   0.997992  0.999721     0.999737   \n",
       "0  RF TF and Algorithm tuned        Test   0.731774  0.572457     0.841794   \n",
       "\n",
       "   F1-score  Accuracy  Bal Accuracy       AUC  \n",
       "0  0.773990  0.928721      0.696647  0.783159  \n",
       "0  0.756274  0.913201      0.699286  0.797410  \n",
       "0  0.809267  0.937107      0.739516  0.814721  \n",
       "0  0.777699  0.921338      0.720819  0.814323  \n",
       "0  0.998853  0.999301      0.999721  0.999729  \n",
       "0  0.620777  0.874322      0.572457  0.707125  "
      ]
     },
     "execution_count": 28,
     "metadata": {},
     "output_type": "execute_result"
    }
   ],
   "source": [
    "sc = calc_multiclass_metrics(y_test, rf_both_tune_pred_test, 'RF TF and Algorithm tuned', 'Test')\n",
    "results_score = results_score.append(sc)\n",
    "results_score"
   ]
  },
  {
   "cell_type": "markdown",
   "metadata": {},
   "source": [
    "## Second Learning Algorithm\n",
    "## 5.6 Train and test XGboost and TF-IDF both untuned\n",
    " "
   ]
  },
  {
   "cell_type": "markdown",
   "metadata": {},
   "source": [
    "I run first the XGBoost algorithm with the TF-IDF vectorizer not tuned - no features dimension selected - and the data balanced with SMOTE."
   ]
  },
  {
   "cell_type": "markdown",
   "metadata": {},
   "source": [
    "Trains and evaluate the new Learning algorithm with validation data "
   ]
  },
  {
   "cell_type": "code",
   "execution_count": 29,
   "metadata": {},
   "outputs": [
    {
     "name": "stdout",
     "output_type": "stream",
     "text": [
      "0.9818308874912649\n",
      "Confusion Matrix test: \n",
      "[[ 160    2    3]\n",
      " [   6 1186    1]\n",
      " [  10    4   59]]\n"
     ]
    }
   ],
   "source": [
    "xb = xgb.XGBClassifier(objective = 'multi:softmax',  num_class = 3, n_jobs=-1)\n",
    "xb.fit(X_train_bal, y_train_bal)\n",
    "\n",
    "xb_pred = xb.predict(X_val_tf)\n",
    "print(metrics.accuracy_score(y_val, xb_pred))\n",
    "print('Confusion Matrix test: \\n' + str(metrics.confusion_matrix(y_val, xb_pred)))"
   ]
  },
  {
   "cell_type": "code",
   "execution_count": 30,
   "metadata": {},
   "outputs": [
    {
     "data": {
      "text/html": [
       "<div>\n",
       "<style scoped>\n",
       "    .dataframe tbody tr th:only-of-type {\n",
       "        vertical-align: middle;\n",
       "    }\n",
       "\n",
       "    .dataframe tbody tr th {\n",
       "        vertical-align: top;\n",
       "    }\n",
       "\n",
       "    .dataframe thead th {\n",
       "        text-align: right;\n",
       "    }\n",
       "</style>\n",
       "<table border=\"1\" class=\"dataframe\">\n",
       "  <thead>\n",
       "    <tr style=\"text-align: right;\">\n",
       "      <th></th>\n",
       "      <th>Model</th>\n",
       "      <th>Data</th>\n",
       "      <th>Precision</th>\n",
       "      <th>Recall</th>\n",
       "      <th>Specificity</th>\n",
       "      <th>F1-score</th>\n",
       "      <th>Accuracy</th>\n",
       "      <th>Bal Accuracy</th>\n",
       "      <th>AUC</th>\n",
       "    </tr>\n",
       "  </thead>\n",
       "  <tbody>\n",
       "    <tr>\n",
       "      <th>0</th>\n",
       "      <td>RF not tuned</td>\n",
       "      <td>Validation</td>\n",
       "      <td>0.938393</td>\n",
       "      <td>0.696647</td>\n",
       "      <td>0.869671</td>\n",
       "      <td>0.773990</td>\n",
       "      <td>0.928721</td>\n",
       "      <td>0.696647</td>\n",
       "      <td>0.783159</td>\n",
       "    </tr>\n",
       "    <tr>\n",
       "      <th>0</th>\n",
       "      <td>RF not tuned</td>\n",
       "      <td>Test</td>\n",
       "      <td>0.862125</td>\n",
       "      <td>0.699286</td>\n",
       "      <td>0.895535</td>\n",
       "      <td>0.756274</td>\n",
       "      <td>0.913201</td>\n",
       "      <td>0.699286</td>\n",
       "      <td>0.797410</td>\n",
       "    </tr>\n",
       "    <tr>\n",
       "      <th>0</th>\n",
       "      <td>RF TF tuned</td>\n",
       "      <td>Validation</td>\n",
       "      <td>0.926680</td>\n",
       "      <td>0.739516</td>\n",
       "      <td>0.889925</td>\n",
       "      <td>0.809267</td>\n",
       "      <td>0.937107</td>\n",
       "      <td>0.739516</td>\n",
       "      <td>0.814721</td>\n",
       "    </tr>\n",
       "    <tr>\n",
       "      <th>0</th>\n",
       "      <td>RF TF tuned</td>\n",
       "      <td>Test</td>\n",
       "      <td>0.892028</td>\n",
       "      <td>0.720819</td>\n",
       "      <td>0.907827</td>\n",
       "      <td>0.777699</td>\n",
       "      <td>0.921338</td>\n",
       "      <td>0.720819</td>\n",
       "      <td>0.814323</td>\n",
       "    </tr>\n",
       "    <tr>\n",
       "      <th>0</th>\n",
       "      <td>RF TF and Algorithm tuned</td>\n",
       "      <td>Validation</td>\n",
       "      <td>0.997992</td>\n",
       "      <td>0.999721</td>\n",
       "      <td>0.999737</td>\n",
       "      <td>0.998853</td>\n",
       "      <td>0.999301</td>\n",
       "      <td>0.999721</td>\n",
       "      <td>0.999729</td>\n",
       "    </tr>\n",
       "    <tr>\n",
       "      <th>0</th>\n",
       "      <td>RF TF and Algorithm tuned</td>\n",
       "      <td>Test</td>\n",
       "      <td>0.731774</td>\n",
       "      <td>0.572457</td>\n",
       "      <td>0.841794</td>\n",
       "      <td>0.620777</td>\n",
       "      <td>0.874322</td>\n",
       "      <td>0.572457</td>\n",
       "      <td>0.707125</td>\n",
       "    </tr>\n",
       "    <tr>\n",
       "      <th>0</th>\n",
       "      <td>XGBost not tuned</td>\n",
       "      <td>Validation</td>\n",
       "      <td>0.946855</td>\n",
       "      <td>0.924016</td>\n",
       "      <td>0.986402</td>\n",
       "      <td>0.933538</td>\n",
       "      <td>0.981831</td>\n",
       "      <td>0.924016</td>\n",
       "      <td>0.955209</td>\n",
       "    </tr>\n",
       "  </tbody>\n",
       "</table>\n",
       "</div>"
      ],
      "text/plain": [
       "                       Model        Data  Precision    Recall  Specificity  \\\n",
       "0               RF not tuned  Validation   0.938393  0.696647     0.869671   \n",
       "0               RF not tuned        Test   0.862125  0.699286     0.895535   \n",
       "0                RF TF tuned  Validation   0.926680  0.739516     0.889925   \n",
       "0                RF TF tuned        Test   0.892028  0.720819     0.907827   \n",
       "0  RF TF and Algorithm tuned  Validation   0.997992  0.999721     0.999737   \n",
       "0  RF TF and Algorithm tuned        Test   0.731774  0.572457     0.841794   \n",
       "0           XGBost not tuned  Validation   0.946855  0.924016     0.986402   \n",
       "\n",
       "   F1-score  Accuracy  Bal Accuracy       AUC  \n",
       "0  0.773990  0.928721      0.696647  0.783159  \n",
       "0  0.756274  0.913201      0.699286  0.797410  \n",
       "0  0.809267  0.937107      0.739516  0.814721  \n",
       "0  0.777699  0.921338      0.720819  0.814323  \n",
       "0  0.998853  0.999301      0.999721  0.999729  \n",
       "0  0.620777  0.874322      0.572457  0.707125  \n",
       "0  0.933538  0.981831      0.924016  0.955209  "
      ]
     },
     "execution_count": 30,
     "metadata": {},
     "output_type": "execute_result"
    }
   ],
   "source": [
    "sc = calc_multiclass_metrics(y_val, xb_pred, 'XGBost not tuned', 'Validation')\n",
    "results_score = results_score.append(sc)\n",
    "results_score"
   ]
  },
  {
   "cell_type": "code",
   "execution_count": 31,
   "metadata": {},
   "outputs": [
    {
     "name": "stdout",
     "output_type": "stream",
     "text": [
      "0.9529837251356239\n",
      "Confusion Matrix test: \n",
      "[[179  13  13]\n",
      " [  2 843   1]\n",
      " [ 23   0  32]]\n"
     ]
    }
   ],
   "source": [
    "xb_pred_test = xb.predict(X_test_tf)\n",
    "print(metrics.accuracy_score(y_test, xb_pred_test))\n",
    "print('Confusion Matrix test: \\n' + str(metrics.confusion_matrix(y_test, xb_pred_test)))"
   ]
  },
  {
   "cell_type": "code",
   "execution_count": 32,
   "metadata": {},
   "outputs": [
    {
     "data": {
      "text/html": [
       "<div>\n",
       "<style scoped>\n",
       "    .dataframe tbody tr th:only-of-type {\n",
       "        vertical-align: middle;\n",
       "    }\n",
       "\n",
       "    .dataframe tbody tr th {\n",
       "        vertical-align: top;\n",
       "    }\n",
       "\n",
       "    .dataframe thead th {\n",
       "        text-align: right;\n",
       "    }\n",
       "</style>\n",
       "<table border=\"1\" class=\"dataframe\">\n",
       "  <thead>\n",
       "    <tr style=\"text-align: right;\">\n",
       "      <th></th>\n",
       "      <th>Model</th>\n",
       "      <th>Data</th>\n",
       "      <th>Precision</th>\n",
       "      <th>Recall</th>\n",
       "      <th>Specificity</th>\n",
       "      <th>F1-score</th>\n",
       "      <th>Accuracy</th>\n",
       "      <th>Bal Accuracy</th>\n",
       "      <th>AUC</th>\n",
       "    </tr>\n",
       "  </thead>\n",
       "  <tbody>\n",
       "    <tr>\n",
       "      <th>0</th>\n",
       "      <td>RF not tuned</td>\n",
       "      <td>Validation</td>\n",
       "      <td>0.938393</td>\n",
       "      <td>0.696647</td>\n",
       "      <td>0.869671</td>\n",
       "      <td>0.773990</td>\n",
       "      <td>0.928721</td>\n",
       "      <td>0.696647</td>\n",
       "      <td>0.783159</td>\n",
       "    </tr>\n",
       "    <tr>\n",
       "      <th>0</th>\n",
       "      <td>RF not tuned</td>\n",
       "      <td>Test</td>\n",
       "      <td>0.862125</td>\n",
       "      <td>0.699286</td>\n",
       "      <td>0.895535</td>\n",
       "      <td>0.756274</td>\n",
       "      <td>0.913201</td>\n",
       "      <td>0.699286</td>\n",
       "      <td>0.797410</td>\n",
       "    </tr>\n",
       "    <tr>\n",
       "      <th>0</th>\n",
       "      <td>RF TF tuned</td>\n",
       "      <td>Validation</td>\n",
       "      <td>0.926680</td>\n",
       "      <td>0.739516</td>\n",
       "      <td>0.889925</td>\n",
       "      <td>0.809267</td>\n",
       "      <td>0.937107</td>\n",
       "      <td>0.739516</td>\n",
       "      <td>0.814721</td>\n",
       "    </tr>\n",
       "    <tr>\n",
       "      <th>0</th>\n",
       "      <td>RF TF tuned</td>\n",
       "      <td>Test</td>\n",
       "      <td>0.892028</td>\n",
       "      <td>0.720819</td>\n",
       "      <td>0.907827</td>\n",
       "      <td>0.777699</td>\n",
       "      <td>0.921338</td>\n",
       "      <td>0.720819</td>\n",
       "      <td>0.814323</td>\n",
       "    </tr>\n",
       "    <tr>\n",
       "      <th>0</th>\n",
       "      <td>RF TF and Algorithm tuned</td>\n",
       "      <td>Validation</td>\n",
       "      <td>0.997992</td>\n",
       "      <td>0.999721</td>\n",
       "      <td>0.999737</td>\n",
       "      <td>0.998853</td>\n",
       "      <td>0.999301</td>\n",
       "      <td>0.999721</td>\n",
       "      <td>0.999729</td>\n",
       "    </tr>\n",
       "    <tr>\n",
       "      <th>0</th>\n",
       "      <td>RF TF and Algorithm tuned</td>\n",
       "      <td>Test</td>\n",
       "      <td>0.731774</td>\n",
       "      <td>0.572457</td>\n",
       "      <td>0.841794</td>\n",
       "      <td>0.620777</td>\n",
       "      <td>0.874322</td>\n",
       "      <td>0.572457</td>\n",
       "      <td>0.707125</td>\n",
       "    </tr>\n",
       "    <tr>\n",
       "      <th>0</th>\n",
       "      <td>XGBost not tuned</td>\n",
       "      <td>Validation</td>\n",
       "      <td>0.946855</td>\n",
       "      <td>0.924016</td>\n",
       "      <td>0.986402</td>\n",
       "      <td>0.933538</td>\n",
       "      <td>0.981831</td>\n",
       "      <td>0.924016</td>\n",
       "      <td>0.955209</td>\n",
       "    </tr>\n",
       "    <tr>\n",
       "      <th>0</th>\n",
       "      <td>XGBost not tuned</td>\n",
       "      <td>Test</td>\n",
       "      <td>0.852639</td>\n",
       "      <td>0.817148</td>\n",
       "      <td>0.969644</td>\n",
       "      <td>0.833189</td>\n",
       "      <td>0.952984</td>\n",
       "      <td>0.817148</td>\n",
       "      <td>0.893396</td>\n",
       "    </tr>\n",
       "  </tbody>\n",
       "</table>\n",
       "</div>"
      ],
      "text/plain": [
       "                       Model        Data  Precision    Recall  Specificity  \\\n",
       "0               RF not tuned  Validation   0.938393  0.696647     0.869671   \n",
       "0               RF not tuned        Test   0.862125  0.699286     0.895535   \n",
       "0                RF TF tuned  Validation   0.926680  0.739516     0.889925   \n",
       "0                RF TF tuned        Test   0.892028  0.720819     0.907827   \n",
       "0  RF TF and Algorithm tuned  Validation   0.997992  0.999721     0.999737   \n",
       "0  RF TF and Algorithm tuned        Test   0.731774  0.572457     0.841794   \n",
       "0           XGBost not tuned  Validation   0.946855  0.924016     0.986402   \n",
       "0           XGBost not tuned        Test   0.852639  0.817148     0.969644   \n",
       "\n",
       "   F1-score  Accuracy  Bal Accuracy       AUC  \n",
       "0  0.773990  0.928721      0.696647  0.783159  \n",
       "0  0.756274  0.913201      0.699286  0.797410  \n",
       "0  0.809267  0.937107      0.739516  0.814721  \n",
       "0  0.777699  0.921338      0.720819  0.814323  \n",
       "0  0.998853  0.999301      0.999721  0.999729  \n",
       "0  0.620777  0.874322      0.572457  0.707125  \n",
       "0  0.933538  0.981831      0.924016  0.955209  \n",
       "0  0.833189  0.952984      0.817148  0.893396  "
      ]
     },
     "execution_count": 32,
     "metadata": {},
     "output_type": "execute_result"
    }
   ],
   "source": [
    "sc = calc_multiclass_metrics(y_test, xb_pred_test, 'XGBost not tuned', 'Test')\n",
    "results_score = results_score.append(sc)\n",
    "results_score"
   ]
  },
  {
   "cell_type": "code",
   "execution_count": 33,
   "metadata": {},
   "outputs": [],
   "source": [
    "#print(metrics.multilabel_confusion_matrix(y_test, pred_val))"
   ]
  },
  {
   "cell_type": "markdown",
   "metadata": {},
   "source": [
    "## 5.7 Tune parameters TF-IDF vectorizer"
   ]
  },
  {
   "cell_type": "code",
   "execution_count": 34,
   "metadata": {},
   "outputs": [
    {
     "name": "stdout",
     "output_type": "stream",
     "text": [
      "Fitting 2 folds for each of 20 candidates, totalling 40 fits\n"
     ]
    },
    {
     "name": "stderr",
     "output_type": "stream",
     "text": [
      "[Parallel(n_jobs=-1)]: Using backend LokyBackend with 12 concurrent workers.\n",
      "[Parallel(n_jobs=-1)]: Done  40 out of  40 | elapsed:    8.9s finished\n"
     ]
    },
    {
     "data": {
      "text/plain": [
       "GridSearchCV(cv=2,\n",
       "             estimator=Pipeline(steps=[('tfidf',\n",
       "                                        TfidfVectorizer(lowercase=False)),\n",
       "                                       ('clf',\n",
       "                                        OneVsRestClassifier(estimator=XGBClassifier(base_score=None,\n",
       "                                                                                    booster=None,\n",
       "                                                                                    colsample_bylevel=None,\n",
       "                                                                                    colsample_bynode=None,\n",
       "                                                                                    colsample_bytree=None,\n",
       "                                                                                    gamma=None,\n",
       "                                                                                    gpu_id=None,\n",
       "                                                                                    importance_type='gain',\n",
       "                                                                                    interaction_constraints=None,\n",
       "                                                                                    learning_rate=None,\n",
       "                                                                                    max_delta_step=None,\n",
       "                                                                                    ma...\n",
       "                                                                                    n_jobs=-1,\n",
       "                                                                                    num_class=3,\n",
       "                                                                                    num_parallel_tree=None,\n",
       "                                                                                    objective='multi:softmax',\n",
       "                                                                                    random_state=None,\n",
       "                                                                                    reg_alpha=None,\n",
       "                                                                                    reg_lambda=None,\n",
       "                                                                                    scale_pos_weight=None,\n",
       "                                                                                    subsample=None,\n",
       "                                                                                    tree_method=None,\n",
       "                                                                                    validate_parameters=None,\n",
       "                                                                                    verbosity=None)))]),\n",
       "             n_jobs=-1,\n",
       "             param_grid={'tfidf__max_features': (300, 350, 400, 450, 500),\n",
       "                         'tfidf__norm': ('l1', 'l2'),\n",
       "                         'tfidf__sublinear_tf': [True, False]},\n",
       "             verbose=1)"
      ]
     },
     "execution_count": 34,
     "metadata": {},
     "output_type": "execute_result"
    }
   ],
   "source": [
    "pipeline_grid = Pipeline([\n",
    "    ('tfidf', TfidfVectorizer(lowercase=False)),\n",
    "    ('clf', OneVsRestClassifier(xgb.XGBClassifier(objective = 'multi:softmax',  num_class = 3, n_jobs=-1))),\n",
    "])\n",
    "param_grid = {\n",
    "    'tfidf__norm' :('l1', 'l2'),\n",
    "    'tfidf__max_features' : (300, 350, 400, 450,500),\n",
    "    'tfidf__sublinear_tf' : [True, False]\n",
    "\n",
    "}\n",
    "\n",
    "grid_search_tfidf_xgb = GridSearchCV(pipeline_grid, param_grid, cv=2, verbose=1, n_jobs=-1)\n",
    "grid_search_tfidf_xgb.fit(X_val, y_val)"
   ]
  },
  {
   "cell_type": "code",
   "execution_count": 35,
   "metadata": {},
   "outputs": [
    {
     "name": "stdout",
     "output_type": "stream",
     "text": [
      "Best parameters for the TF-IDF: \n",
      " TfidfVectorizer(lowercase=False, max_features=500, sublinear_tf=True)\n"
     ]
    }
   ],
   "source": [
    "print(\"Best parameters for the TF-IDF: \\n\" ,grid_search_tfidf_xgb.best_estimator_[0])"
   ]
  },
  {
   "cell_type": "code",
   "execution_count": 36,
   "metadata": {},
   "outputs": [],
   "source": [
    "tfidf_tune_xb = grid_search_tfidf_xgb.best_estimator_[0]\n",
    "\n",
    "X_train_tf_tune_xb = tfidf_tune_xb.fit_transform(X_train).toarray()\n",
    "X_test_tf_tune_xb = tfidf_tune_xb.transform(X_test).toarray()\n",
    "X_val_tf_tune_xb = tfidf_tune_xb.transform(X_val).toarray()"
   ]
  },
  {
   "cell_type": "markdown",
   "metadata": {},
   "source": [
    "Using SMOTE again."
   ]
  },
  {
   "cell_type": "code",
   "execution_count": 37,
   "metadata": {},
   "outputs": [],
   "source": [
    "balance = SMOTE()\n",
    "X_train_tune_bal_xb, y_train_tune_bal_xb = balance.fit_resample(X_train_tf_tune_xb, y_train)"
   ]
  },
  {
   "cell_type": "markdown",
   "metadata": {},
   "source": [
    "## 5.8 Train and test XGBoost with TF-IDF tuned"
   ]
  },
  {
   "cell_type": "code",
   "execution_count": 38,
   "metadata": {},
   "outputs": [
    {
     "name": "stdout",
     "output_type": "stream",
     "text": [
      "Accuracy on validation data: \n",
      " 0.9804332634521313\n",
      "Confusion Matrix validation: \n",
      "[[ 153    3    9]\n",
      " [   9 1183    1]\n",
      " [   3    3   67]]\n"
     ]
    }
   ],
   "source": [
    "xb_tf_tune = xgb.XGBClassifier(objective = 'multi:softmax',  num_class = 3, n_jobs=-1)\n",
    "xb_tf_tune.fit(X_train_tune_bal_xb, y_train_tune_bal_xb)\n",
    "xb_tf_tune_pred = xb_tf_tune.predict(X_val_tf_tune_xb)\n",
    "\n",
    "\n",
    "print(\"Accuracy on validation data: \\n\",metrics.accuracy_score(y_val, xb_tf_tune_pred))\n",
    "print('Confusion Matrix validation: \\n' + str(metrics.confusion_matrix(y_val, xb_tf_tune_pred)))"
   ]
  },
  {
   "cell_type": "code",
   "execution_count": 39,
   "metadata": {},
   "outputs": [
    {
     "data": {
      "text/html": [
       "<div>\n",
       "<style scoped>\n",
       "    .dataframe tbody tr th:only-of-type {\n",
       "        vertical-align: middle;\n",
       "    }\n",
       "\n",
       "    .dataframe tbody tr th {\n",
       "        vertical-align: top;\n",
       "    }\n",
       "\n",
       "    .dataframe thead th {\n",
       "        text-align: right;\n",
       "    }\n",
       "</style>\n",
       "<table border=\"1\" class=\"dataframe\">\n",
       "  <thead>\n",
       "    <tr style=\"text-align: right;\">\n",
       "      <th></th>\n",
       "      <th>Model</th>\n",
       "      <th>Data</th>\n",
       "      <th>Precision</th>\n",
       "      <th>Recall</th>\n",
       "      <th>Specificity</th>\n",
       "      <th>F1-score</th>\n",
       "      <th>Accuracy</th>\n",
       "      <th>Bal Accuracy</th>\n",
       "      <th>AUC</th>\n",
       "    </tr>\n",
       "  </thead>\n",
       "  <tbody>\n",
       "    <tr>\n",
       "      <th>0</th>\n",
       "      <td>RF not tuned</td>\n",
       "      <td>Validation</td>\n",
       "      <td>0.938393</td>\n",
       "      <td>0.696647</td>\n",
       "      <td>0.869671</td>\n",
       "      <td>0.773990</td>\n",
       "      <td>0.928721</td>\n",
       "      <td>0.696647</td>\n",
       "      <td>0.783159</td>\n",
       "    </tr>\n",
       "    <tr>\n",
       "      <th>0</th>\n",
       "      <td>RF not tuned</td>\n",
       "      <td>Test</td>\n",
       "      <td>0.862125</td>\n",
       "      <td>0.699286</td>\n",
       "      <td>0.895535</td>\n",
       "      <td>0.756274</td>\n",
       "      <td>0.913201</td>\n",
       "      <td>0.699286</td>\n",
       "      <td>0.797410</td>\n",
       "    </tr>\n",
       "    <tr>\n",
       "      <th>0</th>\n",
       "      <td>RF TF tuned</td>\n",
       "      <td>Validation</td>\n",
       "      <td>0.926680</td>\n",
       "      <td>0.739516</td>\n",
       "      <td>0.889925</td>\n",
       "      <td>0.809267</td>\n",
       "      <td>0.937107</td>\n",
       "      <td>0.739516</td>\n",
       "      <td>0.814721</td>\n",
       "    </tr>\n",
       "    <tr>\n",
       "      <th>0</th>\n",
       "      <td>RF TF tuned</td>\n",
       "      <td>Test</td>\n",
       "      <td>0.892028</td>\n",
       "      <td>0.720819</td>\n",
       "      <td>0.907827</td>\n",
       "      <td>0.777699</td>\n",
       "      <td>0.921338</td>\n",
       "      <td>0.720819</td>\n",
       "      <td>0.814323</td>\n",
       "    </tr>\n",
       "    <tr>\n",
       "      <th>0</th>\n",
       "      <td>RF TF and Algorithm tuned</td>\n",
       "      <td>Validation</td>\n",
       "      <td>0.997992</td>\n",
       "      <td>0.999721</td>\n",
       "      <td>0.999737</td>\n",
       "      <td>0.998853</td>\n",
       "      <td>0.999301</td>\n",
       "      <td>0.999721</td>\n",
       "      <td>0.999729</td>\n",
       "    </tr>\n",
       "    <tr>\n",
       "      <th>0</th>\n",
       "      <td>RF TF and Algorithm tuned</td>\n",
       "      <td>Test</td>\n",
       "      <td>0.731774</td>\n",
       "      <td>0.572457</td>\n",
       "      <td>0.841794</td>\n",
       "      <td>0.620777</td>\n",
       "      <td>0.874322</td>\n",
       "      <td>0.572457</td>\n",
       "      <td>0.707125</td>\n",
       "    </tr>\n",
       "    <tr>\n",
       "      <th>0</th>\n",
       "      <td>XGBost not tuned</td>\n",
       "      <td>Validation</td>\n",
       "      <td>0.946855</td>\n",
       "      <td>0.924016</td>\n",
       "      <td>0.986402</td>\n",
       "      <td>0.933538</td>\n",
       "      <td>0.981831</td>\n",
       "      <td>0.924016</td>\n",
       "      <td>0.955209</td>\n",
       "    </tr>\n",
       "    <tr>\n",
       "      <th>0</th>\n",
       "      <td>XGBost not tuned</td>\n",
       "      <td>Test</td>\n",
       "      <td>0.852639</td>\n",
       "      <td>0.817148</td>\n",
       "      <td>0.969644</td>\n",
       "      <td>0.833189</td>\n",
       "      <td>0.952984</td>\n",
       "      <td>0.817148</td>\n",
       "      <td>0.893396</td>\n",
       "    </tr>\n",
       "    <tr>\n",
       "      <th>0</th>\n",
       "      <td>XGBost TF tuned</td>\n",
       "      <td>Validation</td>\n",
       "      <td>0.930785</td>\n",
       "      <td>0.945566</td>\n",
       "      <td>0.985982</td>\n",
       "      <td>0.937963</td>\n",
       "      <td>0.980433</td>\n",
       "      <td>0.945566</td>\n",
       "      <td>0.965774</td>\n",
       "    </tr>\n",
       "  </tbody>\n",
       "</table>\n",
       "</div>"
      ],
      "text/plain": [
       "                       Model        Data  Precision    Recall  Specificity  \\\n",
       "0               RF not tuned  Validation   0.938393  0.696647     0.869671   \n",
       "0               RF not tuned        Test   0.862125  0.699286     0.895535   \n",
       "0                RF TF tuned  Validation   0.926680  0.739516     0.889925   \n",
       "0                RF TF tuned        Test   0.892028  0.720819     0.907827   \n",
       "0  RF TF and Algorithm tuned  Validation   0.997992  0.999721     0.999737   \n",
       "0  RF TF and Algorithm tuned        Test   0.731774  0.572457     0.841794   \n",
       "0           XGBost not tuned  Validation   0.946855  0.924016     0.986402   \n",
       "0           XGBost not tuned        Test   0.852639  0.817148     0.969644   \n",
       "0            XGBost TF tuned  Validation   0.930785  0.945566     0.985982   \n",
       "\n",
       "   F1-score  Accuracy  Bal Accuracy       AUC  \n",
       "0  0.773990  0.928721      0.696647  0.783159  \n",
       "0  0.756274  0.913201      0.699286  0.797410  \n",
       "0  0.809267  0.937107      0.739516  0.814721  \n",
       "0  0.777699  0.921338      0.720819  0.814323  \n",
       "0  0.998853  0.999301      0.999721  0.999729  \n",
       "0  0.620777  0.874322      0.572457  0.707125  \n",
       "0  0.933538  0.981831      0.924016  0.955209  \n",
       "0  0.833189  0.952984      0.817148  0.893396  \n",
       "0  0.937963  0.980433      0.945566  0.965774  "
      ]
     },
     "execution_count": 39,
     "metadata": {},
     "output_type": "execute_result"
    }
   ],
   "source": [
    "sc = calc_multiclass_metrics(y_val, xb_tf_tune_pred, 'XGBost TF tuned', 'Validation')\n",
    "results_score = results_score.append(sc)\n",
    "results_score"
   ]
  },
  {
   "cell_type": "code",
   "execution_count": 40,
   "metadata": {},
   "outputs": [
    {
     "name": "stdout",
     "output_type": "stream",
     "text": [
      "Accuracy on test data: \n",
      " 0.961121157323689\n",
      "Confusion Matrix test: \n",
      "[[180  12  13]\n",
      " [  2 843   1]\n",
      " [ 15   0  40]]\n"
     ]
    }
   ],
   "source": [
    "xb_tf_tune_pred_test = xb_tf_tune.predict(X_test_tf_tune_xb)\n",
    "print(\"Accuracy on test data: \\n\",metrics.accuracy_score(y_test, xb_tf_tune_pred_test))\n",
    "print('Confusion Matrix test: \\n' + str(metrics.confusion_matrix(y_test, xb_tf_tune_pred_test)))"
   ]
  },
  {
   "cell_type": "code",
   "execution_count": 41,
   "metadata": {},
   "outputs": [
    {
     "data": {
      "text/html": [
       "<div>\n",
       "<style scoped>\n",
       "    .dataframe tbody tr th:only-of-type {\n",
       "        vertical-align: middle;\n",
       "    }\n",
       "\n",
       "    .dataframe tbody tr th {\n",
       "        vertical-align: top;\n",
       "    }\n",
       "\n",
       "    .dataframe thead th {\n",
       "        text-align: right;\n",
       "    }\n",
       "</style>\n",
       "<table border=\"1\" class=\"dataframe\">\n",
       "  <thead>\n",
       "    <tr style=\"text-align: right;\">\n",
       "      <th></th>\n",
       "      <th>Model</th>\n",
       "      <th>Data</th>\n",
       "      <th>Precision</th>\n",
       "      <th>Recall</th>\n",
       "      <th>Specificity</th>\n",
       "      <th>F1-score</th>\n",
       "      <th>Accuracy</th>\n",
       "      <th>Bal Accuracy</th>\n",
       "      <th>AUC</th>\n",
       "    </tr>\n",
       "  </thead>\n",
       "  <tbody>\n",
       "    <tr>\n",
       "      <th>0</th>\n",
       "      <td>RF not tuned</td>\n",
       "      <td>Validation</td>\n",
       "      <td>0.938393</td>\n",
       "      <td>0.696647</td>\n",
       "      <td>0.869671</td>\n",
       "      <td>0.773990</td>\n",
       "      <td>0.928721</td>\n",
       "      <td>0.696647</td>\n",
       "      <td>0.783159</td>\n",
       "    </tr>\n",
       "    <tr>\n",
       "      <th>0</th>\n",
       "      <td>RF not tuned</td>\n",
       "      <td>Test</td>\n",
       "      <td>0.862125</td>\n",
       "      <td>0.699286</td>\n",
       "      <td>0.895535</td>\n",
       "      <td>0.756274</td>\n",
       "      <td>0.913201</td>\n",
       "      <td>0.699286</td>\n",
       "      <td>0.797410</td>\n",
       "    </tr>\n",
       "    <tr>\n",
       "      <th>0</th>\n",
       "      <td>RF TF tuned</td>\n",
       "      <td>Validation</td>\n",
       "      <td>0.926680</td>\n",
       "      <td>0.739516</td>\n",
       "      <td>0.889925</td>\n",
       "      <td>0.809267</td>\n",
       "      <td>0.937107</td>\n",
       "      <td>0.739516</td>\n",
       "      <td>0.814721</td>\n",
       "    </tr>\n",
       "    <tr>\n",
       "      <th>0</th>\n",
       "      <td>RF TF tuned</td>\n",
       "      <td>Test</td>\n",
       "      <td>0.892028</td>\n",
       "      <td>0.720819</td>\n",
       "      <td>0.907827</td>\n",
       "      <td>0.777699</td>\n",
       "      <td>0.921338</td>\n",
       "      <td>0.720819</td>\n",
       "      <td>0.814323</td>\n",
       "    </tr>\n",
       "    <tr>\n",
       "      <th>0</th>\n",
       "      <td>RF TF and Algorithm tuned</td>\n",
       "      <td>Validation</td>\n",
       "      <td>0.997992</td>\n",
       "      <td>0.999721</td>\n",
       "      <td>0.999737</td>\n",
       "      <td>0.998853</td>\n",
       "      <td>0.999301</td>\n",
       "      <td>0.999721</td>\n",
       "      <td>0.999729</td>\n",
       "    </tr>\n",
       "    <tr>\n",
       "      <th>0</th>\n",
       "      <td>RF TF and Algorithm tuned</td>\n",
       "      <td>Test</td>\n",
       "      <td>0.731774</td>\n",
       "      <td>0.572457</td>\n",
       "      <td>0.841794</td>\n",
       "      <td>0.620777</td>\n",
       "      <td>0.874322</td>\n",
       "      <td>0.572457</td>\n",
       "      <td>0.707125</td>\n",
       "    </tr>\n",
       "    <tr>\n",
       "      <th>0</th>\n",
       "      <td>XGBost not tuned</td>\n",
       "      <td>Validation</td>\n",
       "      <td>0.946855</td>\n",
       "      <td>0.924016</td>\n",
       "      <td>0.986402</td>\n",
       "      <td>0.933538</td>\n",
       "      <td>0.981831</td>\n",
       "      <td>0.924016</td>\n",
       "      <td>0.955209</td>\n",
       "    </tr>\n",
       "    <tr>\n",
       "      <th>0</th>\n",
       "      <td>XGBost not tuned</td>\n",
       "      <td>Test</td>\n",
       "      <td>0.852639</td>\n",
       "      <td>0.817148</td>\n",
       "      <td>0.969644</td>\n",
       "      <td>0.833189</td>\n",
       "      <td>0.952984</td>\n",
       "      <td>0.817148</td>\n",
       "      <td>0.893396</td>\n",
       "    </tr>\n",
       "    <tr>\n",
       "      <th>0</th>\n",
       "      <td>XGBost TF tuned</td>\n",
       "      <td>Validation</td>\n",
       "      <td>0.930785</td>\n",
       "      <td>0.945566</td>\n",
       "      <td>0.985982</td>\n",
       "      <td>0.937963</td>\n",
       "      <td>0.980433</td>\n",
       "      <td>0.945566</td>\n",
       "      <td>0.965774</td>\n",
       "    </tr>\n",
       "    <tr>\n",
       "      <th>0</th>\n",
       "      <td>XGBost TF tuned</td>\n",
       "      <td>Test</td>\n",
       "      <td>0.880137</td>\n",
       "      <td>0.867258</td>\n",
       "      <td>0.973886</td>\n",
       "      <td>0.873550</td>\n",
       "      <td>0.961121</td>\n",
       "      <td>0.867258</td>\n",
       "      <td>0.920572</td>\n",
       "    </tr>\n",
       "  </tbody>\n",
       "</table>\n",
       "</div>"
      ],
      "text/plain": [
       "                       Model        Data  Precision    Recall  Specificity  \\\n",
       "0               RF not tuned  Validation   0.938393  0.696647     0.869671   \n",
       "0               RF not tuned        Test   0.862125  0.699286     0.895535   \n",
       "0                RF TF tuned  Validation   0.926680  0.739516     0.889925   \n",
       "0                RF TF tuned        Test   0.892028  0.720819     0.907827   \n",
       "0  RF TF and Algorithm tuned  Validation   0.997992  0.999721     0.999737   \n",
       "0  RF TF and Algorithm tuned        Test   0.731774  0.572457     0.841794   \n",
       "0           XGBost not tuned  Validation   0.946855  0.924016     0.986402   \n",
       "0           XGBost not tuned        Test   0.852639  0.817148     0.969644   \n",
       "0            XGBost TF tuned  Validation   0.930785  0.945566     0.985982   \n",
       "0            XGBost TF tuned        Test   0.880137  0.867258     0.973886   \n",
       "\n",
       "   F1-score  Accuracy  Bal Accuracy       AUC  \n",
       "0  0.773990  0.928721      0.696647  0.783159  \n",
       "0  0.756274  0.913201      0.699286  0.797410  \n",
       "0  0.809267  0.937107      0.739516  0.814721  \n",
       "0  0.777699  0.921338      0.720819  0.814323  \n",
       "0  0.998853  0.999301      0.999721  0.999729  \n",
       "0  0.620777  0.874322      0.572457  0.707125  \n",
       "0  0.933538  0.981831      0.924016  0.955209  \n",
       "0  0.833189  0.952984      0.817148  0.893396  \n",
       "0  0.937963  0.980433      0.945566  0.965774  \n",
       "0  0.873550  0.961121      0.867258  0.920572  "
      ]
     },
     "execution_count": 41,
     "metadata": {},
     "output_type": "execute_result"
    }
   ],
   "source": [
    "sc = calc_multiclass_metrics(y_test, xb_tf_tune_pred_test, 'XGBost TF tuned', 'Test')\n",
    "results_score = results_score.append(sc)\n",
    "results_score"
   ]
  },
  {
   "cell_type": "markdown",
   "metadata": {},
   "source": [
    "## 5.9 Tune Hyperparameters XGBoost algorithm"
   ]
  },
  {
   "cell_type": "code",
   "execution_count": 42,
   "metadata": {},
   "outputs": [],
   "source": [
    "param_grid = {\n",
    "    'max_depth': [2,4,6,8,10],\n",
    "    'n_estimators': [60, 10,120,160,200, 240],\n",
    "    'learning_rate': [0.1, 0.01, 0.05, 0.009]\n",
    "}"
   ]
  },
  {
   "cell_type": "code",
   "execution_count": 43,
   "metadata": {},
   "outputs": [
    {
     "name": "stdout",
     "output_type": "stream",
     "text": [
      "Fitting 3 folds for each of 50 candidates, totalling 150 fits\n"
     ]
    },
    {
     "name": "stderr",
     "output_type": "stream",
     "text": [
      "[Parallel(n_jobs=1)]: Using backend SequentialBackend with 1 concurrent workers.\n",
      "[Parallel(n_jobs=1)]: Done 150 out of 150 | elapsed:  2.7min finished\n"
     ]
    },
    {
     "data": {
      "text/plain": [
       "RandomizedSearchCV(cv=3,\n",
       "                   estimator=XGBClassifier(base_score=None, booster=None,\n",
       "                                           colsample_bylevel=None,\n",
       "                                           colsample_bynode=None,\n",
       "                                           colsample_bytree=None, gamma=None,\n",
       "                                           gpu_id=None, importance_type='gain',\n",
       "                                           interaction_constraints=None,\n",
       "                                           learning_rate=None,\n",
       "                                           max_delta_step=None, max_depth=None,\n",
       "                                           min_child_weight=None, missing=nan,\n",
       "                                           monotone_constraints=None,\n",
       "                                           n_estimators=100,...\n",
       "                                           num_class=3, num_parallel_tree=None,\n",
       "                                           objective='multi:softmax',\n",
       "                                           random_state=None, reg_alpha=None,\n",
       "                                           reg_lambda=None,\n",
       "                                           scale_pos_weight=None,\n",
       "                                           subsample=None, tree_method=None,\n",
       "                                           validate_parameters=None,\n",
       "                                           verbosity=None),\n",
       "                   n_iter=50,\n",
       "                   param_distributions={'learning_rate': [0.1, 0.01, 0.05,\n",
       "                                                          0.009],\n",
       "                                        'max_depth': [2, 4, 6, 8, 10],\n",
       "                                        'n_estimators': [60, 10, 120, 160, 200,\n",
       "                                                         240]},\n",
       "                   scoring='accuracy', verbose=1)"
      ]
     },
     "execution_count": 43,
     "metadata": {},
     "output_type": "execute_result"
    }
   ],
   "source": [
    "xb = xgb.XGBClassifier(objective = 'multi:softmax',  num_class = 3, n_jobs=-1)\n",
    "\n",
    "\n",
    "\n",
    "# Definition of the random search\n",
    "random_search = RandomizedSearchCV(estimator=xb,\n",
    "                                   param_distributions=param_grid,\n",
    "                                   n_iter=50,\n",
    "                                   scoring='accuracy',\n",
    "                                   cv=3, \n",
    "                                   verbose=1)\n",
    "\n",
    "# Fit the random search model\n",
    "random_search.fit(X_val_tf_tune_xb, y_val)"
   ]
  },
  {
   "cell_type": "code",
   "execution_count": 44,
   "metadata": {},
   "outputs": [
    {
     "name": "stdout",
     "output_type": "stream",
     "text": [
      "XGBClassifier(base_score=0.5, booster='gbtree', colsample_bylevel=1,\n",
      "              colsample_bynode=1, colsample_bytree=1, gamma=0, gpu_id=-1,\n",
      "              importance_type='gain', interaction_constraints='',\n",
      "              learning_rate=0.01, max_delta_step=0, max_depth=8,\n",
      "              min_child_weight=1, missing=nan, monotone_constraints='()',\n",
      "              n_estimators=240, n_jobs=-1, num_class=3, num_parallel_tree=1,\n",
      "              objective='multi:softprob', random_state=0, reg_alpha=0,\n",
      "              reg_lambda=1, scale_pos_weight=None, subsample=1,\n",
      "              tree_method='exact', validate_parameters=1, verbosity=None)\n"
     ]
    }
   ],
   "source": [
    "print(random_search.best_estimator_)"
   ]
  },
  {
   "cell_type": "markdown",
   "metadata": {},
   "source": [
    "## 5.10 Train and test XGBoost and TF-IDF both untuned"
   ]
  },
  {
   "cell_type": "code",
   "execution_count": 45,
   "metadata": {},
   "outputs": [
    {
     "name": "stdout",
     "output_type": "stream",
     "text": [
      "Accuracy on validation data: \n",
      " 0.9741439552760307\n",
      "Confusion Matrix validation: \n",
      "[[ 153    2   10]\n",
      " [   8 1182    3]\n",
      " [   9    5   59]]\n"
     ]
    }
   ],
   "source": [
    "xb_both_tune = random_search.best_estimator_\n",
    "xb_both_tune.fit(X_train_tune_bal_xb, y_train_tune_bal_xb)\n",
    "xb_both_tune_pred = xb_both_tune.predict(X_val_tf_tune_xb)\n",
    "\n",
    "\n",
    "print(\"Accuracy on validation data: \\n\",metrics.accuracy_score(y_val, xb_both_tune_pred))\n",
    "print('Confusion Matrix validation: \\n' + str(metrics.confusion_matrix(y_val, xb_both_tune_pred)))"
   ]
  },
  {
   "cell_type": "code",
   "execution_count": 46,
   "metadata": {},
   "outputs": [
    {
     "name": "stdout",
     "output_type": "stream",
     "text": [
      "Accuracy on validation data: \n",
      " 0.9741439552760307\n"
     ]
    }
   ],
   "source": [
    "print(\"Accuracy on validation data: \\n\",metrics.accuracy_score(y_val, xb_both_tune_pred))"
   ]
  },
  {
   "cell_type": "code",
   "execution_count": 47,
   "metadata": {},
   "outputs": [
    {
     "data": {
      "text/html": [
       "<div>\n",
       "<style scoped>\n",
       "    .dataframe tbody tr th:only-of-type {\n",
       "        vertical-align: middle;\n",
       "    }\n",
       "\n",
       "    .dataframe tbody tr th {\n",
       "        vertical-align: top;\n",
       "    }\n",
       "\n",
       "    .dataframe thead th {\n",
       "        text-align: right;\n",
       "    }\n",
       "</style>\n",
       "<table border=\"1\" class=\"dataframe\">\n",
       "  <thead>\n",
       "    <tr style=\"text-align: right;\">\n",
       "      <th></th>\n",
       "      <th>Model</th>\n",
       "      <th>Data</th>\n",
       "      <th>Precision</th>\n",
       "      <th>Recall</th>\n",
       "      <th>Specificity</th>\n",
       "      <th>F1-score</th>\n",
       "      <th>Accuracy</th>\n",
       "      <th>Bal Accuracy</th>\n",
       "      <th>AUC</th>\n",
       "    </tr>\n",
       "  </thead>\n",
       "  <tbody>\n",
       "    <tr>\n",
       "      <th>0</th>\n",
       "      <td>RF not tuned</td>\n",
       "      <td>Validation</td>\n",
       "      <td>0.938393</td>\n",
       "      <td>0.696647</td>\n",
       "      <td>0.869671</td>\n",
       "      <td>0.773990</td>\n",
       "      <td>0.928721</td>\n",
       "      <td>0.696647</td>\n",
       "      <td>0.783159</td>\n",
       "    </tr>\n",
       "    <tr>\n",
       "      <th>0</th>\n",
       "      <td>RF not tuned</td>\n",
       "      <td>Test</td>\n",
       "      <td>0.862125</td>\n",
       "      <td>0.699286</td>\n",
       "      <td>0.895535</td>\n",
       "      <td>0.756274</td>\n",
       "      <td>0.913201</td>\n",
       "      <td>0.699286</td>\n",
       "      <td>0.797410</td>\n",
       "    </tr>\n",
       "    <tr>\n",
       "      <th>0</th>\n",
       "      <td>RF TF tuned</td>\n",
       "      <td>Validation</td>\n",
       "      <td>0.926680</td>\n",
       "      <td>0.739516</td>\n",
       "      <td>0.889925</td>\n",
       "      <td>0.809267</td>\n",
       "      <td>0.937107</td>\n",
       "      <td>0.739516</td>\n",
       "      <td>0.814721</td>\n",
       "    </tr>\n",
       "    <tr>\n",
       "      <th>0</th>\n",
       "      <td>RF TF tuned</td>\n",
       "      <td>Test</td>\n",
       "      <td>0.892028</td>\n",
       "      <td>0.720819</td>\n",
       "      <td>0.907827</td>\n",
       "      <td>0.777699</td>\n",
       "      <td>0.921338</td>\n",
       "      <td>0.720819</td>\n",
       "      <td>0.814323</td>\n",
       "    </tr>\n",
       "    <tr>\n",
       "      <th>0</th>\n",
       "      <td>RF TF and Algorithm tuned</td>\n",
       "      <td>Validation</td>\n",
       "      <td>0.997992</td>\n",
       "      <td>0.999721</td>\n",
       "      <td>0.999737</td>\n",
       "      <td>0.998853</td>\n",
       "      <td>0.999301</td>\n",
       "      <td>0.999721</td>\n",
       "      <td>0.999729</td>\n",
       "    </tr>\n",
       "    <tr>\n",
       "      <th>0</th>\n",
       "      <td>RF TF and Algorithm tuned</td>\n",
       "      <td>Test</td>\n",
       "      <td>0.731774</td>\n",
       "      <td>0.572457</td>\n",
       "      <td>0.841794</td>\n",
       "      <td>0.620777</td>\n",
       "      <td>0.874322</td>\n",
       "      <td>0.572457</td>\n",
       "      <td>0.707125</td>\n",
       "    </tr>\n",
       "    <tr>\n",
       "      <th>0</th>\n",
       "      <td>XGBost not tuned</td>\n",
       "      <td>Validation</td>\n",
       "      <td>0.946855</td>\n",
       "      <td>0.924016</td>\n",
       "      <td>0.986402</td>\n",
       "      <td>0.933538</td>\n",
       "      <td>0.981831</td>\n",
       "      <td>0.924016</td>\n",
       "      <td>0.955209</td>\n",
       "    </tr>\n",
       "    <tr>\n",
       "      <th>0</th>\n",
       "      <td>XGBost not tuned</td>\n",
       "      <td>Test</td>\n",
       "      <td>0.852639</td>\n",
       "      <td>0.817148</td>\n",
       "      <td>0.969644</td>\n",
       "      <td>0.833189</td>\n",
       "      <td>0.952984</td>\n",
       "      <td>0.817148</td>\n",
       "      <td>0.893396</td>\n",
       "    </tr>\n",
       "    <tr>\n",
       "      <th>0</th>\n",
       "      <td>XGBost TF tuned</td>\n",
       "      <td>Validation</td>\n",
       "      <td>0.930785</td>\n",
       "      <td>0.945566</td>\n",
       "      <td>0.985982</td>\n",
       "      <td>0.937963</td>\n",
       "      <td>0.980433</td>\n",
       "      <td>0.945566</td>\n",
       "      <td>0.965774</td>\n",
       "    </tr>\n",
       "    <tr>\n",
       "      <th>0</th>\n",
       "      <td>XGBost TF tuned</td>\n",
       "      <td>Test</td>\n",
       "      <td>0.880137</td>\n",
       "      <td>0.867258</td>\n",
       "      <td>0.973886</td>\n",
       "      <td>0.873550</td>\n",
       "      <td>0.961121</td>\n",
       "      <td>0.867258</td>\n",
       "      <td>0.920572</td>\n",
       "    </tr>\n",
       "    <tr>\n",
       "      <th>0</th>\n",
       "      <td>XGBoost TF and Algorithm tuned</td>\n",
       "      <td>Validation</td>\n",
       "      <td>0.904519</td>\n",
       "      <td>0.908757</td>\n",
       "      <td>0.982529</td>\n",
       "      <td>0.906556</td>\n",
       "      <td>0.974144</td>\n",
       "      <td>0.908757</td>\n",
       "      <td>0.945643</td>\n",
       "    </tr>\n",
       "  </tbody>\n",
       "</table>\n",
       "</div>"
      ],
      "text/plain": [
       "                            Model        Data  Precision    Recall  \\\n",
       "0                    RF not tuned  Validation   0.938393  0.696647   \n",
       "0                    RF not tuned        Test   0.862125  0.699286   \n",
       "0                     RF TF tuned  Validation   0.926680  0.739516   \n",
       "0                     RF TF tuned        Test   0.892028  0.720819   \n",
       "0       RF TF and Algorithm tuned  Validation   0.997992  0.999721   \n",
       "0       RF TF and Algorithm tuned        Test   0.731774  0.572457   \n",
       "0                XGBost not tuned  Validation   0.946855  0.924016   \n",
       "0                XGBost not tuned        Test   0.852639  0.817148   \n",
       "0                 XGBost TF tuned  Validation   0.930785  0.945566   \n",
       "0                 XGBost TF tuned        Test   0.880137  0.867258   \n",
       "0  XGBoost TF and Algorithm tuned  Validation   0.904519  0.908757   \n",
       "\n",
       "   Specificity  F1-score  Accuracy  Bal Accuracy       AUC  \n",
       "0     0.869671  0.773990  0.928721      0.696647  0.783159  \n",
       "0     0.895535  0.756274  0.913201      0.699286  0.797410  \n",
       "0     0.889925  0.809267  0.937107      0.739516  0.814721  \n",
       "0     0.907827  0.777699  0.921338      0.720819  0.814323  \n",
       "0     0.999737  0.998853  0.999301      0.999721  0.999729  \n",
       "0     0.841794  0.620777  0.874322      0.572457  0.707125  \n",
       "0     0.986402  0.933538  0.981831      0.924016  0.955209  \n",
       "0     0.969644  0.833189  0.952984      0.817148  0.893396  \n",
       "0     0.985982  0.937963  0.980433      0.945566  0.965774  \n",
       "0     0.973886  0.873550  0.961121      0.867258  0.920572  \n",
       "0     0.982529  0.906556  0.974144      0.908757  0.945643  "
      ]
     },
     "execution_count": 47,
     "metadata": {},
     "output_type": "execute_result"
    }
   ],
   "source": [
    "sc = calc_multiclass_metrics(y_val, xb_both_tune_pred, 'XGBoost TF and Algorithm tuned', 'Validation')\n",
    "results_score = results_score.append(sc)\n",
    "results_score"
   ]
  },
  {
   "cell_type": "code",
   "execution_count": 48,
   "metadata": {},
   "outputs": [
    {
     "name": "stdout",
     "output_type": "stream",
     "text": [
      "Accuracy on test data: \n",
      " 0.9403254972875226\n",
      "Classification report: \n",
      "               precision    recall  f1-score   support\n",
      "\n",
      "           0       0.87      0.82      0.84       205\n",
      "           1       0.98      0.99      0.99       846\n",
      "           2       0.60      0.56      0.58        55\n",
      "\n",
      "    accuracy                           0.94      1106\n",
      "   macro avg       0.81      0.79      0.80      1106\n",
      "weighted avg       0.94      0.94      0.94      1106\n",
      "\n",
      "Confusion Matrix test: \n",
      "[[168  17  20]\n",
      " [  4 841   1]\n",
      " [ 21   3  31]]\n"
     ]
    }
   ],
   "source": [
    "xb_both_tune_pred_test = xb_both_tune.predict(X_test_tf_tune_xb)\n",
    "print(\"Accuracy on test data: \\n\",metrics.accuracy_score(y_test, xb_both_tune_pred_test))\n",
    "print(\"Classification report: \\n\",metrics.classification_report(y_test, xb_both_tune_pred_test))\n",
    "print('Confusion Matrix test: \\n' + str(metrics.confusion_matrix(y_test, xb_both_tune_pred_test)))"
   ]
  },
  {
   "cell_type": "code",
   "execution_count": 49,
   "metadata": {},
   "outputs": [
    {
     "data": {
      "text/html": [
       "<div>\n",
       "<style scoped>\n",
       "    .dataframe tbody tr th:only-of-type {\n",
       "        vertical-align: middle;\n",
       "    }\n",
       "\n",
       "    .dataframe tbody tr th {\n",
       "        vertical-align: top;\n",
       "    }\n",
       "\n",
       "    .dataframe thead th {\n",
       "        text-align: right;\n",
       "    }\n",
       "</style>\n",
       "<table border=\"1\" class=\"dataframe\">\n",
       "  <thead>\n",
       "    <tr style=\"text-align: right;\">\n",
       "      <th></th>\n",
       "      <th>Model</th>\n",
       "      <th>Data</th>\n",
       "      <th>Precision</th>\n",
       "      <th>Recall</th>\n",
       "      <th>Specificity</th>\n",
       "      <th>F1-score</th>\n",
       "      <th>Accuracy</th>\n",
       "      <th>Bal Accuracy</th>\n",
       "      <th>AUC</th>\n",
       "    </tr>\n",
       "  </thead>\n",
       "  <tbody>\n",
       "    <tr>\n",
       "      <th>0</th>\n",
       "      <td>RF not tuned</td>\n",
       "      <td>Validation</td>\n",
       "      <td>0.938393</td>\n",
       "      <td>0.696647</td>\n",
       "      <td>0.869671</td>\n",
       "      <td>0.773990</td>\n",
       "      <td>0.928721</td>\n",
       "      <td>0.696647</td>\n",
       "      <td>0.783159</td>\n",
       "    </tr>\n",
       "    <tr>\n",
       "      <th>0</th>\n",
       "      <td>RF not tuned</td>\n",
       "      <td>Test</td>\n",
       "      <td>0.862125</td>\n",
       "      <td>0.699286</td>\n",
       "      <td>0.895535</td>\n",
       "      <td>0.756274</td>\n",
       "      <td>0.913201</td>\n",
       "      <td>0.699286</td>\n",
       "      <td>0.797410</td>\n",
       "    </tr>\n",
       "    <tr>\n",
       "      <th>0</th>\n",
       "      <td>RF TF tuned</td>\n",
       "      <td>Validation</td>\n",
       "      <td>0.926680</td>\n",
       "      <td>0.739516</td>\n",
       "      <td>0.889925</td>\n",
       "      <td>0.809267</td>\n",
       "      <td>0.937107</td>\n",
       "      <td>0.739516</td>\n",
       "      <td>0.814721</td>\n",
       "    </tr>\n",
       "    <tr>\n",
       "      <th>0</th>\n",
       "      <td>RF TF tuned</td>\n",
       "      <td>Test</td>\n",
       "      <td>0.892028</td>\n",
       "      <td>0.720819</td>\n",
       "      <td>0.907827</td>\n",
       "      <td>0.777699</td>\n",
       "      <td>0.921338</td>\n",
       "      <td>0.720819</td>\n",
       "      <td>0.814323</td>\n",
       "    </tr>\n",
       "    <tr>\n",
       "      <th>0</th>\n",
       "      <td>RF TF and Algorithm tuned</td>\n",
       "      <td>Validation</td>\n",
       "      <td>0.997992</td>\n",
       "      <td>0.999721</td>\n",
       "      <td>0.999737</td>\n",
       "      <td>0.998853</td>\n",
       "      <td>0.999301</td>\n",
       "      <td>0.999721</td>\n",
       "      <td>0.999729</td>\n",
       "    </tr>\n",
       "    <tr>\n",
       "      <th>0</th>\n",
       "      <td>RF TF and Algorithm tuned</td>\n",
       "      <td>Test</td>\n",
       "      <td>0.731774</td>\n",
       "      <td>0.572457</td>\n",
       "      <td>0.841794</td>\n",
       "      <td>0.620777</td>\n",
       "      <td>0.874322</td>\n",
       "      <td>0.572457</td>\n",
       "      <td>0.707125</td>\n",
       "    </tr>\n",
       "    <tr>\n",
       "      <th>0</th>\n",
       "      <td>XGBost not tuned</td>\n",
       "      <td>Validation</td>\n",
       "      <td>0.946855</td>\n",
       "      <td>0.924016</td>\n",
       "      <td>0.986402</td>\n",
       "      <td>0.933538</td>\n",
       "      <td>0.981831</td>\n",
       "      <td>0.924016</td>\n",
       "      <td>0.955209</td>\n",
       "    </tr>\n",
       "    <tr>\n",
       "      <th>0</th>\n",
       "      <td>XGBost not tuned</td>\n",
       "      <td>Test</td>\n",
       "      <td>0.852639</td>\n",
       "      <td>0.817148</td>\n",
       "      <td>0.969644</td>\n",
       "      <td>0.833189</td>\n",
       "      <td>0.952984</td>\n",
       "      <td>0.817148</td>\n",
       "      <td>0.893396</td>\n",
       "    </tr>\n",
       "    <tr>\n",
       "      <th>0</th>\n",
       "      <td>XGBost TF tuned</td>\n",
       "      <td>Validation</td>\n",
       "      <td>0.930785</td>\n",
       "      <td>0.945566</td>\n",
       "      <td>0.985982</td>\n",
       "      <td>0.937963</td>\n",
       "      <td>0.980433</td>\n",
       "      <td>0.945566</td>\n",
       "      <td>0.965774</td>\n",
       "    </tr>\n",
       "    <tr>\n",
       "      <th>0</th>\n",
       "      <td>XGBost TF tuned</td>\n",
       "      <td>Test</td>\n",
       "      <td>0.880137</td>\n",
       "      <td>0.867258</td>\n",
       "      <td>0.973886</td>\n",
       "      <td>0.873550</td>\n",
       "      <td>0.961121</td>\n",
       "      <td>0.867258</td>\n",
       "      <td>0.920572</td>\n",
       "    </tr>\n",
       "    <tr>\n",
       "      <th>0</th>\n",
       "      <td>XGBoost TF and Algorithm tuned</td>\n",
       "      <td>Validation</td>\n",
       "      <td>0.904519</td>\n",
       "      <td>0.908757</td>\n",
       "      <td>0.982529</td>\n",
       "      <td>0.906556</td>\n",
       "      <td>0.974144</td>\n",
       "      <td>0.908757</td>\n",
       "      <td>0.945643</td>\n",
       "    </tr>\n",
       "    <tr>\n",
       "      <th>0</th>\n",
       "      <td>XGBoost TF and Algorithm tuned</td>\n",
       "      <td>Test</td>\n",
       "      <td>0.814464</td>\n",
       "      <td>0.792413</td>\n",
       "      <td>0.958450</td>\n",
       "      <td>0.803005</td>\n",
       "      <td>0.940325</td>\n",
       "      <td>0.792413</td>\n",
       "      <td>0.875431</td>\n",
       "    </tr>\n",
       "  </tbody>\n",
       "</table>\n",
       "</div>"
      ],
      "text/plain": [
       "                            Model        Data  Precision    Recall  \\\n",
       "0                    RF not tuned  Validation   0.938393  0.696647   \n",
       "0                    RF not tuned        Test   0.862125  0.699286   \n",
       "0                     RF TF tuned  Validation   0.926680  0.739516   \n",
       "0                     RF TF tuned        Test   0.892028  0.720819   \n",
       "0       RF TF and Algorithm tuned  Validation   0.997992  0.999721   \n",
       "0       RF TF and Algorithm tuned        Test   0.731774  0.572457   \n",
       "0                XGBost not tuned  Validation   0.946855  0.924016   \n",
       "0                XGBost not tuned        Test   0.852639  0.817148   \n",
       "0                 XGBost TF tuned  Validation   0.930785  0.945566   \n",
       "0                 XGBost TF tuned        Test   0.880137  0.867258   \n",
       "0  XGBoost TF and Algorithm tuned  Validation   0.904519  0.908757   \n",
       "0  XGBoost TF and Algorithm tuned        Test   0.814464  0.792413   \n",
       "\n",
       "   Specificity  F1-score  Accuracy  Bal Accuracy       AUC  \n",
       "0     0.869671  0.773990  0.928721      0.696647  0.783159  \n",
       "0     0.895535  0.756274  0.913201      0.699286  0.797410  \n",
       "0     0.889925  0.809267  0.937107      0.739516  0.814721  \n",
       "0     0.907827  0.777699  0.921338      0.720819  0.814323  \n",
       "0     0.999737  0.998853  0.999301      0.999721  0.999729  \n",
       "0     0.841794  0.620777  0.874322      0.572457  0.707125  \n",
       "0     0.986402  0.933538  0.981831      0.924016  0.955209  \n",
       "0     0.969644  0.833189  0.952984      0.817148  0.893396  \n",
       "0     0.985982  0.937963  0.980433      0.945566  0.965774  \n",
       "0     0.973886  0.873550  0.961121      0.867258  0.920572  \n",
       "0     0.982529  0.906556  0.974144      0.908757  0.945643  \n",
       "0     0.958450  0.803005  0.940325      0.792413  0.875431  "
      ]
     },
     "execution_count": 49,
     "metadata": {},
     "output_type": "execute_result"
    }
   ],
   "source": [
    "sc = calc_multiclass_metrics(y_test, xb_both_tune_pred_test, 'XGBoost TF and Algorithm tuned', 'Test')\n",
    "results_score = results_score.append(sc)\n",
    "results_score"
   ]
  },
  {
   "cell_type": "markdown",
   "metadata": {},
   "source": [
    "## 6 Best Model"
   ]
  },
  {
   "cell_type": "code",
   "execution_count": 53,
   "metadata": {},
   "outputs": [
    {
     "data": {
      "text/plain": [
       "Text(0.5, 1.0, 'XGBoost TF tuned')"
      ]
     },
     "execution_count": 53,
     "metadata": {},
     "output_type": "execute_result"
    },
    {
     "data": {
      "image/png": "[encoded data removed]",
      "text/plain": [
       "<Figure size 432x288 with 2 Axes>"
      ]
     },
     "metadata": {
      "needs_background": "light"
     },
     "output_type": "display_data"
    }
   ],
   "source": [
    "plot_conf = metrics.plot_confusion_matrix(xb_tf_tune, X_test_tf_tune_xb, y_test, values_format = 'n',\n",
    "                                   cmap=plt.cm.Blues, display_labels = ['process' , 'product', 'use claim'] )\n",
    "title = 'XGBoost TF tuned'\n",
    "plot_conf.ax_.set_title(title)"
   ]
  },
  {
   "cell_type": "code",
   "execution_count": 51,
   "metadata": {},
   "outputs": [
    {
     "data": {
      "text/plain": [
       "{'tfidf__max_features': 500, 'tfidf__norm': 'l2', 'tfidf__sublinear_tf': True}"
      ]
     },
     "execution_count": 51,
     "metadata": {},
     "output_type": "execute_result"
    }
   ],
   "source": [
    "grid_search_tfidf_xgb.best_params_"
   ]
  },
  {
   "cell_type": "code",
   "execution_count": 52,
   "metadata": {},
   "outputs": [
    {
     "data": {
      "text/plain": [
       "'MAE-weighted is 0.005204097443644654'"
      ]
     },
     "execution_count": 52,
     "metadata": {},
     "output_type": "execute_result"
    }
   ],
   "source": [
    "MAE_weighted(xb_tf_tune_pred_test, test_db, binary_class = 'No')"
   ]
  },
  {
   "cell_type": "code",
   "execution_count": 54,
   "metadata": {},
   "outputs": [
    {
     "data": {
      "text/plain": [
       "Model           XGBost TF tuned\n",
       "Data                       Test\n",
       "Precision              0.880137\n",
       "Recall                 0.867258\n",
       "Specificity            0.973886\n",
       "F1-score                0.87355\n",
       "Accuracy               0.961121\n",
       "Bal Accuracy           0.867258\n",
       "AUC                    0.920572\n",
       "Name: 0, dtype: object"
      ]
     },
     "execution_count": 54,
     "metadata": {},
     "output_type": "execute_result"
    }
   ],
   "source": [
    "results_score.iloc[9]"
   ]
  },
  {
   "cell_type": "code",
   "execution_count": 55,
   "metadata": {},
   "outputs": [],
   "source": [
    "#save the model\n",
    "with open(ospath('~/code_final_project/Z_Best_models_saved/Claims/Best_Multiclass_model.pickle.pickle'), 'wb') as model:\n",
    "    pickle.dump(xb_tf_tune, model)\n",
    "    \n",
    "#save tf-df fitted vectorizer to use for the best model\n",
    "with open(ospath('~/code_final_project/Z_Best_models_saved/Claims/Best_tf_idf_for_multiclass_model.pickle'), 'wb') as model:\n",
    "    pickle.dump(tfidf_tune_xb, model)"
   ]
  },
  {
   "cell_type": "code",
   "execution_count": null,
   "metadata": {},
   "outputs": [],
   "source": []
  }
 ],
 "metadata": {
  "kernelspec": {
   "display_name": "Python 3",
   "language": "python",
   "name": "python3"
  },
  "language_info": {
   "codemirror_mode": {
    "name": "ipython",
    "version": 3
   },
   "file_extension": ".py",
   "mimetype": "text/x-python",
   "name": "python",
   "nbconvert_exporter": "python",
   "pygments_lexer": "ipython3",
   "version": "3.7.6"
  }
 },
 "nbformat": 4,
 "nbformat_minor": 4
}
