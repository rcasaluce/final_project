{
 "cells": [
  {
   "cell_type": "code",
   "execution_count": 1,
   "metadata": {},
   "outputs": [],
   "source": [
    "import random\n",
    "from numpy.random import seed\n",
    "seed(3)\n",
    "import numpy as np\n",
    "np.random.default_rng\n",
    "import warnings\n",
    "warnings.filterwarnings(\"ignore\")\n",
    "import pandas as pd\n",
    "from pandas import read_csv\n",
    "%matplotlib inline\n",
    "import matplotlib.pyplot as plt\n",
    "import seaborn as sns\n",
    "import pickle\n",
    "from os.path import expanduser as ospath\n",
    "import os\n",
    "os.chdir(\"C:/Users/rober/project/B_Data_pre_processing/My_functions\")\n",
    "from C_metrics_binary import calc_binary_class_metrics\n",
    "os.chdir(\"C:/Users/rober/project/E_models/Abstracts\")\n",
    "\n",
    "import xgboost as xgb\n",
    "from sklearn.pipeline import Pipeline, FeatureUnion, make_pipeline\n",
    "from sklearn.model_selection import KFold,GridSearchCV, cross_val_score, train_test_split, RandomizedSearchCV\n",
    "from sklearn.ensemble import RandomForestClassifier\n",
    "from sklearn.linear_model import LogisticRegression\n",
    "from sklearn import metrics\n",
    "from sklearn.multiclass import OneVsRestClassifier\n",
    "from sklearn.feature_extraction.text import TfidfVectorizer\n",
    "from imblearn.over_sampling import SMOTE\n",
    "from collections import Counter\n",
    "\n",
    "from gensim.models import Word2Vec\n",
    "import gensim"
   ]
  },
  {
   "cell_type": "markdown",
   "metadata": {},
   "source": [
    "## Load data set with cleaned text"
   ]
  },
  {
   "cell_type": "code",
   "execution_count": 2,
   "metadata": {},
   "outputs": [],
   "source": [
    "with open(ospath('~/code_final_project/B_Data_pre_processing/Pickle_Files/Abstracts_cleaned.pickle'), 'rb') as data:\n",
    "    db = pickle.load(data)"
   ]
  },
  {
   "cell_type": "code",
   "execution_count": 3,
   "metadata": {},
   "outputs": [
    {
     "data": {
      "text/html": [
       "<div>\n",
       "<style scoped>\n",
       "    .dataframe tbody tr th:only-of-type {\n",
       "        vertical-align: middle;\n",
       "    }\n",
       "\n",
       "    .dataframe tbody tr th {\n",
       "        vertical-align: top;\n",
       "    }\n",
       "\n",
       "    .dataframe thead th {\n",
       "        text-align: right;\n",
       "    }\n",
       "</style>\n",
       "<table border=\"1\" class=\"dataframe\">\n",
       "  <thead>\n",
       "    <tr style=\"text-align: right;\">\n",
       "      <th></th>\n",
       "      <th>publn_nr</th>\n",
       "      <th>type</th>\n",
       "      <th>label</th>\n",
       "      <th>text</th>\n",
       "      <th>text_clean</th>\n",
       "    </tr>\n",
       "  </thead>\n",
       "  <tbody>\n",
       "    <tr>\n",
       "      <th>0</th>\n",
       "      <td>4254843</td>\n",
       "      <td>Abstract</td>\n",
       "      <td>product</td>\n",
       "      <td>An electrically powered vehicle having a bank ...</td>\n",
       "      <td>electrically power vehicle bank batteries supp...</td>\n",
       "    </tr>\n",
       "    <tr>\n",
       "      <th>20</th>\n",
       "      <td>5680032</td>\n",
       "      <td>Abstract</td>\n",
       "      <td>product</td>\n",
       "      <td>During forward motion of an electrically-power...</td>\n",
       "      <td>forward motion electrically-powered vehicle ai...</td>\n",
       "    </tr>\n",
       "    <tr>\n",
       "      <th>51</th>\n",
       "      <td>5272378</td>\n",
       "      <td>Abstract</td>\n",
       "      <td>product</td>\n",
       "      <td>An apparatus for generating power by utilizing...</td>\n",
       "      <td>apparatus generate power utilize wind produce ...</td>\n",
       "    </tr>\n",
       "    <tr>\n",
       "      <th>68</th>\n",
       "      <td>4309620</td>\n",
       "      <td>Abstract</td>\n",
       "      <td>product</td>\n",
       "      <td>In a preferred embodiment, the flywheel electr...</td>\n",
       "      <td>prefer embodiment flywheel electric transmissi...</td>\n",
       "    </tr>\n",
       "    <tr>\n",
       "      <th>118</th>\n",
       "      <td>5514923</td>\n",
       "      <td>Abstract</td>\n",
       "      <td>product</td>\n",
       "      <td>A high efficiency multi-phasic type DC motor i...</td>\n",
       "      <td>high efficiency multi-phasic type dc motor inc...</td>\n",
       "    </tr>\n",
       "  </tbody>\n",
       "</table>\n",
       "</div>"
      ],
      "text/plain": [
       "     publn_nr      type    label  \\\n",
       "0     4254843  Abstract  product   \n",
       "20    5680032  Abstract  product   \n",
       "51    5272378  Abstract  product   \n",
       "68    4309620  Abstract  product   \n",
       "118   5514923  Abstract  product   \n",
       "\n",
       "                                                  text  \\\n",
       "0    An electrically powered vehicle having a bank ...   \n",
       "20   During forward motion of an electrically-power...   \n",
       "51   An apparatus for generating power by utilizing...   \n",
       "68   In a preferred embodiment, the flywheel electr...   \n",
       "118  A high efficiency multi-phasic type DC motor i...   \n",
       "\n",
       "                                            text_clean  \n",
       "0    electrically power vehicle bank batteries supp...  \n",
       "20   forward motion electrically-powered vehicle ai...  \n",
       "51   apparatus generate power utilize wind produce ...  \n",
       "68   prefer embodiment flywheel electric transmissi...  \n",
       "118  high efficiency multi-phasic type dc motor inc...  "
      ]
     },
     "execution_count": 3,
     "metadata": {},
     "output_type": "execute_result"
    }
   ],
   "source": [
    "db.head()"
   ]
  },
  {
   "cell_type": "markdown",
   "metadata": {},
   "source": [
    "This convert name labels form string to numbers and merge into only two classes "
   ]
  },
  {
   "cell_type": "markdown",
   "metadata": {},
   "source": [
    "Process and Use claim 0, Product and Product/Process 1"
   ]
  },
  {
   "cell_type": "code",
   "execution_count": 4,
   "metadata": {},
   "outputs": [
    {
     "data": {
      "text/html": [
       "<div>\n",
       "<style scoped>\n",
       "    .dataframe tbody tr th:only-of-type {\n",
       "        vertical-align: middle;\n",
       "    }\n",
       "\n",
       "    .dataframe tbody tr th {\n",
       "        vertical-align: top;\n",
       "    }\n",
       "\n",
       "    .dataframe thead th {\n",
       "        text-align: right;\n",
       "    }\n",
       "</style>\n",
       "<table border=\"1\" class=\"dataframe\">\n",
       "  <thead>\n",
       "    <tr style=\"text-align: right;\">\n",
       "      <th></th>\n",
       "      <th>publn_nr</th>\n",
       "      <th>type</th>\n",
       "      <th>text</th>\n",
       "      <th>text_clean</th>\n",
       "    </tr>\n",
       "    <tr>\n",
       "      <th>label</th>\n",
       "      <th></th>\n",
       "      <th></th>\n",
       "      <th></th>\n",
       "      <th></th>\n",
       "    </tr>\n",
       "  </thead>\n",
       "  <tbody>\n",
       "    <tr>\n",
       "      <th>0</th>\n",
       "      <td>17</td>\n",
       "      <td>17</td>\n",
       "      <td>17</td>\n",
       "      <td>17</td>\n",
       "    </tr>\n",
       "    <tr>\n",
       "      <th>1</th>\n",
       "      <td>177</td>\n",
       "      <td>177</td>\n",
       "      <td>177</td>\n",
       "      <td>177</td>\n",
       "    </tr>\n",
       "  </tbody>\n",
       "</table>\n",
       "</div>"
      ],
      "text/plain": [
       "       publn_nr  type  text  text_clean\n",
       "label                                  \n",
       "0            17    17    17          17\n",
       "1           177   177   177         177"
      ]
     },
     "execution_count": 4,
     "metadata": {},
     "output_type": "execute_result"
    }
   ],
   "source": [
    "db['label'] = db.label.replace(to_replace=['product', 'process', 'use claim', 'product and process'], value=[1, 0, 0,1])\n",
    "db.groupby(by='label').count()"
   ]
  },
  {
   "cell_type": "markdown",
   "metadata": {},
   "source": [
    "## Split the labelled data"
   ]
  },
  {
   "cell_type": "code",
   "execution_count": 5,
   "metadata": {},
   "outputs": [],
   "source": [
    "random.seed(3)\n",
    "y = db['label']# for stratify function\n",
    "X_train, X_test, y_train , y_test = train_test_split(db['text_clean'], \n",
    "                                                    db['label'], test_size=0.4, random_state=8, stratify = y)"
   ]
  },
  {
   "cell_type": "code",
   "execution_count": 6,
   "metadata": {},
   "outputs": [
    {
     "data": {
      "text/plain": [
       "1    71\n",
       "0     7\n",
       "Name: label, dtype: int64"
      ]
     },
     "execution_count": 6,
     "metadata": {},
     "output_type": "execute_result"
    }
   ],
   "source": [
    "y_test.value_counts()"
   ]
  },
  {
   "cell_type": "markdown",
   "metadata": {},
   "source": [
    "## Load Word2Vec model "
   ]
  },
  {
   "cell_type": "code",
   "execution_count": 7,
   "metadata": {},
   "outputs": [],
   "source": [
    "model_w2v = gensim.models.Word2Vec.load(ospath('~/code_final_project/C_Feature_extraction/model_w2v_300_uspto_epo'))"
   ]
  },
  {
   "cell_type": "code",
   "execution_count": 8,
   "metadata": {},
   "outputs": [],
   "source": [
    "class MeanEmbeddingVectorizer(object):\n",
    "    \n",
    "    \"\"\"This class builds the feature\n",
    "    by averanging the word vectors\n",
    "    for the words in the text\"\"\"\n",
    "    \n",
    "    def __init__(self, word2vec, dim):\n",
    "        self.word2vec = word2vec\n",
    "        self.dim = dim\n",
    "\n",
    "    def fit(self, X, y):\n",
    "        return self\n",
    "\n",
    "    def transform(self, X):\n",
    "        return np.array([\n",
    "            np.mean([self.word2vec[w] for w in words if w in self.word2vec]\n",
    "                    or [np.zeros(self.dim)], axis=0)\n",
    "            for words in X\n",
    "        ])\n",
    "# reference http://nadbordrozd.github.io/blog/2016/05/20/text-classification-with-word2vec/"
   ]
  },
  {
   "cell_type": "code",
   "execution_count": 9,
   "metadata": {},
   "outputs": [],
   "source": [
    "w2v = {w: vec for w, vec in zip(model_w2v.wv.index2word, model_w2v.wv.syn0)}"
   ]
  },
  {
   "cell_type": "code",
   "execution_count": 10,
   "metadata": {},
   "outputs": [],
   "source": [
    "w2v_vector = MeanEmbeddingVectorizer(w2v,300)"
   ]
  },
  {
   "cell_type": "markdown",
   "metadata": {},
   "source": [
    "## Fit Word2Vec vectorizer "
   ]
  },
  {
   "cell_type": "code",
   "execution_count": 11,
   "metadata": {},
   "outputs": [],
   "source": [
    "X_train_w2v = w2v_vector.fit(X_train,y_train)\n",
    "X_train_w2v = w2v_vector.transform(X_train)\n",
    "X_test_w2v = w2v_vector.transform(X_test)"
   ]
  },
  {
   "cell_type": "markdown",
   "metadata": {},
   "source": [
    "## Balance the classes with SMOTE "
   ]
  },
  {
   "cell_type": "code",
   "execution_count": 12,
   "metadata": {},
   "outputs": [],
   "source": [
    "balance = SMOTE()\n",
    "X_train_w2v_bal, y_train_w2v_bal = balance.fit_resample(X_train_w2v, y_train)"
   ]
  },
  {
   "cell_type": "markdown",
   "metadata": {},
   "source": [
    "I will run first an untuned XGBoost model uisng Word2Vec by from the spot-check phase resulted that this ensemble model with this word representation gives good results - see results in ***project\\D_Spot-Check\\Abstracts*."
   ]
  },
  {
   "cell_type": "markdown",
   "metadata": {},
   "source": [
    "## Run XGboost algorithm with Word2Vec"
   ]
  },
  {
   "cell_type": "code",
   "execution_count": 13,
   "metadata": {},
   "outputs": [
    {
     "name": "stdout",
     "output_type": "stream",
     "text": [
      "Accuracy on test data: \n",
      " 0.8974358974358975\n",
      "Classification report: \n",
      "               precision    recall  f1-score   support\n",
      "\n",
      "           0       0.00      0.00      0.00         7\n",
      "           1       0.91      0.99      0.95        71\n",
      "\n",
      "    accuracy                           0.90        78\n",
      "   macro avg       0.45      0.49      0.47        78\n",
      "weighted avg       0.83      0.90      0.86        78\n",
      "\n",
      "Confusion Matrix test: \n",
      "[[ 0  7]\n",
      " [ 1 70]]\n"
     ]
    }
   ],
   "source": [
    "random.seed(3)\n",
    "xb = xgb.XGBClassifier(objective = 'binary:logistic', n_jobs=-1)\n",
    "xb.fit(X_train_w2v_bal, y_train_w2v_bal)\n",
    "pred_test = xb.predict(X_test_w2v)\n",
    "\n",
    "\n",
    "print(\"Accuracy on test data: \\n\",metrics.accuracy_score(y_test, pred_test))\n",
    "print(\"Classification report: \\n\",metrics.classification_report(y_test, pred_test))\n",
    "print('Confusion Matrix test: \\n' + str(metrics.confusion_matrix(y_test, pred_test)))"
   ]
  },
  {
   "cell_type": "markdown",
   "metadata": {},
   "source": [
    "### Not very good results since it has not classified any abstracts from the minority class. I will try with a different vectorizer."
   ]
  },
  {
   "cell_type": "markdown",
   "metadata": {},
   "source": [
    "## Fit TF-IDF vectorizer "
   ]
  },
  {
   "cell_type": "code",
   "execution_count": 14,
   "metadata": {},
   "outputs": [],
   "source": [
    "tfidf = TfidfVectorizer(ngram_range = (1,2) , encoding='utf-8',sublinear_tf=True)\n",
    "\n",
    "X_train_tf = tfidf.fit_transform(X_train).toarray()\n",
    "X_test_tf = tfidf.transform(X_test).toarray()"
   ]
  },
  {
   "cell_type": "markdown",
   "metadata": {},
   "source": [
    "## Balance the classe with SMOTE and TF-IDF as word representation"
   ]
  },
  {
   "cell_type": "code",
   "execution_count": 15,
   "metadata": {},
   "outputs": [],
   "source": [
    "oversample = SMOTE()\n",
    "X_train_tf_bal, y_train_tf_bal = oversample.fit_resample(X_train_tf, y_train)"
   ]
  },
  {
   "cell_type": "markdown",
   "metadata": {},
   "source": [
    "## Rerun XGBoost with TF-IDF before tuning it"
   ]
  },
  {
   "cell_type": "code",
   "execution_count": 16,
   "metadata": {},
   "outputs": [
    {
     "name": "stdout",
     "output_type": "stream",
     "text": [
      "Accuracy on the test data: \n",
      "0.9102564102564102\n",
      "Classification report\n",
      "              precision    recall  f1-score   support\n",
      "\n",
      "           0       0.00      0.00      0.00         7\n",
      "           1       0.91      1.00      0.95        71\n",
      "\n",
      "    accuracy                           0.91        78\n",
      "   macro avg       0.46      0.50      0.48        78\n",
      "weighted avg       0.83      0.91      0.87        78\n",
      "\n",
      "Confusion Matrix : \n",
      "[[ 0  7]\n",
      " [ 0 71]]\n"
     ]
    }
   ],
   "source": [
    "random.seed(3)\n",
    "xbg_tf = xgb.XGBClassifier(objective = 'binary:logistic', n_jobs=-1)\n",
    "xbg_tf.fit(X_train_tf_bal, y_train_tf_bal)\n",
    "xbg_tf_pred = xbg_tf.predict(X_test_tf)\n",
    "\n",
    "print(\"Accuracy on the test data: \")\n",
    "print(metrics.accuracy_score(y_test, xbg_tf_pred))\n",
    "print(\"Classification report\")\n",
    "print(metrics.classification_report(y_test, xbg_tf_pred))\n",
    "print('Confusion Matrix : ')\n",
    "print(metrics.confusion_matrix(y_test, xbg_tf_pred))"
   ]
  },
  {
   "cell_type": "markdown",
   "metadata": {},
   "source": [
    "### It improved slightly a bit because it was able to classify correctly all the observations from the majority class but zero again for the other class."
   ]
  },
  {
   "cell_type": "markdown",
   "metadata": {},
   "source": [
    "## Tune TF-IDF with GRid Search CV"
   ]
  },
  {
   "cell_type": "code",
   "execution_count": 17,
   "metadata": {},
   "outputs": [
    {
     "name": "stdout",
     "output_type": "stream",
     "text": [
      "Fitting 2 folds for each of 20 candidates, totalling 40 fits\n"
     ]
    },
    {
     "name": "stderr",
     "output_type": "stream",
     "text": [
      "[Parallel(n_jobs=-1)]: Using backend LokyBackend with 12 concurrent workers.\n"
     ]
    },
    {
     "name": "stdout",
     "output_type": "stream",
     "text": [
      "Best parameters for the TF-IDF: [('tfidf', TfidfVectorizer(lowercase=False, max_features=300)), ('clf', OneVsRestClassifier(estimator=XGBClassifier(base_score=None, booster=None,\n",
      "                                            colsample_bylevel=None,\n",
      "                                            colsample_bynode=None,\n",
      "                                            colsample_bytree=None, gamma=None,\n",
      "                                            gpu_id=None, importance_type='gain',\n",
      "                                            interaction_constraints=None,\n",
      "                                            learning_rate=None,\n",
      "                                            max_delta_step=None, max_depth=None,\n",
      "                                            min_child_weight=None, missing=nan,\n",
      "                                            monotone_constraints=None,\n",
      "                                            n_estimators=100, n_jobs=-1,\n",
      "                                            num_parallel_tree=None,\n",
      "                                            random_state=None, reg_alpha=None,\n",
      "                                            reg_lambda=None,\n",
      "                                            scale_pos_weight=None,\n",
      "                                            subsample=None, tree_method=None,\n",
      "                                            validate_parameters=None,\n",
      "                                            verbosity=None)))]\n"
     ]
    },
    {
     "name": "stderr",
     "output_type": "stream",
     "text": [
      "[Parallel(n_jobs=-1)]: Done  40 out of  40 | elapsed:    2.7s finished\n"
     ]
    }
   ],
   "source": [
    "random.seed(3)\n",
    "pipeline_grid = Pipeline([\n",
    "    ('tfidf', TfidfVectorizer(lowercase=False)),\n",
    "    ('clf', OneVsRestClassifier(xgb.XGBClassifier(objective = 'binary:logistic', n_jobs=-1))),\n",
    "])\n",
    "param_grid = {\n",
    "    'tfidf__norm' :('l1', 'l2'),\n",
    "    'tfidf__max_features' : (300, 350, 400, 450,500),\n",
    "    'tfidf__sublinear_tf' : [True, False]\n",
    "\n",
    "}\n",
    "\n",
    "grid_search_tfidf_xgb = GridSearchCV(pipeline_grid, param_grid, cv=2, verbose=1, n_jobs=-1)\n",
    "grid_search_tfidf_xgb.fit(X_train, y_train)\n",
    "\n",
    "print(\"Best parameters for the TF-IDF: {}\".format(grid_search_tfidf_xgb.best_estimator_.steps))"
   ]
  },
  {
   "cell_type": "markdown",
   "metadata": {},
   "source": [
    "## Fit TF-IDF vectorizer with the new parameters"
   ]
  },
  {
   "cell_type": "code",
   "execution_count": 18,
   "metadata": {},
   "outputs": [
    {
     "name": "stdout",
     "output_type": "stream",
     "text": [
      "{'tfidf__max_features': 300, 'tfidf__norm': 'l2', 'tfidf__sublinear_tf': False}\n"
     ]
    }
   ],
   "source": [
    "print(grid_search_tfidf_xgb.best_params_)"
   ]
  },
  {
   "cell_type": "code",
   "execution_count": 19,
   "metadata": {},
   "outputs": [],
   "source": [
    "tfidf_tune = grid_search_tfidf_xgb.best_estimator_[0]\n",
    "\n",
    "X_train_tf_tune = tfidf_tune.fit_transform(X_train).toarray()\n",
    "X_test_tf_tune = tfidf_tune.transform(X_test).toarray()"
   ]
  },
  {
   "cell_type": "markdown",
   "metadata": {},
   "source": [
    "## Balance again the classes with SMOTE with net TF-IDF vectorizer "
   ]
  },
  {
   "cell_type": "code",
   "execution_count": 20,
   "metadata": {},
   "outputs": [],
   "source": [
    "oversample = SMOTE()\n",
    "X_train_tf_tune_bal, y_train_tf_tune_bal = oversample.fit_resample(X_train_tf_tune, y_train)"
   ]
  },
  {
   "cell_type": "code",
   "execution_count": 21,
   "metadata": {},
   "outputs": [
    {
     "name": "stdout",
     "output_type": "stream",
     "text": [
      "Accuracy on the test data: \n",
      "0.9230769230769231\n",
      "Classification report\n",
      "              precision    recall  f1-score   support\n",
      "\n",
      "           0       1.00      0.14      0.25         7\n",
      "           1       0.92      1.00      0.96        71\n",
      "\n",
      "    accuracy                           0.92        78\n",
      "   macro avg       0.96      0.57      0.60        78\n",
      "weighted avg       0.93      0.92      0.90        78\n",
      "\n",
      "Confusion Matrix : \n",
      "[[ 1  6]\n",
      " [ 0 71]]\n"
     ]
    }
   ],
   "source": [
    "seed(3)\n",
    "xbg_tf_tune = xgb.XGBClassifier(objective = 'binary:logistic', n_jobs=-1)\n",
    "xbg_tf_tune.fit(X_train_tf_tune_bal, y_train_tf_tune_bal)\n",
    "xbg_tf_tune_pred = xbg_tf_tune.predict(X_test_tf_tune)\n",
    "\n",
    "print(\"Accuracy on the test data: \")\n",
    "print(metrics.accuracy_score(y_test, xbg_tf_tune_pred))\n",
    "print(\"Classification report\")\n",
    "print(metrics.classification_report(y_test, xbg_tf_tune_pred))\n",
    "print('Confusion Matrix : ')\n",
    "print(metrics.confusion_matrix(y_test, xbg_tf_tune_pred))"
   ]
  },
  {
   "cell_type": "markdown",
   "metadata": {},
   "source": [
    "### There is an improvement since the model was able to classify also one observation from the minority class."
   ]
  },
  {
   "cell_type": "markdown",
   "metadata": {},
   "source": [
    "Now, I tune also the parameters of the learning algorithm. "
   ]
  },
  {
   "cell_type": "markdown",
   "metadata": {},
   "source": [
    "## Tune Hyperparametrs XGBoost algorithm "
   ]
  },
  {
   "cell_type": "code",
   "execution_count": 22,
   "metadata": {},
   "outputs": [],
   "source": [
    "param_grid = {\n",
    "    'max_depth': [2,4,6,8,10],\n",
    "    'n_estimators': [60, 10,120,160,200, 240],\n",
    "    'learning_rate': [0.1, 0.01, 0.05, 0.009]\n",
    "}"
   ]
  },
  {
   "cell_type": "code",
   "execution_count": 23,
   "metadata": {},
   "outputs": [
    {
     "name": "stdout",
     "output_type": "stream",
     "text": [
      "Fitting 3 folds for each of 50 candidates, totalling 150 fits\n"
     ]
    },
    {
     "name": "stderr",
     "output_type": "stream",
     "text": [
      "[Parallel(n_jobs=1)]: Using backend SequentialBackend with 1 concurrent workers.\n",
      "[Parallel(n_jobs=1)]: Done 150 out of 150 | elapsed:   13.7s finished\n"
     ]
    },
    {
     "data": {
      "text/plain": [
       "RandomizedSearchCV(cv=3,\n",
       "                   estimator=XGBClassifier(base_score=None, booster=None,\n",
       "                                           colsample_bylevel=None,\n",
       "                                           colsample_bynode=None,\n",
       "                                           colsample_bytree=None, gamma=None,\n",
       "                                           gpu_id=None, importance_type='gain',\n",
       "                                           interaction_constraints=None,\n",
       "                                           learning_rate=None,\n",
       "                                           max_delta_step=None, max_depth=None,\n",
       "                                           min_child_weight=None, missing=nan,\n",
       "                                           monotone_constraints=None,\n",
       "                                           n_estimators=100, n_jobs=-1,\n",
       "                                           num_parallel_tree=None,\n",
       "                                           random_state=None, reg_alpha=None,\n",
       "                                           reg_lambda=None,\n",
       "                                           scale_pos_weight=None,\n",
       "                                           subsample=None, tree_method=None,\n",
       "                                           validate_parameters=None,\n",
       "                                           verbosity=None),\n",
       "                   n_iter=50,\n",
       "                   param_distributions={'learning_rate': [0.1, 0.01, 0.05,\n",
       "                                                          0.009],\n",
       "                                        'max_depth': [2, 4, 6, 8, 10],\n",
       "                                        'n_estimators': [60, 10, 120, 160, 200,\n",
       "                                                         240]},\n",
       "                   scoring='accuracy', verbose=1)"
      ]
     },
     "execution_count": 23,
     "metadata": {},
     "output_type": "execute_result"
    }
   ],
   "source": [
    "random.seed(3)\n",
    "xb = xgb.XGBClassifier(objective = 'binary:logistic', n_jobs=-1)\n",
    "\n",
    "\n",
    "random_search = RandomizedSearchCV(estimator=xb,\n",
    "                                   param_distributions=param_grid,\n",
    "                                   n_iter=50,\n",
    "                                   scoring='accuracy',\n",
    "                                   cv=3, \n",
    "                                   verbose=1)\n",
    "\n",
    "random_search.fit(X_train_tf_tune, y_train)"
   ]
  },
  {
   "cell_type": "code",
   "execution_count": 24,
   "metadata": {},
   "outputs": [
    {
     "name": "stdout",
     "output_type": "stream",
     "text": [
      "{'n_estimators': 10, 'max_depth': 10, 'learning_rate': 0.05}\n"
     ]
    }
   ],
   "source": [
    "print(random_search.best_params_)"
   ]
  },
  {
   "cell_type": "code",
   "execution_count": 25,
   "metadata": {},
   "outputs": [
    {
     "name": "stdout",
     "output_type": "stream",
     "text": [
      "Accuracy on validation data: \n",
      " 0.9741379310344828\n",
      "Classification report: \n",
      "               precision    recall  f1-score   support\n",
      "\n",
      "           0       0.82      0.90      0.86        10\n",
      "           1       0.99      0.98      0.99       106\n",
      "\n",
      "    accuracy                           0.97       116\n",
      "   macro avg       0.90      0.94      0.92       116\n",
      "weighted avg       0.98      0.97      0.97       116\n",
      "\n",
      "Confusion Matrix validation: \n",
      "[[  9   1]\n",
      " [  2 104]]\n"
     ]
    }
   ],
   "source": [
    "random.seed(3)\n",
    "xb_both_tune = random_search.best_estimator_\n",
    "xb_both_tune.fit(X_train_tf_tune_bal, y_train_tf_tune_bal)\n",
    "xb_both_tune_train = xb_both_tune.predict(X_train_tf_tune)\n",
    "\n",
    "\n",
    "print(\"Accuracy on validation data: \\n\",metrics.accuracy_score(y_train, xb_both_tune_train))\n",
    "print(\"Classification report: \\n\",metrics.classification_report(y_train, xb_both_tune_train))\n",
    "print('Confusion Matrix validation: \\n' + str(metrics.confusion_matrix(y_train, xb_both_tune_train)))"
   ]
  },
  {
   "cell_type": "code",
   "execution_count": 26,
   "metadata": {},
   "outputs": [
    {
     "name": "stdout",
     "output_type": "stream",
     "text": [
      "Accuracy on validation data: \n",
      " 0.8461538461538461\n",
      "Classification report: \n",
      "               precision    recall  f1-score   support\n",
      "\n",
      "           0       0.00      0.00      0.00         7\n",
      "           1       0.90      0.93      0.92        71\n",
      "\n",
      "    accuracy                           0.85        78\n",
      "   macro avg       0.45      0.46      0.46        78\n",
      "weighted avg       0.82      0.85      0.83        78\n",
      "\n",
      "Confusion Matrix validation: \n",
      "[[ 0  7]\n",
      " [ 5 66]]\n"
     ]
    }
   ],
   "source": [
    "xb_both_tune_pred = xb_both_tune.predict(X_test_tf_tune)\n",
    "\n",
    "\n",
    "print(\"Accuracy on validation data: \\n\",metrics.accuracy_score(y_test, xb_both_tune_pred))\n",
    "print(\"Classification report: \\n\",metrics.classification_report(y_test, xb_both_tune_pred))\n",
    "print('Confusion Matrix validation: \\n' + str(metrics.confusion_matrix(y_test, xb_both_tune_pred)))"
   ]
  },
  {
   "cell_type": "markdown",
   "metadata": {},
   "source": [
    "The results are a bit worse than since now it misclassified extra observations from the majority class."
   ]
  },
  {
   "cell_type": "markdown",
   "metadata": {},
   "source": [
    "Many models have performed the same in the spot-check phase and from them I chose the Logistic Regression to be run here. "
   ]
  },
  {
   "cell_type": "markdown",
   "metadata": {},
   "source": [
    "## Run a Logistic Regression with Word2Vec word representation"
   ]
  },
  {
   "cell_type": "code",
   "execution_count": 27,
   "metadata": {},
   "outputs": [
    {
     "name": "stdout",
     "output_type": "stream",
     "text": [
      "Accuracy on the test data: \n",
      "0.6153846153846154\n",
      "Classification report\n",
      "              precision    recall  f1-score   support\n",
      "\n",
      "           0       0.13      0.57      0.21         7\n",
      "           1       0.94      0.62      0.75        71\n",
      "\n",
      "    accuracy                           0.62        78\n",
      "   macro avg       0.53      0.60      0.48        78\n",
      "weighted avg       0.86      0.62      0.70        78\n",
      "\n",
      "Confusion Matrix : \n",
      "[[ 4  3]\n",
      " [27 44]]\n"
     ]
    }
   ],
   "source": [
    "random.seed(3)\n",
    "logi_w2v = LogisticRegression( random_state=0, n_jobs=-1)\n",
    "logi_w2v.fit(X_train_w2v_bal, y_train_w2v_bal )\n",
    "logi_w2v_pred = logi_w2v.predict(X_test_w2v)\n",
    "\n",
    "\n",
    "print(\"Accuracy on the test data: \")\n",
    "print(metrics.accuracy_score(y_test, logi_w2v_pred))\n",
    "print(\"Classification report\")\n",
    "print(metrics.classification_report(y_test, logi_w2v_pred))\n",
    "print('Confusion Matrix : ')\n",
    "print(metrics.confusion_matrix(y_test, logi_w2v_pred))"
   ]
  },
  {
   "cell_type": "markdown",
   "metadata": {},
   "source": [
    "Very disappointing results with Word2Vec. Now, I wil try with TF-IDF word representation."
   ]
  },
  {
   "cell_type": "markdown",
   "metadata": {},
   "source": [
    "## Run a Logistic Regression with a TF-IDF not tuned"
   ]
  },
  {
   "cell_type": "code",
   "execution_count": 28,
   "metadata": {},
   "outputs": [
    {
     "name": "stdout",
     "output_type": "stream",
     "text": [
      "Accuracy on the test data: \n",
      "0.8846153846153846\n",
      "Classification report\n",
      "              precision    recall  f1-score   support\n",
      "\n",
      "           0       0.00      0.00      0.00         7\n",
      "           1       0.91      0.97      0.94        71\n",
      "\n",
      "    accuracy                           0.88        78\n",
      "   macro avg       0.45      0.49      0.47        78\n",
      "weighted avg       0.83      0.88      0.85        78\n",
      "\n",
      "Confusion Matrix : \n",
      "[[ 0  7]\n",
      " [ 2 69]]\n"
     ]
    }
   ],
   "source": [
    "random.seed(3)\n",
    "logi = LogisticRegression( random_state=0, n_jobs=-1)\n",
    "logi.fit(X_train_tf_bal, y_train_tf_bal )\n",
    "logi_pred = logi.predict(X_test_tf)\n",
    "\n",
    "\n",
    "print(\"Accuracy on the test data: \")\n",
    "print(metrics.accuracy_score(y_test, logi_pred))\n",
    "print(\"Classification report\")\n",
    "print(metrics.classification_report(y_test, logi_pred))\n",
    "print('Confusion Matrix : ')\n",
    "print(metrics.confusion_matrix(y_test, logi_pred))"
   ]
  },
  {
   "cell_type": "markdown",
   "metadata": {},
   "source": [
    "## Tune the TF-IDF vectorizer for the Logistic"
   ]
  },
  {
   "cell_type": "code",
   "execution_count": 29,
   "metadata": {},
   "outputs": [
    {
     "name": "stdout",
     "output_type": "stream",
     "text": [
      "Fitting 2 folds for each of 20 candidates, totalling 40 fits\n"
     ]
    },
    {
     "name": "stderr",
     "output_type": "stream",
     "text": [
      "[Parallel(n_jobs=-1)]: Using backend LokyBackend with 12 concurrent workers.\n"
     ]
    },
    {
     "name": "stdout",
     "output_type": "stream",
     "text": [
      "Best parameters for the TF-IDF: [('tfidf', TfidfVectorizer(lowercase=False, max_features=300, norm='l1', sublinear_tf=True)), ('clf', OneVsRestClassifier(estimator=LogisticRegression(random_state=0)))]\n"
     ]
    },
    {
     "name": "stderr",
     "output_type": "stream",
     "text": [
      "[Parallel(n_jobs=-1)]: Done  40 out of  40 | elapsed:    0.1s finished\n"
     ]
    }
   ],
   "source": [
    "random.seed(3)\n",
    "pipeline_grid = Pipeline([\n",
    "    ('tfidf', TfidfVectorizer(lowercase=False)),\n",
    "    ('clf', OneVsRestClassifier(LogisticRegression( random_state=0))),\n",
    "])\n",
    "param_grid = {\n",
    "    'tfidf__norm' :('l1', 'l2'),\n",
    "    'tfidf__max_features' : (300, 350, 400, 450,500),\n",
    "    'tfidf__sublinear_tf' : [True, False]\n",
    "}\n",
    "\n",
    "grid_search_tfidf_logi = GridSearchCV(pipeline_grid, param_grid, cv=2, verbose=1, n_jobs=-1)\n",
    "grid_search_tfidf_logi.fit(X_train, y_train)\n",
    "\n",
    "print(\"Best parameters for the TF-IDF: {}\".format(grid_search_tfidf_logi.best_estimator_.steps))"
   ]
  },
  {
   "cell_type": "markdown",
   "metadata": {},
   "source": [
    "## Fit the new TF-IDF vect"
   ]
  },
  {
   "cell_type": "code",
   "execution_count": 30,
   "metadata": {},
   "outputs": [],
   "source": [
    "tfidf_tune_logi = grid_search_tfidf_logi.best_estimator_[0]\n",
    "X_train_tf_tune = tfidf_tune_logi.fit_transform(X_train).toarray()\n",
    "X_test_tf_tune = tfidf_tune_logi.transform(X_test).toarray()"
   ]
  },
  {
   "cell_type": "markdown",
   "metadata": {},
   "source": [
    "## Balance the classes with SMOTE with the new TF-IDF"
   ]
  },
  {
   "cell_type": "code",
   "execution_count": 31,
   "metadata": {},
   "outputs": [],
   "source": [
    "oversample = SMOTE()\n",
    "X_train_tf_tune_bal, y_train_tf_tune_bal = oversample.fit_resample(X_train_tf_tune, y_train)"
   ]
  },
  {
   "cell_type": "code",
   "execution_count": 32,
   "metadata": {},
   "outputs": [
    {
     "name": "stdout",
     "output_type": "stream",
     "text": [
      "Accuracy on the test data: \n",
      "0.8333333333333334\n",
      "Classification report\n",
      "              precision    recall  f1-score   support\n",
      "\n",
      "           0       0.12      0.14      0.13         7\n",
      "           1       0.91      0.90      0.91        71\n",
      "\n",
      "    accuracy                           0.83        78\n",
      "   macro avg       0.52      0.52      0.52        78\n",
      "weighted avg       0.84      0.83      0.84        78\n",
      "\n",
      "Confusion Matrix : \n",
      "[[ 1  6]\n",
      " [ 7 64]]\n"
     ]
    }
   ],
   "source": [
    "random.seed(3)\n",
    "logi_tf_tune = LogisticRegression( random_state=0, n_jobs=-1)\n",
    "logi_tf_tune.fit(X_train_tf_tune_bal, y_train_tf_tune_bal)\n",
    "pred_tf_tune = logi_tf_tune.predict(X_test_tf_tune)\n",
    "\n",
    "\n",
    "print(\"Accuracy on the test data: \")\n",
    "print(metrics.accuracy_score(y_test, pred_tf_tune))\n",
    "print(\"Classification report\")\n",
    "print(metrics.classification_report(y_test, pred_tf_tune))\n",
    "print('Confusion Matrix : ')\n",
    "print(metrics.confusion_matrix(y_test, pred_tf_tune))"
   ]
  },
  {
   "cell_type": "markdown",
   "metadata": {},
   "source": [
    "The results are not very good.\n",
    "Therefore, he best model is than the XGBoost with its default parameters. I save this model and use it for the pseudo labelling experiments. "
   ]
  },
  {
   "cell_type": "markdown",
   "metadata": {},
   "source": [
    "## Save the best model XGBoost - with only TF-IDF tuned\n",
    "I use pickle to save the model and train and test datasets that I need for the extra experiments. "
   ]
  },
  {
   "cell_type": "code",
   "execution_count": 33,
   "metadata": {},
   "outputs": [],
   "source": [
    "#save the model\n",
    "with open('Pickle_Files/xgb_model_abstracts.pickle', 'wb') as model:\n",
    "    pickle.dump(xbg_tf_tune, model)\n",
    "    \n",
    "#save X train data - features \n",
    "with open('Pickle_Files/X_train_abstracts.pickle', 'wb') as data:\n",
    "    pickle.dump(X_train, data)\n",
    "    \n",
    "#save y train data - labels\n",
    "with open('Pickle_Files/y_train_abstracts.pickle', 'wb') as data:\n",
    "    pickle.dump(y_train, data)\n",
    "    \n",
    "#save X test data - features\n",
    "with open('Pickle_Files/X_test_abstracts.pickle', 'wb') as data:\n",
    "    pickle.dump(X_test, data)\n",
    "    \n",
    "#save y test data - labels\n",
    "with open('Pickle_Files/y_test_abstracts.pickle', 'wb') as data:\n",
    "    pickle.dump(y_test, data)\n",
    "    \n",
    "#save tf-df fitted vectorizer to use for the pseudo labelling experiments\n",
    "with open('Pickle_Files/tfidf_tune_abstracts.pickle', 'wb') as model:\n",
    "    pickle.dump(tfidf_tune, model)\n"
   ]
  },
  {
   "cell_type": "markdown",
   "metadata": {},
   "source": [
    "**Print the best results.**"
   ]
  },
  {
   "cell_type": "code",
   "execution_count": 34,
   "metadata": {},
   "outputs": [
    {
     "data": {
      "text/html": [
       "<div>\n",
       "<style scoped>\n",
       "    .dataframe tbody tr th:only-of-type {\n",
       "        vertical-align: middle;\n",
       "    }\n",
       "\n",
       "    .dataframe tbody tr th {\n",
       "        vertical-align: top;\n",
       "    }\n",
       "\n",
       "    .dataframe thead th {\n",
       "        text-align: right;\n",
       "    }\n",
       "</style>\n",
       "<table border=\"1\" class=\"dataframe\">\n",
       "  <thead>\n",
       "    <tr style=\"text-align: right;\">\n",
       "      <th></th>\n",
       "      <th>Model</th>\n",
       "      <th>Data</th>\n",
       "      <th>Precision</th>\n",
       "      <th>Recall</th>\n",
       "      <th>Specificity</th>\n",
       "      <th>F1-score</th>\n",
       "      <th>Accuracy</th>\n",
       "      <th>Bal Accuracy</th>\n",
       "      <th>AUC</th>\n",
       "    </tr>\n",
       "  </thead>\n",
       "  <tbody>\n",
       "    <tr>\n",
       "      <th>0</th>\n",
       "      <td>XB TF tuned</td>\n",
       "      <td>Test</td>\n",
       "      <td>0.922078</td>\n",
       "      <td>1.0</td>\n",
       "      <td>0.142857</td>\n",
       "      <td>0.959459</td>\n",
       "      <td>0.923077</td>\n",
       "      <td>0.571429</td>\n",
       "      <td>0.571429</td>\n",
       "    </tr>\n",
       "  </tbody>\n",
       "</table>\n",
       "</div>"
      ],
      "text/plain": [
       "         Model  Data  Precision  Recall  Specificity  F1-score  Accuracy  \\\n",
       "0  XB TF tuned  Test   0.922078     1.0     0.142857  0.959459  0.923077   \n",
       "\n",
       "   Bal Accuracy       AUC  \n",
       "0      0.571429  0.571429  "
      ]
     },
     "execution_count": 34,
     "metadata": {},
     "output_type": "execute_result"
    }
   ],
   "source": [
    "sc = calc_binary_class_metrics(y_test, xbg_tf_tune_pred, 'XB TF tuned', 'Test')\n",
    "sc"
   ]
  },
  {
   "cell_type": "markdown",
   "metadata": {},
   "source": [
    "As expected, it is very good to classify the majority class since it did classify all the observation within that class but it  did perform very bad with the minority class by predicting only one observations of the latter class. "
   ]
  },
  {
   "cell_type": "code",
   "execution_count": 35,
   "metadata": {},
   "outputs": [
    {
     "name": "stdout",
     "output_type": "stream",
     "text": [
      "Confusion Matrix : \n",
      "[[ 1  6]\n",
      " [ 0 71]]\n"
     ]
    }
   ],
   "source": [
    "print('Confusion Matrix : ')\n",
    "print(metrics.confusion_matrix(y_test, xbg_tf_tune_pred))"
   ]
  },
  {
   "cell_type": "code",
   "execution_count": 39,
   "metadata": {},
   "outputs": [
    {
     "data": {
      "image/png": "[encoded data removed]",
      "text/plain": [
       "<Figure size 432x360 with 2 Axes>"
      ]
     },
     "metadata": {
      "needs_background": "light"
     },
     "output_type": "display_data"
    }
   ],
   "source": [
    "#https://github.com/miguelfzafra/Latest-News-Classifier/blob/master/0.%20Latest%20News%20Classifier/04.%20Model%20Training/06.%20MT%20-%20Random%20Forest.ipynb\n",
    "aux_db = db[['label']].drop_duplicates().sort_values('label')\n",
    "conf_matrix = metrics.confusion_matrix(y_test, xbg_tf_tune_pred)\n",
    "plt.figure(figsize=(6,5))\n",
    "aux_db['label'] = aux_db.label.replace(to_replace=[1, 0], value=['Product', 'Process'])\n",
    "conf = sns.heatmap(conf_matrix, \n",
    "            annot=True,\n",
    "            xticklabels=aux_db['label'].values, \n",
    "            yticklabels=aux_db['label'].values,\n",
    "            cmap=\"Blues\")\n",
    "conf.set_yticklabels(conf.get_yticklabels(), rotation=360)\n",
    "plt.ylabel('True label')\n",
    "plt.xlabel('Predicted')\n",
    "plt.title('XGBoost with TF-IDF tuned')\n",
    "plt.show()"
   ]
  },
  {
   "cell_type": "code",
   "execution_count": 37,
   "metadata": {},
   "outputs": [
    {
     "name": "stdout",
     "output_type": "stream",
     "text": [
      "{'tfidf__max_features': 300, 'tfidf__norm': 'l2', 'tfidf__sublinear_tf': False}\n"
     ]
    }
   ],
   "source": [
    "print(grid_search_tfidf_xgb.best_params_)"
   ]
  },
  {
   "cell_type": "code",
   "execution_count": null,
   "metadata": {},
   "outputs": [],
   "source": []
  }
 ],
 "metadata": {
  "kernelspec": {
   "display_name": "Python 3",
   "language": "python",
   "name": "python3"
  },
  "language_info": {
   "codemirror_mode": {
    "name": "ipython",
    "version": 3
   },
   "file_extension": ".py",
   "mimetype": "text/x-python",
   "name": "python",
   "nbconvert_exporter": "python",
   "pygments_lexer": "ipython3",
   "version": "3.7.6"
  }
 },
 "nbformat": 4,
 "nbformat_minor": 4
}
